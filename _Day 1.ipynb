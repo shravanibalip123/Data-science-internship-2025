{
 "cells": [
  {
   "cell_type": "code",
   "execution_count": 1,
   "id": "df7d8f32-dc39-492a-9f33-b40f4ef2d2c6",
   "metadata": {},
   "outputs": [
    {
     "name": "stdin",
     "output_type": "stream",
     "text": [
      "enter the number1 34\n",
      "enter the number2 45\n"
     ]
    },
    {
     "name": "stdout",
     "output_type": "stream",
     "text": [
      "num2 is maximum\n"
     ]
    }
   ],
   "source": [
    "# Write a python program to find maximum between two numbers\n",
    "num=int(input(\"enter the number\"))\n",
    "num2=int(input(\"enter the number2\"))\n",
    "if num1>num2:\n",
    "    print(\"num1 is maximum\")\n",
    "else:\n",
    "    print(\"num2 is maximum\")"
   ]
  },
  {
   "cell_type": "code",
   "execution_count": 2,
   "id": "a4fb568d-778b-4cd4-9f6f-1351dc261517",
   "metadata": {},
   "outputs": [
    {
     "name": "stdin",
     "output_type": "stream",
     "text": [
      "enter the number 1 34\n",
      "enter the number 2 76\n",
      "enter the number 3 90\n"
     ]
    },
    {
     "name": "stdout",
     "output_type": "stream",
     "text": [
      "num3 is greater\n"
     ]
    }
   ],
   "source": [
    "# Write a python program to find maximum between two numbers\n",
    "num1=int(input(\"enter the number 1\"))\n",
    "num2=int(input(\"enter the number 2\"))\n",
    "num3=int(input(\"enter the number 3\"))\n",
    "if num1>num2:\n",
    "    if num1>num3:\n",
    "        print(\"num1 is maximum\")\n",
    "    else:\n",
    "        print(\"mum3 is maximum\")\n",
    "else:\n",
    "    if num2>num3:\n",
    "        print(\"num2 is greater\")\n",
    "    else:\n",
    "        print(\"num3 is greater\")"
   ]
  },
  {
   "cell_type": "code",
   "execution_count": 3,
   "id": "2b0d5861-00b6-4ab1-a34e-0063339bd148",
   "metadata": {},
   "outputs": [
    {
     "name": "stdin",
     "output_type": "stream",
     "text": [
      "enter the number -45\n"
     ]
    },
    {
     "name": "stdout",
     "output_type": "stream",
     "text": [
      "print number is negative\n"
     ]
    }
   ],
   "source": [
    "# Write a python program to check weather a number is negetive,positive or zero\n",
    "num=int(input(\"enter the number\"))\n",
    "if num>0:\n",
    "    print(\"number is positive\")\n",
    "elif num==0:\n",
    "    print(\"zero\")\n",
    "else:\n",
    "    print(\"print number is negative\")\n"
   ]
  },
  {
   "cell_type": "code",
   "execution_count": 4,
   "id": "be81812f-7af4-4c93-89b9-6686c3b87fe3",
   "metadata": {},
   "outputs": [
    {
     "name": "stdin",
     "output_type": "stream",
     "text": [
      "enter the number 5\n"
     ]
    },
    {
     "name": "stdout",
     "output_type": "stream",
     "text": [
      "no is only divisible by 5 not 11\n"
     ]
    }
   ],
   "source": [
    "# Write a python program to find number is divisible by 5 and 11 or not\n",
    "num=int(input(\"enter the number\"))\n",
    "if num %5==0:\n",
    "    if num%11==0:\n",
    "        print(\"number is divisible\")\n",
    "    else:\n",
    "        print(\"no is only divisible by 5 not 11\")\n",
    "else:\n",
    "    print(\"number is not divisible\")"
   ]
  }
 ],
 "metadata": {
  "kernelspec": {
   "display_name": "Python 3 (ipykernel)",
   "language": "python",
   "name": "python3"
  },
  "language_info": {
   "codemirror_mode": {
    "name": "ipython",
    "version": 3
   },
   "file_extension": ".py",
   "mimetype": "text/x-python",
   "name": "python",
   "nbconvert_exporter": "python",
   "pygments_lexer": "ipython3",
   "version": "3.12.7"
  }
 },
 "nbformat": 4,
 "nbformat_minor": 5
}
