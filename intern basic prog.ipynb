{
 "cells": [
  {
   "cell_type": "code",
   "execution_count": 1,
   "id": "e083c169-f84c-42aa-848c-283b0f3273c7",
   "metadata": {},
   "outputs": [
    {
     "name": "stdout",
     "output_type": "stream",
     "text": [
      "Welcome to python programming\n"
     ]
    }
   ],
   "source": [
    "# first prog\n",
    "print(\"Welcome to python programming\")\n",
    "# print function is usedto print output"
   ]
  },
  {
   "cell_type": "code",
   "execution_count": 1,
   "id": "1c98d438-c847-4bf4-a0cd-a5e85b7a301c",
   "metadata": {},
   "outputs": [
    {
     "data": {
      "text/plain": [
       "False"
      ]
     },
     "execution_count": 1,
     "metadata": {},
     "output_type": "execute_result"
    }
   ],
   "source": [
    "#prog 2\n",
    "#LOgical operator\n",
    "is_member=True\n",
    "has_discount=False\n",
    " is_member and has_discount\n",
    "# the logical operator returns True only if both operants are True"
   ]
  },
  {
   "cell_type": "code",
   "execution_count": 5,
   "id": "88b7d398-fd03-4b14-8798-65b8783eded9",
   "metadata": {},
   "outputs": [
    {
     "data": {
      "text/plain": [
       "True"
      ]
     },
     "execution_count": 5,
     "metadata": {},
     "output_type": "execute_result"
    }
   ],
   "source": [
    "is_member or has_discount\n",
    "# Returns true if at least one operand is true."
   ]
  },
  {
   "cell_type": "code",
   "execution_count": 6,
   "id": "81a58304-47ef-421f-99f7-8568b91dbb85",
   "metadata": {},
   "outputs": [
    {
     "data": {
      "text/plain": [
       "False"
      ]
     },
     "execution_count": 6,
     "metadata": {},
     "output_type": "execute_result"
    }
   ],
   "source": [
    "not is_member\n",
    "# negates the true value"
   ]
  },
  {
   "cell_type": "code",
   "execution_count": 2,
   "id": "27d59953-0a82-492d-8747-69d62083e63b",
   "metadata": {},
   "outputs": [
    {
     "name": "stdout",
     "output_type": "stream",
     "text": [
      "you have purchased 20 units of soap at $10.5 each\n"
     ]
    }
   ],
   "source": [
    "#prog 3\n",
    "product_name=\"soap\"\n",
    "quantity=20\n",
    "unit_price=10.5\n",
    "print(f\"you have purchased {quantity} units of {product_name} at ${unit_price} each\")"
   ]
  },
  {
   "cell_type": "code",
   "execution_count": 11,
   "id": "afab0b50-5812-4353-b6b4-bfae53f575bb",
   "metadata": {},
   "outputs": [
    {
     "data": {
      "text/plain": [
       "True"
      ]
     },
     "execution_count": 11,
     "metadata": {},
     "output_type": "execute_result"
    }
   ],
   "source": [
    "#prog 4\n",
    "is_active_user=True\n",
    "is_active_user"
   ]
  },
  {
   "cell_type": "code",
   "execution_count": 12,
   "id": "165540f2-1920-4627-aad1-27d147e2ed7b",
   "metadata": {},
   "outputs": [
    {
     "name": "stdin",
     "output_type": "stream",
     "text": [
      "Enter the length of rec 4.5\n",
      "Enter the width of rec 3.8\n"
     ]
    },
    {
     "name": "stdout",
     "output_type": "stream",
     "text": [
      "17.099999999999998\n"
     ]
    }
   ],
   "source": [
    "#prog 5\n",
    "len=float(input(\"Enter the length of rec\"))\n",
    "wid=float(input(\"Enter the width of rec\"))\n",
    "area=len*wid\n",
    "print(area)"
   ]
  },
  {
   "cell_type": "code",
   "execution_count": 13,
   "id": "3de87345-9d14-4c50-af07-f7db701c774e",
   "metadata": {},
   "outputs": [
    {
     "name": "stdout",
     "output_type": "stream",
     "text": [
      "if initial balance is less than 600? False\n"
     ]
    }
   ],
   "source": [
    "#prog 6\n",
    "initial_balance=1000\n",
    "initial_balance+=250 # Assignment operator\n",
    "initial_balance/2 # Arithmetic operator\n",
    "true=initial_balance<600 # Comparison operator\n",
    "print(\"if initial balance is less than 600?\",true)"
   ]
  },
  {
   "cell_type": "code",
   "execution_count": 16,
   "id": "2350cb07-3a57-4073-8154-db4cc9c61747",
   "metadata": {},
   "outputs": [
    {
     "data": {
      "text/plain": [
       "24.0"
      ]
     },
     "execution_count": 16,
     "metadata": {},
     "output_type": "execute_result"
    }
   ],
   "source": [
    "#p prog 7\n",
    "15+4*3-9/3\n",
    "# 4*3=12   -> Multiplication first\n",
    "# 9/3=3    -> then division\n",
    "# 15+12=27 ->then addition\n",
    "# 27-3=24  ->finally substraction"
   ]
  },
  {
   "cell_type": "code",
   "execution_count": 3,
   "id": "15f55d7f-524d-47f0-8f44-aa73a91bd974",
   "metadata": {},
   "outputs": [
    {
     "name": "stdin",
     "output_type": "stream",
     "text": [
      "which is your favorite decimal no 3.14\n"
     ]
    },
    {
     "name": "stdout",
     "output_type": "stream",
     "text": [
      "your new number is 13.64\n"
     ]
    }
   ],
   "source": [
    "#prog 8\n",
    "user_input=input(\"which is your favorite decimal no\")\n",
    "fav_num=float(user_input)\n",
    "new_num=fav_num+10.5\n",
    "print(\"your new number is\",new_num)"
   ]
  },
  {
   "cell_type": "code",
   "execution_count": 5,
   "id": "f3a7fe33-3388-4aef-8b9f-e948241eb3a8",
   "metadata": {},
   "outputs": [
    {
     "name": "stdin",
     "output_type": "stream",
     "text": [
      "enter your favorite color pink\n"
     ]
    },
    {
     "name": "stdout",
     "output_type": "stream",
     "text": [
      "your favorite color is :pink\n"
     ]
    }
   ],
   "source": [
    "# prog 9\n",
    "fav_color=input(\"enter your favorite color\")\n",
    "print(f\"your favorite color is :{fav_color}\")"
   ]
  },
  {
   "cell_type": "code",
   "execution_count": 8,
   "id": "c29fd2e2-e743-43d7-9b03-4e4c4d9c38ba",
   "metadata": {},
   "outputs": [
    {
     "name": "stdin",
     "output_type": "stream",
     "text": [
      "enter your first name Shravani\n",
      "enter your last number Balip\n",
      "enter your phone number 99XXXXXXXX\n"
     ]
    },
    {
     "name": "stdout",
     "output_type": "stream",
     "text": [
      "Contact information saved for:Shravani Balip (phone:99XXXXXXXX)\n"
     ]
    }
   ],
   "source": [
    "# prog 10\n",
    "first_name=input(\"enter your first name\")\n",
    "last_name=input(\"enter your last number\")\n",
    "phone_num=input(\"enter your phone number\")\n",
    "print(f\"Contact information saved for:{first_name} {last_name} (phone:{phone_num})\")"
   ]
  }
 ],
 "metadata": {
  "kernelspec": {
   "display_name": "Python 3 (ipykernel)",
   "language": "python",
   "name": "python3"
  },
  "language_info": {
   "codemirror_mode": {
    "name": "ipython",
    "version": 3
   },
   "file_extension": ".py",
   "mimetype": "text/x-python",
   "name": "python",
   "nbconvert_exporter": "python",
   "pygments_lexer": "ipython3",
   "version": "3.12.7"
  }
 },
 "nbformat": 4,
 "nbformat_minor": 5
}
