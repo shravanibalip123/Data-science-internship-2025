{
 "cells": [
  {
   "cell_type": "code",
   "execution_count": null,
   "id": "b4a2ec33-6005-4b97-990a-a783a84a4e90",
   "metadata": {},
   "outputs": [],
   "source": [
    "count=0\n",
    "while count<5:\n",
    "    print(\"shravani\")\n",
    "    count+=1"
   ]
  },
  {
   "cell_type": "code",
   "execution_count": null,
   "id": "5beb2492-6124-4741-b87c-a74a7aac7323",
   "metadata": {},
   "outputs": [],
   "source": [
    "#print the num from 5 to 15\n",
    "count=5\n",
    "while count<16:\n",
    "     print(count, end=' ')\n",
    "     count+=1"
   ]
  },
  {
   "cell_type": "code",
   "execution_count": null,
   "id": "bc0e3c28-9da6-4bdc-801c-8fbee03fc84a",
   "metadata": {},
   "outputs": [],
   "source": [
    "#find addition of all odd numbers from 1 to 20\n",
    "count=1\n",
    "add=0\n",
    "while count<=20:\n",
    "    add = add + count\n",
    "    count+=2\n",
    "print(\"addition of odd num:\" , add)        \n"
   ]
  },
  {
   "cell_type": "code",
   "execution_count": null,
   "id": "fd948667-9abe-4eb9-b98f-52afed9d1f01",
   "metadata": {},
   "outputs": [],
   "source": [
    "\"\"\" \n",
    "while True:\n",
    "      print(\"ok\")\n",
    "\"\"\";      "
   ]
  },
  {
   "cell_type": "code",
   "execution_count": null,
   "id": "dbe5539b-3a8e-4e06-9d8c-77607295a8f9",
   "metadata": {},
   "outputs": [],
   "source": [
    "num =int(input(\"enter the number to calculate factorial\"))\n",
    "fact=1\n",
    "i=1\n",
    "while i<=num:\n",
    "    fact=fact*i\n",
    "    i+=1\n",
    "print(\"factorial of num:\",fact)    \n",
    "    \n",
    "    "
   ]
  },
  {
   "cell_type": "code",
   "execution_count": null,
   "id": "336847e3-9bdd-49da-b1e2-abf58045b038",
   "metadata": {},
   "outputs": [],
   "source": [
    "\n",
    "2345 // 10"
   ]
  },
  {
   "cell_type": "code",
   "execution_count": null,
   "id": "b17d1ecf-7a52-436d-8427-3c5b26ca56a0",
   "metadata": {},
   "outputs": [],
   "source": [
    "num = 12345\n",
    "add = 0\n",
    "\n",
    "while num > 0:\n",
    "    rem = num % 10\n",
    "    add=add+rem\n",
    "    num = num //10\n",
    "\n",
    "print(\"Sum of digits:\", add)\n"
   ]
  },
  {
   "cell_type": "code",
   "execution_count": null,
   "id": "0ff33d64-6578-430d-8c39-2d85899b757e",
   "metadata": {},
   "outputs": [],
   "source": [
    "### for loop"
   ]
  },
  {
   "cell_type": "code",
   "execution_count": null,
   "id": "bbb165bc-7563-4b2f-85b7-105b9f0b427f",
   "metadata": {},
   "outputs": [],
   "source": [
    "for n in 12,23,34,45:\n",
    "    print(n)"
   ]
  },
  {
   "cell_type": "code",
   "execution_count": null,
   "id": "15534c7f-2fc2-4bc6-be2f-266ad4cec02f",
   "metadata": {},
   "outputs": [],
   "source": [
    "#iterate over a sequence and print half of those value\n",
    "for n in 12,22,44,68:\n",
    "    n=n/2\n",
    "    print(n, end=' ')"
   ]
  },
  {
   "cell_type": "code",
   "execution_count": null,
   "id": "9731ebba-7bf8-4f65-82fb-e709b8ec4a1c",
   "metadata": {},
   "outputs": [],
   "source": [
    "#range\n",
    "list(range(10))"
   ]
  },
  {
   "cell_type": "code",
   "execution_count": null,
   "id": "1210b5fb-ecea-4f41-b09a-44057b854b87",
   "metadata": {},
   "outputs": [],
   "source": [
    "list(range(1,11))"
   ]
  },
  {
   "cell_type": "code",
   "execution_count": null,
   "id": "e34dae08-2d3c-49da-98a1-34a6a32c8466",
   "metadata": {},
   "outputs": [],
   "source": [
    "list(range(1,11,2))\n",
    "# start , end , increment"
   ]
  },
  {
   "cell_type": "code",
   "execution_count": null,
   "id": "93fd8a78-04c6-404c-9e3d-73e422495592",
   "metadata": {},
   "outputs": [],
   "source": [
    "for n in range(1,11):\n",
    "    print(n,end='')"
   ]
  },
  {
   "cell_type": "code",
   "execution_count": null,
   "id": "93920200-28fa-4aca-8aac-123aa3cc4766",
   "metadata": {},
   "outputs": [],
   "source": [
    "#find the addition of 1 to 10 numbers using for loop\n",
    "add=0\n",
    "for n in range(1,11):\n",
    "    add=add+n\n",
    "print(add)    "
   ]
  },
  {
   "cell_type": "code",
   "execution_count": null,
   "id": "67d5b281-8536-4e27-a4e3-ba561113467a",
   "metadata": {},
   "outputs": [],
   "source": [
    "for i in\"pune\":\n",
    "    print(i)"
   ]
  },
  {
   "cell_type": "code",
   "execution_count": null,
   "id": "36e1c39b-91ce-4aaa-8924-efcc29859e86",
   "metadata": {},
   "outputs": [],
   "source": [
    "for i in \"pune\",\"mumbai\":\n",
    "    print(i)"
   ]
  },
  {
   "cell_type": "code",
   "execution_count": null,
   "id": "9ac25105-44bc-4315-912d-fcdea24c6b22",
   "metadata": {},
   "outputs": [],
   "source": [
    "# factorial using for loop\n",
    "fact=1\n",
    "i=1\n",
    "for i in range(1,6):\n",
    "    fact=fact*i\n",
    "print(fact)    "
   ]
  },
  {
   "cell_type": "code",
   "execution_count": null,
   "id": "e19b6c74-7efd-4e95-b2d1-4bdeb9fc05fb",
   "metadata": {},
   "outputs": [],
   "source": [
    "#Loop control statements"
   ]
  },
  {
   "cell_type": "code",
   "execution_count": null,
   "id": "34dde02e-e6e3-4fef-b2a8-5b7db811bb92",
   "metadata": {},
   "outputs": [],
   "source": [
    "# break"
   ]
  },
  {
   "cell_type": "code",
   "execution_count": 4,
   "id": "6d46a9d3-328c-447d-8972-d9091053d74e",
   "metadata": {},
   "outputs": [
    {
     "name": "stdout",
     "output_type": "stream",
     "text": [
      "123456"
     ]
    }
   ],
   "source": [
    "for i in range(1,11):\n",
    "    print(i,end='')\n",
    "    if(i==6):\n",
    "        break\n",
    "        "
   ]
  },
  {
   "cell_type": "code",
   "execution_count": 3,
   "id": "ed25c5f7-cdc9-4f2b-839b-aef0b132af97",
   "metadata": {},
   "outputs": [
    {
     "name": "stdout",
     "output_type": "stream",
     "text": [
      "012345"
     ]
    }
   ],
   "source": [
    "i=0\n",
    "while i<10:\n",
    "    print(i,end='')\n",
    "    i+=1\n",
    "    if(i==6):\n",
    "        break\n",
    "    "
   ]
  },
  {
   "cell_type": "code",
   "execution_count": 1,
   "id": "c9061b1a-6ae6-490a-872d-5923d77a0ae4",
   "metadata": {},
   "outputs": [],
   "source": [
    "# Continue"
   ]
  },
  {
   "cell_type": "code",
   "execution_count": 8,
   "id": "4d20b986-ea85-44d3-8e35-d2e770f0a7c2",
   "metadata": {},
   "outputs": [
    {
     "name": "stdout",
     "output_type": "stream",
     "text": [
      "1\n",
      "2\n",
      "3\n",
      "4\n",
      "6\n",
      "7\n",
      "8\n",
      "9\n",
      "10\n"
     ]
    }
   ],
   "source": [
    "for i in range (1,11):\n",
    "    if(i==5):\n",
    "        continue\n",
    "    print(i)   "
   ]
  },
  {
   "cell_type": "code",
   "execution_count": 15,
   "id": "10e48f06-82d1-4dd9-86ad-75305864391b",
   "metadata": {},
   "outputs": [
    {
     "name": "stdin",
     "output_type": "stream",
     "text": [
      "enter the rows 3\n"
     ]
    },
    {
     "name": "stdout",
     "output_type": "stream",
     "text": [
      "*\n",
      "**\n",
      "***\n"
     ]
    }
   ],
   "source": [
    "row= int(input(\"enter the rows\"))\n",
    "for i in range(1,row+1):\n",
    "             print(\"*\" * i)\n",
    "             \n",
    "               "
   ]
  },
  {
   "cell_type": "code",
   "execution_count": 29,
   "id": "ca9fcf7e-f974-4f02-901e-884686e2bc73",
   "metadata": {},
   "outputs": [
    {
     "name": "stdout",
     "output_type": "stream",
     "text": [
      "* \n",
      "\n",
      "* * \n",
      "\n",
      "* * * \n",
      "\n"
     ]
    }
   ],
   "source": [
    "row=3\n",
    "for i in range(1,row+1):\n",
    "    for j in range(1,i+1):\n",
    "        print(\"*\",end=' ')\n",
    "    print(\"\\n\")\n"
   ]
  },
  {
   "cell_type": "code",
   "execution_count": null,
   "id": "d3a00530-9eb6-464c-83aa-765659ec42a7",
   "metadata": {},
   "outputs": [],
   "source": []
  }
 ],
 "metadata": {
  "kernelspec": {
   "display_name": "Python 3 (ipykernel)",
   "language": "python",
   "name": "python3"
  },
  "language_info": {
   "codemirror_mode": {
    "name": "ipython",
    "version": 3
   },
   "file_extension": ".py",
   "mimetype": "text/x-python",
   "name": "python",
   "nbconvert_exporter": "python",
   "pygments_lexer": "ipython3",
   "version": "3.12.7"
  }
 },
 "nbformat": 4,
 "nbformat_minor": 5
}
