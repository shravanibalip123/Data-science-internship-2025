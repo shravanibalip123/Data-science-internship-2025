{
 "cells": [
  {
   "cell_type": "code",
   "execution_count": 1,
   "id": "19063ffe-255b-49fe-9605-ce2aedd0a6c3",
   "metadata": {},
   "outputs": [],
   "source": [
    "#arithmatic operations\n",
    "a=4\n",
    "b=8"
   ]
  },
  {
   "cell_type": "code",
   "execution_count": 2,
   "id": "32f7b440-afad-4609-830a-a9f39ba87953",
   "metadata": {},
   "outputs": [
    {
     "data": {
      "text/plain": [
       "12"
      ]
     },
     "execution_count": 2,
     "metadata": {},
     "output_type": "execute_result"
    }
   ],
   "source": [
    "a+b"
   ]
  },
  {
   "cell_type": "code",
   "execution_count": 3,
   "id": "a2656a0e-4c80-40bd-a3b1-4e6b39d0c59a",
   "metadata": {},
   "outputs": [
    {
     "data": {
      "text/plain": [
       "-4"
      ]
     },
     "execution_count": 3,
     "metadata": {},
     "output_type": "execute_result"
    }
   ],
   "source": [
    "a-b"
   ]
  },
  {
   "cell_type": "code",
   "execution_count": 4,
   "id": "fd3a4333-d52c-47b3-a3db-522b2cf6e417",
   "metadata": {},
   "outputs": [
    {
     "data": {
      "text/plain": [
       "0.5"
      ]
     },
     "execution_count": 4,
     "metadata": {},
     "output_type": "execute_result"
    }
   ],
   "source": [
    "a/b"
   ]
  },
  {
   "cell_type": "code",
   "execution_count": 5,
   "id": "a0ba16b5-bb1d-41b9-9bfd-2d5c6658e14e",
   "metadata": {},
   "outputs": [
    {
     "data": {
      "text/plain": [
       "4"
      ]
     },
     "execution_count": 5,
     "metadata": {},
     "output_type": "execute_result"
    }
   ],
   "source": [
    "a%b"
   ]
  },
  {
   "cell_type": "code",
   "execution_count": 6,
   "id": "fc4efd66-902b-431b-9e77-7e1bca14c238",
   "metadata": {},
   "outputs": [
    {
     "data": {
      "text/plain": [
       "32"
      ]
     },
     "execution_count": 6,
     "metadata": {},
     "output_type": "execute_result"
    }
   ],
   "source": [
    "a*b"
   ]
  },
  {
   "cell_type": "code",
   "execution_count": 7,
   "id": "8dfbe654-5074-47d8-9fb3-031b32427bbd",
   "metadata": {},
   "outputs": [
    {
     "data": {
      "text/plain": [
       "65536"
      ]
     },
     "execution_count": 7,
     "metadata": {},
     "output_type": "execute_result"
    }
   ],
   "source": [
    "a**b"
   ]
  },
  {
   "cell_type": "code",
   "execution_count": 8,
   "id": "2e932290-aa3f-417c-87df-4a978bf556dd",
   "metadata": {},
   "outputs": [
    {
     "data": {
      "text/plain": [
       "0"
      ]
     },
     "execution_count": 8,
     "metadata": {},
     "output_type": "execute_result"
    }
   ],
   "source": [
    "a//b"
   ]
  },
  {
   "cell_type": "code",
   "execution_count": 10,
   "id": "d0982a29-92d0-4fc4-9ffa-16c21fc23398",
   "metadata": {},
   "outputs": [
    {
     "data": {
      "text/plain": [
       "'0b101'"
      ]
     },
     "execution_count": 10,
     "metadata": {},
     "output_type": "execute_result"
    }
   ],
   "source": [
    "bin(5)"
   ]
  },
  {
   "cell_type": "code",
   "execution_count": 11,
   "id": "e25dc0a8-eec9-4e20-ab1a-25c7429d750f",
   "metadata": {},
   "outputs": [
    {
     "data": {
      "text/plain": [
       "(4, 8)"
      ]
     },
     "execution_count": 11,
     "metadata": {},
     "output_type": "execute_result"
    }
   ],
   "source": [
    "a,b"
   ]
  },
  {
   "cell_type": "code",
   "execution_count": 12,
   "id": "fd78444e-6554-4927-abd0-ce34ec4b66b9",
   "metadata": {},
   "outputs": [
    {
     "data": {
      "text/plain": [
       "('0b100', '0b1000')"
      ]
     },
     "execution_count": 12,
     "metadata": {},
     "output_type": "execute_result"
    }
   ],
   "source": [
    "bin(4),bin(8)"
   ]
  },
  {
   "cell_type": "code",
   "execution_count": 16,
   "id": "42752515-a203-4543-91a2-a32ce2180502",
   "metadata": {},
   "outputs": [],
   "source": [
    "a=13;b=37"
   ]
  },
  {
   "cell_type": "code",
   "execution_count": 17,
   "id": "4b1ca07b-5c1a-493d-acb6-b10a729fad4b",
   "metadata": {},
   "outputs": [
    {
     "data": {
      "text/plain": [
       "'0b1101'"
      ]
     },
     "execution_count": 17,
     "metadata": {},
     "output_type": "execute_result"
    }
   ],
   "source": [
    "bin(13)"
   ]
  },
  {
   "cell_type": "code",
   "execution_count": 18,
   "id": "729410cb-1d68-4ca5-9a9a-ba34f9149f44",
   "metadata": {},
   "outputs": [
    {
     "data": {
      "text/plain": [
       "40"
      ]
     },
     "execution_count": 18,
     "metadata": {},
     "output_type": "execute_result"
    }
   ],
   "source": [
    "a^b"
   ]
  },
  {
   "cell_type": "code",
   "execution_count": 19,
   "id": "c15297e8-61bf-4021-8c2d-34198374123b",
   "metadata": {},
   "outputs": [
    {
     "data": {
      "text/plain": [
       "45"
      ]
     },
     "execution_count": 19,
     "metadata": {},
     "output_type": "execute_result"
    }
   ],
   "source": [
    "a|b"
   ]
  },
  {
   "cell_type": "code",
   "execution_count": 20,
   "id": "5f4a1a3d-14b3-44d2-ad06-fccf8af80a3b",
   "metadata": {},
   "outputs": [
    {
     "data": {
      "text/plain": [
       "'0b110100'"
      ]
     },
     "execution_count": 20,
     "metadata": {},
     "output_type": "execute_result"
    }
   ],
   "source": [
    "bin(a<<2)"
   ]
  },
  {
   "cell_type": "code",
   "execution_count": 21,
   "id": "2cb87d52-15f4-4f72-985e-cc5b5bdde04d",
   "metadata": {},
   "outputs": [
    {
     "data": {
      "text/plain": [
       "'0b11'"
      ]
     },
     "execution_count": 21,
     "metadata": {},
     "output_type": "execute_result"
    }
   ],
   "source": [
    "bin(a>>2)"
   ]
  },
  {
   "cell_type": "code",
   "execution_count": 22,
   "id": "390d8a80-a201-49c5-a302-5c1d8b9214dc",
   "metadata": {},
   "outputs": [],
   "source": [
    "#assignment operators\n",
    "a=6"
   ]
  },
  {
   "cell_type": "code",
   "execution_count": 23,
   "id": "3a2d944a-a157-40d4-9794-b104630cbf52",
   "metadata": {},
   "outputs": [],
   "source": [
    "a+=4"
   ]
  },
  {
   "cell_type": "code",
   "execution_count": 24,
   "id": "92ddc8b9-c3df-4ade-83df-b0362e1cc1d2",
   "metadata": {},
   "outputs": [
    {
     "data": {
      "text/plain": [
       "10"
      ]
     },
     "execution_count": 24,
     "metadata": {},
     "output_type": "execute_result"
    }
   ],
   "source": [
    "a"
   ]
  },
  {
   "cell_type": "code",
   "execution_count": 25,
   "id": "e44ea8f5-8551-4a66-bbb2-16e8fe0f6391",
   "metadata": {},
   "outputs": [],
   "source": [
    "a-=4"
   ]
  },
  {
   "cell_type": "code",
   "execution_count": 26,
   "id": "695d2ef9-905d-4988-b120-6faa4a84edff",
   "metadata": {},
   "outputs": [],
   "source": [
    "a**=2"
   ]
  },
  {
   "cell_type": "code",
   "execution_count": 27,
   "id": "ed970840-a65b-4c54-aac6-62eda7899986",
   "metadata": {},
   "outputs": [
    {
     "data": {
      "text/plain": [
       "36"
      ]
     },
     "execution_count": 27,
     "metadata": {},
     "output_type": "execute_result"
    }
   ],
   "source": [
    "a"
   ]
  },
  {
   "cell_type": "code",
   "execution_count": 29,
   "id": "45b3239b-8b6b-4e7a-95ed-9b6781f67d80",
   "metadata": {},
   "outputs": [],
   "source": [
    "a//=8"
   ]
  },
  {
   "cell_type": "code",
   "execution_count": 30,
   "id": "1988db56-178d-4a6b-9c58-f3357108c62a",
   "metadata": {},
   "outputs": [
    {
     "data": {
      "text/plain": [
       "0"
      ]
     },
     "execution_count": 30,
     "metadata": {},
     "output_type": "execute_result"
    }
   ],
   "source": [
    "a"
   ]
  },
  {
   "cell_type": "code",
   "execution_count": 31,
   "id": "cc7bd30b-4016-4709-bff9-9f555071f664",
   "metadata": {},
   "outputs": [],
   "source": [
    "a%=4"
   ]
  },
  {
   "cell_type": "code",
   "execution_count": 32,
   "id": "f3aebea9-7878-4074-ba0f-afd2150e908d",
   "metadata": {},
   "outputs": [
    {
     "data": {
      "text/plain": [
       "0"
      ]
     },
     "execution_count": 32,
     "metadata": {},
     "output_type": "execute_result"
    }
   ],
   "source": [
    "a"
   ]
  },
  {
   "cell_type": "code",
   "execution_count": 33,
   "id": "0ed9d03f-1ebf-439f-af41-063ddb505c08",
   "metadata": {},
   "outputs": [
    {
     "data": {
      "text/plain": [
       "(10, 37)"
      ]
     },
     "execution_count": 33,
     "metadata": {},
     "output_type": "execute_result"
    }
   ],
   "source": [
    "#comparision \n",
    "a=10;a,b"
   ]
  },
  {
   "cell_type": "code",
   "execution_count": 34,
   "id": "2b42c35f-06b3-4246-bd29-4b85c530456e",
   "metadata": {},
   "outputs": [
    {
     "data": {
      "text/plain": [
       "False"
      ]
     },
     "execution_count": 34,
     "metadata": {},
     "output_type": "execute_result"
    }
   ],
   "source": [
    "a==b"
   ]
  },
  {
   "cell_type": "code",
   "execution_count": 35,
   "id": "d9fcd2ea-2767-4922-8f5f-abfea91d3d84",
   "metadata": {},
   "outputs": [
    {
     "data": {
      "text/plain": [
       "True"
      ]
     },
     "execution_count": 35,
     "metadata": {},
     "output_type": "execute_result"
    }
   ],
   "source": [
    "a!=b"
   ]
  },
  {
   "cell_type": "code",
   "execution_count": 36,
   "id": "de125ced-e928-4b40-ba3a-8b01f2a7c752",
   "metadata": {},
   "outputs": [
    {
     "data": {
      "text/plain": [
       "False"
      ]
     },
     "execution_count": 36,
     "metadata": {},
     "output_type": "execute_result"
    }
   ],
   "source": [
    "a>=b"
   ]
  },
  {
   "cell_type": "code",
   "execution_count": 37,
   "id": "f3ea4b91-1ec0-4127-b39e-d4cbe09abc08",
   "metadata": {},
   "outputs": [
    {
     "data": {
      "text/plain": [
       "True"
      ]
     },
     "execution_count": 37,
     "metadata": {},
     "output_type": "execute_result"
    }
   ],
   "source": [
    "a<=b"
   ]
  },
  {
   "cell_type": "code",
   "execution_count": 39,
   "id": "e2d46a4d-0073-41f4-be48-3f9f238e54a6",
   "metadata": {},
   "outputs": [],
   "source": [
    "a= True\n",
    "b= False"
   ]
  },
  {
   "cell_type": "code",
   "execution_count": 40,
   "id": "d52dfc41-0e35-42f8-afb6-cf0183375cce",
   "metadata": {},
   "outputs": [
    {
     "data": {
      "text/plain": [
       "False"
      ]
     },
     "execution_count": 40,
     "metadata": {},
     "output_type": "execute_result"
    }
   ],
   "source": [
    "a & b"
   ]
  },
  {
   "cell_type": "code",
   "execution_count": 42,
   "id": "8b5ed758-f241-43f3-99cf-e1eacf0a3d96",
   "metadata": {},
   "outputs": [
    {
     "data": {
      "text/plain": [
       "True"
      ]
     },
     "execution_count": 42,
     "metadata": {},
     "output_type": "execute_result"
    }
   ],
   "source": [
    "a|b"
   ]
  },
  {
   "cell_type": "code",
   "execution_count": 43,
   "id": "3c7d3025-12f6-400a-b7c9-8da9a648e31b",
   "metadata": {},
   "outputs": [],
   "source": [
    "a=5\n",
    "b=5"
   ]
  },
  {
   "cell_type": "code",
   "execution_count": 44,
   "id": "e949e42b-64c9-4584-834d-5efc8bf0381d",
   "metadata": {},
   "outputs": [
    {
     "data": {
      "text/plain": [
       "(140711288646200, 140711288646200)"
      ]
     },
     "execution_count": 44,
     "metadata": {},
     "output_type": "execute_result"
    }
   ],
   "source": [
    "id(a),id(b)"
   ]
  },
  {
   "cell_type": "code",
   "execution_count": 45,
   "id": "218d0256-81a2-4ad8-83b8-b474728b7ae3",
   "metadata": {},
   "outputs": [
    {
     "data": {
      "text/plain": [
       "True"
      ]
     },
     "execution_count": 45,
     "metadata": {},
     "output_type": "execute_result"
    }
   ],
   "source": [
    "a is b"
   ]
  },
  {
   "cell_type": "code",
   "execution_count": 46,
   "id": "489b085e-7180-4474-ba59-fb7212f05cfe",
   "metadata": {},
   "outputs": [],
   "source": [
    "x=[1,2]\n",
    "y=[1,2]"
   ]
  },
  {
   "cell_type": "code",
   "execution_count": 47,
   "id": "dc82c6e8-b1de-4373-bccb-f6aece053799",
   "metadata": {},
   "outputs": [
    {
     "data": {
      "text/plain": [
       "(1884638059136, 1884653166272)"
      ]
     },
     "execution_count": 47,
     "metadata": {},
     "output_type": "execute_result"
    }
   ],
   "source": [
    "id(x),id(y)"
   ]
  },
  {
   "cell_type": "code",
   "execution_count": 48,
   "id": "7221f409-2069-47c9-be5a-ef0c386f4592",
   "metadata": {},
   "outputs": [
    {
     "data": {
      "text/plain": [
       "False"
      ]
     },
     "execution_count": 48,
     "metadata": {},
     "output_type": "execute_result"
    }
   ],
   "source": [
    "x  is y"
   ]
  },
  {
   "cell_type": "code",
   "execution_count": 49,
   "id": "e484aa12-f773-4fe7-af59-d38a492ab477",
   "metadata": {},
   "outputs": [],
   "source": [
    " z=x"
   ]
  },
  {
   "cell_type": "code",
   "execution_count": 50,
   "id": "07e29e81-f77e-48c5-9b10-55fba3a4a5ae",
   "metadata": {},
   "outputs": [
    {
     "data": {
      "text/plain": [
       "True"
      ]
     },
     "execution_count": 50,
     "metadata": {},
     "output_type": "execute_result"
    }
   ],
   "source": [
    "z is x"
   ]
  },
  {
   "cell_type": "code",
   "execution_count": 51,
   "id": "2f2d7ef4-676a-4e1b-9284-3ee02b91a5b1",
   "metadata": {},
   "outputs": [],
   "source": [
    "x.append(10)"
   ]
  },
  {
   "cell_type": "code",
   "execution_count": 53,
   "id": "812ff00c-7ce0-426c-b9f0-9e76b4432a56",
   "metadata": {},
   "outputs": [
    {
     "data": {
      "text/plain": [
       "[1, 2, 10]"
      ]
     },
     "execution_count": 53,
     "metadata": {},
     "output_type": "execute_result"
    }
   ],
   "source": [
    "x"
   ]
  },
  {
   "cell_type": "code",
   "execution_count": 54,
   "id": "6f244b38-0310-4412-be4c-4075a5f9b13f",
   "metadata": {},
   "outputs": [
    {
     "data": {
      "text/plain": [
       "[1, 2, 10]"
      ]
     },
     "execution_count": 54,
     "metadata": {},
     "output_type": "execute_result"
    }
   ],
   "source": [
    "z"
   ]
  },
  {
   "cell_type": "code",
   "execution_count": 55,
   "id": "0bd8b356-c1c7-4d36-9673-1cfdc57f5282",
   "metadata": {},
   "outputs": [
    {
     "data": {
      "text/plain": [
       "(1884638059136, 1884638059136)"
      ]
     },
     "execution_count": 55,
     "metadata": {},
     "output_type": "execute_result"
    }
   ],
   "source": [
    "id(x),id(z)"
   ]
  },
  {
   "cell_type": "code",
   "execution_count": 56,
   "id": "e3515f5b-6205-4e6f-8154-b06faf8cbc2d",
   "metadata": {},
   "outputs": [],
   "source": [
    "#membership\n",
    "#in,not in\n",
    "l=[12,23,34,45]"
   ]
  },
  {
   "cell_type": "code",
   "execution_count": 57,
   "id": "6ad507d6-e90f-470f-ad49-1bcd5d552006",
   "metadata": {},
   "outputs": [
    {
     "data": {
      "text/plain": [
       "True"
      ]
     },
     "execution_count": 57,
     "metadata": {},
     "output_type": "execute_result"
    }
   ],
   "source": [
    "12 in l"
   ]
  },
  {
   "cell_type": "code",
   "execution_count": 58,
   "id": "49a32ee1-3e42-44f4-bf30-5b1c2774ca6b",
   "metadata": {},
   "outputs": [
    {
     "data": {
      "text/plain": [
       "False"
      ]
     },
     "execution_count": 58,
     "metadata": {},
     "output_type": "execute_result"
    }
   ],
   "source": [
    "23 not in l"
   ]
  },
  {
   "cell_type": "code",
   "execution_count": 59,
   "id": "434201e9-1a6f-4087-8a1b-51e46ffb2eb6",
   "metadata": {},
   "outputs": [],
   "source": [
    "# print function\n",
    "name=\"sia\"\n",
    "marks=75"
   ]
  },
  {
   "cell_type": "code",
   "execution_count": 60,
   "id": "5862c976-41a8-4055-9d15-bd286cf38592",
   "metadata": {},
   "outputs": [
    {
     "name": "stdout",
     "output_type": "stream",
     "text": [
      "my name is\"name\" and marks are\"marks\n"
     ]
    }
   ],
   "source": [
    "print('my name is\"name\" and marks are\"marks')"
   ]
  },
  {
   "cell_type": "code",
   "execution_count": 61,
   "id": "7a197d9c-493a-4ce8-89fd-9a16d626cf5a",
   "metadata": {},
   "outputs": [
    {
     "name": "stdout",
     "output_type": "stream",
     "text": [
      "my name is  sia and marks 75\n"
     ]
    }
   ],
   "source": [
    "print(\"my name is \",name , \"and marks\",marks)"
   ]
  },
  {
   "cell_type": "code",
   "execution_count": 63,
   "id": "a25b9aec-be82-4e08-b072-6546d170d087",
   "metadata": {},
   "outputs": [
    {
     "name": "stdout",
     "output_type": "stream",
     "text": [
      "my name is sia and marks are 75\n"
     ]
    }
   ],
   "source": [
    "print(\"my name is %s and marks are %d\"%(name,marks))"
   ]
  },
  {
   "cell_type": "code",
   "execution_count": 66,
   "id": "25cc8788-b18b-432c-91a1-47f601302b67",
   "metadata": {},
   "outputs": [
    {
     "name": "stdout",
     "output_type": "stream",
     "text": [
      "my name is sia and marks are 75\n"
     ]
    }
   ],
   "source": [
    "print(f\"my name is {name} and marks are {marks}\")"
   ]
  },
  {
   "cell_type": "code",
   "execution_count": 69,
   "id": "3c45c12b-c85a-4ce2-9ad8-eaadade0c7ed",
   "metadata": {},
   "outputs": [],
   "source": [
    "# dir \n",
    "dir(name);"
   ]
  },
  {
   "cell_type": "code",
   "execution_count": 68,
   "id": "a9116968-4dca-47f4-a1b4-16888ef5c9eb",
   "metadata": {},
   "outputs": [
    {
     "name": "stdout",
     "output_type": "stream",
     "text": [
      "Help on built-in function lstrip:\n",
      "\n",
      "lstrip(chars=None, /) method of builtins.str instance\n",
      "    Return a copy of the string with leading whitespace removed.\n",
      "\n",
      "    If chars is given and not None, remove characters in chars instead.\n",
      "\n"
     ]
    }
   ],
   "source": [
    "help(name.lstrip)"
   ]
  },
  {
   "cell_type": "code",
   "execution_count": 70,
   "id": "e0ec0d5f-ab07-401e-bd85-ff5d104d0d7a",
   "metadata": {},
   "outputs": [
    {
     "data": {
      "text/plain": [
       "97"
      ]
     },
     "execution_count": 70,
     "metadata": {},
     "output_type": "execute_result"
    }
   ],
   "source": [
    "# ascii\n",
    "ord(\"a\")"
   ]
  },
  {
   "cell_type": "code",
   "execution_count": 71,
   "id": "e98478c0-2e74-48fc-83d6-7cbac2579a0f",
   "metadata": {},
   "outputs": [
    {
     "data": {
      "text/plain": [
       "114"
      ]
     },
     "execution_count": 71,
     "metadata": {},
     "output_type": "execute_result"
    }
   ],
   "source": [
    "ord(\"r\")"
   ]
  },
  {
   "cell_type": "code",
   "execution_count": 72,
   "id": "b557786e-5b75-4c6b-8822-a64ea6d70b88",
   "metadata": {},
   "outputs": [
    {
     "data": {
      "text/plain": [
       "64"
      ]
     },
     "execution_count": 72,
     "metadata": {},
     "output_type": "execute_result"
    }
   ],
   "source": [
    "ord(\"@\")"
   ]
  },
  {
   "cell_type": "code",
   "execution_count": 73,
   "id": "2bdc1513-4f68-419f-b06c-275c9b1ad4fb",
   "metadata": {},
   "outputs": [
    {
     "data": {
      "text/plain": [
       "'a'"
      ]
     },
     "execution_count": 73,
     "metadata": {},
     "output_type": "execute_result"
    }
   ],
   "source": [
    "chr(97)"
   ]
  },
  {
   "cell_type": "code",
   "execution_count": 74,
   "id": "ab6d58ad-d4fd-494f-b57f-9544064bebd4",
   "metadata": {},
   "outputs": [
    {
     "data": {
      "text/plain": [
       "'@'"
      ]
     },
     "execution_count": 74,
     "metadata": {},
     "output_type": "execute_result"
    }
   ],
   "source": [
    "chr(64)"
   ]
  },
  {
   "cell_type": "code",
   "execution_count": 75,
   "id": "b5fc5590-a933-4c3d-9765-c49a3ccdc24d",
   "metadata": {},
   "outputs": [],
   "source": [
    "#type casting"
   ]
  },
  {
   "cell_type": "code",
   "execution_count": 76,
   "id": "5ba3c602-7f78-4a97-8507-042415188977",
   "metadata": {},
   "outputs": [],
   "source": [
    "a=12\n",
    "b=23.56\n",
    "c=\"shrh\""
   ]
  },
  {
   "cell_type": "code",
   "execution_count": 77,
   "id": "720d4c27-708a-4604-8f13-6e55d1bb39e0",
   "metadata": {},
   "outputs": [
    {
     "data": {
      "text/plain": [
       "12.0"
      ]
     },
     "execution_count": 77,
     "metadata": {},
     "output_type": "execute_result"
    }
   ],
   "source": [
    "float(a)"
   ]
  },
  {
   "cell_type": "code",
   "execution_count": 78,
   "id": "bf0f5b18-9325-41f8-b7ab-ea5fa7fd455e",
   "metadata": {},
   "outputs": [
    {
     "data": {
      "text/plain": [
       "23"
      ]
     },
     "execution_count": 78,
     "metadata": {},
     "output_type": "execute_result"
    }
   ],
   "source": [
    "int(b)\n"
   ]
  },
  {
   "cell_type": "code",
   "execution_count": 80,
   "id": "359b3805-e212-4d31-b86d-280cda5dd4c8",
   "metadata": {},
   "outputs": [
    {
     "data": {
      "text/plain": [
       "'23.56'"
      ]
     },
     "execution_count": 80,
     "metadata": {},
     "output_type": "execute_result"
    }
   ],
   "source": [
    "str(b)"
   ]
  },
  {
   "cell_type": "code",
   "execution_count": 81,
   "id": "dddd6a7c-271a-4031-a3ee-b0f32f534a86",
   "metadata": {},
   "outputs": [
    {
     "data": {
      "text/plain": [
       "23"
      ]
     },
     "execution_count": 81,
     "metadata": {},
     "output_type": "execute_result"
    }
   ],
   "source": [
    "int(b)"
   ]
  },
  {
   "cell_type": "code",
   "execution_count": 82,
   "id": "1af97927-08cc-47f0-8338-9835d5931099",
   "metadata": {},
   "outputs": [],
   "source": [
    "# user input"
   ]
  },
  {
   "cell_type": "code",
   "execution_count": 84,
   "id": "aad8d677-1c2c-4169-b2a4-1f1a0b585009",
   "metadata": {},
   "outputs": [
    {
     "name": "stdout",
     "output_type": "stream",
     "text": [
      "30\n"
     ]
    }
   ],
   "source": [
    "a=10\n",
    "b=20\n",
    "res=a+b\n",
    "print(res)"
   ]
  },
  {
   "cell_type": "code",
   "execution_count": 90,
   "id": "551e3510-f4f1-49c2-9df2-1036902f9425",
   "metadata": {},
   "outputs": [
    {
     "name": "stdin",
     "output_type": "stream",
     "text": [
      "enter the first number 34\n",
      "enter the sec number 2\n"
     ]
    }
   ],
   "source": [
    "a=int(input(\"enter the first number\"))\n",
    "b=int(input(\"enter the sec number\"))"
   ]
  },
  {
   "cell_type": "code",
   "execution_count": 91,
   "id": "c2b17da4-3c09-4469-a9f1-dedabd5da8dd",
   "metadata": {},
   "outputs": [],
   "source": [
    "res=a+b\n"
   ]
  },
  {
   "cell_type": "code",
   "execution_count": 92,
   "id": "4eb6b1e3-e766-439e-9d80-9c66e6a02090",
   "metadata": {},
   "outputs": [
    {
     "data": {
      "text/plain": [
       "36"
      ]
     },
     "execution_count": 92,
     "metadata": {},
     "output_type": "execute_result"
    }
   ],
   "source": [
    "res"
   ]
  },
  {
   "cell_type": "code",
   "execution_count": 100,
   "id": "5b04b40a-a9c0-4b6c-bc23-b019568401d5",
   "metadata": {},
   "outputs": [
    {
     "name": "stdin",
     "output_type": "stream",
     "text": [
      "enter the seconds 30\n"
     ]
    },
    {
     "name": "stdout",
     "output_type": "stream",
     "text": [
      "00:00:30\n"
     ]
    }
   ],
   "source": [
    "sec=int(input(\"enter the seconds\"))\n",
    "\n",
    "hrs=sec//3600\n",
    "min=(sec%3600)//60\n",
    "secs=sec%60\n",
    "print(f\"{hrs:02}:{min:02}:{secs:02}\")"
   ]
  }
 ],
 "metadata": {
  "kernelspec": {
   "display_name": "Python 3 (ipykernel)",
   "language": "python",
   "name": "python3"
  },
  "language_info": {
   "codemirror_mode": {
    "name": "ipython",
    "version": 3
   },
   "file_extension": ".py",
   "mimetype": "text/x-python",
   "name": "python",
   "nbconvert_exporter": "python",
   "pygments_lexer": "ipython3",
   "version": "3.12.7"
  }
 },
 "nbformat": 4,
 "nbformat_minor": 5
}
