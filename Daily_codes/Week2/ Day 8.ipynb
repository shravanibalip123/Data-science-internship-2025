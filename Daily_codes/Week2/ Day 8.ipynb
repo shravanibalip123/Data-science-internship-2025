{
 "cells": [
  {
   "cell_type": "code",
   "execution_count": 1,
   "id": "81864694-19f4-4f49-8694-661fbe0b2288",
   "metadata": {},
   "outputs": [
    {
     "name": "stdout",
     "output_type": "stream",
     "text": [
      "Hello\n",
      "ok\n",
      "byee\n"
     ]
    }
   ],
   "source": [
    "print(\"Hello\")\n",
    "print(\"ok\")\n",
    "print(\"byee\")"
   ]
  },
  {
   "cell_type": "code",
   "execution_count": 2,
   "id": "a48cc66a-5064-44e5-9694-18487e67ecf7",
   "metadata": {},
   "outputs": [],
   "source": [
    "def show():   # function defination\n",
    "    print(\"Hello\")\n",
    "    print(\"ok\")\n",
    "    print(\"byee\")\n",
    "    "
   ]
  },
  {
   "cell_type": "code",
   "execution_count": 3,
   "id": "70d0a6d3-d84c-4d8d-819f-90a8f5a1f656",
   "metadata": {},
   "outputs": [
    {
     "name": "stdout",
     "output_type": "stream",
     "text": [
      "Hello\n",
      "ok\n",
      "byee\n"
     ]
    }
   ],
   "source": [
    "show() # functionn call\n"
   ]
  },
  {
   "cell_type": "code",
   "execution_count": 4,
   "id": "0e9e3607-f6bf-40eb-b526-0da57f02002a",
   "metadata": {},
   "outputs": [
    {
     "name": "stdout",
     "output_type": "stream",
     "text": [
      "Hello\n",
      "ok\n",
      "byee\n",
      "Hello\n",
      "ok\n",
      "byee\n",
      "Hello\n",
      "ok\n",
      "byee\n"
     ]
    }
   ],
   "source": [
    "show()\n",
    "show()\n",
    "show()"
   ]
  },
  {
   "cell_type": "code",
   "execution_count": 5,
   "id": "33ea22d3-037f-4f05-85e5-20e73735b034",
   "metadata": {},
   "outputs": [],
   "source": [
    "# parameterized function\n",
    "\n",
    "def sq(num):\n",
    "    res = num*num\n",
    "    print(res)"
   ]
  },
  {
   "cell_type": "code",
   "execution_count": 6,
   "id": "419de8d0-4ebf-4a6e-831f-4b2d762073e9",
   "metadata": {},
   "outputs": [
    {
     "name": "stdout",
     "output_type": "stream",
     "text": [
      "81\n"
     ]
    }
   ],
   "source": [
    "sq(9)"
   ]
  },
  {
   "cell_type": "code",
   "execution_count": 7,
   "id": "c7070530-8a66-467a-b138-fe4487579d75",
   "metadata": {},
   "outputs": [
    {
     "name": "stdout",
     "output_type": "stream",
     "text": [
      "100\n"
     ]
    }
   ],
   "source": [
    "sq(10)\n"
   ]
  },
  {
   "cell_type": "code",
   "execution_count": 8,
   "id": "ec5acb0a-4da2-4df9-ae6e-7a3267616d51",
   "metadata": {},
   "outputs": [],
   "source": [
    "# largest between two numbers\n",
    "\n",
    "def largest(num1,num2):\n",
    "    if num1>num2:\n",
    "        print(\"largest is :\" ,num1)\n",
    "    elif num1 == num2:\n",
    "        print(\"both are equal\")\n",
    "    else:\n",
    "         print(\"smallest is :\",num2)"
   ]
  },
  {
   "cell_type": "code",
   "execution_count": 10,
   "id": "67170bf8-5761-4955-92fc-0e4a8f512076",
   "metadata": {},
   "outputs": [
    {
     "name": "stdout",
     "output_type": "stream",
     "text": [
      "largest is : 7\n"
     ]
    }
   ],
   "source": [
    "largest(7,4)"
   ]
  },
  {
   "cell_type": "code",
   "execution_count": 27,
   "id": "3e783030-6395-4cef-9382-a7ad24bf3c7e",
   "metadata": {},
   "outputs": [],
   "source": [
    "# function to print the name...'n' times (2 para)\n",
    "\n",
    "def times(n,name):\n",
    "    for i in range(n):\n",
    "        print(name)\n",
    "        \n",
    "    "
   ]
  },
  {
   "cell_type": "code",
   "execution_count": 28,
   "id": "08ded123-ccf8-4ba8-8475-608de6a82dea",
   "metadata": {},
   "outputs": [
    {
     "name": "stdout",
     "output_type": "stream",
     "text": [
      "shravani\n",
      "shravani\n",
      "shravani\n"
     ]
    }
   ],
   "source": [
    "times(3,\"shravani\")"
   ]
  },
  {
   "cell_type": "code",
   "execution_count": 48,
   "id": "a789e8b2-1a6d-4e81-be36-488f611fbbdc",
   "metadata": {},
   "outputs": [],
   "source": [
    "def factorial(num):\n",
    "    fact =1\n",
    "    for i in range(1,num+1):\n",
    "        fact = fact * i\n",
    "    print(fact)   "
   ]
  },
  {
   "cell_type": "code",
   "execution_count": 49,
   "id": "d0e1ebcf-c7c8-44fc-ae14-af6e90a04dd8",
   "metadata": {},
   "outputs": [
    {
     "name": "stdout",
     "output_type": "stream",
     "text": [
      "120\n"
     ]
    }
   ],
   "source": [
    "factorial(5)"
   ]
  },
  {
   "cell_type": "code",
   "execution_count": 50,
   "id": "a3aa3826-5fe0-45e3-90ba-ae0df5ff4ea2",
   "metadata": {},
   "outputs": [],
   "source": [
    "def sq(num):\n",
    "    res = num*num\n",
    "    return res"
   ]
  },
  {
   "cell_type": "code",
   "execution_count": 51,
   "id": "de00d9c0-65eb-458f-89f0-2fd8ea3cb90f",
   "metadata": {},
   "outputs": [
    {
     "data": {
      "text/plain": [
       "100"
      ]
     },
     "execution_count": 51,
     "metadata": {},
     "output_type": "execute_result"
    }
   ],
   "source": [
    "sq(10)"
   ]
  },
  {
   "cell_type": "code",
   "execution_count": 52,
   "id": "c97b296e-5d1b-41c8-a8aa-e63d4e0fe100",
   "metadata": {},
   "outputs": [
    {
     "data": {
      "text/plain": [
       "100"
      ]
     },
     "execution_count": 52,
     "metadata": {},
     "output_type": "execute_result"
    }
   ],
   "source": [
    "sq(10)"
   ]
  },
  {
   "cell_type": "code",
   "execution_count": 53,
   "id": "86c6cb75-7cbb-447d-b2b2-b6ed22c8e6fd",
   "metadata": {},
   "outputs": [],
   "source": [
    "# differencr bet return and print"
   ]
  },
  {
   "cell_type": "code",
   "execution_count": 54,
   "id": "7f51cd50-32a3-4838-86c0-90af419e1b34",
   "metadata": {},
   "outputs": [],
   "source": [
    "def add1(a,b):\n",
    "    print(a+b)"
   ]
  },
  {
   "cell_type": "code",
   "execution_count": 55,
   "id": "ddc060e0-5974-4667-93a0-4f44057611f3",
   "metadata": {},
   "outputs": [
    {
     "name": "stdout",
     "output_type": "stream",
     "text": [
      "5\n"
     ]
    }
   ],
   "source": [
    "add1(2,3)"
   ]
  },
  {
   "cell_type": "code",
   "execution_count": 57,
   "id": "a8fc147f-145c-47e2-b40e-fcf1d82c91df",
   "metadata": {},
   "outputs": [
    {
     "name": "stdout",
     "output_type": "stream",
     "text": [
      "6\n"
     ]
    }
   ],
   "source": [
    "i = add1(2,4)"
   ]
  },
  {
   "cell_type": "code",
   "execution_count": 58,
   "id": "17b3da20-c696-444e-a294-e3aec0a328a6",
   "metadata": {},
   "outputs": [
    {
     "name": "stdout",
     "output_type": "stream",
     "text": [
      "None\n"
     ]
    }
   ],
   "source": [
    "print(i)"
   ]
  },
  {
   "cell_type": "code",
   "execution_count": 59,
   "id": "45c866d3-b0c7-417b-83c6-0881d96c9d0d",
   "metadata": {},
   "outputs": [
    {
     "name": "stdout",
     "output_type": "stream",
     "text": [
      "6\n"
     ]
    },
    {
     "ename": "TypeError",
     "evalue": "unsupported operand type(s) for +: 'NoneType' and 'int'",
     "output_type": "error",
     "traceback": [
      "\u001b[1;31m---------------------------------------------------------------------------\u001b[0m",
      "\u001b[1;31mTypeError\u001b[0m                                 Traceback (most recent call last)",
      "Cell \u001b[1;32mIn[59], line 1\u001b[0m\n\u001b[1;32m----> 1\u001b[0m i \u001b[38;5;241m=\u001b[39m add1(\u001b[38;5;241m2\u001b[39m,\u001b[38;5;241m4\u001b[39m) \u001b[38;5;241m+\u001b[39m\u001b[38;5;241m4\u001b[39m\n",
      "\u001b[1;31mTypeError\u001b[0m: unsupported operand type(s) for +: 'NoneType' and 'int'"
     ]
    }
   ],
   "source": [
    "i = add1(2,4) +4"
   ]
  },
  {
   "cell_type": "code",
   "execution_count": 60,
   "id": "2db1fff2-c2d6-49d2-a947-7815fd5facd3",
   "metadata": {},
   "outputs": [],
   "source": [
    "# for return\n",
    "\n",
    "def add2(a,b):\n",
    "    return a+b\n"
   ]
  },
  {
   "cell_type": "code",
   "execution_count": 61,
   "id": "65b3e422-c284-4e33-80c1-9c8df3aa7b59",
   "metadata": {},
   "outputs": [
    {
     "data": {
      "text/plain": [
       "9"
      ]
     },
     "execution_count": 61,
     "metadata": {},
     "output_type": "execute_result"
    }
   ],
   "source": [
    "add2(4,5)"
   ]
  },
  {
   "cell_type": "code",
   "execution_count": 62,
   "id": "bc0e2faf-d9b3-4fff-81c8-0de61acbd940",
   "metadata": {},
   "outputs": [],
   "source": [
    "i = add2(4,5)"
   ]
  },
  {
   "cell_type": "code",
   "execution_count": 63,
   "id": "10c8717d-c8fd-4cc9-b121-5ada8deffcea",
   "metadata": {},
   "outputs": [
    {
     "data": {
      "text/plain": [
       "9"
      ]
     },
     "execution_count": 63,
     "metadata": {},
     "output_type": "execute_result"
    }
   ],
   "source": [
    "i"
   ]
  },
  {
   "cell_type": "code",
   "execution_count": 64,
   "id": "762f9a2d-2779-4d8c-ae31-6beb2d6e95f3",
   "metadata": {},
   "outputs": [],
   "source": [
    "i = add2(2,4) +4"
   ]
  },
  {
   "cell_type": "code",
   "execution_count": 65,
   "id": "599cba21-2298-43b5-9274-38ef5aecc6e2",
   "metadata": {},
   "outputs": [
    {
     "data": {
      "text/plain": [
       "10"
      ]
     },
     "execution_count": 65,
     "metadata": {},
     "output_type": "execute_result"
    }
   ],
   "source": [
    "i"
   ]
  },
  {
   "cell_type": "code",
   "execution_count": 66,
   "id": "e4e01609-49a5-4325-8d6f-2556c4bc1270",
   "metadata": {},
   "outputs": [],
   "source": [
    "# create function for addition of 3 numbers"
   ]
  },
  {
   "cell_type": "code",
   "execution_count": 70,
   "id": "f96157cc-7d65-4cb7-90ae-4a402513834c",
   "metadata": {},
   "outputs": [],
   "source": [
    "def addition(n1,n2,n3):\n",
    "    add =n1+n2+n3\n",
    "    return add"
   ]
  },
  {
   "cell_type": "code",
   "execution_count": 71,
   "id": "1bfd77dc-3e12-4651-a62f-7bc58187f9b1",
   "metadata": {},
   "outputs": [
    {
     "data": {
      "text/plain": [
       "9"
      ]
     },
     "execution_count": 71,
     "metadata": {},
     "output_type": "execute_result"
    }
   ],
   "source": [
    "addition(2,3,4)"
   ]
  },
  {
   "cell_type": "code",
   "execution_count": 72,
   "id": "87175ac2-a2bd-4dc5-a401-57cf6c199e66",
   "metadata": {},
   "outputs": [],
   "source": [
    "def cal(n):\n",
    "    sq = n*n\n",
    "    cu = n*n*n\n",
    "    return sq,cu"
   ]
  },
  {
   "cell_type": "code",
   "execution_count": 73,
   "id": "40eaa17f-70c1-4873-a86f-5bda3576430e",
   "metadata": {},
   "outputs": [
    {
     "data": {
      "text/plain": [
       "(36, 216)"
      ]
     },
     "execution_count": 73,
     "metadata": {},
     "output_type": "execute_result"
    }
   ],
   "source": [
    "cal(6)"
   ]
  },
  {
   "cell_type": "code",
   "execution_count": 134,
   "id": "4234b334-b74d-477e-8f40-f82aa22c0a55",
   "metadata": {},
   "outputs": [],
   "source": [
    "# default para\n",
    "def add3(a=10,b=20,c=8):\n",
    "    return a+b+c"
   ]
  },
  {
   "cell_type": "code",
   "execution_count": 135,
   "id": "9109fecf-cb92-4543-91aa-610537813ccf",
   "metadata": {},
   "outputs": [
    {
     "data": {
      "text/plain": [
       "31"
      ]
     },
     "execution_count": 135,
     "metadata": {},
     "output_type": "execute_result"
    }
   ],
   "source": [
    "add3(3)"
   ]
  },
  {
   "cell_type": "code",
   "execution_count": 95,
   "id": "1634b924-bbdf-48f3-9153-95bf3a870350",
   "metadata": {},
   "outputs": [
    {
     "data": {
      "text/plain": [
       "34"
      ]
     },
     "execution_count": 95,
     "metadata": {},
     "output_type": "execute_result"
    }
   ],
   "source": [
    "add3(3,1)"
   ]
  },
  {
   "cell_type": "code",
   "execution_count": 96,
   "id": "19e00812-bd35-4d15-8ffe-b33056a290af",
   "metadata": {},
   "outputs": [
    {
     "data": {
      "text/plain": [
       "47"
      ]
     },
     "execution_count": 96,
     "metadata": {},
     "output_type": "execute_result"
    }
   ],
   "source": [
    "add3(b=7)"
   ]
  },
  {
   "cell_type": "code",
   "execution_count": 107,
   "id": "ba225f55-3cac-4fd7-b8b1-1e72b0dac19c",
   "metadata": {},
   "outputs": [],
   "source": [
    "def add3(a,b=9,c=9):\n",
    "    return a+b+c\n",
    "        "
   ]
  },
  {
   "cell_type": "code",
   "execution_count": 108,
   "id": "a67ec16d-eb93-4f65-82dd-613047ffc33e",
   "metadata": {},
   "outputs": [
    {
     "data": {
      "text/plain": [
       "17"
      ]
     },
     "execution_count": 108,
     "metadata": {},
     "output_type": "execute_result"
    }
   ],
   "source": [
    "add3(3,5)"
   ]
  },
  {
   "cell_type": "code",
   "execution_count": 109,
   "id": "35b773d9-35df-4117-9ab3-21ee52348756",
   "metadata": {},
   "outputs": [],
   "source": [
    "# variable length argument"
   ]
  },
  {
   "cell_type": "code",
   "execution_count": 110,
   "id": "f540bf92-2c8e-48ea-ae29-2f00aa6fccfa",
   "metadata": {},
   "outputs": [],
   "source": [
    "def ini(*args):\n",
    "    return args"
   ]
  },
  {
   "cell_type": "code",
   "execution_count": 111,
   "id": "bc5b2944-41e8-4e76-bd3d-de457af9f421",
   "metadata": {},
   "outputs": [
    {
     "data": {
      "text/plain": [
       "(1, 2, 3, 4, 5)"
      ]
     },
     "execution_count": 111,
     "metadata": {},
     "output_type": "execute_result"
    }
   ],
   "source": [
    "ini(1,2,3,4,5)"
   ]
  },
  {
   "cell_type": "code",
   "execution_count": 129,
   "id": "483a3ed6-5716-4029-8a6c-24455e2b3b08",
   "metadata": {},
   "outputs": [],
   "source": [
    "# pass any number of arguments and return the addition\n",
    "\n",
    "def addition(*args):\n",
    "    add = 0\n",
    "    for i in args:\n",
    "        add = add +i\n",
    "    return add"
   ]
  },
  {
   "cell_type": "code",
   "execution_count": 130,
   "id": "bfdd4761-3e54-44b0-b4cb-56e32cb7c674",
   "metadata": {},
   "outputs": [
    {
     "data": {
      "text/plain": [
       "9"
      ]
     },
     "execution_count": 130,
     "metadata": {},
     "output_type": "execute_result"
    }
   ],
   "source": [
    "addition(1,2,3,3)"
   ]
  },
  {
   "cell_type": "markdown",
   "id": "bea0cbed-8bd8-4785-9a57-6b08c47eccad",
   "metadata": {},
   "source": [
    "#### Lambda function"
   ]
  },
  {
   "cell_type": "code",
   "execution_count": 136,
   "id": "fa94952a-c3ef-44fb-a3ad-7d1b62c8fa6a",
   "metadata": {},
   "outputs": [],
   "source": [
    "squ=lambda a:a*a"
   ]
  },
  {
   "cell_type": "code",
   "execution_count": 137,
   "id": "ab739767-3bba-4b69-b506-3fd92c8195de",
   "metadata": {},
   "outputs": [
    {
     "data": {
      "text/plain": [
       "9"
      ]
     },
     "execution_count": 137,
     "metadata": {},
     "output_type": "execute_result"
    }
   ],
   "source": [
    "squ(3)"
   ]
  },
  {
   "cell_type": "code",
   "execution_count": 138,
   "id": "9b04968f-8925-4a08-9ecd-3019ea6e1fb1",
   "metadata": {},
   "outputs": [],
   "source": [
    "s = lambda a,b: a+b"
   ]
  },
  {
   "cell_type": "code",
   "execution_count": 139,
   "id": "f39376c1-775a-4002-95f6-b5e7be5500c7",
   "metadata": {},
   "outputs": [
    {
     "data": {
      "text/plain": [
       "9"
      ]
     },
     "execution_count": 139,
     "metadata": {},
     "output_type": "execute_result"
    }
   ],
   "source": [
    "s(4,5)"
   ]
  },
  {
   "cell_type": "code",
   "execution_count": 140,
   "id": "a0d8c290-b73f-498b-bfbf-c151652194f5",
   "metadata": {},
   "outputs": [],
   "source": [
    "# filter \n"
   ]
  },
  {
   "cell_type": "code",
   "execution_count": 141,
   "id": "c408f61f-a7c7-4b2a-b82a-7272efcb2c23",
   "metadata": {},
   "outputs": [],
   "source": [
    "l = [34,56,77,11,23,40]"
   ]
  },
  {
   "cell_type": "code",
   "execution_count": 142,
   "id": "210ad01e-4296-4cec-a7cd-10a21f348e64",
   "metadata": {},
   "outputs": [],
   "source": [
    "n1 = filter(lambda x: x>40,l)"
   ]
  },
  {
   "cell_type": "code",
   "execution_count": 143,
   "id": "d84845ae-72f8-4b93-8b60-9f3fa4878c12",
   "metadata": {},
   "outputs": [
    {
     "data": {
      "text/plain": [
       "[56, 77]"
      ]
     },
     "execution_count": 143,
     "metadata": {},
     "output_type": "execute_result"
    }
   ],
   "source": [
    "list(n1)"
   ]
  },
  {
   "cell_type": "code",
   "execution_count": 144,
   "id": "84c4fae4-285e-4aee-9351-9d522e3015c0",
   "metadata": {},
   "outputs": [],
   "source": [
    "# map "
   ]
  },
  {
   "cell_type": "code",
   "execution_count": 145,
   "id": "30094996-8618-470e-b5b4-29012ada5bd4",
   "metadata": {},
   "outputs": [],
   "source": [
    "l1 = map(lambda x: x>4,l)"
   ]
  },
  {
   "cell_type": "code",
   "execution_count": 147,
   "id": "fd60bdce-cf17-47fa-ad93-5a4a5ae7dd39",
   "metadata": {},
   "outputs": [
    {
     "data": {
      "text/plain": [
       "[True, True, True, True, True, True]"
      ]
     },
     "execution_count": 147,
     "metadata": {},
     "output_type": "execute_result"
    }
   ],
   "source": [
    "list (l1)"
   ]
  },
  {
   "cell_type": "code",
   "execution_count": 149,
   "id": "0255bb2e-22ed-4ac0-b638-f1995791655f",
   "metadata": {},
   "outputs": [],
   "source": [
    "new1 = map(lambda x: x*x,l)"
   ]
  },
  {
   "cell_type": "code",
   "execution_count": 150,
   "id": "5e983653-0d90-42f6-8f6e-cd7bfb3e61aa",
   "metadata": {},
   "outputs": [
    {
     "data": {
      "text/plain": [
       "[1156, 3136, 5929, 121, 529, 1600]"
      ]
     },
     "execution_count": 150,
     "metadata": {},
     "output_type": "execute_result"
    }
   ],
   "source": [
    "list(new1)"
   ]
  },
  {
   "cell_type": "markdown",
   "id": "14aa0710-43c1-4435-9215-5f988dceb5fb",
   "metadata": {},
   "source": [
    "### modules"
   ]
  },
  {
   "cell_type": "code",
   "execution_count": 151,
   "id": "d9d701de-c03e-4a09-9921-f11f99beee22",
   "metadata": {},
   "outputs": [],
   "source": [
    "import math"
   ]
  },
  {
   "cell_type": "code",
   "execution_count": 155,
   "id": "644b6f02-e48d-4536-9f13-1faf4e8be046",
   "metadata": {},
   "outputs": [
    {
     "data": {
      "text/plain": [
       "7.0"
      ]
     },
     "execution_count": 155,
     "metadata": {},
     "output_type": "execute_result"
    }
   ],
   "source": [
    "math.sqrt(49)"
   ]
  },
  {
   "cell_type": "code",
   "execution_count": 156,
   "id": "6ace4e4c-52d1-49b5-87dd-a622f4c08512",
   "metadata": {},
   "outputs": [
    {
     "name": "stdout",
     "output_type": "stream",
     "text": [
      "Help on built-in module math:\n",
      "\n",
      "NAME\n",
      "    math\n",
      "\n",
      "DESCRIPTION\n",
      "    This module provides access to the mathematical functions\n",
      "    defined by the C standard.\n",
      "\n",
      "FUNCTIONS\n",
      "    acos(x, /)\n",
      "        Return the arc cosine (measured in radians) of x.\n",
      "\n",
      "        The result is between 0 and pi.\n",
      "\n",
      "    acosh(x, /)\n",
      "        Return the inverse hyperbolic cosine of x.\n",
      "\n",
      "    asin(x, /)\n",
      "        Return the arc sine (measured in radians) of x.\n",
      "\n",
      "        The result is between -pi/2 and pi/2.\n",
      "\n",
      "    asinh(x, /)\n",
      "        Return the inverse hyperbolic sine of x.\n",
      "\n",
      "    atan(x, /)\n",
      "        Return the arc tangent (measured in radians) of x.\n",
      "\n",
      "        The result is between -pi/2 and pi/2.\n",
      "\n",
      "    atan2(y, x, /)\n",
      "        Return the arc tangent (measured in radians) of y/x.\n",
      "\n",
      "        Unlike atan(y/x), the signs of both x and y are considered.\n",
      "\n",
      "    atanh(x, /)\n",
      "        Return the inverse hyperbolic tangent of x.\n",
      "\n",
      "    cbrt(x, /)\n",
      "        Return the cube root of x.\n",
      "\n",
      "    ceil(x, /)\n",
      "        Return the ceiling of x as an Integral.\n",
      "\n",
      "        This is the smallest integer >= x.\n",
      "\n",
      "    comb(n, k, /)\n",
      "        Number of ways to choose k items from n items without repetition and without order.\n",
      "\n",
      "        Evaluates to n! / (k! * (n - k)!) when k <= n and evaluates\n",
      "        to zero when k > n.\n",
      "\n",
      "        Also called the binomial coefficient because it is equivalent\n",
      "        to the coefficient of k-th term in polynomial expansion of the\n",
      "        expression (1 + x)**n.\n",
      "\n",
      "        Raises TypeError if either of the arguments are not integers.\n",
      "        Raises ValueError if either of the arguments are negative.\n",
      "\n",
      "    copysign(x, y, /)\n",
      "        Return a float with the magnitude (absolute value) of x but the sign of y.\n",
      "\n",
      "        On platforms that support signed zeros, copysign(1.0, -0.0)\n",
      "        returns -1.0.\n",
      "\n",
      "    cos(x, /)\n",
      "        Return the cosine of x (measured in radians).\n",
      "\n",
      "    cosh(x, /)\n",
      "        Return the hyperbolic cosine of x.\n",
      "\n",
      "    degrees(x, /)\n",
      "        Convert angle x from radians to degrees.\n",
      "\n",
      "    dist(p, q, /)\n",
      "        Return the Euclidean distance between two points p and q.\n",
      "\n",
      "        The points should be specified as sequences (or iterables) of\n",
      "        coordinates.  Both inputs must have the same dimension.\n",
      "\n",
      "        Roughly equivalent to:\n",
      "            sqrt(sum((px - qx) ** 2.0 for px, qx in zip(p, q)))\n",
      "\n",
      "    erf(x, /)\n",
      "        Error function at x.\n",
      "\n",
      "    erfc(x, /)\n",
      "        Complementary error function at x.\n",
      "\n",
      "    exp(x, /)\n",
      "        Return e raised to the power of x.\n",
      "\n",
      "    exp2(x, /)\n",
      "        Return 2 raised to the power of x.\n",
      "\n",
      "    expm1(x, /)\n",
      "        Return exp(x)-1.\n",
      "\n",
      "        This function avoids the loss of precision involved in the direct evaluation of exp(x)-1 for small x.\n",
      "\n",
      "    fabs(x, /)\n",
      "        Return the absolute value of the float x.\n",
      "\n",
      "    factorial(n, /)\n",
      "        Find n!.\n",
      "\n",
      "        Raise a ValueError if x is negative or non-integral.\n",
      "\n",
      "    floor(x, /)\n",
      "        Return the floor of x as an Integral.\n",
      "\n",
      "        This is the largest integer <= x.\n",
      "\n",
      "    fmod(x, y, /)\n",
      "        Return fmod(x, y), according to platform C.\n",
      "\n",
      "        x % y may differ.\n",
      "\n",
      "    frexp(x, /)\n",
      "        Return the mantissa and exponent of x, as pair (m, e).\n",
      "\n",
      "        m is a float and e is an int, such that x = m * 2.**e.\n",
      "        If x is 0, m and e are both 0.  Else 0.5 <= abs(m) < 1.0.\n",
      "\n",
      "    fsum(seq, /)\n",
      "        Return an accurate floating-point sum of values in the iterable seq.\n",
      "\n",
      "        Assumes IEEE-754 floating-point arithmetic.\n",
      "\n",
      "    gamma(x, /)\n",
      "        Gamma function at x.\n",
      "\n",
      "    gcd(*integers)\n",
      "        Greatest Common Divisor.\n",
      "\n",
      "    hypot(...)\n",
      "        hypot(*coordinates) -> value\n",
      "\n",
      "        Multidimensional Euclidean distance from the origin to a point.\n",
      "\n",
      "        Roughly equivalent to:\n",
      "            sqrt(sum(x**2 for x in coordinates))\n",
      "\n",
      "        For a two dimensional point (x, y), gives the hypotenuse\n",
      "        using the Pythagorean theorem:  sqrt(x*x + y*y).\n",
      "\n",
      "        For example, the hypotenuse of a 3/4/5 right triangle is:\n",
      "\n",
      "            >>> hypot(3.0, 4.0)\n",
      "            5.0\n",
      "\n",
      "    isclose(a, b, *, rel_tol=1e-09, abs_tol=0.0)\n",
      "        Determine whether two floating-point numbers are close in value.\n",
      "\n",
      "          rel_tol\n",
      "            maximum difference for being considered \"close\", relative to the\n",
      "            magnitude of the input values\n",
      "          abs_tol\n",
      "            maximum difference for being considered \"close\", regardless of the\n",
      "            magnitude of the input values\n",
      "\n",
      "        Return True if a is close in value to b, and False otherwise.\n",
      "\n",
      "        For the values to be considered close, the difference between them\n",
      "        must be smaller than at least one of the tolerances.\n",
      "\n",
      "        -inf, inf and NaN behave similarly to the IEEE 754 Standard.  That\n",
      "        is, NaN is not close to anything, even itself.  inf and -inf are\n",
      "        only close to themselves.\n",
      "\n",
      "    isfinite(x, /)\n",
      "        Return True if x is neither an infinity nor a NaN, and False otherwise.\n",
      "\n",
      "    isinf(x, /)\n",
      "        Return True if x is a positive or negative infinity, and False otherwise.\n",
      "\n",
      "    isnan(x, /)\n",
      "        Return True if x is a NaN (not a number), and False otherwise.\n",
      "\n",
      "    isqrt(n, /)\n",
      "        Return the integer part of the square root of the input.\n",
      "\n",
      "    lcm(*integers)\n",
      "        Least Common Multiple.\n",
      "\n",
      "    ldexp(x, i, /)\n",
      "        Return x * (2**i).\n",
      "\n",
      "        This is essentially the inverse of frexp().\n",
      "\n",
      "    lgamma(x, /)\n",
      "        Natural logarithm of absolute value of Gamma function at x.\n",
      "\n",
      "    log(...)\n",
      "        log(x, [base=math.e])\n",
      "        Return the logarithm of x to the given base.\n",
      "\n",
      "        If the base is not specified, returns the natural logarithm (base e) of x.\n",
      "\n",
      "    log10(x, /)\n",
      "        Return the base 10 logarithm of x.\n",
      "\n",
      "    log1p(x, /)\n",
      "        Return the natural logarithm of 1+x (base e).\n",
      "\n",
      "        The result is computed in a way which is accurate for x near zero.\n",
      "\n",
      "    log2(x, /)\n",
      "        Return the base 2 logarithm of x.\n",
      "\n",
      "    modf(x, /)\n",
      "        Return the fractional and integer parts of x.\n",
      "\n",
      "        Both results carry the sign of x and are floats.\n",
      "\n",
      "    nextafter(x, y, /, *, steps=None)\n",
      "        Return the floating-point value the given number of steps after x towards y.\n",
      "\n",
      "        If steps is not specified or is None, it defaults to 1.\n",
      "\n",
      "        Raises a TypeError, if x or y is not a double, or if steps is not an integer.\n",
      "        Raises ValueError if steps is negative.\n",
      "\n",
      "    perm(n, k=None, /)\n",
      "        Number of ways to choose k items from n items without repetition and with order.\n",
      "\n",
      "        Evaluates to n! / (n - k)! when k <= n and evaluates\n",
      "        to zero when k > n.\n",
      "\n",
      "        If k is not specified or is None, then k defaults to n\n",
      "        and the function returns n!.\n",
      "\n",
      "        Raises TypeError if either of the arguments are not integers.\n",
      "        Raises ValueError if either of the arguments are negative.\n",
      "\n",
      "    pow(x, y, /)\n",
      "        Return x**y (x to the power of y).\n",
      "\n",
      "    prod(iterable, /, *, start=1)\n",
      "        Calculate the product of all the elements in the input iterable.\n",
      "\n",
      "        The default start value for the product is 1.\n",
      "\n",
      "        When the iterable is empty, return the start value.  This function is\n",
      "        intended specifically for use with numeric values and may reject\n",
      "        non-numeric types.\n",
      "\n",
      "    radians(x, /)\n",
      "        Convert angle x from degrees to radians.\n",
      "\n",
      "    remainder(x, y, /)\n",
      "        Difference between x and the closest integer multiple of y.\n",
      "\n",
      "        Return x - n*y where n*y is the closest integer multiple of y.\n",
      "        In the case where x is exactly halfway between two multiples of\n",
      "        y, the nearest even value of n is used. The result is always exact.\n",
      "\n",
      "    sin(x, /)\n",
      "        Return the sine of x (measured in radians).\n",
      "\n",
      "    sinh(x, /)\n",
      "        Return the hyperbolic sine of x.\n",
      "\n",
      "    sqrt(x, /)\n",
      "        Return the square root of x.\n",
      "\n",
      "    sumprod(p, q, /)\n",
      "        Return the sum of products of values from two iterables p and q.\n",
      "\n",
      "        Roughly equivalent to:\n",
      "\n",
      "            sum(itertools.starmap(operator.mul, zip(p, q, strict=True)))\n",
      "\n",
      "        For float and mixed int/float inputs, the intermediate products\n",
      "        and sums are computed with extended precision.\n",
      "\n",
      "    tan(x, /)\n",
      "        Return the tangent of x (measured in radians).\n",
      "\n",
      "    tanh(x, /)\n",
      "        Return the hyperbolic tangent of x.\n",
      "\n",
      "    trunc(x, /)\n",
      "        Truncates the Real x to the nearest Integral toward 0.\n",
      "\n",
      "        Uses the __trunc__ magic method.\n",
      "\n",
      "    ulp(x, /)\n",
      "        Return the value of the least significant bit of the float x.\n",
      "\n",
      "DATA\n",
      "    e = 2.718281828459045\n",
      "    inf = inf\n",
      "    nan = nan\n",
      "    pi = 3.141592653589793\n",
      "    tau = 6.283185307179586\n",
      "\n",
      "FILE\n",
      "    (built-in)\n",
      "\n",
      "\n"
     ]
    }
   ],
   "source": [
    "help(math)"
   ]
  },
  {
   "cell_type": "code",
   "execution_count": 157,
   "id": "644c1ba6-9e53-44f7-a74b-e9b2a313f7a6",
   "metadata": {},
   "outputs": [],
   "source": [
    "# create a function using module to find out area of circle "
   ]
  },
  {
   "cell_type": "code",
   "execution_count": 160,
   "id": "18edfe06-c2fe-4b6a-a2ef-027c46800867",
   "metadata": {},
   "outputs": [
    {
     "data": {
      "text/plain": [
       "28.274333882308138"
      ]
     },
     "execution_count": 160,
     "metadata": {},
     "output_type": "execute_result"
    }
   ],
   "source": [
    "import math\n",
    "def cal(r):\n",
    "    area = math.pi*r*r\n",
    "    return area\n",
    "cal(3)    "
   ]
  },
  {
   "cell_type": "code",
   "execution_count": 163,
   "id": "fae8d6c9-1d34-4b91-b40e-a825a514f4d7",
   "metadata": {},
   "outputs": [],
   "source": [
    "import time as t"
   ]
  },
  {
   "cell_type": "code",
   "execution_count": 164,
   "id": "8b228039-541f-4170-83cb-abe5816b3486",
   "metadata": {},
   "outputs": [
    {
     "data": {
      "text/plain": [
       "'Thu Jun 12 12:04:46 2025'"
      ]
     },
     "execution_count": 164,
     "metadata": {},
     "output_type": "execute_result"
    }
   ],
   "source": [
    "t.asctime()"
   ]
  },
  {
   "cell_type": "code",
   "execution_count": 165,
   "id": "3886d8cd-ddb4-4127-b892-76e4c381534a",
   "metadata": {},
   "outputs": [
    {
     "name": "stdout",
     "output_type": "stream",
     "text": [
      "wake up\n",
      "zzzz\n"
     ]
    }
   ],
   "source": [
    "print(\"wake up\")\n",
    "t.sleep(5)\n",
    "print(\"zzzz\")"
   ]
  },
  {
   "cell_type": "code",
   "execution_count": 166,
   "id": "cc054e49-1535-4f25-9b76-f145b97f29e5",
   "metadata": {},
   "outputs": [
    {
     "data": {
      "text/plain": [
       "'C:\\\\Users\\\\Pandurang Balip'"
      ]
     },
     "execution_count": 166,
     "metadata": {},
     "output_type": "execute_result"
    }
   ],
   "source": [
    "pwd\n"
   ]
  },
  {
   "cell_type": "code",
   "execution_count": null,
   "id": "50dd5d6a-9738-427a-b296-087f83916f93",
   "metadata": {},
   "outputs": [],
   "source": []
  }
 ],
 "metadata": {
  "kernelspec": {
   "display_name": "Python 3 (ipykernel)",
   "language": "python",
   "name": "python3"
  },
  "language_info": {
   "codemirror_mode": {
    "name": "ipython",
    "version": 3
   },
   "file_extension": ".py",
   "mimetype": "text/x-python",
   "name": "python",
   "nbconvert_exporter": "python",
   "pygments_lexer": "ipython3",
   "version": "3.12.7"
  }
 },
 "nbformat": 4,
 "nbformat_minor": 5
}
