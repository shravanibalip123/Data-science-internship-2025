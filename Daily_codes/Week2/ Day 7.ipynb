{
 "cells": [
  {
   "cell_type": "code",
   "execution_count": 1,
   "id": "28e23675-481f-45f4-b559-2a1979d1a1de",
   "metadata": {},
   "outputs": [],
   "source": [
    "sent = \"hello\""
   ]
  },
  {
   "cell_type": "code",
   "execution_count": 2,
   "id": "e00014ef-6815-48bd-a9f9-eb826205d6ff",
   "metadata": {},
   "outputs": [
    {
     "data": {
      "text/plain": [
       "'hello'"
      ]
     },
     "execution_count": 2,
     "metadata": {},
     "output_type": "execute_result"
    }
   ],
   "source": [
    "sent"
   ]
  },
  {
   "cell_type": "code",
   "execution_count": 3,
   "id": "05aa3218-2d30-4a7f-8270-5bb5c9fcec71",
   "metadata": {},
   "outputs": [],
   "source": [
    "sent = 'hello'"
   ]
  },
  {
   "cell_type": "code",
   "execution_count": 4,
   "id": "1a6aa6d0-eb1b-43fd-8e86-a53844bcc0c4",
   "metadata": {},
   "outputs": [
    {
     "data": {
      "text/plain": [
       "'hello'"
      ]
     },
     "execution_count": 4,
     "metadata": {},
     "output_type": "execute_result"
    }
   ],
   "source": [
    "sent"
   ]
  },
  {
   "cell_type": "code",
   "execution_count": 8,
   "id": "ca7b73e3-e046-4768-b608-0826cee601c7",
   "metadata": {},
   "outputs": [],
   "source": [
    "sent = \"\"\"hello \n",
    "python\"\"\""
   ]
  },
  {
   "cell_type": "code",
   "execution_count": 9,
   "id": "6e9f9161-4735-4a3c-ab7d-fad71b8d7d26",
   "metadata": {},
   "outputs": [
    {
     "name": "stdout",
     "output_type": "stream",
     "text": [
      "hello \n",
      "python\n"
     ]
    }
   ],
   "source": [
    "print(sent)"
   ]
  },
  {
   "cell_type": "code",
   "execution_count": 10,
   "id": "dd24357d-8af0-4d98-8b13-69a257b19113",
   "metadata": {},
   "outputs": [
    {
     "data": {
      "text/plain": [
       "'h'"
      ]
     },
     "execution_count": 10,
     "metadata": {},
     "output_type": "execute_result"
    }
   ],
   "source": [
    "sent[0]"
   ]
  },
  {
   "cell_type": "code",
   "execution_count": 11,
   "id": "0d285c6a-b598-43b7-8d1b-8971046932da",
   "metadata": {},
   "outputs": [],
   "source": [
    "# take user input => string\n",
    "# iterate over it and print => index ->character"
   ]
  },
  {
   "cell_type": "code",
   "execution_count": 22,
   "id": "cd974a81-8c1b-408e-b43f-ad871b32ec18",
   "metadata": {},
   "outputs": [
    {
     "name": "stdin",
     "output_type": "stream",
     "text": [
      "enter the string shravani\n"
     ]
    },
    {
     "name": "stdout",
     "output_type": "stream",
     "text": [
      "0 => s\n",
      "1 => h\n",
      "2 => r\n",
      "3 => a\n",
      "4 => v\n",
      "5 => a\n",
      "6 => n\n",
      "7 => i\n"
     ]
    }
   ],
   "source": [
    "s = input(\"enter the string\")\n",
    "n=0\n",
    "for i in s:\n",
    "    print(f\"{n} => {i}\")\n",
    "    n+=1"
   ]
  },
  {
   "cell_type": "code",
   "execution_count": 24,
   "id": "48417333-2fc9-4765-aaa2-100b68d5eb30",
   "metadata": {},
   "outputs": [
    {
     "data": {
      "text/plain": [
       "'shravani'"
      ]
     },
     "execution_count": 24,
     "metadata": {},
     "output_type": "execute_result"
    }
   ],
   "source": [
    "s"
   ]
  },
  {
   "cell_type": "code",
   "execution_count": 25,
   "id": "0bb09374-f24a-4bba-8452-9d02b11de45b",
   "metadata": {},
   "outputs": [
    {
     "data": {
      "text/plain": [
       "'shr'"
      ]
     },
     "execution_count": 25,
     "metadata": {},
     "output_type": "execute_result"
    }
   ],
   "source": [
    "s[0:3]"
   ]
  },
  {
   "cell_type": "code",
   "execution_count": 26,
   "id": "526b61c2-3f8e-4e44-9f16-1fc44a9273ba",
   "metadata": {},
   "outputs": [
    {
     "data": {
      "text/plain": [
       "'srvn'"
      ]
     },
     "execution_count": 26,
     "metadata": {},
     "output_type": "execute_result"
    }
   ],
   "source": [
    "s[0::2]"
   ]
  },
  {
   "cell_type": "code",
   "execution_count": 27,
   "id": "d889935a-2a97-42ea-9386-19a6044c6e07",
   "metadata": {},
   "outputs": [
    {
     "data": {
      "text/plain": [
       "'srvn'"
      ]
     },
     "execution_count": 27,
     "metadata": {},
     "output_type": "execute_result"
    }
   ],
   "source": [
    "s[::2]"
   ]
  },
  {
   "cell_type": "code",
   "execution_count": 28,
   "id": "7bf76a72-393c-4456-9df3-2c2f7dd151dd",
   "metadata": {},
   "outputs": [],
   "source": [
    "# user input => string\n",
    "# split it into individual characters\n",
    "# and put it into an empty list"
   ]
  },
  {
   "cell_type": "code",
   "execution_count": 29,
   "id": "e3ad730e-05f7-40ed-92f1-551f80e59b2c",
   "metadata": {},
   "outputs": [
    {
     "name": "stdin",
     "output_type": "stream",
     "text": [
      "enter the string shravani\n"
     ]
    },
    {
     "name": "stdout",
     "output_type": "stream",
     "text": [
      "['s', 'h', 'r', 'a', 'v', 'a', 'n', 'i']\n"
     ]
    }
   ],
   "source": [
    "s = input(\"enter the string\")\n",
    "a =[]\n",
    "for i in s:\n",
    "    a.append(i)\n",
    "print(a)    \n"
   ]
  },
  {
   "cell_type": "code",
   "execution_count": 3,
   "id": "1e6fcf02-bb58-4845-8d00-1b013071576f",
   "metadata": {},
   "outputs": [
    {
     "name": "stdin",
     "output_type": "stream",
     "text": [
      "Enter the string shravai\n",
      "enter the any character from string n\n",
      "Enter thr another character from string s\n"
     ]
    },
    {
     "name": "stdout",
     "output_type": "stream",
     "text": [
      "s character is present\n",
      "n is not present\n"
     ]
    }
   ],
   "source": [
    "# use a loop and if  else to check id  specific character are present in a string \n",
    "# get outtput for both if they are present or not\n",
    "# take 2 characters to check(user input)\n",
    "\n",
    "s = input(\"Enter the string\")\n",
    "a = input(\"enter the any character from string\")\n",
    "b = input(\"Enter thr another character from string\")\n",
    "found_char1 = False\n",
    "found_char2 = False\n",
    "for i in s:\n",
    "    if i== a:\n",
    "        print(f\"{a} character is present\")\n",
    "        found_char1 = True\n",
    "    elif i==b:\n",
    "        print(f\"{b} character is present\")\n",
    "        found_char2 = True\n",
    "if found_char1 ==False:\n",
    "    print(f\"{a} is not present\")\n",
    "if found_char2 == False:\n",
    "        print(f\"{b} is not present\")\n",
    "        \n",
    "         "
   ]
  },
  {
   "cell_type": "code",
   "execution_count": 4,
   "id": "da7f20cc-c65c-4c8a-b318-e2d252ad5f55",
   "metadata": {},
   "outputs": [],
   "source": [
    "# string concat"
   ]
  },
  {
   "cell_type": "code",
   "execution_count": 5,
   "id": "9e5ddb64-dbe2-4bd3-88c5-a11f7367b7a8",
   "metadata": {},
   "outputs": [
    {
     "data": {
      "text/plain": [
       "'pk  bgu'"
      ]
     },
     "execution_count": 5,
     "metadata": {},
     "output_type": "execute_result"
    }
   ],
   "source": [
    "\"pk \" + \" bgu\""
   ]
  },
  {
   "cell_type": "code",
   "execution_count": 6,
   "id": "aa2d7c8b-40e9-4089-ac56-0146e6ca7a3c",
   "metadata": {},
   "outputs": [],
   "source": [
    "sent = \"everthing\"\n"
   ]
  },
  {
   "cell_type": "code",
   "execution_count": 9,
   "id": "45beb05c-33f9-4afc-bea4-d33bd7248e7d",
   "metadata": {},
   "outputs": [
    {
     "data": {
      "text/plain": [
       "3"
      ]
     },
     "execution_count": 9,
     "metadata": {},
     "output_type": "execute_result"
    }
   ],
   "source": [
    "sent. find('r')"
   ]
  },
  {
   "cell_type": "code",
   "execution_count": 10,
   "id": "85da96eb-f09d-4627-adb6-191566ee9bfc",
   "metadata": {},
   "outputs": [
    {
     "data": {
      "text/plain": [
       "'ewerthing'"
      ]
     },
     "execution_count": 10,
     "metadata": {},
     "output_type": "execute_result"
    }
   ],
   "source": [
    "sent.replace('v','w')\n"
   ]
  },
  {
   "cell_type": "code",
   "execution_count": 13,
   "id": "7ff52e05-c846-4e85-ae9b-a4178af4e447",
   "metadata": {},
   "outputs": [],
   "source": [
    "sent = \"python,c++,Dart,kotlin\""
   ]
  },
  {
   "cell_type": "code",
   "execution_count": 14,
   "id": "c27aa725-4147-4f16-934b-1a8594530957",
   "metadata": {},
   "outputs": [
    {
     "data": {
      "text/plain": [
       "['python', 'c++', 'Dart', 'kotlin']"
      ]
     },
     "execution_count": 14,
     "metadata": {},
     "output_type": "execute_result"
    }
   ],
   "source": [
    "sent.split(',')"
   ]
  },
  {
   "cell_type": "code",
   "execution_count": 15,
   "id": "a7f627e4-8391-4b46-ba57-46e15cf260d0",
   "metadata": {},
   "outputs": [
    {
     "data": {
      "text/plain": [
       "list['python,c++,Dart,kotlin']"
      ]
     },
     "execution_count": 15,
     "metadata": {},
     "output_type": "execute_result"
    }
   ],
   "source": [
    "list[sent]"
   ]
  },
  {
   "cell_type": "code",
   "execution_count": 16,
   "id": "84dc77cf-d2bb-4cbe-a92d-af3bba0209a1",
   "metadata": {},
   "outputs": [],
   "source": [
    "l = ['1','2','3']"
   ]
  },
  {
   "cell_type": "code",
   "execution_count": 17,
   "id": "7183e7dc-e75d-4f80-89b2-ad758aad798f",
   "metadata": {},
   "outputs": [
    {
     "data": {
      "text/plain": [
       "'1 2 3'"
      ]
     },
     "execution_count": 17,
     "metadata": {},
     "output_type": "execute_result"
    }
   ],
   "source": [
    "' '.join(l)"
   ]
  },
  {
   "cell_type": "code",
   "execution_count": 18,
   "id": "52311052-1997-4566-8016-a26aa1c5bdf3",
   "metadata": {},
   "outputs": [
    {
     "data": {
      "text/plain": [
       "'1-2-3'"
      ]
     },
     "execution_count": 18,
     "metadata": {},
     "output_type": "execute_result"
    }
   ],
   "source": [
    "'-'.join(l)"
   ]
  },
  {
   "cell_type": "code",
   "execution_count": 19,
   "id": "e9c92676-b5ab-4b19-8f3f-f86e471d89e5",
   "metadata": {},
   "outputs": [],
   "source": [
    "# escape sequence"
   ]
  },
  {
   "cell_type": "code",
   "execution_count": 24,
   "id": "419b32b0-e208-4ffb-a1c2-79149e09d7ad",
   "metadata": {},
   "outputs": [
    {
     "name": "stdout",
     "output_type": "stream",
     "text": [
      "this is first line\n",
      " this is second\n"
     ]
    }
   ],
   "source": [
    "print(\"this is first line\\n this is second\")"
   ]
  },
  {
   "cell_type": "code",
   "execution_count": 25,
   "id": "cb9a0d22-65eb-4b52-93f4-91cb79d909e4",
   "metadata": {},
   "outputs": [
    {
     "name": "stdout",
     "output_type": "stream",
     "text": [
      "this is first line\"this is second\n"
     ]
    }
   ],
   "source": [
    "print(\"this is first line\\\"this is second\")"
   ]
  },
  {
   "cell_type": "code",
   "execution_count": 26,
   "id": "7f66fcb9-d9fd-4539-af2c-4bebd8b702d7",
   "metadata": {},
   "outputs": [
    {
     "name": "stdout",
     "output_type": "stream",
     "text": [
      "this is first line\\ this is second\n"
     ]
    }
   ],
   "source": [
    "print(\"this is first line\\\\ this is second\")"
   ]
  },
  {
   "cell_type": "code",
   "execution_count": 27,
   "id": "790aa243-92ba-4079-87af-5f8e93829534",
   "metadata": {},
   "outputs": [],
   "source": [
    "# Format"
   ]
  },
  {
   "cell_type": "code",
   "execution_count": 3,
   "id": "d95dbe95-fe9c-4b26-9ff5-10d4c4886d3f",
   "metadata": {},
   "outputs": [],
   "source": [
    "name = \"shravani\"\n",
    "marks = 95"
   ]
  },
  {
   "cell_type": "code",
   "execution_count": 4,
   "id": "b2aacadf-fc84-46e6-85c7-090973bb085b",
   "metadata": {},
   "outputs": [
    {
     "data": {
      "text/plain": [
       "'my name is shravani and marks are95'"
      ]
     },
     "execution_count": 4,
     "metadata": {},
     "output_type": "execute_result"
    }
   ],
   "source": [
    "\"my name is {} and marks are{}\".format(name,marks)"
   ]
  },
  {
   "cell_type": "markdown",
   "id": "7667d416-7ec5-4f79-821d-c9157350f3fd",
   "metadata": {},
   "source": [
    "# 1 Vowel Counter"
   ]
  },
  {
   "cell_type": "markdown",
   "id": "bf5d8554-3f29-46a8-80b5-747076beac39",
   "metadata": {},
   "source": [
    "# 1 Vowel Counter"
   ]
  },
  {
   "cell_type": "code",
   "execution_count": 7,
   "id": "1f79e28a-9551-4a12-9e7e-673c48d9e240",
   "metadata": {},
   "outputs": [
    {
     "name": "stdin",
     "output_type": "stream",
     "text": [
      "Enter any text:  shravani\n"
     ]
    },
    {
     "name": "stdout",
     "output_type": "stream",
     "text": [
      "Total vowels: 3\n",
      "Vowel counts: {'a': 2, 'e': 0, 'i': 1, 'o': 0, 'u': 0}\n"
     ]
    }
   ],
   "source": [
    "text = input(\"Enter any text: \")\n",
    "\n",
    "counts = {'a': 0, 'e': 0, 'i': 0, 'o': 0, 'u': 0}\n",
    "total = 0\n",
    "\n",
    "for ch in text.lower():\n",
    "    if ch == 'a':\n",
    "        counts['a'] += 1\n",
    "        total += 1\n",
    "    elif ch == 'e':\n",
    "        counts['e'] += 1\n",
    "        total += 1\n",
    "    elif ch == 'i':\n",
    "        counts['i'] += 1\n",
    "        total += 1\n",
    "    elif ch == 'o':\n",
    "        counts['o'] += 1\n",
    "        total += 1\n",
    "    elif ch == 'u':\n",
    "        counts['u'] += 1\n",
    "        total += 1\n",
    "\n",
    "print(\"Total vowels:\", total)\n",
    "print(\"Vowel counts:\", counts)\n"
   ]
  },
  {
   "cell_type": "markdown",
   "id": "d13fbf98-0d25-433a-9ee3-a3ae0640a042",
   "metadata": {},
   "source": [
    "### 1 Palindrome Checker With LIst:\n"
   ]
  },
  {
   "cell_type": "code",
   "execution_count": 9,
   "id": "408f5448-eaab-4d62-8268-3321cdd1599c",
   "metadata": {},
   "outputs": [
    {
     "name": "stdin",
     "output_type": "stream",
     "text": [
      "Enter a string:  dfgrrfy\n"
     ]
    },
    {
     "name": "stdout",
     "output_type": "stream",
     "text": [
      "It's not a palindrome.\n"
     ]
    }
   ],
   "source": [
    "def check_palindrome(text):\n",
    "    reversed_list = []\n",
    "\n",
    "    # Loop forward through each character and insert at the beginning of the list\n",
    "    for ch in text:\n",
    "        reversed_list.insert(0, ch)\n",
    "\n",
    "    # Join the reversed list into a string\n",
    "    reversed_text = ''.join(reversed_list)\n",
    "\n",
    "    # Compare original and reversed strings\n",
    "    if text == reversed_text:\n",
    "        print(\"It's a palindrome!\")\n",
    "    else:\n",
    "        print(\"It's not a palindrome.\")\n",
    "\n",
    "# Example usage\n",
    "user_input = input(\"Enter a string: \")\n",
    "check_palindrome(user_input)\n"
   ]
  },
  {
   "cell_type": "markdown",
   "id": "b14f7380-742a-4664-aca2-46cb80977f55",
   "metadata": {},
   "source": [
    "### 3.Character Frequency counter"
   ]
  },
  {
   "cell_type": "code",
   "execution_count": 10,
   "id": "970b0e4a-8cde-435a-a22f-ccf86e74f009",
   "metadata": {},
   "outputs": [
    {
     "name": "stdin",
     "output_type": "stream",
     "text": [
      "Enter a string:  shravani\n"
     ]
    },
    {
     "name": "stdout",
     "output_type": "stream",
     "text": [
      "Character Frequencies: {'s': 1, 'h': 1, 'r': 1, 'a': 2, 'v': 1, 'n': 1, 'i': 1}\n"
     ]
    }
   ],
   "source": [
    "def char_frequency(text):\n",
    "    freq = {}  # Empty dictionary to store character frequencies\n",
    "\n",
    "    for ch in text:\n",
    "        if ch in freq:\n",
    "            freq[ch] += 1  # If character already in dictionary, increment count\n",
    "        else:\n",
    "            freq[ch] = 1   # If character not in dictionary, add with count 1\n",
    "\n",
    "    print(\"Character Frequencies:\", freq)\n",
    "\n",
    "# Example usage\n",
    "user_input = input(\"Enter a string: \")\n",
    "char_frequency(user_input)\n"
   ]
  },
  {
   "cell_type": "markdown",
   "id": "b799e682-4f85-4a26-b5ce-409287e5af59",
   "metadata": {},
   "source": [
    "### 4. Word Length Classification"
   ]
  },
  {
   "cell_type": "code",
   "execution_count": 3,
   "id": "fe067fe1-124b-4eec-91d5-6636dcf53c94",
   "metadata": {},
   "outputs": [
    {
     "name": "stdin",
     "output_type": "stream",
     "text": [
      " Enter the sentence vaJY JHJSHAKLNSLisc awon;kkidpdisiod ohei ouwodi\n"
     ]
    },
    {
     "name": "stdout",
     "output_type": "stream",
     "text": [
      "short => ['vaJY', 'ohei']\n",
      " medium =>['ouwodi']\n",
      " long => ['JHJSHAKLNSLisc', 'awon;kkidpdisiod']\n"
     ]
    }
   ],
   "source": [
    "s = input(\" Enter the sentence\")\n",
    "ch = s.split()\n",
    "short=[]\n",
    "medium=[]\n",
    "long=[]\n",
    "for i in ch:\n",
    "    \n",
    "    if  len(i)<5:\n",
    "        short.append(i)\n",
    "         \n",
    "    elif 5<len(i) and len(i)<=8:\n",
    "        medium.append(i)\n",
    "        \n",
    "    elif len(i)>8:\n",
    "        long.append(i)\n",
    "         \n",
    "print(f\"short => {short}\\n medium =>{medium}\\n long => {long}\")\n",
    "\n",
    "        "
   ]
  },
  {
   "cell_type": "markdown",
   "id": "3a3524ad-200e-4105-83b7-c94ca926520c",
   "metadata": {},
   "source": [
    "### 5. Substring with spesific start/end"
   ]
  },
  {
   "cell_type": "code",
   "execution_count": 4,
   "id": "0e50ae75-95d1-4e58-828b-8e3d9724a44e",
   "metadata": {},
   "outputs": [
    {
     "name": "stdout",
     "output_type": "stream",
     "text": [
      "Matching strings: ['python', 'pythonthon', 'pythonthon', 'pyendthon']\n"
     ]
    }
   ],
   "source": [
    "def find_matching_strings(strings_list, prefix, suffix):\n",
    "    matching_strings = []\n",
    "\n",
    "    for s in strings_list:\n",
    "        if s.startswith(prefix) and s.endswith(suffix):\n",
    "            matching_strings.append(s)\n",
    "\n",
    "    print(\"Matching strings:\", matching_strings)\n",
    "\n",
    " \n",
    "words = [\"python\", \"pythonic\", \"pythonthon\", \"pyrock\", \"pythonthon\", \"pyon\", \"pyendthon\"]\n",
    "find_matching_strings(words, \"py\", \"thon\")\n"
   ]
  },
  {
   "cell_type": "markdown",
   "id": "b21a3b3b-eb50-4b5c-9aab-d4561ecc2d57",
   "metadata": {},
   "source": [
    "### 6. Unique word Extracter:"
   ]
  },
  {
   "cell_type": "code",
   "execution_count": 7,
   "id": "9cd7bf19-d3a1-4992-936a-d8c31df15518",
   "metadata": {},
   "outputs": [
    {
     "name": "stdin",
     "output_type": "stream",
     "text": [
      "Enter a paragraph:  khawgd/' oeey;/ ewlf. keik;j;oe\n"
     ]
    },
    {
     "name": "stdout",
     "output_type": "stream",
     "text": [
      "Unique words: ['ewlf', 'keikjoe', 'khawgd/', 'oeey/']\n"
     ]
    }
   ],
   "source": [
    " def extract_unique_words(paragraph):\n",
    "    paragraph = paragraph.lower()   \n",
    "    for ch in \".!,?;:'\\\"()-\":\n",
    "        paragraph = paragraph.replace(ch, \"\")\n",
    "\n",
    "    words = paragraph.split()   \n",
    "    unique_set = []    \n",
    "    for word in words:\n",
    "        unique_set.append(word)\n",
    "\n",
    "    sorted_list = sorted(list(unique_set))   \n",
    "    print(\"Unique words:\", sorted_list)\n",
    "\n",
    " \n",
    "text = input(\"Enter a paragraph: \")\n",
    "extract_unique_words(text)\n",
    "\n",
    "    "
   ]
  },
  {
   "cell_type": "markdown",
   "id": "4e080301-b788-4e68-8b08-a709ee1f6679",
   "metadata": {},
   "source": [
    "### 7. Even/odd indexed character separator"
   ]
  },
  {
   "cell_type": "code",
   "execution_count": 19,
   "id": "c0f96d5f-3186-472e-a7df-90d790dced90",
   "metadata": {},
   "outputs": [
    {
     "name": "stdin",
     "output_type": "stream",
     "text": [
      "enter the string shravani\n"
     ]
    },
    {
     "name": "stdout",
     "output_type": "stream",
     "text": [
      "Characters at even indices ['h', 'a', 'a', 'i']\n",
      "Characters at odd indices ['s', 'r', 'v', 'n']\n"
     ]
    }
   ],
   "source": [
    "def odd_even(s):\n",
    "    odd=[]\n",
    "    even=[]\n",
    "    for ind,val in enumerate(s):\n",
    "        if ind%2==0:\n",
    "            odd.append(val)\n",
    "        else:\n",
    "            even.append(val)\n",
    "    print(f\"Characters at even indices {even}\")       \n",
    "    print(f\"Characters at odd indices {odd}\")       \n",
    "            \n",
    "string = input(\"enter the string\")\n",
    "odd_even(string)"
   ]
  },
  {
   "cell_type": "markdown",
   "id": "4eda5852-bd90-493d-8362-724eee904852",
   "metadata": {},
   "source": [
    "### 8. String Anagram Checker: "
   ]
  },
  {
   "cell_type": "code",
   "execution_count": 28,
   "id": "35381dbd-2b60-40ea-a903-de2c8999bc2c",
   "metadata": {},
   "outputs": [
    {
     "name": "stdin",
     "output_type": "stream",
     "text": [
      "Enter the string 1 payal\n",
      "Enter the string 2 lapay\n"
     ]
    },
    {
     "name": "stdout",
     "output_type": "stream",
     "text": [
      "sorted str1['a', 'a', 'l', 'p', 'y']\n",
      "sorted str2['a', 'a', 'l', 'p', 'y']\n",
      "two strings are anagram of each other\n"
     ]
    }
   ],
   "source": [
    " def string_checker(s1,s2):\n",
    "    s1.split()\n",
    "    s2.split()\n",
    "    new1=sorted(s1)\n",
    "    new2=sorted(s2)\n",
    "    print(f\"sorted str1{new1}\")\n",
    "    print(f\"sorted str2{new2}\")\n",
    "    if new1 ==new2:\n",
    "        print(\"two strings are anagram of each other\")\n",
    "    else:\n",
    "        print(\"sorted lists are not identical\")\n",
    "str1 = input(\"Enter the string 1\")\n",
    "str2 = input(\"Enter the string 2\")\n",
    "string_checker(str1,str2)\n",
    "    "
   ]
  },
  {
   "cell_type": "markdown",
   "id": "ecf1ca2d-126a-4348-a3df-ff840d9da5fb",
   "metadata": {},
   "source": [
    "### 9. Missing Character Finder (Alphabet Check)"
   ]
  },
  {
   "cell_type": "code",
   "execution_count": 32,
   "id": "8a1f83c8-20ca-4230-9751-1e13a6f6c099",
   "metadata": {},
   "outputs": [
    {
     "name": "stdin",
     "output_type": "stream",
     "text": [
      "Enter the string shravani\n"
     ]
    },
    {
     "name": "stdout",
     "output_type": "stream",
     "text": [
      "Missing letters: ['b', 'c', 'd', 'e', 'f', 'g', 'j', 'k', 'l', 'm', 'o', 'p', 'q', 't', 'u', 'w', 'x', 'y', 'z']\n"
     ]
    }
   ],
   "source": [
    "def mising_alpha(s):\n",
    "    set1=set(\"abcdefghijklmnopqrstuvwxyz\")\n",
    "    s = s.lower()\n",
    "    for i in s:\n",
    "        if i in set1:\n",
    "            set1.remove(i)\n",
    "        \n",
    "    print(\"Missing letters:\",sorted(list(set1)))\n",
    "\n",
    "string = input(\"Enter the string\")\n",
    "mising_alpha(string)"
   ]
  },
  {
   "cell_type": "markdown",
   "id": "8c308d3b-e1a4-49d7-936c-819b96d6aa34",
   "metadata": {},
   "source": [
    "### 10. custom string reversal"
   ]
  },
  {
   "cell_type": "code",
   "execution_count": null,
   "id": "401eb59f-e1df-4d4a-926c-042c65460130",
   "metadata": {},
   "outputs": [],
   "source": [
    " def reverse_sentence(sentence):\n",
    "    words = []  \n",
    "\n",
    "    for word in sentence.split():\n",
    "        words.append(word)\n",
    "\n",
    "    reversed_words = []   \n",
    "    for word in reversed(words):\n",
    "        reversed_words.append(word)\n",
    "\n",
    "    result = \" \".join(reversed_words)\n",
    "    print(\"Reversed sentence:\", result)\n",
    "\n",
    " \n",
    "user_input = input(\"Enter a sentence: \")\n",
    "reverse_sentence(user_input)\n"
   ]
  }
 ],
 "metadata": {
  "kernelspec": {
   "display_name": "Python 3 (ipykernel)",
   "language": "python",
   "name": "python3"
  },
  "language_info": {
   "codemirror_mode": {
    "name": "ipython",
    "version": 3
   },
   "file_extension": ".py",
   "mimetype": "text/x-python",
   "name": "python",
   "nbconvert_exporter": "python",
   "pygments_lexer": "ipython3",
   "version": "3.12.7"
  }
 },
 "nbformat": 4,
 "nbformat_minor": 5
}
