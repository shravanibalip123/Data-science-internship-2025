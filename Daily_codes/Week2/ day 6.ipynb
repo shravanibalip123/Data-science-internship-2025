{
 "cells": [
  {
   "cell_type": "code",
   "execution_count": 1,
   "id": "4d721bd1-7d73-4df0-ae96-3500c19e41ae",
   "metadata": {},
   "outputs": [],
   "source": [
    "t = (23,43,67,12,34) # Immutable,ordered,heterogeneous"
   ]
  },
  {
   "cell_type": "code",
   "execution_count": 2,
   "id": "2f1a3120-3ba0-463a-9936-66700f89a2b4",
   "metadata": {},
   "outputs": [
    {
     "data": {
      "text/plain": [
       "(23, 43, 67, 12, 34)"
      ]
     },
     "execution_count": 2,
     "metadata": {},
     "output_type": "execute_result"
    }
   ],
   "source": [
    "t"
   ]
  },
  {
   "cell_type": "code",
   "execution_count": 3,
   "id": "3ce32439-040b-407f-bfce-c8f4b41b8bd1",
   "metadata": {},
   "outputs": [
    {
     "data": {
      "text/plain": [
       "tuple"
      ]
     },
     "execution_count": 3,
     "metadata": {},
     "output_type": "execute_result"
    }
   ],
   "source": [
    "type(t)"
   ]
  },
  {
   "cell_type": "code",
   "execution_count": 4,
   "id": "ecfdf6bd-0efe-4167-99aa-ac579f395fd5",
   "metadata": {},
   "outputs": [],
   "source": [
    "t1 = (12,23.44,\"pune\",12)"
   ]
  },
  {
   "cell_type": "code",
   "execution_count": 5,
   "id": "8285a0fd-3a61-4526-93de-a16fbbf15949",
   "metadata": {},
   "outputs": [
    {
     "data": {
      "text/plain": [
       "(12, 23.44, 'pune', 12)"
      ]
     },
     "execution_count": 5,
     "metadata": {},
     "output_type": "execute_result"
    }
   ],
   "source": [
    "t1"
   ]
  },
  {
   "cell_type": "code",
   "execution_count": 6,
   "id": "e1c224d1-46c0-4272-878e-10f318d74f96",
   "metadata": {},
   "outputs": [],
   "source": [
    "t1 = (12,34.56,\"pune\",12)"
   ]
  },
  {
   "cell_type": "code",
   "execution_count": 7,
   "id": "e42736a0-2446-4a67-bf35-519e0fac2bd2",
   "metadata": {},
   "outputs": [
    {
     "data": {
      "text/plain": [
       "(12, 34.56, 'pune', 12)"
      ]
     },
     "execution_count": 7,
     "metadata": {},
     "output_type": "execute_result"
    }
   ],
   "source": [
    "t1"
   ]
  },
  {
   "cell_type": "code",
   "execution_count": 8,
   "id": "373ed6bc-be94-4bc6-b45c-07e5497a3ea7",
   "metadata": {},
   "outputs": [
    {
     "data": {
      "text/plain": [
       "34.56"
      ]
     },
     "execution_count": 8,
     "metadata": {},
     "output_type": "execute_result"
    }
   ],
   "source": [
    "t1[1]"
   ]
  },
  {
   "cell_type": "code",
   "execution_count": 9,
   "id": "199264eb-d780-49d0-9af1-44b26aedc455",
   "metadata": {},
   "outputs": [
    {
     "ename": "TypeError",
     "evalue": "'tuple' object does not support item assignment",
     "output_type": "error",
     "traceback": [
      "\u001b[1;31m---------------------------------------------------------------------------\u001b[0m",
      "\u001b[1;31mTypeError\u001b[0m                                 Traceback (most recent call last)",
      "Cell \u001b[1;32mIn[9], line 1\u001b[0m\n\u001b[1;32m----> 1\u001b[0m t1[\u001b[38;5;241m3\u001b[39m]\u001b[38;5;241m=\u001b[39m\u001b[38;5;241m77\u001b[39m\n",
      "\u001b[1;31mTypeError\u001b[0m: 'tuple' object does not support item assignment"
     ]
    }
   ],
   "source": [
    "t1[3]=77"
   ]
  },
  {
   "cell_type": "code",
   "execution_count": 10,
   "id": "13c9fcb0-af8f-45c4-bae5-e094dad572a0",
   "metadata": {},
   "outputs": [],
   "source": [
    "t1 = 98,56,43"
   ]
  },
  {
   "cell_type": "code",
   "execution_count": 11,
   "id": "1b2cf6ef-159d-48a0-8d2d-648b225b8b8b",
   "metadata": {},
   "outputs": [
    {
     "data": {
      "text/plain": [
       "(98, 56, 43)"
      ]
     },
     "execution_count": 11,
     "metadata": {},
     "output_type": "execute_result"
    }
   ],
   "source": [
    "t1"
   ]
  },
  {
   "cell_type": "code",
   "execution_count": 15,
   "id": "262c0dcb-0b97-4690-8591-de6e5d971694",
   "metadata": {},
   "outputs": [
    {
     "data": {
      "text/plain": [
       "(36,)"
      ]
     },
     "execution_count": 15,
     "metadata": {},
     "output_type": "execute_result"
    }
   ],
   "source": [
    "t1 = (36, )\n",
    "t1"
   ]
  },
  {
   "cell_type": "code",
   "execution_count": 16,
   "id": "a6d4b837-cd66-4050-9b75-2b54ea047b43",
   "metadata": {},
   "outputs": [
    {
     "data": {
      "text/plain": [
       "tuple"
      ]
     },
     "execution_count": 16,
     "metadata": {},
     "output_type": "execute_result"
    }
   ],
   "source": [
    "type(t1)"
   ]
  },
  {
   "cell_type": "code",
   "execution_count": 17,
   "id": "53565aa7-702b-415f-b546-cd6602205583",
   "metadata": {},
   "outputs": [],
   "source": [
    "t1 = ()"
   ]
  },
  {
   "cell_type": "code",
   "execution_count": 18,
   "id": "38cc4d8a-269a-4e41-9d0b-975d3667c468",
   "metadata": {},
   "outputs": [
    {
     "data": {
      "text/plain": [
       "()"
      ]
     },
     "execution_count": 18,
     "metadata": {},
     "output_type": "execute_result"
    }
   ],
   "source": [
    "t1"
   ]
  },
  {
   "cell_type": "code",
   "execution_count": 19,
   "id": "8fe9c947-b9c9-4f53-b70d-c543bc9b9051",
   "metadata": {},
   "outputs": [],
   "source": [
    "t = (45, 67, 34, 90, 12)"
   ]
  },
  {
   "cell_type": "code",
   "execution_count": 20,
   "id": "bc676487-2dc4-4042-85ff-6b660fc0b1aa",
   "metadata": {},
   "outputs": [
    {
     "data": {
      "text/plain": [
       "(67, 34, 90)"
      ]
     },
     "execution_count": 20,
     "metadata": {},
     "output_type": "execute_result"
    }
   ],
   "source": [
    "t[1:4]"
   ]
  },
  {
   "cell_type": "code",
   "execution_count": 21,
   "id": "c7b8c837-bb0a-4d25-b7fc-0e7c3c4b40b2",
   "metadata": {},
   "outputs": [],
   "source": [
    "t1 = (12,45,[56,89],10)"
   ]
  },
  {
   "cell_type": "code",
   "execution_count": 22,
   "id": "d0c879c0-79a6-41a8-9908-ad40a56b1036",
   "metadata": {},
   "outputs": [
    {
     "data": {
      "text/plain": [
       "(12, 45, [56, 89], 10)"
      ]
     },
     "execution_count": 22,
     "metadata": {},
     "output_type": "execute_result"
    }
   ],
   "source": [
    "t1"
   ]
  },
  {
   "cell_type": "code",
   "execution_count": 27,
   "id": "8d52d644-1ea5-4ffa-b4f4-4e355f7199bb",
   "metadata": {},
   "outputs": [],
   "source": [
    "t1[2][1]=90"
   ]
  },
  {
   "cell_type": "code",
   "execution_count": 28,
   "id": "5af62b86-60f0-4c9d-ac68-e95627919d67",
   "metadata": {},
   "outputs": [
    {
     "data": {
      "text/plain": [
       "(12, 45, [56, 90], 10)"
      ]
     },
     "execution_count": 28,
     "metadata": {},
     "output_type": "execute_result"
    }
   ],
   "source": [
    "t1"
   ]
  },
  {
   "cell_type": "code",
   "execution_count": 33,
   "id": "848e7f56-af30-413c-98bb-c5149250b421",
   "metadata": {},
   "outputs": [],
   "source": [
    "t1 = list (t1)"
   ]
  },
  {
   "cell_type": "code",
   "execution_count": 34,
   "id": "5c48206a-351c-4628-b2ab-3acaf44b4185",
   "metadata": {},
   "outputs": [],
   "source": [
    "t1[0] = 10000"
   ]
  },
  {
   "cell_type": "code",
   "execution_count": 35,
   "id": "ca0226f2-3fc1-4c6d-b124-4359a00f1898",
   "metadata": {},
   "outputs": [
    {
     "data": {
      "text/plain": [
       "[10000, 45, [56, 90], 10]"
      ]
     },
     "execution_count": 35,
     "metadata": {},
     "output_type": "execute_result"
    }
   ],
   "source": [
    "t1"
   ]
  },
  {
   "cell_type": "code",
   "execution_count": 41,
   "id": "b57819f7-471e-421f-8704-793e261ab49d",
   "metadata": {},
   "outputs": [
    {
     "data": {
      "text/plain": [
       "(56, 90)"
      ]
     },
     "execution_count": 41,
     "metadata": {},
     "output_type": "execute_result"
    }
   ],
   "source": [
    "tuple(t1[2])"
   ]
  },
  {
   "cell_type": "code",
   "execution_count": 37,
   "id": "172f2314-b9c3-419f-b3c3-2b89b65bfbc4",
   "metadata": {},
   "outputs": [],
   "source": [
    "t1 = tuple(t1)"
   ]
  },
  {
   "cell_type": "code",
   "execution_count": 42,
   "id": "1f54f1a8-4114-4596-98c6-9e6eaa9d909a",
   "metadata": {},
   "outputs": [
    {
     "data": {
      "text/plain": [
       "(10000, 45, [56, 90], 10)"
      ]
     },
     "execution_count": 42,
     "metadata": {},
     "output_type": "execute_result"
    }
   ],
   "source": [
    "t1  "
   ]
  },
  {
   "cell_type": "code",
   "execution_count": 43,
   "id": "fd7618df-c3f1-4887-88ec-1e71f463fe60",
   "metadata": {},
   "outputs": [],
   "source": [
    "t = (21,23,45,67,78)"
   ]
  },
  {
   "cell_type": "code",
   "execution_count": 44,
   "id": "ade22cab-c81b-4279-ac48-9ca415d90fc9",
   "metadata": {},
   "outputs": [
    {
     "data": {
      "text/plain": [
       "5"
      ]
     },
     "execution_count": 44,
     "metadata": {},
     "output_type": "execute_result"
    }
   ],
   "source": [
    "len(t)"
   ]
  },
  {
   "cell_type": "code",
   "execution_count": 45,
   "id": "13321130-157b-41a1-a017-cd181efa34f2",
   "metadata": {},
   "outputs": [
    {
     "data": {
      "text/plain": [
       "78"
      ]
     },
     "execution_count": 45,
     "metadata": {},
     "output_type": "execute_result"
    }
   ],
   "source": [
    "max(t)"
   ]
  },
  {
   "cell_type": "code",
   "execution_count": 47,
   "id": "9e10fc93-6f4c-40dd-abb8-ffb618a69096",
   "metadata": {},
   "outputs": [
    {
     "name": "stdout",
     "output_type": "stream",
     "text": [
      "Help on tuple object:\n",
      "\n",
      "class tuple(object)\n",
      " |  tuple(iterable=(), /)\n",
      " |\n",
      " |  Built-in immutable sequence.\n",
      " |\n",
      " |  If no argument is given, the constructor returns an empty tuple.\n",
      " |  If iterable is specified the tuple is initialized from iterable's items.\n",
      " |\n",
      " |  If the argument is a tuple, the return value is the same object.\n",
      " |\n",
      " |  Built-in subclasses:\n",
      " |      asyncgen_hooks\n",
      " |      UnraisableHookArgs\n",
      " |\n",
      " |  Methods defined here:\n",
      " |\n",
      " |  __add__(self, value, /)\n",
      " |      Return self+value.\n",
      " |\n",
      " |  __contains__(self, key, /)\n",
      " |      Return bool(key in self).\n",
      " |\n",
      " |  __eq__(self, value, /)\n",
      " |      Return self==value.\n",
      " |\n",
      " |  __ge__(self, value, /)\n",
      " |      Return self>=value.\n",
      " |\n",
      " |  __getattribute__(self, name, /)\n",
      " |      Return getattr(self, name).\n",
      " |\n",
      " |  __getitem__(self, key, /)\n",
      " |      Return self[key].\n",
      " |\n",
      " |  __getnewargs__(self, /)\n",
      " |\n",
      " |  __gt__(self, value, /)\n",
      " |      Return self>value.\n",
      " |\n",
      " |  __hash__(self, /)\n",
      " |      Return hash(self).\n",
      " |\n",
      " |  __iter__(self, /)\n",
      " |      Implement iter(self).\n",
      " |\n",
      " |  __le__(self, value, /)\n",
      " |      Return self<=value.\n",
      " |\n",
      " |  __len__(self, /)\n",
      " |      Return len(self).\n",
      " |\n",
      " |  __lt__(self, value, /)\n",
      " |      Return self<value.\n",
      " |\n",
      " |  __mul__(self, value, /)\n",
      " |      Return self*value.\n",
      " |\n",
      " |  __ne__(self, value, /)\n",
      " |      Return self!=value.\n",
      " |\n",
      " |  __repr__(self, /)\n",
      " |      Return repr(self).\n",
      " |\n",
      " |  __rmul__(self, value, /)\n",
      " |      Return value*self.\n",
      " |\n",
      " |  count(self, value, /)\n",
      " |      Return number of occurrences of value.\n",
      " |\n",
      " |  index(self, value, start=0, stop=9223372036854775807, /)\n",
      " |      Return first index of value.\n",
      " |\n",
      " |      Raises ValueError if the value is not present.\n",
      " |\n",
      " |  ----------------------------------------------------------------------\n",
      " |  Class methods defined here:\n",
      " |\n",
      " |  __class_getitem__(...)\n",
      " |      See PEP 585\n",
      " |\n",
      " |  ----------------------------------------------------------------------\n",
      " |  Static methods defined here:\n",
      " |\n",
      " |  __new__(*args, **kwargs)\n",
      " |      Create and return a new object.  See help(type) for accurate signature.\n",
      "\n"
     ]
    }
   ],
   "source": [
    "help(t)"
   ]
  },
  {
   "cell_type": "markdown",
   "id": "79cdc418-9b66-4e49-a2fc-2c8fcf38ad7b",
   "metadata": {},
   "source": [
    "### Sets"
   ]
  },
  {
   "cell_type": "code",
   "execution_count": 48,
   "id": "8b403766-c6a4-4b11-aeee-4e636badf4de",
   "metadata": {},
   "outputs": [],
   "source": [
    "s = {12,34,45,67,10}"
   ]
  },
  {
   "cell_type": "code",
   "execution_count": 49,
   "id": "865da780-dbcb-44b3-8dc4-2c95153d5d35",
   "metadata": {},
   "outputs": [],
   "source": [
    "# unordered, mutable,hetero, duplicate not allowed"
   ]
  },
  {
   "cell_type": "code",
   "execution_count": 50,
   "id": "12c30f83-90fd-4374-a390-762352afb22c",
   "metadata": {},
   "outputs": [
    {
     "data": {
      "text/plain": [
       "set"
      ]
     },
     "execution_count": 50,
     "metadata": {},
     "output_type": "execute_result"
    }
   ],
   "source": [
    "type(s)"
   ]
  },
  {
   "cell_type": "code",
   "execution_count": 53,
   "id": "71b8dbe0-9d2a-4458-953b-c8aaed3c8ee4",
   "metadata": {},
   "outputs": [],
   "source": [
    "s = {12,23,45,67,78,89,\"pune\"}"
   ]
  },
  {
   "cell_type": "code",
   "execution_count": 54,
   "id": "d70fa85d-672d-4261-8f7b-33938fb6eb36",
   "metadata": {},
   "outputs": [
    {
     "data": {
      "text/plain": [
       "{12, 23, 45, 67, 78, 89, 'pune'}"
      ]
     },
     "execution_count": 54,
     "metadata": {},
     "output_type": "execute_result"
    }
   ],
   "source": [
    "s"
   ]
  },
  {
   "cell_type": "code",
   "execution_count": 55,
   "id": "76b88f8e-83f6-4354-a2b4-0b5f6154f89c",
   "metadata": {},
   "outputs": [
    {
     "ename": "TypeError",
     "evalue": "'set' object is not subscriptable",
     "output_type": "error",
     "traceback": [
      "\u001b[1;31m---------------------------------------------------------------------------\u001b[0m",
      "\u001b[1;31mTypeError\u001b[0m                                 Traceback (most recent call last)",
      "Cell \u001b[1;32mIn[55], line 1\u001b[0m\n\u001b[1;32m----> 1\u001b[0m s[\u001b[38;5;241m2\u001b[39m]\n",
      "\u001b[1;31mTypeError\u001b[0m: 'set' object is not subscriptable"
     ]
    }
   ],
   "source": [
    "s[2] # setes are unordered"
   ]
  },
  {
   "cell_type": "code",
   "execution_count": 57,
   "id": "e58cfcca-97c8-4a84-a192-1196eaebc19f",
   "metadata": {},
   "outputs": [],
   "source": [
    "s={}"
   ]
  },
  {
   "cell_type": "code",
   "execution_count": 58,
   "id": "0aa6a75a-0885-4772-8219-73e865931ba1",
   "metadata": {},
   "outputs": [
    {
     "data": {
      "text/plain": [
       "{}"
      ]
     },
     "execution_count": 58,
     "metadata": {},
     "output_type": "execute_result"
    }
   ],
   "source": [
    "s"
   ]
  },
  {
   "cell_type": "code",
   "execution_count": 59,
   "id": "14726777-b27c-41a8-b3f1-0ef31acdd6f5",
   "metadata": {},
   "outputs": [
    {
     "data": {
      "text/plain": [
       "dict"
      ]
     },
     "execution_count": 59,
     "metadata": {},
     "output_type": "execute_result"
    }
   ],
   "source": [
    "type(s)"
   ]
  },
  {
   "cell_type": "code",
   "execution_count": 60,
   "id": "1a4520ae-fcd3-4d78-b192-3b7dd60f75e7",
   "metadata": {},
   "outputs": [],
   "source": [
    "# empty set\n",
    "s = set()"
   ]
  },
  {
   "cell_type": "code",
   "execution_count": 62,
   "id": "e68d8af2-85ee-4f5f-9050-43c81b1b5002",
   "metadata": {},
   "outputs": [
    {
     "data": {
      "text/plain": [
       "set"
      ]
     },
     "execution_count": 62,
     "metadata": {},
     "output_type": "execute_result"
    }
   ],
   "source": [
    "type(s)"
   ]
  },
  {
   "cell_type": "code",
   "execution_count": 63,
   "id": "24132ec8-af7e-47fa-afad-f685e98454d8",
   "metadata": {},
   "outputs": [],
   "source": [
    "s.add(4)"
   ]
  },
  {
   "cell_type": "code",
   "execution_count": 64,
   "id": "392203b8-7bb9-496c-adb8-30222608fe22",
   "metadata": {},
   "outputs": [
    {
     "data": {
      "text/plain": [
       "{4}"
      ]
     },
     "execution_count": 64,
     "metadata": {},
     "output_type": "execute_result"
    }
   ],
   "source": [
    "s"
   ]
  },
  {
   "cell_type": "code",
   "execution_count": 65,
   "id": "f3a2a851-18c1-4dce-88ec-a1a2929cb935",
   "metadata": {},
   "outputs": [],
   "source": [
    "s.add(12)"
   ]
  },
  {
   "cell_type": "code",
   "execution_count": 66,
   "id": "f6dc1fec-3635-45a0-8f97-f7eba4babe24",
   "metadata": {},
   "outputs": [
    {
     "data": {
      "text/plain": [
       "{4, 12}"
      ]
     },
     "execution_count": 66,
     "metadata": {},
     "output_type": "execute_result"
    }
   ],
   "source": [
    "s"
   ]
  },
  {
   "cell_type": "code",
   "execution_count": 67,
   "id": "90c00955-4ac2-4e69-b4a4-d2b3a272db4d",
   "metadata": {},
   "outputs": [],
   "source": [
    "s.add(12)"
   ]
  },
  {
   "cell_type": "code",
   "execution_count": 68,
   "id": "1719f102-0703-4cbf-9a78-ced7d8a2258c",
   "metadata": {},
   "outputs": [
    {
     "data": {
      "text/plain": [
       "{4, 12}"
      ]
     },
     "execution_count": 68,
     "metadata": {},
     "output_type": "execute_result"
    }
   ],
   "source": [
    "s"
   ]
  },
  {
   "cell_type": "code",
   "execution_count": 69,
   "id": "a9e02074-226b-4c98-8a58-b3c5884e3261",
   "metadata": {},
   "outputs": [],
   "source": [
    "# remove discard"
   ]
  },
  {
   "cell_type": "code",
   "execution_count": 70,
   "id": "37356c41-595b-477d-8e6e-96c8dc8c41df",
   "metadata": {},
   "outputs": [],
   "source": [
    "s.remove(4)"
   ]
  },
  {
   "cell_type": "code",
   "execution_count": 71,
   "id": "f1b51150-84aa-477c-be85-a5fa074824ce",
   "metadata": {},
   "outputs": [
    {
     "data": {
      "text/plain": [
       "{12}"
      ]
     },
     "execution_count": 71,
     "metadata": {},
     "output_type": "execute_result"
    }
   ],
   "source": [
    "s"
   ]
  },
  {
   "cell_type": "code",
   "execution_count": 72,
   "id": "5290d989-bdfa-44cb-aff4-67779e3d76e8",
   "metadata": {},
   "outputs": [],
   "source": [
    "s.discard(12)"
   ]
  },
  {
   "cell_type": "code",
   "execution_count": 73,
   "id": "ceb658aa-2dd7-4224-a874-8ff617a03067",
   "metadata": {},
   "outputs": [
    {
     "data": {
      "text/plain": [
       "set()"
      ]
     },
     "execution_count": 73,
     "metadata": {},
     "output_type": "execute_result"
    }
   ],
   "source": [
    "s"
   ]
  },
  {
   "cell_type": "code",
   "execution_count": 74,
   "id": "8f7165c5-23c5-426f-87c0-bc4522f3f5db",
   "metadata": {},
   "outputs": [],
   "source": [
    "s = {12,23,34,45}"
   ]
  },
  {
   "cell_type": "code",
   "execution_count": 75,
   "id": "41533dc9-8c3b-4651-a284-befdc310b897",
   "metadata": {},
   "outputs": [
    {
     "data": {
      "text/plain": [
       "{12, 23, 34, 45}"
      ]
     },
     "execution_count": 75,
     "metadata": {},
     "output_type": "execute_result"
    }
   ],
   "source": [
    "s"
   ]
  },
  {
   "cell_type": "code",
   "execution_count": 81,
   "id": "3c697328-0ebf-4189-b65b-f03147c809c7",
   "metadata": {},
   "outputs": [],
   "source": [
    "s.discard(23)"
   ]
  },
  {
   "cell_type": "code",
   "execution_count": 82,
   "id": "f4561a71-39d8-45f1-9256-64c650fc3a76",
   "metadata": {},
   "outputs": [
    {
     "data": {
      "text/plain": [
       "{12, 34, 45}"
      ]
     },
     "execution_count": 82,
     "metadata": {},
     "output_type": "execute_result"
    }
   ],
   "source": [
    "s"
   ]
  },
  {
   "cell_type": "code",
   "execution_count": 85,
   "id": "2b00b56c-c935-4965-8bef-f0bf849a9d05",
   "metadata": {},
   "outputs": [
    {
     "ename": "KeyError",
     "evalue": "90",
     "output_type": "error",
     "traceback": [
      "\u001b[1;31m---------------------------------------------------------------------------\u001b[0m",
      "\u001b[1;31mKeyError\u001b[0m                                  Traceback (most recent call last)",
      "Cell \u001b[1;32mIn[85], line 1\u001b[0m\n\u001b[1;32m----> 1\u001b[0m s\u001b[38;5;241m.\u001b[39mremove(\u001b[38;5;241m90\u001b[39m)\n",
      "\u001b[1;31mKeyError\u001b[0m: 90"
     ]
    }
   ],
   "source": [
    "s.remove(90)"
   ]
  },
  {
   "cell_type": "code",
   "execution_count": 86,
   "id": "2a2181dd-62af-4f7a-a2fd-b792d3a21000",
   "metadata": {},
   "outputs": [],
   "source": [
    "s.discard(100)"
   ]
  },
  {
   "cell_type": "code",
   "execution_count": 87,
   "id": "f5f45eab-28f4-455b-b770-d488b090710f",
   "metadata": {},
   "outputs": [
    {
     "data": {
      "text/plain": [
       "{34, 45}"
      ]
     },
     "execution_count": 87,
     "metadata": {},
     "output_type": "execute_result"
    }
   ],
   "source": [
    "s"
   ]
  },
  {
   "cell_type": "code",
   "execution_count": 88,
   "id": "bfca966d-31d3-4f0c-a8f8-ba4a35f77694",
   "metadata": {},
   "outputs": [],
   "source": [
    "s1 = {1,2,3,4}\n",
    "s2 = {3,4,5,6}"
   ]
  },
  {
   "cell_type": "code",
   "execution_count": 89,
   "id": "1b50bd0f-7e49-4852-96b2-c13feffdde51",
   "metadata": {},
   "outputs": [
    {
     "data": {
      "text/plain": [
       "{1, 2, 3, 4, 5, 6}"
      ]
     },
     "execution_count": 89,
     "metadata": {},
     "output_type": "execute_result"
    }
   ],
   "source": [
    "s1.union(s2)"
   ]
  },
  {
   "cell_type": "code",
   "execution_count": 90,
   "id": "e859916d-ab57-4ac2-9390-c12d1a52dfb3",
   "metadata": {},
   "outputs": [
    {
     "data": {
      "text/plain": [
       "{1, 2, 3, 4, 5, 6}"
      ]
     },
     "execution_count": 90,
     "metadata": {},
     "output_type": "execute_result"
    }
   ],
   "source": [
    "s1|s2"
   ]
  },
  {
   "cell_type": "code",
   "execution_count": 92,
   "id": "3d88405f-be18-400e-8c99-7cacc2cf650c",
   "metadata": {},
   "outputs": [
    {
     "data": {
      "text/plain": [
       "{3, 4}"
      ]
     },
     "execution_count": 92,
     "metadata": {},
     "output_type": "execute_result"
    }
   ],
   "source": [
    "s1.intersection(s2)"
   ]
  },
  {
   "cell_type": "code",
   "execution_count": 93,
   "id": "2265c12a-35eb-406b-9e73-8650fc4e8f6d",
   "metadata": {},
   "outputs": [
    {
     "data": {
      "text/plain": [
       "{1, 2}"
      ]
     },
     "execution_count": 93,
     "metadata": {},
     "output_type": "execute_result"
    }
   ],
   "source": [
    "s1.difference(s2)"
   ]
  },
  {
   "cell_type": "code",
   "execution_count": 94,
   "id": "67736de6-b37f-45e2-867c-528c5bf636c7",
   "metadata": {},
   "outputs": [
    {
     "data": {
      "text/plain": [
       "{5, 6}"
      ]
     },
     "execution_count": 94,
     "metadata": {},
     "output_type": "execute_result"
    }
   ],
   "source": [
    "s2.difference(s1)"
   ]
  },
  {
   "cell_type": "code",
   "execution_count": 96,
   "id": "208be3a3-9a97-4a0c-8451-677f91ea16ec",
   "metadata": {},
   "outputs": [
    {
     "data": {
      "text/plain": [
       "{1, 2, 5, 6}"
      ]
     },
     "execution_count": 96,
     "metadata": {},
     "output_type": "execute_result"
    }
   ],
   "source": [
    "s1.symmetric_difference(s2)"
   ]
  },
  {
   "cell_type": "code",
   "execution_count": 97,
   "id": "56f77b87-8033-4df9-9109-fe4496440afe",
   "metadata": {},
   "outputs": [],
   "source": [
    "s1 = {1,2,3,4,5,6}\n",
    "s2 = {1,2,3}\n",
    "s3 = {1,6,8}"
   ]
  },
  {
   "cell_type": "code",
   "execution_count": 99,
   "id": "c8615772-afc7-4c4d-88e5-5d96af6d9138",
   "metadata": {},
   "outputs": [
    {
     "data": {
      "text/plain": [
       "True"
      ]
     },
     "execution_count": 99,
     "metadata": {},
     "output_type": "execute_result"
    }
   ],
   "source": [
    "s2.issubset(s1)"
   ]
  },
  {
   "cell_type": "code",
   "execution_count": 100,
   "id": "f0976d87-ecb6-4a42-bfca-27ea33484af5",
   "metadata": {},
   "outputs": [
    {
     "data": {
      "text/plain": [
       "True"
      ]
     },
     "execution_count": 100,
     "metadata": {},
     "output_type": "execute_result"
    }
   ],
   "source": [
    "s1.issuperset(s2)"
   ]
  },
  {
   "cell_type": "code",
   "execution_count": 101,
   "id": "04e02b9f-96d6-471b-8a04-6ef2203295f6",
   "metadata": {
    "jp-MarkdownHeadingCollapsed": true
   },
   "outputs": [
    {
     "data": {
      "text/plain": [
       "False"
      ]
     },
     "execution_count": 101,
     "metadata": {},
     "output_type": "execute_result"
    }
   ],
   "source": [
    "s3.issubset(s1)"
   ]
  },
  {
   "cell_type": "code",
   "execution_count": 102,
   "id": "b6815793-c97b-4f91-8d85-2816161da111",
   "metadata": {},
   "outputs": [
    {
     "data": {
      "text/plain": [
       "True"
      ]
     },
     "execution_count": 102,
     "metadata": {},
     "output_type": "execute_result"
    }
   ],
   "source": [
    "3 in s1"
   ]
  },
  {
   "cell_type": "markdown",
   "id": "08fc130a-48a4-4ca8-a8de-1497aa1c228d",
   "metadata": {},
   "source": [
    "### Dictionary"
   ]
  },
  {
   "cell_type": "code",
   "execution_count": 108,
   "id": "a0ed1c81-b78a-4871-9b5b-11be146ffc6b",
   "metadata": {},
   "outputs": [],
   "source": [
    "d = {10:\"shravani\",2:\"puja\",3:\"shruti\",4:\"dhanu\"}"
   ]
  },
  {
   "cell_type": "code",
   "execution_count": 109,
   "id": "78fd5fb1-c15f-4d45-831b-1c981f17517b",
   "metadata": {},
   "outputs": [
    {
     "data": {
      "text/plain": [
       "{10: 'shravani', 2: 'puja', 3: 'shruti', 4: 'dhanu'}"
      ]
     },
     "execution_count": 109,
     "metadata": {},
     "output_type": "execute_result"
    }
   ],
   "source": [
    "d"
   ]
  },
  {
   "cell_type": "code",
   "execution_count": 111,
   "id": "178344ec-7db7-44a3-a47b-ca809cd4bd76",
   "metadata": {},
   "outputs": [
    {
     "data": {
      "text/plain": [
       "'shravani'"
      ]
     },
     "execution_count": 111,
     "metadata": {},
     "output_type": "execute_result"
    }
   ],
   "source": [
    "d[10]"
   ]
  },
  {
   "cell_type": "code",
   "execution_count": 107,
   "id": "ef955504-5911-4bab-ad9b-976384ad41d3",
   "metadata": {},
   "outputs": [
    {
     "data": {
      "text/plain": [
       "'puja'"
      ]
     },
     "execution_count": 107,
     "metadata": {},
     "output_type": "execute_result"
    }
   ],
   "source": [
    "d[2]"
   ]
  },
  {
   "cell_type": "code",
   "execution_count": 112,
   "id": "2d2d8c46-cd90-4202-99ea-dc36c8d6c140",
   "metadata": {},
   "outputs": [],
   "source": [
    "#key are unique,values can be duplicated/ordered\n",
    "d = {10:\"shravani\",2:\"puja\",3:\"shruti\",4:\"dhanu\"}"
   ]
  },
  {
   "cell_type": "code",
   "execution_count": 113,
   "id": "a34c671a-0e05-4acd-93e4-5e2d80aff48d",
   "metadata": {},
   "outputs": [
    {
     "data": {
      "text/plain": [
       "{10: 'shravani', 2: 'puja', 3: 'shruti', 4: 'dhanu'}"
      ]
     },
     "execution_count": 113,
     "metadata": {},
     "output_type": "execute_result"
    }
   ],
   "source": [
    "d"
   ]
  },
  {
   "cell_type": "code",
   "execution_count": 114,
   "id": "8063a4bc-8d49-40d3-b29a-be8d8210101a",
   "metadata": {},
   "outputs": [],
   "source": [
    "d = {10:\"shravani\",2:\"puja\",3:\"shruti\",4:\"dhanu\",5:56}"
   ]
  },
  {
   "cell_type": "code",
   "execution_count": 115,
   "id": "e1ed735e-6556-42a0-b463-2126186a69ec",
   "metadata": {},
   "outputs": [
    {
     "data": {
      "text/plain": [
       "{10: 'shravani', 2: 'puja', 3: 'shruti', 4: 'dhanu', 5: 56}"
      ]
     },
     "execution_count": 115,
     "metadata": {},
     "output_type": "execute_result"
    }
   ],
   "source": [
    "d"
   ]
  },
  {
   "cell_type": "code",
   "execution_count": 116,
   "id": "e104a67b-c1d2-441a-8220-dccbcd7db5c7",
   "metadata": {},
   "outputs": [],
   "source": [
    "d = {10:\"shravani\",2:\"puja\",3:\"shruti\",4:\"dhanu\",\"day\":78}"
   ]
  },
  {
   "cell_type": "code",
   "execution_count": 117,
   "id": "6b60a6e7-bd47-457d-a527-1967e5de8403",
   "metadata": {},
   "outputs": [
    {
     "data": {
      "text/plain": [
       "{10: 'shravani', 2: 'puja', 3: 'shruti', 4: 'dhanu', 'day': 78}"
      ]
     },
     "execution_count": 117,
     "metadata": {},
     "output_type": "execute_result"
    }
   ],
   "source": [
    "d"
   ]
  },
  {
   "cell_type": "code",
   "execution_count": 118,
   "id": "be960e38-783c-471d-a6fc-347b1996ae74",
   "metadata": {},
   "outputs": [
    {
     "data": {
      "text/plain": [
       "78"
      ]
     },
     "execution_count": 118,
     "metadata": {},
     "output_type": "execute_result"
    }
   ],
   "source": [
    "d[\"day\"]"
   ]
  },
  {
   "cell_type": "code",
   "execution_count": 119,
   "id": "4e5856d2-3701-4ee1-b628-cbf7c52e9a4b",
   "metadata": {},
   "outputs": [],
   "source": [
    "d[3]=33"
   ]
  },
  {
   "cell_type": "code",
   "execution_count": 121,
   "id": "aad37a8b-4d87-4a29-b47e-08733a48f4a2",
   "metadata": {},
   "outputs": [
    {
     "data": {
      "text/plain": [
       "{10: 'shravani', 2: 'puja', 3: 33, 4: 'dhanu', 'day': 78}"
      ]
     },
     "execution_count": 121,
     "metadata": {},
     "output_type": "execute_result"
    }
   ],
   "source": [
    "d # mutable"
   ]
  },
  {
   "cell_type": "code",
   "execution_count": 122,
   "id": "d423dc5f-ab25-4701-8b19-1be367c7e860",
   "metadata": {},
   "outputs": [
    {
     "data": {
      "text/plain": [
       "dict_keys([10, 2, 3, 4, 'day'])"
      ]
     },
     "execution_count": 122,
     "metadata": {},
     "output_type": "execute_result"
    }
   ],
   "source": [
    "d.keys()"
   ]
  },
  {
   "cell_type": "code",
   "execution_count": 123,
   "id": "b121d56e-467d-42dd-b761-9b8d1d4bdd05",
   "metadata": {},
   "outputs": [
    {
     "data": {
      "text/plain": [
       "dict_values(['shravani', 'puja', 33, 'dhanu', 78])"
      ]
     },
     "execution_count": 123,
     "metadata": {},
     "output_type": "execute_result"
    }
   ],
   "source": [
    "d.values()"
   ]
  },
  {
   "cell_type": "code",
   "execution_count": 124,
   "id": "fb0f573d-f082-475a-89e4-09ebf7f39b95",
   "metadata": {},
   "outputs": [],
   "source": [
    "# multiple ways to create dictionary"
   ]
  },
  {
   "cell_type": "code",
   "execution_count": 128,
   "id": "8e5f17a1-9f55-4312-ae2e-0af7de7a6ad2",
   "metadata": {},
   "outputs": [],
   "source": [
    " # from list of tuples(k,v)\n",
    "\n",
    "l=[(1,\"ok\"),(2,\"not ok\")]"
   ]
  },
  {
   "cell_type": "code",
   "execution_count": 129,
   "id": "c904720f-853e-49cd-b60c-7a76a0ae2bff",
   "metadata": {},
   "outputs": [
    {
     "data": {
      "text/plain": [
       "{1: 'ok', 2: 'not ok'}"
      ]
     },
     "execution_count": 129,
     "metadata": {},
     "output_type": "execute_result"
    }
   ],
   "source": [
    "dict(l)"
   ]
  },
  {
   "cell_type": "code",
   "execution_count": 130,
   "id": "ce052b25-ed83-4064-a107-a4db65626651",
   "metadata": {},
   "outputs": [],
   "source": [
    "d = {10:\"shravani\",2:\"puja\",3:\"shruti\",4:\"dhanu\"}"
   ]
  },
  {
   "cell_type": "code",
   "execution_count": 131,
   "id": "294a7b53-f073-465f-8bb4-d55985761f6b",
   "metadata": {},
   "outputs": [
    {
     "data": {
      "text/plain": [
       "{10: 'shravani', 2: 'puja', 3: 'shruti', 4: 'dhanu'}"
      ]
     },
     "execution_count": 131,
     "metadata": {},
     "output_type": "execute_result"
    }
   ],
   "source": [
    "d"
   ]
  },
  {
   "cell_type": "code",
   "execution_count": 132,
   "id": "8bd8146d-e8c7-4fe5-8e8d-57cef4fcdf7a",
   "metadata": {},
   "outputs": [],
   "source": [
    "d[\"day\"] = [1,2,56,67]"
   ]
  },
  {
   "cell_type": "code",
   "execution_count": 133,
   "id": "7489612c-f945-431d-ba82-427447e8ae57",
   "metadata": {},
   "outputs": [
    {
     "data": {
      "text/plain": [
       "{10: 'shravani', 2: 'puja', 3: 'shruti', 4: 'dhanu', 'day': [1, 2, 56, 67]}"
      ]
     },
     "execution_count": 133,
     "metadata": {},
     "output_type": "execute_result"
    }
   ],
   "source": [
    "d"
   ]
  },
  {
   "cell_type": "code",
   "execution_count": 134,
   "id": "ce563406-a93a-446a-8e8b-23a42ae0ff14",
   "metadata": {},
   "outputs": [
    {
     "data": {
      "text/plain": [
       "'dhanu'"
      ]
     },
     "execution_count": 134,
     "metadata": {},
     "output_type": "execute_result"
    }
   ],
   "source": [
    "d.pop(4)"
   ]
  },
  {
   "cell_type": "code",
   "execution_count": 136,
   "id": "6b44f8a1-3028-4d32-ac61-013c948e5903",
   "metadata": {},
   "outputs": [
    {
     "data": {
      "text/plain": [
       "0"
      ]
     },
     "execution_count": 136,
     "metadata": {},
     "output_type": "execute_result"
    }
   ],
   "source": [
    "d.pop(8,0)"
   ]
  },
  {
   "cell_type": "code",
   "execution_count": 137,
   "id": "25897243-3137-4ddc-8b15-8567f423d6f1",
   "metadata": {},
   "outputs": [],
   "source": [
    "d = {1:\"pune\",2:\"mumbai\",3:\"city\",\"state\":7}"
   ]
  },
  {
   "cell_type": "code",
   "execution_count": 138,
   "id": "10c9ab74-0322-4870-a5bd-8aa3078bf2d3",
   "metadata": {},
   "outputs": [],
   "source": [
    "# iterate over the dict and print\n",
    "# index/key ->value"
   ]
  },
  {
   "cell_type": "code",
   "execution_count": 144,
   "id": "471e8391-1026-442a-8ac8-de2dfac14c7e",
   "metadata": {},
   "outputs": [
    {
     "name": "stdout",
     "output_type": "stream",
     "text": [
      "1->pune\n",
      "2->mumbai\n",
      "3->city\n",
      "state->7\n"
     ]
    }
   ],
   "source": [
    "for ind ,val in d.items():\n",
    "    print(f\"{ind}->{val}\")"
   ]
  },
  {
   "cell_type": "code",
   "execution_count": null,
   "id": "1c83c3d4-85e5-4162-99dd-20775161f15f",
   "metadata": {},
   "outputs": [],
   "source": []
  }
 ],
 "metadata": {
  "kernelspec": {
   "display_name": "Python 3 (ipykernel)",
   "language": "python",
   "name": "python3"
  },
  "language_info": {
   "codemirror_mode": {
    "name": "ipython",
    "version": 3
   },
   "file_extension": ".py",
   "mimetype": "text/x-python",
   "name": "python",
   "nbconvert_exporter": "python",
   "pygments_lexer": "ipython3",
   "version": "3.12.7"
  }
 },
 "nbformat": 4,
 "nbformat_minor": 5
}
