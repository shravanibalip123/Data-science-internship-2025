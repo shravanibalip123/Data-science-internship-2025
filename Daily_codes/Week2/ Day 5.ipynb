{
 "cells": [
  {
   "cell_type": "markdown",
   "id": "f87a08ea-a96e-4b65-ac94-7e6feccf8561",
   "metadata": {},
   "source": [
    "### Data Structure"
   ]
  },
  {
   "cell_type": "markdown",
   "id": "8d6ba848-98b8-4c3a-9473-d176b1a856c8",
   "metadata": {},
   "source": [
    "### List"
   ]
  },
  {
   "cell_type": "code",
   "execution_count": 1,
   "id": "99426910-fe52-4fd9-a60d-e8c83e9f9b77",
   "metadata": {},
   "outputs": [],
   "source": [
    "l= [34, 56, 78, 91,23]"
   ]
  },
  {
   "cell_type": "code",
   "execution_count": 2,
   "id": "b87f8bc0-ec12-4d5a-8894-9bfec5ee0345",
   "metadata": {},
   "outputs": [
    {
     "name": "stdout",
     "output_type": "stream",
     "text": [
      "[34, 56, 78, 91, 23]\n"
     ]
    }
   ],
   "source": [
    "print(l)"
   ]
  },
  {
   "cell_type": "code",
   "execution_count": 3,
   "id": "00933bfb-e853-450a-8e0c-62b64c2887e7",
   "metadata": {},
   "outputs": [
    {
     "data": {
      "text/plain": [
       "list"
      ]
     },
     "execution_count": 3,
     "metadata": {},
     "output_type": "execute_result"
    }
   ],
   "source": [
    "type(l)"
   ]
  },
  {
   "cell_type": "code",
   "execution_count": 4,
   "id": "d9c3b5b6-f763-4b37-b645-5158cc50da17",
   "metadata": {},
   "outputs": [],
   "source": [
    "# Lists are hetero and duplicate values are allowed"
   ]
  },
  {
   "cell_type": "code",
   "execution_count": 5,
   "id": "6943540b-6b07-40e4-bd92-e29e0b842873",
   "metadata": {},
   "outputs": [],
   "source": [
    "l=[23, 45, \"pune\",45]"
   ]
  },
  {
   "cell_type": "code",
   "execution_count": 6,
   "id": "dda527ab-6b38-4262-8377-94802b8823bd",
   "metadata": {},
   "outputs": [
    {
     "data": {
      "text/plain": [
       "[23, 45, 'pune', 45]"
      ]
     },
     "execution_count": 6,
     "metadata": {},
     "output_type": "execute_result"
    }
   ],
   "source": [
    "l"
   ]
  },
  {
   "cell_type": "code",
   "execution_count": 7,
   "id": "c4799f9c-5d87-4205-8abc-75a698b77d89",
   "metadata": {},
   "outputs": [],
   "source": [
    "# access the data\n",
    "# List are ordered(indexing is present0"
   ]
  },
  {
   "cell_type": "code",
   "execution_count": 8,
   "id": "a7216385-5373-41cd-a6e5-15110e241fec",
   "metadata": {},
   "outputs": [
    {
     "data": {
      "text/plain": [
       "45"
      ]
     },
     "execution_count": 8,
     "metadata": {},
     "output_type": "execute_result"
    }
   ],
   "source": [
    "l[3]"
   ]
  },
  {
   "cell_type": "code",
   "execution_count": 9,
   "id": "ca3da908-5858-4346-a21d-3b7d03c6273e",
   "metadata": {},
   "outputs": [
    {
     "data": {
      "text/plain": [
       "'pune'"
      ]
     },
     "execution_count": 9,
     "metadata": {},
     "output_type": "execute_result"
    }
   ],
   "source": [
    "l[-2]"
   ]
  },
  {
   "cell_type": "code",
   "execution_count": 10,
   "id": "89c0e69f-66b7-4d85-aef4-96cade9987ad",
   "metadata": {},
   "outputs": [],
   "source": [
    "#Lists are mutable"
   ]
  },
  {
   "cell_type": "code",
   "execution_count": 11,
   "id": "7edff202-8597-4104-8997-5ad459c73d7e",
   "metadata": {},
   "outputs": [
    {
     "data": {
      "text/plain": [
       "45"
      ]
     },
     "execution_count": 11,
     "metadata": {},
     "output_type": "execute_result"
    }
   ],
   "source": [
    "l[1]"
   ]
  },
  {
   "cell_type": "code",
   "execution_count": 12,
   "id": "c98e21ec-561e-4dee-a7da-218a4d5c142b",
   "metadata": {},
   "outputs": [],
   "source": [
    "l[1]=37"
   ]
  },
  {
   "cell_type": "code",
   "execution_count": 13,
   "id": "b24b50da-2064-4629-a5c1-1b3818675510",
   "metadata": {},
   "outputs": [
    {
     "data": {
      "text/plain": [
       "[23, 37, 'pune', 45]"
      ]
     },
     "execution_count": 13,
     "metadata": {},
     "output_type": "execute_result"
    }
   ],
   "source": [
    "l"
   ]
  },
  {
   "cell_type": "code",
   "execution_count": 14,
   "id": "661f5153-6aab-4bdf-8da0-91e4b230148d",
   "metadata": {},
   "outputs": [],
   "source": [
    "l=[23, 46, 39,True,'pune']"
   ]
  },
  {
   "cell_type": "code",
   "execution_count": 15,
   "id": "4b7afd1c-3575-43be-b3db-3a482cdd5482",
   "metadata": {},
   "outputs": [
    {
     "data": {
      "text/plain": [
       "True"
      ]
     },
     "execution_count": 15,
     "metadata": {},
     "output_type": "execute_result"
    }
   ],
   "source": [
    "l[3]"
   ]
  },
  {
   "cell_type": "code",
   "execution_count": 16,
   "id": "b339f28f-49b0-44dc-b2b1-8da1c5339277",
   "metadata": {},
   "outputs": [],
   "source": [
    "l[3]=88"
   ]
  },
  {
   "cell_type": "code",
   "execution_count": 17,
   "id": "4f4de2f1-abd6-45ae-acd6-fe942a65448d",
   "metadata": {},
   "outputs": [
    {
     "data": {
      "text/plain": [
       "[23, 46, 39, 88, 'pune']"
      ]
     },
     "execution_count": 17,
     "metadata": {},
     "output_type": "execute_result"
    }
   ],
   "source": [
    "l"
   ]
  },
  {
   "cell_type": "code",
   "execution_count": 18,
   "id": "12dfae1f-772d-476d-b8c1-7b861669de2c",
   "metadata": {},
   "outputs": [
    {
     "data": {
      "text/plain": [
       "39"
      ]
     },
     "execution_count": 18,
     "metadata": {},
     "output_type": "execute_result"
    }
   ],
   "source": [
    "l[-3]"
   ]
  },
  {
   "cell_type": "code",
   "execution_count": 19,
   "id": "031e8040-3d6b-41d9-8a1f-711c109adc03",
   "metadata": {},
   "outputs": [],
   "source": [
    "l=[-2]"
   ]
  },
  {
   "cell_type": "code",
   "execution_count": 20,
   "id": "4b181324-6b85-4560-8074-909026e174c7",
   "metadata": {},
   "outputs": [
    {
     "data": {
      "text/plain": [
       "[-2]"
      ]
     },
     "execution_count": 20,
     "metadata": {},
     "output_type": "execute_result"
    }
   ],
   "source": [
    "l"
   ]
  },
  {
   "cell_type": "code",
   "execution_count": 21,
   "id": "1f966705-6598-4965-bf8d-9683db27946c",
   "metadata": {},
   "outputs": [],
   "source": [
    "l1 = [12, 23, 34, 42, 40, 12, 67]"
   ]
  },
  {
   "cell_type": "code",
   "execution_count": 22,
   "id": "9f8c6873-efbc-475f-94de-1faf7ff88261",
   "metadata": {},
   "outputs": [],
   "source": [
    "# List slicing"
   ]
  },
  {
   "cell_type": "code",
   "execution_count": 23,
   "id": "1a62d341-58c3-4865-88ba-08d99aa48e7d",
   "metadata": {},
   "outputs": [
    {
     "data": {
      "text/plain": [
       "[23, 34, 42]"
      ]
     },
     "execution_count": 23,
     "metadata": {},
     "output_type": "execute_result"
    }
   ],
   "source": [
    "l1[1:4]"
   ]
  },
  {
   "cell_type": "code",
   "execution_count": 24,
   "id": "8eaaabc5-5012-4529-a089-0b4667448502",
   "metadata": {},
   "outputs": [
    {
     "data": {
      "text/plain": [
       "[42, 40, 12, 67]"
      ]
     },
     "execution_count": 24,
     "metadata": {},
     "output_type": "execute_result"
    }
   ],
   "source": [
    "l1[3:10]"
   ]
  },
  {
   "cell_type": "code",
   "execution_count": 25,
   "id": "6b496ba5-ce89-4c4d-95ee-c366071e75b9",
   "metadata": {},
   "outputs": [
    {
     "data": {
      "text/plain": [
       "[42, 40, 12, 67]"
      ]
     },
     "execution_count": 25,
     "metadata": {},
     "output_type": "execute_result"
    }
   ],
   "source": [
    "l1[3: ]"
   ]
  },
  {
   "cell_type": "code",
   "execution_count": 26,
   "id": "8521618e-2ba5-4275-a2b7-a0f25cbef0df",
   "metadata": {},
   "outputs": [
    {
     "data": {
      "text/plain": [
       "[12, 23, 34, 42, 40, 12, 67]"
      ]
     },
     "execution_count": 26,
     "metadata": {},
     "output_type": "execute_result"
    }
   ],
   "source": [
    "l1[:]"
   ]
  },
  {
   "cell_type": "code",
   "execution_count": 27,
   "id": "06bde540-0cab-449d-b677-74f143f0cddf",
   "metadata": {},
   "outputs": [
    {
     "data": {
      "text/plain": [
       "[12, 23, 34]"
      ]
     },
     "execution_count": 27,
     "metadata": {},
     "output_type": "execute_result"
    }
   ],
   "source": [
    "l1[:3]"
   ]
  },
  {
   "cell_type": "code",
   "execution_count": 28,
   "id": "81ce19df-a160-4de1-a8db-95f5e4350dc2",
   "metadata": {},
   "outputs": [
    {
     "data": {
      "text/plain": [
       "[12, 34, 40, 67]"
      ]
     },
     "execution_count": 28,
     "metadata": {},
     "output_type": "execute_result"
    }
   ],
   "source": [
    "l1[::2]"
   ]
  },
  {
   "cell_type": "code",
   "execution_count": 29,
   "id": "7b39501e-0fef-4055-8a95-4ab1f1138140",
   "metadata": {},
   "outputs": [
    {
     "data": {
      "text/plain": [
       "[67, 12, 40, 42, 34, 23, 12]"
      ]
     },
     "execution_count": 29,
     "metadata": {},
     "output_type": "execute_result"
    }
   ],
   "source": [
    "l1[::-1]"
   ]
  },
  {
   "cell_type": "code",
   "execution_count": 30,
   "id": "5cb14cef-0700-44f0-b1dd-57f6e1848af3",
   "metadata": {},
   "outputs": [
    {
     "data": {
      "text/plain": [
       "[12, 23, 34, 42]"
      ]
     },
     "execution_count": 30,
     "metadata": {},
     "output_type": "execute_result"
    }
   ],
   "source": [
    "l1[:-3]"
   ]
  },
  {
   "cell_type": "code",
   "execution_count": 31,
   "id": "715eb0c6-3333-4d80-bf79-c09b388ecf8c",
   "metadata": {},
   "outputs": [],
   "source": [
    "l1[1:4] =[56, 44,33]"
   ]
  },
  {
   "cell_type": "code",
   "execution_count": 32,
   "id": "8af92ef9-2546-4a66-b0bd-990ac89a120c",
   "metadata": {},
   "outputs": [
    {
     "data": {
      "text/plain": [
       "[12, 56, 44, 33, 40, 12, 67]"
      ]
     },
     "execution_count": 32,
     "metadata": {},
     "output_type": "execute_result"
    }
   ],
   "source": [
    "l1"
   ]
  },
  {
   "cell_type": "code",
   "execution_count": 33,
   "id": "21bfb572-43ec-4f2b-9e2d-adc068bb9383",
   "metadata": {},
   "outputs": [],
   "source": [
    "del l1[2]"
   ]
  },
  {
   "cell_type": "code",
   "execution_count": 34,
   "id": "89f559af-1a2a-47c0-9fba-f51e2abde0f7",
   "metadata": {},
   "outputs": [
    {
     "data": {
      "text/plain": [
       "[12, 56, 33, 40, 12, 67]"
      ]
     },
     "execution_count": 34,
     "metadata": {},
     "output_type": "execute_result"
    }
   ],
   "source": [
    "l1"
   ]
  },
  {
   "cell_type": "code",
   "execution_count": 35,
   "id": "54d9390d-4a7a-4bf8-b215-73b86ae97e0c",
   "metadata": {},
   "outputs": [],
   "source": [
    "n = [12, 67, 90]"
   ]
  },
  {
   "cell_type": "code",
   "execution_count": 36,
   "id": "e4033bde-2358-451e-8a08-6db97b7b3589",
   "metadata": {},
   "outputs": [],
   "source": [
    "del n"
   ]
  },
  {
   "cell_type": "code",
   "execution_count": 37,
   "id": "6f0e95c5-4a4a-4cf6-9621-c882175f4c02",
   "metadata": {},
   "outputs": [
    {
     "ename": "NameError",
     "evalue": "name 'n' is not defined",
     "output_type": "error",
     "traceback": [
      "\u001b[1;31m---------------------------------------------------------------------------\u001b[0m",
      "\u001b[1;31mNameError\u001b[0m                                 Traceback (most recent call last)",
      "Cell \u001b[1;32mIn[37], line 1\u001b[0m\n\u001b[1;32m----> 1\u001b[0m n\n",
      "\u001b[1;31mNameError\u001b[0m: name 'n' is not defined"
     ]
    }
   ],
   "source": [
    "n"
   ]
  },
  {
   "cell_type": "code",
   "execution_count": 38,
   "id": "8e586c13-fa90-4bf1-8e0a-41996f120070",
   "metadata": {},
   "outputs": [
    {
     "data": {
      "text/plain": [
       "[12, 56, 33, 40, 12, 67]"
      ]
     },
     "execution_count": 38,
     "metadata": {},
     "output_type": "execute_result"
    }
   ],
   "source": [
    "l1"
   ]
  },
  {
   "cell_type": "code",
   "execution_count": 39,
   "id": "309fe994-63ce-48cb-b775-9f1a7fa1d5ec",
   "metadata": {},
   "outputs": [
    {
     "data": {
      "text/plain": [
       "False"
      ]
     },
     "execution_count": 39,
     "metadata": {},
     "output_type": "execute_result"
    }
   ],
   "source": [
    "100 in l1"
   ]
  },
  {
   "cell_type": "code",
   "execution_count": 40,
   "id": "d6946d5b-4053-45f8-926f-b0aaba51b951",
   "metadata": {},
   "outputs": [
    {
     "data": {
      "text/plain": [
       "True"
      ]
     },
     "execution_count": 40,
     "metadata": {},
     "output_type": "execute_result"
    }
   ],
   "source": [
    "56 in l1"
   ]
  },
  {
   "cell_type": "code",
   "execution_count": 41,
   "id": "1105d49c-6bbe-400a-a1c7-7b2a17dcb60d",
   "metadata": {},
   "outputs": [],
   "source": [
    "# Arithmetic operator"
   ]
  },
  {
   "cell_type": "code",
   "execution_count": 42,
   "id": "654905d0-4c8d-47dd-a6e8-1c89dadd93b3",
   "metadata": {},
   "outputs": [
    {
     "data": {
      "text/plain": [
       "[12, 56, 33, 40, 12, 67]"
      ]
     },
     "execution_count": 42,
     "metadata": {},
     "output_type": "execute_result"
    }
   ],
   "source": [
    "l1"
   ]
  },
  {
   "cell_type": "code",
   "execution_count": 43,
   "id": "50e31441-03ac-42c7-8b02-e1795e48e858",
   "metadata": {},
   "outputs": [
    {
     "data": {
      "text/plain": [
       "[12, 56, 33, 40, 12, 67, 12, 56, 33, 40, 12, 67]"
      ]
     },
     "execution_count": 43,
     "metadata": {},
     "output_type": "execute_result"
    }
   ],
   "source": [
    "l1 * 2"
   ]
  },
  {
   "cell_type": "code",
   "execution_count": 44,
   "id": "a0378ad4-e6ed-4dbe-80df-6c4bc628a307",
   "metadata": {},
   "outputs": [
    {
     "data": {
      "text/plain": [
       "[12, 56, 33, 40, 12, 67, 10, 100]"
      ]
     },
     "execution_count": 44,
     "metadata": {},
     "output_type": "execute_result"
    }
   ],
   "source": [
    "l1+[10,100]"
   ]
  },
  {
   "cell_type": "code",
   "execution_count": 45,
   "id": "3efea111-3f27-4573-9558-fd3324419328",
   "metadata": {},
   "outputs": [
    {
     "data": {
      "text/plain": [
       "[12, 56, 33, 40, 12, 67, -2]"
      ]
     },
     "execution_count": 45,
     "metadata": {},
     "output_type": "execute_result"
    }
   ],
   "source": [
    "l1+l"
   ]
  },
  {
   "cell_type": "code",
   "execution_count": 46,
   "id": "9edaa429-9772-41ac-a97b-70632424add5",
   "metadata": {},
   "outputs": [
    {
     "data": {
      "text/plain": [
       "[12, 56, 33, 40, 12, 67]"
      ]
     },
     "execution_count": 46,
     "metadata": {},
     "output_type": "execute_result"
    }
   ],
   "source": [
    "l1"
   ]
  },
  {
   "cell_type": "code",
   "execution_count": 47,
   "id": "d0dd4251-bdaf-4ab7-9fe3-1256ec3b4456",
   "metadata": {},
   "outputs": [
    {
     "name": "stdout",
     "output_type": "stream",
     "text": [
      "144 3136 1089 1600 144 4489 "
     ]
    }
   ],
   "source": [
    "for i in l1:\n",
    "    print(i*i,end=' ')"
   ]
  },
  {
   "cell_type": "code",
   "execution_count": 48,
   "id": "73ecf3d5-aaf5-40fa-bc82-13f5acdc93b8",
   "metadata": {},
   "outputs": [
    {
     "name": "stdout",
     "output_type": "stream",
     "text": [
      "33\n",
      "67\n"
     ]
    }
   ],
   "source": [
    "for i in l1:\n",
    "    if i%2!=0:\n",
    "        print(i)"
   ]
  },
  {
   "cell_type": "code",
   "execution_count": 49,
   "id": "3d0f5c49-1db3-4d45-b731-0334f7d8d150",
   "metadata": {},
   "outputs": [],
   "source": [
    "# list comprehention"
   ]
  },
  {
   "cell_type": "code",
   "execution_count": 50,
   "id": "fdbb7334-4790-4aa7-9962-74858485abdf",
   "metadata": {},
   "outputs": [
    {
     "data": {
      "text/plain": [
       "[12, 56, 33, 40, 12, 67]"
      ]
     },
     "execution_count": 50,
     "metadata": {},
     "output_type": "execute_result"
    }
   ],
   "source": [
    "l1"
   ]
  },
  {
   "cell_type": "code",
   "execution_count": 51,
   "id": "30460adf-d449-4fdc-af37-b5d1954d9184",
   "metadata": {},
   "outputs": [
    {
     "data": {
      "text/plain": [
       "[144, 3136, 1089, 1600, 144, 4489]"
      ]
     },
     "execution_count": 51,
     "metadata": {},
     "output_type": "execute_result"
    }
   ],
   "source": [
    "# map\n",
    "new1 = [i*i for i in l1]\n",
    "new1"
   ]
  },
  {
   "cell_type": "code",
   "execution_count": 52,
   "id": "92f411de-cc70-4dbd-81c9-320f92bd56f7",
   "metadata": {},
   "outputs": [
    {
     "data": {
      "text/plain": [
       "list"
      ]
     },
     "execution_count": 52,
     "metadata": {},
     "output_type": "execute_result"
    }
   ],
   "source": [
    "type(new1)"
   ]
  },
  {
   "cell_type": "code",
   "execution_count": 53,
   "id": "bc0c3299-58e8-4221-9f7c-1ff6b0e3da9b",
   "metadata": {},
   "outputs": [],
   "source": [
    "# create list having half of value"
   ]
  },
  {
   "cell_type": "code",
   "execution_count": 54,
   "id": "74ad789f-66b9-4f5f-8809-7ff73204be3c",
   "metadata": {},
   "outputs": [],
   "source": [
    "new2=[i/2 for i in l1]# first have to take condition"
   ]
  },
  {
   "cell_type": "code",
   "execution_count": 55,
   "id": "99d1b448-e226-4c71-bf40-b4a8898e5e12",
   "metadata": {},
   "outputs": [
    {
     "data": {
      "text/plain": [
       "[6.0, 28.0, 16.5, 20.0, 6.0, 33.5]"
      ]
     },
     "execution_count": 55,
     "metadata": {},
     "output_type": "execute_result"
    }
   ],
   "source": [
    "new2"
   ]
  },
  {
   "cell_type": "code",
   "execution_count": 56,
   "id": "5486b053-a980-44fe-b03f-de30565fbbbb",
   "metadata": {},
   "outputs": [],
   "source": [
    "# Filter "
   ]
  },
  {
   "cell_type": "code",
   "execution_count": 57,
   "id": "7425171e-a10f-4289-9a6d-53c42e601d7f",
   "metadata": {},
   "outputs": [],
   "source": [
    "# for odd numbers\n",
    "new1= [i for i in l1 if i%2!=0]# first i for which have to print"
   ]
  },
  {
   "cell_type": "code",
   "execution_count": 58,
   "id": "5d63812c-c289-408f-9376-75bd3b3245c2",
   "metadata": {},
   "outputs": [
    {
     "data": {
      "text/plain": [
       "[33, 67]"
      ]
     },
     "execution_count": 58,
     "metadata": {},
     "output_type": "execute_result"
    }
   ],
   "source": [
    "new1"
   ]
  },
  {
   "cell_type": "code",
   "execution_count": 59,
   "id": "8af22199-4c4d-42d4-856a-0d3b916578ff",
   "metadata": {},
   "outputs": [],
   "source": [
    "names = ['Tanushree', 'Palak', 'Aaditi', 'kalyani','Shravani', 'Dhanashree', 'Puja', 'Vaishnavi','Siddhi', 'Mohini','Shruti']"
   ]
  },
  {
   "cell_type": "code",
   "execution_count": 60,
   "id": "89bbe8ae-c2ec-4592-918c-4196729ec71c",
   "metadata": {},
   "outputs": [],
   "source": [
    "# create a list having only those names=>starting with p"
   ]
  },
  {
   "cell_type": "code",
   "execution_count": 61,
   "id": "70549e40-e37f-4612-99f8-30e1ebdd24c1",
   "metadata": {},
   "outputs": [
    {
     "data": {
      "text/plain": [
       "['Tanushree',\n",
       " 'Palak',\n",
       " 'Aaditi',\n",
       " 'kalyani',\n",
       " 'Shravani',\n",
       " 'Dhanashree',\n",
       " 'Puja',\n",
       " 'Vaishnavi',\n",
       " 'Siddhi',\n",
       " 'Mohini',\n",
       " 'Shruti']"
      ]
     },
     "execution_count": 61,
     "metadata": {},
     "output_type": "execute_result"
    }
   ],
   "source": [
    "names"
   ]
  },
  {
   "cell_type": "code",
   "execution_count": 62,
   "id": "528a5f83-67af-46de-90ce-b69a2dd657fc",
   "metadata": {},
   "outputs": [],
   "source": [
    "new1=[i for i in names if i[0]=='P']"
   ]
  },
  {
   "cell_type": "code",
   "execution_count": 63,
   "id": "ea4a9b25-4e4e-4980-9c45-382063b6c90a",
   "metadata": {},
   "outputs": [
    {
     "data": {
      "text/plain": [
       "['Palak', 'Puja']"
      ]
     },
     "execution_count": 63,
     "metadata": {},
     "output_type": "execute_result"
    }
   ],
   "source": [
    "new1"
   ]
  },
  {
   "cell_type": "code",
   "execution_count": 64,
   "id": "b8f955db-bda6-4aa9-8668-b591120548a2",
   "metadata": {},
   "outputs": [
    {
     "data": {
      "text/plain": [
       "['Palak', 'Puja']"
      ]
     },
     "execution_count": 64,
     "metadata": {},
     "output_type": "execute_result"
    }
   ],
   "source": [
    "new1=[i for i in names if i.lower().startswith('p')]\n",
    "new1"
   ]
  },
  {
   "cell_type": "code",
   "execution_count": 65,
   "id": "d0ef6cda-28bb-4e4c-a558-6890c5703688",
   "metadata": {},
   "outputs": [],
   "source": [
    "e=[]"
   ]
  },
  {
   "cell_type": "code",
   "execution_count": 66,
   "id": "26a0508d-2664-41de-9a11-16d21bb0f118",
   "metadata": {},
   "outputs": [
    {
     "data": {
      "text/plain": [
       "[]"
      ]
     },
     "execution_count": 66,
     "metadata": {},
     "output_type": "execute_result"
    }
   ],
   "source": [
    "e"
   ]
  },
  {
   "cell_type": "code",
   "execution_count": 67,
   "id": "e592a723-73a8-414b-af40-681058e1e1d3",
   "metadata": {},
   "outputs": [],
   "source": [
    "# list decomposition"
   ]
  },
  {
   "cell_type": "code",
   "execution_count": 68,
   "id": "14461926-735e-412c-b565-61160ea72d5f",
   "metadata": {},
   "outputs": [],
   "source": [
    "l = [12,23,45]"
   ]
  },
  {
   "cell_type": "code",
   "execution_count": 69,
   "id": "352e488e-7440-462c-86ac-442e41e251ef",
   "metadata": {},
   "outputs": [],
   "source": [
    "x, y, z = l"
   ]
  },
  {
   "cell_type": "code",
   "execution_count": 70,
   "id": "aca0863d-fbf4-4109-86d9-2e9940a00632",
   "metadata": {},
   "outputs": [
    {
     "data": {
      "text/plain": [
       "12"
      ]
     },
     "execution_count": 70,
     "metadata": {},
     "output_type": "execute_result"
    }
   ],
   "source": [
    "x"
   ]
  },
  {
   "cell_type": "code",
   "execution_count": 71,
   "id": "e054f771-d632-4ea8-ae21-cebf5fc8fbe6",
   "metadata": {},
   "outputs": [
    {
     "data": {
      "text/plain": [
       "23"
      ]
     },
     "execution_count": 71,
     "metadata": {},
     "output_type": "execute_result"
    }
   ],
   "source": [
    "y"
   ]
  },
  {
   "cell_type": "code",
   "execution_count": 72,
   "id": "8760e2ea-9e8b-4622-9cb0-0c9bb4a50311",
   "metadata": {},
   "outputs": [
    {
     "data": {
      "text/plain": [
       "45"
      ]
     },
     "execution_count": 72,
     "metadata": {},
     "output_type": "execute_result"
    }
   ],
   "source": [
    "z"
   ]
  },
  {
   "cell_type": "code",
   "execution_count": 73,
   "id": "caf329de-6343-4e55-890d-544de90bab33",
   "metadata": {},
   "outputs": [],
   "source": [
    "# functions"
   ]
  },
  {
   "cell_type": "code",
   "execution_count": 74,
   "id": "99af3214-295f-49e5-9120-afaf72a25896",
   "metadata": {},
   "outputs": [
    {
     "data": {
      "text/plain": [
       "[12, 56, 33, 40, 12, 67]"
      ]
     },
     "execution_count": 74,
     "metadata": {},
     "output_type": "execute_result"
    }
   ],
   "source": [
    "l1"
   ]
  },
  {
   "cell_type": "code",
   "execution_count": 75,
   "id": "58705d3f-6737-4e98-89ba-fe9e431c7ee0",
   "metadata": {},
   "outputs": [
    {
     "data": {
      "text/plain": [
       "6"
      ]
     },
     "execution_count": 75,
     "metadata": {},
     "output_type": "execute_result"
    }
   ],
   "source": [
    "len(l1)"
   ]
  },
  {
   "cell_type": "code",
   "execution_count": 76,
   "id": "47060a52-c355-4b05-bfce-93681b3834eb",
   "metadata": {},
   "outputs": [
    {
     "data": {
      "text/plain": [
       "220"
      ]
     },
     "execution_count": 76,
     "metadata": {},
     "output_type": "execute_result"
    }
   ],
   "source": [
    "sum(l1)"
   ]
  },
  {
   "cell_type": "code",
   "execution_count": 77,
   "id": "194d7602-8dac-4d8d-a3b5-d0f08b464184",
   "metadata": {},
   "outputs": [
    {
     "data": {
      "text/plain": [
       "[12, 12, 33, 40, 56, 67]"
      ]
     },
     "execution_count": 77,
     "metadata": {},
     "output_type": "execute_result"
    }
   ],
   "source": [
    "sorted(l1)"
   ]
  },
  {
   "cell_type": "code",
   "execution_count": 78,
   "id": "98bcb613-3a11-423c-92c7-a40fb0207a58",
   "metadata": {},
   "outputs": [
    {
     "data": {
      "text/plain": [
       "[67, 56, 40, 33, 12, 12]"
      ]
     },
     "execution_count": 78,
     "metadata": {},
     "output_type": "execute_result"
    }
   ],
   "source": [
    "sorted(l1, reverse=True)"
   ]
  },
  {
   "cell_type": "code",
   "execution_count": 79,
   "id": "24297f6b-8936-40e5-bba2-4a643950470a",
   "metadata": {},
   "outputs": [],
   "source": [
    "name = \"pune\""
   ]
  },
  {
   "cell_type": "code",
   "execution_count": 80,
   "id": "15e35ad9-79b6-41fd-bb56-fff69fd4aa17",
   "metadata": {},
   "outputs": [
    {
     "data": {
      "text/plain": [
       "['p', 'u', 'n', 'e']"
      ]
     },
     "execution_count": 80,
     "metadata": {},
     "output_type": "execute_result"
    }
   ],
   "source": [
    "list(name)"
   ]
  },
  {
   "cell_type": "code",
   "execution_count": 81,
   "id": "3927c800-51bf-4440-8db5-c0108142e11e",
   "metadata": {},
   "outputs": [],
   "source": [
    "# Methods "
   ]
  },
  {
   "cell_type": "code",
   "execution_count": 82,
   "id": "8ecb2e00-4d3f-4e8f-9d17-f82a0755b7d8",
   "metadata": {},
   "outputs": [],
   "source": [
    "# adding an element at the end"
   ]
  },
  {
   "cell_type": "code",
   "execution_count": 83,
   "id": "7e572103-e02d-44b4-8386-292378a8240c",
   "metadata": {},
   "outputs": [
    {
     "data": {
      "text/plain": [
       "[12, 56, 33, 40, 12, 67]"
      ]
     },
     "execution_count": 83,
     "metadata": {},
     "output_type": "execute_result"
    }
   ],
   "source": [
    "l1"
   ]
  },
  {
   "cell_type": "code",
   "execution_count": 84,
   "id": "802e78f5-b15a-42d9-bf6e-7a066487ac17",
   "metadata": {},
   "outputs": [],
   "source": [
    "l1.append(100)"
   ]
  },
  {
   "cell_type": "code",
   "execution_count": 85,
   "id": "fbd5b2a9-e9a7-4eab-b373-feb799ff7cb4",
   "metadata": {},
   "outputs": [
    {
     "data": {
      "text/plain": [
       "[12, 56, 33, 40, 12, 67, 100]"
      ]
     },
     "execution_count": 85,
     "metadata": {},
     "output_type": "execute_result"
    }
   ],
   "source": [
    "l1"
   ]
  },
  {
   "cell_type": "code",
   "execution_count": 86,
   "id": "0d05d53f-693d-4e40-8037-0746c54c229c",
   "metadata": {},
   "outputs": [],
   "source": [
    "# append and extend"
   ]
  },
  {
   "cell_type": "code",
   "execution_count": 87,
   "id": "37598f8c-e4ed-4a6e-a50f-a6f8e5009436",
   "metadata": {},
   "outputs": [],
   "source": [
    "n1 = [12, 13, 14]"
   ]
  },
  {
   "cell_type": "code",
   "execution_count": 88,
   "id": "0057870f-d4f0-42b2-8a4e-e3cfcea8dc4d",
   "metadata": {},
   "outputs": [],
   "source": [
    "n2 = [12,13,14]"
   ]
  },
  {
   "cell_type": "code",
   "execution_count": 89,
   "id": "7f251d35-2e1b-459d-b5e6-227ff2917cc5",
   "metadata": {},
   "outputs": [],
   "source": [
    "n1.append([100,200])\n",
    "n2.extend([100,200])"
   ]
  },
  {
   "cell_type": "code",
   "execution_count": 90,
   "id": "2be127df-c659-4b0a-933c-16a423b171e0",
   "metadata": {},
   "outputs": [
    {
     "data": {
      "text/plain": [
       "[12, 13, 14, [100, 200]]"
      ]
     },
     "execution_count": 90,
     "metadata": {},
     "output_type": "execute_result"
    }
   ],
   "source": [
    "n1"
   ]
  },
  {
   "cell_type": "code",
   "execution_count": 91,
   "id": "fe30121f-f712-4599-aa16-c603ac1a49cf",
   "metadata": {},
   "outputs": [
    {
     "data": {
      "text/plain": [
       "[12, 13, 14, 100, 200]"
      ]
     },
     "execution_count": 91,
     "metadata": {},
     "output_type": "execute_result"
    }
   ],
   "source": [
    "n2"
   ]
  },
  {
   "cell_type": "code",
   "execution_count": 92,
   "id": "9cc78d6e-4d55-4a0c-9a94-ce8cf1baa263",
   "metadata": {},
   "outputs": [
    {
     "data": {
      "text/plain": [
       "[100, 200]"
      ]
     },
     "execution_count": 92,
     "metadata": {},
     "output_type": "execute_result"
    }
   ],
   "source": [
    "n1[3]"
   ]
  },
  {
   "cell_type": "code",
   "execution_count": 93,
   "id": "9f7ad26b-0217-41b9-ab30-5140d4fe6945",
   "metadata": {},
   "outputs": [
    {
     "data": {
      "text/plain": [
       "[12, 56, 33, 40, 12, 67, 100]"
      ]
     },
     "execution_count": 93,
     "metadata": {},
     "output_type": "execute_result"
    }
   ],
   "source": [
    "l1"
   ]
  },
  {
   "cell_type": "code",
   "execution_count": 94,
   "id": "81e11215-297a-4874-b65b-fb72c903e54c",
   "metadata": {},
   "outputs": [],
   "source": [
    "l1.insert(1,1000)"
   ]
  },
  {
   "cell_type": "code",
   "execution_count": 95,
   "id": "1ecbfc01-6c6e-4165-8737-d4fb42434eac",
   "metadata": {},
   "outputs": [
    {
     "data": {
      "text/plain": [
       "[12, 1000, 56, 33, 40, 12, 67, 100]"
      ]
     },
     "execution_count": 95,
     "metadata": {},
     "output_type": "execute_result"
    }
   ],
   "source": [
    "l1"
   ]
  },
  {
   "cell_type": "code",
   "execution_count": 96,
   "id": "2fcc0419-3854-4ac0-82ea-9ef9be1cb394",
   "metadata": {},
   "outputs": [
    {
     "data": {
      "text/plain": [
       "100"
      ]
     },
     "execution_count": 96,
     "metadata": {},
     "output_type": "execute_result"
    }
   ],
   "source": [
    "l1.pop()"
   ]
  },
  {
   "cell_type": "code",
   "execution_count": 97,
   "id": "09c34fb3-adc3-4776-8e3d-f7eedc13d932",
   "metadata": {},
   "outputs": [
    {
     "data": {
      "text/plain": [
       "56"
      ]
     },
     "execution_count": 97,
     "metadata": {},
     "output_type": "execute_result"
    }
   ],
   "source": [
    "l1.pop(2)"
   ]
  },
  {
   "cell_type": "code",
   "execution_count": 98,
   "id": "4e86e82f-bff8-47bc-8ca3-70ea3b37581a",
   "metadata": {},
   "outputs": [
    {
     "data": {
      "text/plain": [
       "0"
      ]
     },
     "execution_count": 98,
     "metadata": {},
     "output_type": "execute_result"
    }
   ],
   "source": [
    "l1.index(12)"
   ]
  },
  {
   "cell_type": "code",
   "execution_count": 99,
   "id": "fadb56ef-0df8-4b2a-8037-8c76809199a7",
   "metadata": {},
   "outputs": [
    {
     "data": {
      "text/plain": [
       "2"
      ]
     },
     "execution_count": 99,
     "metadata": {},
     "output_type": "execute_result"
    }
   ],
   "source": [
    "l1.count(12)"
   ]
  },
  {
   "cell_type": "code",
   "execution_count": 100,
   "id": "02ef48ab-2bd6-44a2-b4f5-6ce50c5bca5a",
   "metadata": {},
   "outputs": [],
   "source": [
    "# coping/cloning list"
   ]
  },
  {
   "cell_type": "code",
   "execution_count": 101,
   "id": "cc08a2a7-a6fc-428b-b38e-735cd43cfb73",
   "metadata": {},
   "outputs": [
    {
     "data": {
      "text/plain": [
       "[12, 13, 14, [100, 200]]"
      ]
     },
     "execution_count": 101,
     "metadata": {},
     "output_type": "execute_result"
    }
   ],
   "source": [
    "n1"
   ]
  },
  {
   "cell_type": "code",
   "execution_count": 102,
   "id": "42eef7cd-6712-454a-8d30-fd31fea15a04",
   "metadata": {},
   "outputs": [],
   "source": [
    "c1=n1"
   ]
  },
  {
   "cell_type": "code",
   "execution_count": 103,
   "id": "6d3d85f2-66ff-4a65-91cb-4040d1431423",
   "metadata": {},
   "outputs": [
    {
     "data": {
      "text/plain": [
       "[12, 13, 14, [100, 200]]"
      ]
     },
     "execution_count": 103,
     "metadata": {},
     "output_type": "execute_result"
    }
   ],
   "source": [
    "c1"
   ]
  },
  {
   "cell_type": "code",
   "execution_count": 104,
   "id": "8d2c8625-fe1b-433f-af21-1b9ea823e99a",
   "metadata": {},
   "outputs": [
    {
     "data": {
      "text/plain": [
       "[12, 13, 14, [100, 200], 1000]"
      ]
     },
     "execution_count": 104,
     "metadata": {},
     "output_type": "execute_result"
    }
   ],
   "source": [
    "n1.append(1000)\n",
    "n1"
   ]
  },
  {
   "cell_type": "code",
   "execution_count": 105,
   "id": "75ead224-407f-4b86-b3e6-da4c76f69d22",
   "metadata": {},
   "outputs": [
    {
     "data": {
      "text/plain": [
       "[12, 13, 14, [100, 200], 1000]"
      ]
     },
     "execution_count": 105,
     "metadata": {},
     "output_type": "execute_result"
    }
   ],
   "source": [
    "c1"
   ]
  },
  {
   "cell_type": "code",
   "execution_count": 106,
   "id": "34c726cc-b1b3-4fed-b29b-df560b7a7a88",
   "metadata": {},
   "outputs": [],
   "source": [
    "c1 = n1.copy()"
   ]
  },
  {
   "cell_type": "code",
   "execution_count": 107,
   "id": "58afaff4-151f-45ea-98c9-16a35450c230",
   "metadata": {},
   "outputs": [
    {
     "data": {
      "text/plain": [
       "[12, 13, 14, [100, 200], 1000]"
      ]
     },
     "execution_count": 107,
     "metadata": {},
     "output_type": "execute_result"
    }
   ],
   "source": [
    "n1"
   ]
  },
  {
   "cell_type": "code",
   "execution_count": 108,
   "id": "19c3903b-74e5-40f3-a864-273d7b2e3d29",
   "metadata": {},
   "outputs": [
    {
     "data": {
      "text/plain": [
       "[12, 13, 14, [100, 200], 1000, 1000]"
      ]
     },
     "execution_count": 108,
     "metadata": {},
     "output_type": "execute_result"
    }
   ],
   "source": [
    "n1.append(1000)\n",
    "n1"
   ]
  },
  {
   "cell_type": "code",
   "execution_count": 109,
   "id": "4d9a242e-0824-4ea4-b62e-ee2d08e139ba",
   "metadata": {},
   "outputs": [
    {
     "data": {
      "text/plain": [
       "[12, 13, 14, [100, 200], 1000]"
      ]
     },
     "execution_count": 109,
     "metadata": {},
     "output_type": "execute_result"
    }
   ],
   "source": [
    "c1"
   ]
  },
  {
   "cell_type": "code",
   "execution_count": 110,
   "id": "9ff73eb2-8551-4707-8c6f-82d3ff9ea394",
   "metadata": {},
   "outputs": [],
   "source": [
    "n1[3][0]=1234"
   ]
  },
  {
   "cell_type": "code",
   "execution_count": 111,
   "id": "4977ce04-db92-4bf0-9e7c-9e61ba3268b0",
   "metadata": {},
   "outputs": [
    {
     "data": {
      "text/plain": [
       "[12, 13, 14, [1234, 200], 1000]"
      ]
     },
     "execution_count": 111,
     "metadata": {},
     "output_type": "execute_result"
    }
   ],
   "source": [
    "c1"
   ]
  },
  {
   "cell_type": "code",
   "execution_count": 112,
   "id": "792b07ed-470c-4a26-835d-e5981c40b546",
   "metadata": {},
   "outputs": [],
   "source": [
    "l1 = [12, 23, 34,67,45,90,11]"
   ]
  },
  {
   "cell_type": "code",
   "execution_count": 113,
   "id": "04a58052-5007-458f-87a5-2c04e094a909",
   "metadata": {},
   "outputs": [],
   "source": [
    "#iterate over the list and print -> index->value\n",
    "#eg => 0->12\n",
    "#      1->34 and  so on"
   ]
  },
  {
   "cell_type": "code",
   "execution_count": 114,
   "id": "be9ef049-bf9b-418a-b187-8dbc6ce25a70",
   "metadata": {},
   "outputs": [
    {
     "name": "stdout",
     "output_type": "stream",
     "text": [
      "0 => 12\n",
      "1 => 23\n",
      "2 => 34\n",
      "3 => 67\n",
      "4 => 45\n",
      "5 => 90\n",
      "6 => 11\n"
     ]
    }
   ],
   "source": [
    "\n",
    "for n in range(len(l1)): \n",
    "    \n",
    "    print(n,\"=>\",l1[n])\n",
    "    "
   ]
  },
  {
   "cell_type": "code",
   "execution_count": 115,
   "id": "523ebbef-3d4d-42f6-9e5c-8c3983ec773f",
   "metadata": {},
   "outputs": [
    {
     "data": {
      "text/plain": [
       "[(0, 12), (1, 23), (2, 34), (3, 67), (4, 45), (5, 90), (6, 11)]"
      ]
     },
     "execution_count": 115,
     "metadata": {},
     "output_type": "execute_result"
    }
   ],
   "source": [
    "list(enumerate(l1, start = 0))"
   ]
  },
  {
   "cell_type": "code",
   "execution_count": 116,
   "id": "c00cdc18-ab21-45a3-beda-ddbbb9f706ae",
   "metadata": {},
   "outputs": [
    {
     "name": "stdout",
     "output_type": "stream",
     "text": [
      "0 => 12\n",
      "1 => 23\n",
      "2 => 34\n",
      "3 => 67\n",
      "4 => 45\n",
      "5 => 90\n",
      "6 => 11\n"
     ]
    }
   ],
   "source": [
    "for ind, val in enumerate(l1):\n",
    "    print(f\"{ind} => {val}\")"
   ]
  },
  {
   "cell_type": "code",
   "execution_count": 117,
   "id": "cd2e2e89-e17b-46b4-9d9f-ab7f606351ac",
   "metadata": {},
   "outputs": [
    {
     "data": {
      "text/plain": [
       "[12, 23, 34, 67, 45, 90, 11]"
      ]
     },
     "execution_count": 117,
     "metadata": {},
     "output_type": "execute_result"
    }
   ],
   "source": [
    "l1"
   ]
  },
  {
   "cell_type": "code",
   "execution_count": 118,
   "id": "09fac0a5-c9bd-42cf-8b44-c3aeae3824e0",
   "metadata": {},
   "outputs": [],
   "source": [
    "l1.clear()"
   ]
  },
  {
   "cell_type": "code",
   "execution_count": 119,
   "id": "016f4d02-1685-4a21-8341-4fc34399b601",
   "metadata": {},
   "outputs": [
    {
     "data": {
      "text/plain": [
       "[]"
      ]
     },
     "execution_count": 119,
     "metadata": {},
     "output_type": "execute_result"
    }
   ],
   "source": [
    "l1"
   ]
  },
  {
   "cell_type": "code",
   "execution_count": 120,
   "id": "4941e0d3-11f9-4529-8ce4-59cdccffe7bc",
   "metadata": {},
   "outputs": [
    {
     "name": "stdout",
     "output_type": "stream",
     "text": [
      "Help on class list in module builtins:\n",
      "\n",
      "class list(object)\n",
      " |  list(iterable=(), /)\n",
      " |\n",
      " |  Built-in mutable sequence.\n",
      " |\n",
      " |  If no argument is given, the constructor creates a new empty list.\n",
      " |  The argument must be an iterable if specified.\n",
      " |\n",
      " |  Methods defined here:\n",
      " |\n",
      " |  __add__(self, value, /)\n",
      " |      Return self+value.\n",
      " |\n",
      " |  __contains__(self, key, /)\n",
      " |      Return bool(key in self).\n",
      " |\n",
      " |  __delitem__(self, key, /)\n",
      " |      Delete self[key].\n",
      " |\n",
      " |  __eq__(self, value, /)\n",
      " |      Return self==value.\n",
      " |\n",
      " |  __ge__(self, value, /)\n",
      " |      Return self>=value.\n",
      " |\n",
      " |  __getattribute__(self, name, /)\n",
      " |      Return getattr(self, name).\n",
      " |\n",
      " |  __getitem__(self, index, /)\n",
      " |      Return self[index].\n",
      " |\n",
      " |  __gt__(self, value, /)\n",
      " |      Return self>value.\n",
      " |\n",
      " |  __iadd__(self, value, /)\n",
      " |      Implement self+=value.\n",
      " |\n",
      " |  __imul__(self, value, /)\n",
      " |      Implement self*=value.\n",
      " |\n",
      " |  __init__(self, /, *args, **kwargs)\n",
      " |      Initialize self.  See help(type(self)) for accurate signature.\n",
      " |\n",
      " |  __iter__(self, /)\n",
      " |      Implement iter(self).\n",
      " |\n",
      " |  __le__(self, value, /)\n",
      " |      Return self<=value.\n",
      " |\n",
      " |  __len__(self, /)\n",
      " |      Return len(self).\n",
      " |\n",
      " |  __lt__(self, value, /)\n",
      " |      Return self<value.\n",
      " |\n",
      " |  __mul__(self, value, /)\n",
      " |      Return self*value.\n",
      " |\n",
      " |  __ne__(self, value, /)\n",
      " |      Return self!=value.\n",
      " |\n",
      " |  __repr__(self, /)\n",
      " |      Return repr(self).\n",
      " |\n",
      " |  __reversed__(self, /)\n",
      " |      Return a reverse iterator over the list.\n",
      " |\n",
      " |  __rmul__(self, value, /)\n",
      " |      Return value*self.\n",
      " |\n",
      " |  __setitem__(self, key, value, /)\n",
      " |      Set self[key] to value.\n",
      " |\n",
      " |  __sizeof__(self, /)\n",
      " |      Return the size of the list in memory, in bytes.\n",
      " |\n",
      " |  append(self, object, /)\n",
      " |      Append object to the end of the list.\n",
      " |\n",
      " |  clear(self, /)\n",
      " |      Remove all items from list.\n",
      " |\n",
      " |  copy(self, /)\n",
      " |      Return a shallow copy of the list.\n",
      " |\n",
      " |  count(self, value, /)\n",
      " |      Return number of occurrences of value.\n",
      " |\n",
      " |  extend(self, iterable, /)\n",
      " |      Extend list by appending elements from the iterable.\n",
      " |\n",
      " |  index(self, value, start=0, stop=9223372036854775807, /)\n",
      " |      Return first index of value.\n",
      " |\n",
      " |      Raises ValueError if the value is not present.\n",
      " |\n",
      " |  insert(self, index, object, /)\n",
      " |      Insert object before index.\n",
      " |\n",
      " |  pop(self, index=-1, /)\n",
      " |      Remove and return item at index (default last).\n",
      " |\n",
      " |      Raises IndexError if list is empty or index is out of range.\n",
      " |\n",
      " |  remove(self, value, /)\n",
      " |      Remove first occurrence of value.\n",
      " |\n",
      " |      Raises ValueError if the value is not present.\n",
      " |\n",
      " |  reverse(self, /)\n",
      " |      Reverse *IN PLACE*.\n",
      " |\n",
      " |  sort(self, /, *, key=None, reverse=False)\n",
      " |      Sort the list in ascending order and return None.\n",
      " |\n",
      " |      The sort is in-place (i.e. the list itself is modified) and stable (i.e. the\n",
      " |      order of two equal elements is maintained).\n",
      " |\n",
      " |      If a key function is given, apply it once to each list item and sort them,\n",
      " |      ascending or descending, according to their function values.\n",
      " |\n",
      " |      The reverse flag can be set to sort in descending order.\n",
      " |\n",
      " |  ----------------------------------------------------------------------\n",
      " |  Class methods defined here:\n",
      " |\n",
      " |  __class_getitem__(...)\n",
      " |      See PEP 585\n",
      " |\n",
      " |  ----------------------------------------------------------------------\n",
      " |  Static methods defined here:\n",
      " |\n",
      " |  __new__(*args, **kwargs)\n",
      " |      Create and return a new object.  See help(type) for accurate signature.\n",
      " |\n",
      " |  ----------------------------------------------------------------------\n",
      " |  Data and other attributes defined here:\n",
      " |\n",
      " |  __hash__ = None\n",
      "\n"
     ]
    }
   ],
   "source": [
    "help(list)"
   ]
  },
  {
   "cell_type": "code",
   "execution_count": 121,
   "id": "b0b85ed0-37d8-438b-a87e-14e260238428",
   "metadata": {},
   "outputs": [],
   "source": [
    "my_list = [10,20,30,40,50,60]"
   ]
  },
  {
   "cell_type": "code",
   "execution_count": 122,
   "id": "838b6e54-39cc-4ed7-80ba-71c252be35aa",
   "metadata": {},
   "outputs": [],
   "source": [
    "my_list[2]=35"
   ]
  },
  {
   "cell_type": "code",
   "execution_count": 123,
   "id": "aabd9c23-0bf4-49c9-a005-bfb4ade134e9",
   "metadata": {},
   "outputs": [
    {
     "data": {
      "text/plain": [
       "[10, 20, 35, 40, 50, 60]"
      ]
     },
     "execution_count": 123,
     "metadata": {},
     "output_type": "execute_result"
    }
   ],
   "source": [
    "my_list"
   ]
  },
  {
   "cell_type": "code",
   "execution_count": 124,
   "id": "a274d390-80e8-473f-bedd-fab68e62da6e",
   "metadata": {},
   "outputs": [],
   "source": [
    "my_list.append(70)"
   ]
  },
  {
   "cell_type": "code",
   "execution_count": 125,
   "id": "b0aaff9b-e0c5-4a82-b775-5ccfe6fdeeb3",
   "metadata": {},
   "outputs": [
    {
     "data": {
      "text/plain": [
       "[10, 20, 35, 40, 50, 60, 70]"
      ]
     },
     "execution_count": 125,
     "metadata": {},
     "output_type": "execute_result"
    }
   ],
   "source": [
    "my_list"
   ]
  },
  {
   "cell_type": "code",
   "execution_count": 126,
   "id": "637f33c4-e953-45ee-887a-7edb8a85ca78",
   "metadata": {},
   "outputs": [],
   "source": [
    "my_list.insert(0,5)"
   ]
  },
  {
   "cell_type": "code",
   "execution_count": 127,
   "id": "f78e87a9-89fb-4c41-b784-638b240ec1d4",
   "metadata": {},
   "outputs": [
    {
     "data": {
      "text/plain": [
       "[5, 10, 20, 35, 40, 50, 60, 70]"
      ]
     },
     "execution_count": 127,
     "metadata": {},
     "output_type": "execute_result"
    }
   ],
   "source": [
    "my_list"
   ]
  },
  {
   "cell_type": "code",
   "execution_count": 128,
   "id": "68100c65-b70c-45d5-81f2-e8c595607254",
   "metadata": {},
   "outputs": [],
   "source": [
    "\n",
    "\n",
    "my_list.remove(40)"
   ]
  },
  {
   "cell_type": "code",
   "execution_count": 129,
   "id": "54f38bef-0251-44e8-a427-3f81d9557ac2",
   "metadata": {},
   "outputs": [
    {
     "data": {
      "text/plain": [
       "[5, 10, 20, 35, 50, 60, 70]"
      ]
     },
     "execution_count": 129,
     "metadata": {},
     "output_type": "execute_result"
    }
   ],
   "source": [
    "my_list"
   ]
  },
  {
   "cell_type": "code",
   "execution_count": 130,
   "id": "597d9c60-9764-4496-9016-8a14a89c33f3",
   "metadata": {},
   "outputs": [],
   "source": [
    "l=[12,7,23,48,15,66,9]"
   ]
  },
  {
   "cell_type": "code",
   "execution_count": 131,
   "id": "adec9a65-904d-4b52-a8a7-0727e3110bfd",
   "metadata": {},
   "outputs": [
    {
     "data": {
      "text/plain": [
       "[12, 7, 23, 48, 15, 66, 9]"
      ]
     },
     "execution_count": 131,
     "metadata": {},
     "output_type": "execute_result"
    }
   ],
   "source": [
    "l"
   ]
  },
  {
   "cell_type": "code",
   "execution_count": 132,
   "id": "2801e8c7-440f-4f77-9e0e-130717a8b3ff",
   "metadata": {},
   "outputs": [
    {
     "name": "stdout",
     "output_type": "stream",
     "text": [
      "126\n"
     ]
    }
   ],
   "source": [
    "sum=0\n",
    "for i in l:\n",
    "    if i%2==0:\n",
    "        sum=sum+i\n",
    "print(sum)    "
   ]
  },
  {
   "cell_type": "code",
   "execution_count": 133,
   "id": "01d1f6d1-8484-4eb2-a120-366f076bc843",
   "metadata": {},
   "outputs": [],
   "source": [
    "l1 = ['apple','banana','cherry','date','elderberry']"
   ]
  },
  {
   "cell_type": "code",
   "execution_count": 134,
   "id": "6eda933a-65a7-4f50-a1ac-52fa14382ae7",
   "metadata": {},
   "outputs": [
    {
     "data": {
      "text/plain": [
       "['apple', 'banana', 'cherry', 'date', 'elderberry']"
      ]
     },
     "execution_count": 134,
     "metadata": {},
     "output_type": "execute_result"
    }
   ],
   "source": [
    "l1"
   ]
  },
  {
   "cell_type": "code",
   "execution_count": 135,
   "id": "34f9edeb-8ae7-4286-ac77-9af08688b4b7",
   "metadata": {},
   "outputs": [
    {
     "data": {
      "text/plain": [
       "['elderberry', 'date', 'cherry', 'banana', 'apple']"
      ]
     },
     "execution_count": 135,
     "metadata": {},
     "output_type": "execute_result"
    }
   ],
   "source": [
    "l1[::-1]"
   ]
  },
  {
   "cell_type": "code",
   "execution_count": 136,
   "id": "d36bd74d-86f9-44b8-9a40-440600186a3d",
   "metadata": {},
   "outputs": [
    {
     "name": "stdout",
     "output_type": "stream",
     "text": [
      "['elderberry', 'date', 'cherry', 'banana', 'apple']\n"
     ]
    }
   ],
   "source": [
    "\n",
    "for i in l1:\n",
    "    new1= sorted(l1,reverse=True)\n",
    "print(new1)        "
   ]
  },
  {
   "cell_type": "code",
   "execution_count": null,
   "id": "c3fc5b87-e343-47a0-919e-46455a6dc155",
   "metadata": {},
   "outputs": [],
   "source": []
  }
 ],
 "metadata": {
  "kernelspec": {
   "display_name": "Python 3 (ipykernel)",
   "language": "python",
   "name": "python3"
  },
  "language_info": {
   "codemirror_mode": {
    "name": "ipython",
    "version": 3
   },
   "file_extension": ".py",
   "mimetype": "text/x-python",
   "name": "python",
   "nbconvert_exporter": "python",
   "pygments_lexer": "ipython3",
   "version": "3.12.7"
  }
 },
 "nbformat": 4,
 "nbformat_minor": 5
}
