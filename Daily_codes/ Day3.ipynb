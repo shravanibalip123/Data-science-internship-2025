{
 "cells": [
  {
   "cell_type": "code",
   "execution_count": 4,
   "id": "6bf98ee9-47ed-49b6-96b0-f415590e9509",
   "metadata": {},
   "outputs": [
    {
     "name": "stdin",
     "output_type": "stream",
     "text": [
      "enter the number 67\n"
     ]
    },
    {
     "name": "stdout",
     "output_type": "stream",
     "text": [
      "ok\n"
     ]
    }
   ],
   "source": [
    "# check if number is greater than 50 or not\n",
    "num=int(input(\"enter the number\"))\n",
    "if  num>50:\n",
    "    print(\"ok\")"
   ]
  },
  {
   "cell_type": "code",
   "execution_count": 8,
   "id": "4c25c962-e81a-430f-95b9-d870eabca5e9",
   "metadata": {},
   "outputs": [
    {
     "name": "stdin",
     "output_type": "stream",
     "text": [
      "enter the number 0\n"
     ]
    },
    {
     "name": "stdout",
     "output_type": "stream",
     "text": [
      "zero\n"
     ]
    }
   ],
   "source": [
    "# check if the number is positive or negative\n",
    "num=int(input(\"enter the number\"))\n",
    "if num > 0:\n",
    "    print(\"positive\")# compalsory, not optional\n",
    "elif num==0:\n",
    "    print(\"zero\") # not compalsory, optional\n",
    "else:\n",
    "    print(\"negative\") # not compalsory, not optional"
   ]
  },
  {
   "cell_type": "code",
   "execution_count": 9,
   "id": "f639dbf4-b465-40c0-9a14-3391f14eafba",
   "metadata": {},
   "outputs": [
    {
     "name": "stdin",
     "output_type": "stream",
     "text": [
      "enter the number to check even or odd 4\n"
     ]
    },
    {
     "name": "stdout",
     "output_type": "stream",
     "text": [
      "num is even\n"
     ]
    }
   ],
   "source": [
    "# check if the number is even or odd\n",
    "num=int(input(\"enter the number to check even or odd\"))\n",
    "if num%2==0:\n",
    "    print(\"num is even\")\n",
    "else:\n",
    "    print (\"number is odd\")"
   ]
  },
  {
   "cell_type": "code",
   "execution_count": 10,
   "id": "98854d40-9ca3-4684-9e75-ae1c0aae95f3",
   "metadata": {},
   "outputs": [
    {
     "data": {
      "text/plain": [
       "1"
      ]
     },
     "execution_count": 10,
     "metadata": {},
     "output_type": "execute_result"
    }
   ],
   "source": [
    "int(True)"
   ]
  },
  {
   "cell_type": "code",
   "execution_count": 11,
   "id": "ec45fd2c-4c8d-4305-bda0-5b5134b2d387",
   "metadata": {},
   "outputs": [
    {
     "data": {
      "text/plain": [
       "0"
      ]
     },
     "execution_count": 11,
     "metadata": {},
     "output_type": "execute_result"
    }
   ],
   "source": [
    "int(False)"
   ]
  },
  {
   "cell_type": "code",
   "execution_count": 12,
   "id": "f6b1d0a5-e865-4d99-8445-361d214ebaf2",
   "metadata": {},
   "outputs": [
    {
     "data": {
      "text/plain": [
       "2"
      ]
     },
     "execution_count": 12,
     "metadata": {},
     "output_type": "execute_result"
    }
   ],
   "source": [
    "True+True+False"
   ]
  },
  {
   "cell_type": "code",
   "execution_count": 13,
   "id": "6aa9468b-2459-47c5-b715-6f669294627f",
   "metadata": {},
   "outputs": [
    {
     "name": "stdout",
     "output_type": "stream",
     "text": [
      "exists\n"
     ]
    }
   ],
   "source": [
    "a=15\n",
    "if a:\n",
    "    print(\"exists\")"
   ]
  },
  {
   "cell_type": "code",
   "execution_count": 19,
   "id": "65202759-f439-497b-8361-9f99ccc04c91",
   "metadata": {},
   "outputs": [
    {
     "name": "stdin",
     "output_type": "stream",
     "text": [
      "enter the number 57\n"
     ]
    },
    {
     "name": "stdout",
     "output_type": "stream",
     "text": [
      "num between 50 and 100\n"
     ]
    }
   ],
   "source": [
    "#using nested if check if the number is between 50 and 100\n",
    "num=int(input(\"enter the number\"))\n",
    "if(num >50):\n",
    "    if(num <100):\n",
    "        print(\"num between 50 and 100\")\n",
    "    else:\n",
    "        print(\"num is greater than 50 but not less than 100\")\n",
    "else:\n",
    "    print(\"less than 50\")"
   ]
  },
  {
   "cell_type": "code",
   "execution_count": 20,
   "id": "6bd47056-6e5b-4ecb-b879-8ac6dfdae10f",
   "metadata": {},
   "outputs": [
    {
     "name": "stdin",
     "output_type": "stream",
     "text": [
      "enter the number 24\n"
     ]
    },
    {
     "name": "stdout",
     "output_type": "stream",
     "text": [
      "not correct\n"
     ]
    }
   ],
   "source": [
    "num=int(input(\"enter the number\"))\n",
    "\n",
    "if num>50 and num<100:\n",
    "    print(\"correct\")\n",
    "else:\n",
    "    print(\"not correct\")"
   ]
  },
  {
   "cell_type": "code",
   "execution_count": 23,
   "id": "cc0306a9-3030-4e8c-8b5d-177039634ea1",
   "metadata": {},
   "outputs": [
    {
     "name": "stdin",
     "output_type": "stream",
     "text": [
      "enter the purchase prise 500\n",
      "enter the selling price 400\n"
     ]
    },
    {
     "name": "stdout",
     "output_type": "stream",
     "text": [
      "100.0 loss\n"
     ]
    }
   ],
   "source": [
    "#read the purchase and selling cost from user find the profit or loss how much\n",
    "pur_price=float(input(\"enter the purchase prise\"))\n",
    "sell_price=float(input(\"enter the selling price\"))\n",
    "if sell_price>pur_price:\n",
    "    profit=sell_price-pur_price  \n",
    "    print(f\"{profit} profit\")\n",
    "else:\n",
    "    loss=pur_price-sell_price\n",
    "    print(f\"{loss} loss\")"
   ]
  },
  {
   "cell_type": "code",
   "execution_count": 31,
   "id": "1318ddca-07da-45d0-9962-870d0cb6e925",
   "metadata": {},
   "outputs": [
    {
     "name": "stdin",
     "output_type": "stream",
     "text": [
      "enter the number 1  23\n",
      "enter the number 2 45\n",
      "enter the number 3 67\n"
     ]
    },
    {
     "name": "stdout",
     "output_type": "stream",
     "text": [
      "number 3 is greater\n"
     ]
    }
   ],
   "source": [
    "#read 3 numbers and fint the largest\n",
    "#use nested if only('and','or' not allowed)\n",
    "num1=int(input(\"enter the number 1 \"))\n",
    "num2=int(input(\"enter the number 2\"))\n",
    "num3=int(input(\"enter the number 3\"))\n",
    "\n",
    "if num1>num2:\n",
    "    if num1>num3:\n",
    "        print(\"number 1 is greater\")\n",
    "    else:\n",
    "        print(\"number 3 is greater\")\n",
    "else:\n",
    "    if num2>num3:\n",
    "         print(\"number 2 is greater\")\n",
    "    else:\n",
    "        print(\"number 3 is greater\")\n",
    "            "
   ]
  },
  {
   "cell_type": "code",
   "execution_count": 40,
   "id": "276e1bed-6b34-456f-8ee1-4578b82f582c",
   "metadata": {},
   "outputs": [
    {
     "name": "stdin",
     "output_type": "stream",
     "text": [
      "enter the year 1900\n"
     ]
    },
    {
     "name": "stdout",
     "output_type": "stream",
     "text": [
      "century but not leap year\n"
     ]
    }
   ],
   "source": [
    "#write a program to take input of year to check year is leap or nut\n",
    "year=int(input(\"enter the year\"))\n",
    "\n",
    "if(year%4==0):\n",
    "    if(year%100==0):\n",
    "        if(year%400==0):\n",
    "            print(\" leap year\")\n",
    "        else:\n",
    "            print(\"century but not leap year\")\n",
    "    else:\n",
    "        print(\"leap year\")\n",
    "else:\n",
    "     print(\" not a leap year\")\n",
    "        "
   ]
  },
  {
   "cell_type": "code",
   "execution_count": 41,
   "id": "6c9c09e1-0de5-4a77-8a6a-e76622262d2b",
   "metadata": {},
   "outputs": [
    {
     "name": "stdin",
     "output_type": "stream",
     "text": [
      "enter the phy marks 45\n",
      "enter the chem marks 78\n",
      "enter the maths marks 90\n"
     ]
    },
    {
     "name": "stdout",
     "output_type": "stream",
     "text": [
      "Grade A\n"
     ]
    }
   ],
   "source": [
    "#grade according to marks\n",
    "# take marks for phy, chem and maths\n",
    "#if avg marks>80=>dist,70 to 80=>A, 60 to 70=> B,50 to 60=>C,\n",
    "#<50=>F\n",
    "phy=float(input(\"enter the phy marks\"))\n",
    "chem=float(input(\"enter the chem marks\"))\n",
    "maths=float(input(\"enter the maths marks\"))\n",
    "tot=phy+chem+maths\n",
    "avg=tot/3\n",
    "if avg>80:\n",
    "    print(\"Dist\")\n",
    "elif avg>70 and avg<80:\n",
    "    print(\"Grade A\")\n",
    "elif avg>60 and avg<70:\n",
    "    print(\"Grade B\")\n",
    "elif avg>50 and avg<60:\n",
    "    print(\"Grade c\")\n",
    "else:\n",
    "    print(\"fail\")\n"
   ]
  },
  {
   "cell_type": "code",
   "execution_count": 44,
   "id": "e5f95f37-3081-462c-a537-5740573cbdbe",
   "metadata": {},
   "outputs": [
    {
     "name": "stdout",
     "output_type": "stream",
     "text": [
      "Welcome !!!!\n",
      "\n"
     ]
    },
    {
     "name": "stdin",
     "output_type": "stream",
     "text": [
      "enter the number\n",
      " 30\n"
     ]
    },
    {
     "name": "stdout",
     "output_type": "stream",
     "text": [
      "MENU => \n",
      " 1.Square\n",
      " 2.Cube\n",
      " 3.positive or negative\n"
     ]
    },
    {
     "name": "stdin",
     "output_type": "stream",
     "text": [
      "Please enter your choice 2\n"
     ]
    },
    {
     "name": "stdout",
     "output_type": "stream",
     "text": [
      "Cube is : 27000\n"
     ]
    }
   ],
   "source": [
    "print(\"Welcome !!!!\\n\")\n",
    "\n",
    "num=int(input(\"enter the number\\n\"))\n",
    "\n",
    "print(\"MENU => \\n 1.Square\\n 2.Cube\\n 3.positive or negative\")\n",
    "\n",
    "ch=int(input(\"Please enter your choice\"))\n",
    "\n",
    "if ch==1:\n",
    "    print(\"Square is: \",num**2)\n",
    "elif ch==2:\n",
    "    print(\"Cube is :\",num**3)\n",
    "elif ch==3:\n",
    "    if num>0:\n",
    "        print(\"num is positive\")\n",
    "    else:\n",
    "        print(\"num is negative\")\n",
    "else:\n",
    "    print(\"Oh great homo sapien please visit nearest hospital !!!\")\n",
    "\n",
    "        "
   ]
  },
  {
   "cell_type": "code",
   "execution_count": null,
   "id": "de52a55a-2af6-4af7-9e46-b84be93ec526",
   "metadata": {},
   "outputs": [],
   "source": []
  }
 ],
 "metadata": {
  "kernelspec": {
   "display_name": "Python 3 (ipykernel)",
   "language": "python",
   "name": "python3"
  },
  "language_info": {
   "codemirror_mode": {
    "name": "ipython",
    "version": 3
   },
   "file_extension": ".py",
   "mimetype": "text/x-python",
   "name": "python",
   "nbconvert_exporter": "python",
   "pygments_lexer": "ipython3",
   "version": "3.12.7"
  }
 },
 "nbformat": 4,
 "nbformat_minor": 5
}
