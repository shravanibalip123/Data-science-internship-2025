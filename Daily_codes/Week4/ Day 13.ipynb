{
 "cells": [
  {
   "cell_type": "code",
   "execution_count": 3,
   "id": "d651463f-44cb-4cd6-910e-d738547a3ab4",
   "metadata": {},
   "outputs": [],
   "source": [
    "import numpy as np"
   ]
  },
  {
   "cell_type": "code",
   "execution_count": 4,
   "id": "e6e02c89-dac2-42f6-9028-d09258ea7016",
   "metadata": {},
   "outputs": [],
   "source": [
    "arr = np.array([23,45,67,89,10])"
   ]
  },
  {
   "cell_type": "code",
   "execution_count": 5,
   "id": "1b160b34-7eab-43f7-be5e-32bb2988bc55",
   "metadata": {},
   "outputs": [
    {
     "name": "stdout",
     "output_type": "stream",
     "text": [
      "[23 45 67 89 10]\n"
     ]
    }
   ],
   "source": [
    "print(arr)"
   ]
  },
  {
   "cell_type": "code",
   "execution_count": 6,
   "id": "1f2f970f-581a-49e0-8038-ac7847f01606",
   "metadata": {},
   "outputs": [
    {
     "data": {
      "text/plain": [
       "array([23, 45, 67, 89, 10])"
      ]
     },
     "execution_count": 6,
     "metadata": {},
     "output_type": "execute_result"
    }
   ],
   "source": [
    "arr"
   ]
  },
  {
   "cell_type": "code",
   "execution_count": 7,
   "id": "605d9369-d9bb-44d6-be17-8cf405f39b37",
   "metadata": {},
   "outputs": [
    {
     "data": {
      "text/plain": [
       "numpy.ndarray"
      ]
     },
     "execution_count": 7,
     "metadata": {},
     "output_type": "execute_result"
    }
   ],
   "source": [
    " type(arr)"
   ]
  },
  {
   "cell_type": "code",
   "execution_count": 8,
   "id": "e90ef697-e24d-4c48-aa0a-081338860f25",
   "metadata": {},
   "outputs": [
    {
     "data": {
      "text/plain": [
       "67"
      ]
     },
     "execution_count": 8,
     "metadata": {},
     "output_type": "execute_result"
    }
   ],
   "source": [
    "arr[2]"
   ]
  },
  {
   "cell_type": "code",
   "execution_count": 9,
   "id": "48321362-c9ae-4c69-a1c9-511d4b79ce5d",
   "metadata": {},
   "outputs": [],
   "source": [
    "arr[2]= 30 # mutablea"
   ]
  },
  {
   "cell_type": "code",
   "execution_count": 10,
   "id": "08c995fc-2104-4c83-97bd-e98a024f2d74",
   "metadata": {},
   "outputs": [
    {
     "data": {
      "text/plain": [
       "array([23, 45, 30, 89, 10])"
      ]
     },
     "execution_count": 10,
     "metadata": {},
     "output_type": "execute_result"
    }
   ],
   "source": [
    "arr"
   ]
  },
  {
   "cell_type": "code",
   "execution_count": 11,
   "id": "0a0f9e48-91f0-4eb5-bd09-5ae7a2263365",
   "metadata": {},
   "outputs": [],
   "source": [
    "arr[2]=10"
   ]
  },
  {
   "cell_type": "code",
   "execution_count": 12,
   "id": "7080ad27-4551-402b-b9ba-b896c9658e80",
   "metadata": {},
   "outputs": [
    {
     "data": {
      "text/plain": [
       "array([23, 45, 10, 89, 10])"
      ]
     },
     "execution_count": 12,
     "metadata": {},
     "output_type": "execute_result"
    }
   ],
   "source": [
    "arr\n"
   ]
  },
  {
   "cell_type": "code",
   "execution_count": 13,
   "id": "343ba630-266f-4de5-ad27-ec12d4245514",
   "metadata": {},
   "outputs": [],
   "source": [
    "arr1 = np.array([12,34,98,55,True,\"pune\"]) ## homogeneous"
   ]
  },
  {
   "cell_type": "code",
   "execution_count": 14,
   "id": "a464cc5e-a5a9-406b-ba7c-e20c0ee31d67",
   "metadata": {},
   "outputs": [
    {
     "data": {
      "text/plain": [
       "array(['12', '34', '98', '55', 'True', 'pune'], dtype='<U11')"
      ]
     },
     "execution_count": 14,
     "metadata": {},
     "output_type": "execute_result"
    }
   ],
   "source": [
    "arr1"
   ]
  },
  {
   "cell_type": "code",
   "execution_count": 15,
   "id": "12fc7f54-ca1c-4cf0-90ca-a933a0e45877",
   "metadata": {},
   "outputs": [
    {
     "data": {
      "text/plain": [
       "'pune'"
      ]
     },
     "execution_count": 15,
     "metadata": {},
     "output_type": "execute_result"
    }
   ],
   "source": [
    "arr1[5]"
   ]
  },
  {
   "cell_type": "code",
   "execution_count": 16,
   "id": "d3d74c6f-1025-4738-8f39-e43a586961ea",
   "metadata": {},
   "outputs": [
    {
     "data": {
      "text/plain": [
       "dtype('<U11')"
      ]
     },
     "execution_count": 16,
     "metadata": {},
     "output_type": "execute_result"
    }
   ],
   "source": [
    "arr1.dtype"
   ]
  },
  {
   "cell_type": "code",
   "execution_count": 17,
   "id": "ccbc3f55-775a-47e6-9642-57a343c5868e",
   "metadata": {},
   "outputs": [
    {
     "data": {
      "text/plain": [
       "array([23, 45, 10, 89, 10])"
      ]
     },
     "execution_count": 17,
     "metadata": {},
     "output_type": "execute_result"
    }
   ],
   "source": [
    "arr"
   ]
  },
  {
   "cell_type": "code",
   "execution_count": 18,
   "id": "f8412494-e160-4a78-b987-2bda6c1b0039",
   "metadata": {},
   "outputs": [
    {
     "data": {
      "text/plain": [
       "array([ 46,  90,  20, 178,  20])"
      ]
     },
     "execution_count": 18,
     "metadata": {},
     "output_type": "execute_result"
    }
   ],
   "source": [
    "arr * 2"
   ]
  },
  {
   "cell_type": "markdown",
   "id": "95e6c89d-3861-42dc-acf4-207d6b297c8c",
   "metadata": {},
   "source": [
    "### check which one is faster .... list or array"
   ]
  },
  {
   "cell_type": "code",
   "execution_count": 26,
   "id": "853f5128-46e4-499c-a306-75b3b6ebfcd2",
   "metadata": {},
   "outputs": [],
   "source": [
    "import time"
   ]
  },
  {
   "cell_type": "code",
   "execution_count": 27,
   "id": "23dcad3a-4a34-4eec-a163-216c9708e057",
   "metadata": {},
   "outputs": [
    {
     "data": {
      "text/plain": [
       "1750658300.1846833"
      ]
     },
     "execution_count": 27,
     "metadata": {},
     "output_type": "execute_result"
    }
   ],
   "source": [
    "time.time()"
   ]
  },
  {
   "cell_type": "code",
   "execution_count": 28,
   "id": "ba964ac0-2ca5-440c-909e-11eb86068dba",
   "metadata": {},
   "outputs": [],
   "source": [
    "s = 100000\n",
    "list1 = list(range(s))\n",
    "arr1 = np.array(list1)"
   ]
  },
  {
   "cell_type": "code",
   "execution_count": 29,
   "id": "c6fa68f1-da26-4ad8-bd53-8d117214286f",
   "metadata": {},
   "outputs": [
    {
     "name": "stdout",
     "output_type": "stream",
     "text": [
      "time taken by list: 0.016424179077148438\n"
     ]
    }
   ],
   "source": [
    "# for list\n",
    "start_time = time.time()\n",
    "x =[i*2 for i in list1]\n",
    "time_list = time.time() - start_time\n",
    "print(\"time taken by list:\",time_list)"
   ]
  },
  {
   "cell_type": "code",
   "execution_count": 30,
   "id": "b6907f8c-24c6-4a07-8189-c51c2f4e9816",
   "metadata": {},
   "outputs": [
    {
     "name": "stdout",
     "output_type": "stream",
     "text": [
      "time taken by arr: 0.0018792152404785156\n"
     ]
    }
   ],
   "source": [
    "# for array\n",
    "start_time = time.time()\n",
    "y = arr1*2\n",
    "time_arr = time.time() - start_time\n",
    "print(\"time taken by arr:\",time_arr)"
   ]
  },
  {
   "cell_type": "code",
   "execution_count": 31,
   "id": "7e27a5f9-774b-4cb1-b743-3e460ff7b5ba",
   "metadata": {},
   "outputs": [],
   "source": [
    "# arangne"
   ]
  },
  {
   "cell_type": "code",
   "execution_count": 32,
   "id": "95e47a09-5e7e-4e7d-9b18-3907b5fef67c",
   "metadata": {},
   "outputs": [],
   "source": [
    "a =  np.arange(10)"
   ]
  },
  {
   "cell_type": "code",
   "execution_count": 33,
   "id": "afe32600-5437-4027-aef8-cc656749dad3",
   "metadata": {},
   "outputs": [
    {
     "data": {
      "text/plain": [
       "array([0, 1, 2, 3, 4, 5, 6, 7, 8, 9])"
      ]
     },
     "execution_count": 33,
     "metadata": {},
     "output_type": "execute_result"
    }
   ],
   "source": [
    "a"
   ]
  },
  {
   "cell_type": "code",
   "execution_count": 37,
   "id": "ded0d295-988c-4f1b-b493-00bfcda55dbf",
   "metadata": {},
   "outputs": [
    {
     "data": {
      "text/plain": [
       "array([ 5,  6,  7,  8,  9, 10, 11, 12, 13, 14])"
      ]
     },
     "execution_count": 37,
     "metadata": {},
     "output_type": "execute_result"
    }
   ],
   "source": [
    "np.arange(5,15)"
   ]
  },
  {
   "cell_type": "code",
   "execution_count": 38,
   "id": "8ca19753-fc56-4c34-8901-9578834b2350",
   "metadata": {},
   "outputs": [
    {
     "data": {
      "text/plain": [
       "array([-5. , -4.5, -4. , -3.5, -3. , -2.5, -2. , -1.5, -1. , -0.5,  0. ,\n",
       "        0.5,  1. ,  1.5,  2. ,  2.5,  3. ,  3.5,  4. ,  4.5])"
      ]
     },
     "execution_count": 38,
     "metadata": {},
     "output_type": "execute_result"
    }
   ],
   "source": [
    "np.arange(-5,5,0.5)"
   ]
  },
  {
   "cell_type": "code",
   "execution_count": 39,
   "id": "a2b5063b-d12c-409d-8975-41048fdbe064",
   "metadata": {},
   "outputs": [
    {
     "data": {
      "text/plain": [
       "array([0., 0., 0., 0., 0.])"
      ]
     },
     "execution_count": 39,
     "metadata": {},
     "output_type": "execute_result"
    }
   ],
   "source": [
    "np.zeros(5)"
   ]
  },
  {
   "cell_type": "code",
   "execution_count": 40,
   "id": "34511ce5-326b-4f8d-8510-a09b58b9a204",
   "metadata": {},
   "outputs": [
    {
     "data": {
      "text/plain": [
       "array([1., 1., 1., 1., 1.])"
      ]
     },
     "execution_count": 40,
     "metadata": {},
     "output_type": "execute_result"
    }
   ],
   "source": [
    "np.ones(5)"
   ]
  },
  {
   "cell_type": "code",
   "execution_count": 41,
   "id": "6351fa80-4689-49c6-96ae-bbd1be1f0424",
   "metadata": {},
   "outputs": [
    {
     "data": {
      "text/plain": [
       "1"
      ]
     },
     "execution_count": 41,
     "metadata": {},
     "output_type": "execute_result"
    }
   ],
   "source": [
    "arr.ndim"
   ]
  },
  {
   "cell_type": "code",
   "execution_count": 42,
   "id": "37cddcc6-e391-4b0a-8ef4-e9bde517e4c8",
   "metadata": {},
   "outputs": [],
   "source": [
    "## 2-d array"
   ]
  },
  {
   "cell_type": "code",
   "execution_count": 48,
   "id": "b289ef63-bab5-4b09-92b3-0324c61fc993",
   "metadata": {},
   "outputs": [],
   "source": [
    "arr = np. array([[1,2,3],[4,5,6],[8,5,3],[6,4,1]])"
   ]
  },
  {
   "cell_type": "code",
   "execution_count": 49,
   "id": "a1bc57d1-2bdc-48bd-adf9-fcc154ee3e04",
   "metadata": {},
   "outputs": [
    {
     "data": {
      "text/plain": [
       "array([[1, 2, 3],\n",
       "       [4, 5, 6],\n",
       "       [8, 5, 3],\n",
       "       [6, 4, 1]])"
      ]
     },
     "execution_count": 49,
     "metadata": {},
     "output_type": "execute_result"
    }
   ],
   "source": [
    "arr"
   ]
  },
  {
   "cell_type": "code",
   "execution_count": 50,
   "id": "689f0259-7560-472b-9308-18085d2817d7",
   "metadata": {},
   "outputs": [
    {
     "data": {
      "text/plain": [
       "12"
      ]
     },
     "execution_count": 50,
     "metadata": {},
     "output_type": "execute_result"
    }
   ],
   "source": [
    "arr.size"
   ]
  },
  {
   "cell_type": "code",
   "execution_count": 51,
   "id": "cabac7de-9776-448f-be43-151938b8ed5a",
   "metadata": {},
   "outputs": [
    {
     "data": {
      "text/plain": [
       "(4, 3)"
      ]
     },
     "execution_count": 51,
     "metadata": {},
     "output_type": "execute_result"
    }
   ],
   "source": [
    "arr.shape"
   ]
  },
  {
   "cell_type": "code",
   "execution_count": 52,
   "id": "af9e4592-c588-4e59-a9da-a5e55b4f2dab",
   "metadata": {},
   "outputs": [
    {
     "data": {
      "text/plain": [
       "array([1, 2, 3, 4, 5, 6, 8, 5, 3, 6, 4, 1])"
      ]
     },
     "execution_count": 52,
     "metadata": {},
     "output_type": "execute_result"
    }
   ],
   "source": [
    "arr.flatten()"
   ]
  },
  {
   "cell_type": "code",
   "execution_count": 53,
   "id": "1684121e-1192-476a-8c28-f750147b6d1c",
   "metadata": {},
   "outputs": [
    {
     "data": {
      "text/plain": [
       "1"
      ]
     },
     "execution_count": 53,
     "metadata": {},
     "output_type": "execute_result"
    }
   ],
   "source": [
    "arr.flatten().ndim"
   ]
  },
  {
   "cell_type": "code",
   "execution_count": 54,
   "id": "1f7954a0-9fff-44ba-952d-625cc7f0fbf0",
   "metadata": {},
   "outputs": [
    {
     "data": {
      "text/plain": [
       "array([[1, 2],\n",
       "       [3, 4],\n",
       "       [5, 6],\n",
       "       [8, 5],\n",
       "       [3, 6],\n",
       "       [4, 1]])"
      ]
     },
     "execution_count": 54,
     "metadata": {},
     "output_type": "execute_result"
    }
   ],
   "source": [
    "arr.reshape(6,2)\n"
   ]
  },
  {
   "cell_type": "code",
   "execution_count": 57,
   "id": "91268397-ce1d-46f5-91ce-b147aeef6ade",
   "metadata": {},
   "outputs": [
    {
     "data": {
      "text/plain": [
       "array([[1, 2, 3, 4, 5, 6],\n",
       "       [8, 5, 3, 6, 4, 1]])"
      ]
     },
     "execution_count": 57,
     "metadata": {},
     "output_type": "execute_result"
    }
   ],
   "source": [
    "arr.reshape(2,6)"
   ]
  },
  {
   "cell_type": "code",
   "execution_count": 58,
   "id": "641c30f4-23fd-4219-8010-2332d86e579f",
   "metadata": {},
   "outputs": [
    {
     "data": {
      "text/plain": [
       "array([[1, 2, 3, 4, 5, 6],\n",
       "       [8, 5, 3, 6, 4, 1]])"
      ]
     },
     "execution_count": 58,
     "metadata": {},
     "output_type": "execute_result"
    }
   ],
   "source": [
    "arr.reshape(2,-1)"
   ]
  },
  {
   "cell_type": "code",
   "execution_count": 60,
   "id": "773a202c-88e2-4e90-8855-d325e543acdf",
   "metadata": {},
   "outputs": [
    {
     "data": {
      "text/plain": [
       "array([[1, 2],\n",
       "       [3, 4],\n",
       "       [5, 6],\n",
       "       [8, 5],\n",
       "       [3, 6],\n",
       "       [4, 1]])"
      ]
     },
     "execution_count": 60,
     "metadata": {},
     "output_type": "execute_result"
    }
   ],
   "source": [
    "arr.reshape(-1,2)"
   ]
  },
  {
   "cell_type": "code",
   "execution_count": 61,
   "id": "88406d78-a8c9-448a-97dc-fcbb9d9a3f5f",
   "metadata": {},
   "outputs": [
    {
     "data": {
      "text/plain": [
       "array([[[1],\n",
       "        [2],\n",
       "        [3],\n",
       "        [4],\n",
       "        [5],\n",
       "        [6]],\n",
       "\n",
       "       [[8],\n",
       "        [5],\n",
       "        [3],\n",
       "        [6],\n",
       "        [4],\n",
       "        [1]]])"
      ]
     },
     "execution_count": 61,
     "metadata": {},
     "output_type": "execute_result"
    }
   ],
   "source": [
    "arr.reshape(2,6,1)"
   ]
  },
  {
   "cell_type": "code",
   "execution_count": 62,
   "id": "61b77a74-298a-4725-be29-e76cb5d5b24a",
   "metadata": {},
   "outputs": [
    {
     "data": {
      "text/plain": [
       "array([[[1, 2],\n",
       "        [3, 4]],\n",
       "\n",
       "       [[5, 6],\n",
       "        [8, 5]],\n",
       "\n",
       "       [[3, 6],\n",
       "        [4, 1]]])"
      ]
     },
     "execution_count": 62,
     "metadata": {},
     "output_type": "execute_result"
    }
   ],
   "source": [
    "arr.reshape(3,2,2)"
   ]
  },
  {
   "cell_type": "code",
   "execution_count": 63,
   "id": "836490e4-d9c1-4b15-b98c-ab6f98dba49a",
   "metadata": {},
   "outputs": [],
   "source": [
    "# slicing"
   ]
  },
  {
   "cell_type": "code",
   "execution_count": 64,
   "id": "d2d5120c-b577-47b9-be73-6975caa5e2b5",
   "metadata": {},
   "outputs": [
    {
     "data": {
      "text/plain": [
       "array([[1, 2, 3],\n",
       "       [4, 5, 6],\n",
       "       [8, 5, 3],\n",
       "       [6, 4, 1]])"
      ]
     },
     "execution_count": 64,
     "metadata": {},
     "output_type": "execute_result"
    }
   ],
   "source": [
    "arr"
   ]
  },
  {
   "cell_type": "code",
   "execution_count": 65,
   "id": "3882e86f-3131-4546-8449-2ec7cc3ddff9",
   "metadata": {},
   "outputs": [
    {
     "data": {
      "text/plain": [
       "array([ 3,  4,  5,  6,  7,  8,  9, 10, 11, 12])"
      ]
     },
     "execution_count": 65,
     "metadata": {},
     "output_type": "execute_result"
    }
   ],
   "source": [
    "arr1 = np.arange(3,13)\n",
    "arr1"
   ]
  },
  {
   "cell_type": "code",
   "execution_count": 66,
   "id": "354e4ac2-a140-47c1-bb81-db7c39e5a920",
   "metadata": {},
   "outputs": [
    {
     "data": {
      "text/plain": [
       "array([6, 7, 8, 9])"
      ]
     },
     "execution_count": 66,
     "metadata": {},
     "output_type": "execute_result"
    }
   ],
   "source": [
    "arr1[3:7]"
   ]
  },
  {
   "cell_type": "code",
   "execution_count": 67,
   "id": "d790124a-40ea-4077-b9b4-02c91cc9418d",
   "metadata": {},
   "outputs": [
    {
     "data": {
      "text/plain": [
       "array([[4, 5],\n",
       "       [8, 5]])"
      ]
     },
     "execution_count": 67,
     "metadata": {},
     "output_type": "execute_result"
    }
   ],
   "source": [
    "arr[1:3,0:2]"
   ]
  },
  {
   "cell_type": "code",
   "execution_count": 68,
   "id": "f53827fd-9581-4515-8dcc-3de1eb2c6d40",
   "metadata": {},
   "outputs": [
    {
     "data": {
      "text/plain": [
       "array([[4, 5, 6],\n",
       "       [8, 5, 3]])"
      ]
     },
     "execution_count": 68,
     "metadata": {},
     "output_type": "execute_result"
    }
   ],
   "source": [
    "arr[1:3,0:3]"
   ]
  },
  {
   "cell_type": "code",
   "execution_count": 69,
   "id": "82e232f8-bcc7-4512-8b22-56f16cddd628",
   "metadata": {},
   "outputs": [
    {
     "data": {
      "text/plain": [
       "array([ 3,  4,  5,  6,  7,  8,  9, 10, 11, 12])"
      ]
     },
     "execution_count": 69,
     "metadata": {},
     "output_type": "execute_result"
    }
   ],
   "source": [
    "arr1"
   ]
  },
  {
   "cell_type": "code",
   "execution_count": 70,
   "id": "772fc018-a4f1-4197-aa2f-eec59ae11567",
   "metadata": {},
   "outputs": [
    {
     "data": {
      "text/plain": [
       "7.5"
      ]
     },
     "execution_count": 70,
     "metadata": {},
     "output_type": "execute_result"
    }
   ],
   "source": [
    "np.mean(arr1)"
   ]
  },
  {
   "cell_type": "code",
   "execution_count": 71,
   "id": "ce2e47cb-ad71-428f-87a0-0c8af44d33b6",
   "metadata": {},
   "outputs": [
    {
     "data": {
      "text/plain": [
       "2.8722813232690143"
      ]
     },
     "execution_count": 71,
     "metadata": {},
     "output_type": "execute_result"
    }
   ],
   "source": [
    "np.std(arr1)"
   ]
  },
  {
   "cell_type": "markdown",
   "id": "87ad4cd6-b8d2-4489-8225-842a282c6e5f",
   "metadata": {},
   "source": [
    "#### linear alg"
   ]
  },
  {
   "cell_type": "code",
   "execution_count": 72,
   "id": "4eaf113f-ece7-45c5-b9ef-df6925e73d09",
   "metadata": {},
   "outputs": [],
   "source": [
    "a = np.array([[1,4],[4,9]])\n",
    "b = np.array([[3,3],[10,1]])\n"
   ]
  },
  {
   "cell_type": "code",
   "execution_count": 73,
   "id": "9fbbc9fd-1067-471f-93a1-506cdba475b1",
   "metadata": {},
   "outputs": [
    {
     "data": {
      "text/plain": [
       "array([[1, 4],\n",
       "       [4, 9]])"
      ]
     },
     "execution_count": 73,
     "metadata": {},
     "output_type": "execute_result"
    }
   ],
   "source": [
    "a"
   ]
  },
  {
   "cell_type": "code",
   "execution_count": 74,
   "id": "eeb80b6e-e419-4d6b-934a-1a3194cd560d",
   "metadata": {},
   "outputs": [
    {
     "data": {
      "text/plain": [
       "array([[ 3,  3],\n",
       "       [10,  1]])"
      ]
     },
     "execution_count": 74,
     "metadata": {},
     "output_type": "execute_result"
    }
   ],
   "source": [
    "b"
   ]
  },
  {
   "cell_type": "code",
   "execution_count": 79,
   "id": "91f5e478-c688-443b-9b45-fcf282297f8d",
   "metadata": {},
   "outputs": [
    {
     "data": {
      "text/plain": [
       "array([[ 43,   7],\n",
       "       [102,  21]])"
      ]
     },
     "execution_count": 79,
     "metadata": {},
     "output_type": "execute_result"
    }
   ],
   "source": [
    "a @ b"
   ]
  },
  {
   "cell_type": "code",
   "execution_count": 80,
   "id": "21d1b2cb-8e5c-4ac1-8cb9-bb4a6bda6dd1",
   "metadata": {},
   "outputs": [
    {
     "data": {
      "text/plain": [
       "array([[ 43,   7],\n",
       "       [102,  21]])"
      ]
     },
     "execution_count": 80,
     "metadata": {},
     "output_type": "execute_result"
    }
   ],
   "source": [
    "np.dot(a,b)"
   ]
  },
  {
   "cell_type": "code",
   "execution_count": 81,
   "id": "367b7cf7-ae4b-438a-97af-f1c9a0b7caad",
   "metadata": {},
   "outputs": [
    {
     "data": {
      "text/plain": [
       "array([[1, 4],\n",
       "       [4, 9]])"
      ]
     },
     "execution_count": 81,
     "metadata": {},
     "output_type": "execute_result"
    }
   ],
   "source": [
    "a"
   ]
  },
  {
   "cell_type": "code",
   "execution_count": 82,
   "id": "20343aa8-2791-4351-85b0-f0c4d13f0b57",
   "metadata": {},
   "outputs": [
    {
     "data": {
      "text/plain": [
       "-6.999999999999999"
      ]
     },
     "execution_count": 82,
     "metadata": {},
     "output_type": "execute_result"
    }
   ],
   "source": [
    "np.linalg.det(a)"
   ]
  },
  {
   "cell_type": "code",
   "execution_count": 83,
   "id": "bf4ec3dc-6aee-4a7f-958a-0b17c75fa813",
   "metadata": {},
   "outputs": [
    {
     "data": {
      "text/plain": [
       "array([[-1.28571429,  0.57142857],\n",
       "       [ 0.57142857, -0.14285714]])"
      ]
     },
     "execution_count": 83,
     "metadata": {},
     "output_type": "execute_result"
    }
   ],
   "source": [
    "np.linalg.inv(a)"
   ]
  },
  {
   "cell_type": "code",
   "execution_count": 84,
   "id": "591706c4-37bf-4de6-a6d6-3037e82d71c5",
   "metadata": {},
   "outputs": [
    {
     "data": {
      "text/plain": [
       "EigResult(eigenvalues=array([-0.65685425, 10.65685425]), eigenvectors=array([[-0.92387953, -0.38268343],\n",
       "       [ 0.38268343, -0.92387953]]))"
      ]
     },
     "execution_count": 84,
     "metadata": {},
     "output_type": "execute_result"
    }
   ],
   "source": [
    "np.linalg.eig(a)"
   ]
  },
  {
   "cell_type": "code",
   "execution_count": 85,
   "id": "f231b9f2-cd84-4332-8dd4-004034431319",
   "metadata": {},
   "outputs": [],
   "source": [
    "# vector\n",
    "\n",
    "vec = np.array([3,6])"
   ]
  },
  {
   "cell_type": "code",
   "execution_count": 86,
   "id": "a6d9a0ce-c140-44b3-8ac1-7f68f2544335",
   "metadata": {},
   "outputs": [
    {
     "data": {
      "text/plain": [
       "6.708203932499369"
      ]
     },
     "execution_count": 86,
     "metadata": {},
     "output_type": "execute_result"
    }
   ],
   "source": [
    "np.linalg.norm(vec)"
   ]
  },
  {
   "cell_type": "code",
   "execution_count": 1,
   "id": "8cd7c9bd-f195-4b4e-9d82-6b99b778ca4e",
   "metadata": {},
   "outputs": [
    {
     "ename": "NameError",
     "evalue": "name 'np' is not defined",
     "output_type": "error",
     "traceback": [
      "\u001b[1;31m---------------------------------------------------------------------------\u001b[0m",
      "\u001b[1;31mNameError\u001b[0m                                 Traceback (most recent call last)",
      "Cell \u001b[1;32mIn[1], line 1\u001b[0m\n\u001b[1;32m----> 1\u001b[0m help(np\u001b[38;5;241m.\u001b[39mlinalg\u001b[38;5;241m.\u001b[39mnorm(vec))\n",
      "\u001b[1;31mNameError\u001b[0m: name 'np' is not defined"
     ]
    }
   ],
   "source": [
    "help(np.linalg.norm(vec))"
   ]
  },
  {
   "cell_type": "markdown",
   "id": "30348611-c86d-456a-84b2-7a0baf2ef67a",
   "metadata": {},
   "source": [
    "## problems"
   ]
  },
  {
   "cell_type": "markdown",
   "id": "8eb689d5-c16b-4fa7-9694-2715bec41559",
   "metadata": {},
   "source": [
    "1.Crreate a numPy array of shape(3,3) with values ranging from 1 to 9"
   ]
  },
  {
   "cell_type": "code",
   "execution_count": 93,
   "id": "ae48cd08-860a-40e0-8d25-9717f7e04659",
   "metadata": {},
   "outputs": [],
   "source": [
    "arr = np.arange(0,9)"
   ]
  },
  {
   "cell_type": "code",
   "execution_count": 94,
   "id": "764a4841-acc2-4a7a-a16c-12ac24571e62",
   "metadata": {},
   "outputs": [
    {
     "data": {
      "text/plain": [
       "array([[0, 1, 2],\n",
       "       [3, 4, 5],\n",
       "       [6, 7, 8]])"
      ]
     },
     "execution_count": 94,
     "metadata": {},
     "output_type": "execute_result"
    }
   ],
   "source": [
    "arr.reshape(3,3)"
   ]
  },
  {
   "cell_type": "markdown",
   "id": "d285a06a-5b38-4129-8313-76e10e650bff",
   "metadata": {},
   "source": [
    "2. Given a 1D NumPy array [10,20,30,40,50],write code to reverse the array"
   ]
  },
  {
   "cell_type": "code",
   "execution_count": 98,
   "id": "9d6d29ef-9b4e-43c3-9be7-8222a6652448",
   "metadata": {},
   "outputs": [
    {
     "data": {
      "text/plain": [
       "array([10, 20, 30, 40, 50])"
      ]
     },
     "execution_count": 98,
     "metadata": {},
     "output_type": "execute_result"
    }
   ],
   "source": [
    "a =np.array([10,20,30,40,50])\n",
    "a"
   ]
  },
  {
   "cell_type": "code",
   "execution_count": 104,
   "id": "90f22242-f1e6-4601-bc20-8e209c1fb410",
   "metadata": {},
   "outputs": [
    {
     "data": {
      "text/plain": [
       "array([50, 40, 30, 20, 10])"
      ]
     },
     "execution_count": 104,
     "metadata": {},
     "output_type": "execute_result"
    }
   ],
   "source": [
    "a[: :-1]"
   ]
  },
  {
   "cell_type": "markdown",
   "id": "694f1798-b8f2-46b5-a954-3ae1811c587d",
   "metadata": {},
   "source": [
    "3. Create a 5x5 NumPy array filled with zeros and set the value of the middle element to 1"
   ]
  },
  {
   "cell_type": "code",
   "execution_count": 106,
   "id": "0ce6a3af-8eba-475b-ad76-44b687e0bd3d",
   "metadata": {},
   "outputs": [
    {
     "name": "stdout",
     "output_type": "stream",
     "text": [
      "[[0. 0. 0. 0. 0.]\n",
      " [0. 0. 0. 0. 0.]\n",
      " [0. 0. 1. 0. 0.]\n",
      " [0. 0. 0. 0. 0.]\n",
      " [0. 0. 0. 0. 0.]]\n"
     ]
    }
   ],
   "source": [
    "arr = np.zeros((5, 5))\n",
    "arr[2, 2] = 1\n",
    "print(arr)\n"
   ]
  },
  {
   "cell_type": "markdown",
   "id": "740f5aa8-0524-4e33-bd55-ce9000f93036",
   "metadata": {},
   "source": [
    "4.generate a numpy array with 20 random integers between 1 to 100(replace all even number with -1)"
   ]
  },
  {
   "cell_type": "markdown",
   "id": "11fc6e2b-7bcc-44e9-af91-5335c71f9924",
   "metadata": {},
   "source": [
    "4.generate a numpy array with 20 random integers between 1 to 100(replace all even number with -1)"
   ]
  },
  {
   "cell_type": "code",
   "execution_count": 4,
   "id": "8b825c1e-9c38-42eb-9635-bc7398fe7d1c",
   "metadata": {},
   "outputs": [
    {
     "ename": "NameError",
     "evalue": "name 'np' is not defined",
     "output_type": "error",
     "traceback": [
      "\u001b[1;31m---------------------------------------------------------------------------\u001b[0m",
      "\u001b[1;31mNameError\u001b[0m                                 Traceback (most recent call last)",
      "Cell \u001b[1;32mIn[4], line 1\u001b[0m\n\u001b[1;32m----> 1\u001b[0m arr \u001b[38;5;241m=\u001b[39m np\u001b[38;5;241m.\u001b[39marange(\u001b[38;5;241m1\u001b[39m,\u001b[38;5;241m101\u001b[39m,dtype \u001b[38;5;241m=\u001b[39m \u001b[38;5;28mint\u001b[39m)\n\u001b[0;32m      2\u001b[0m \u001b[38;5;28;01mfor\u001b[39;00m i \u001b[38;5;129;01min\u001b[39;00m \u001b[38;5;28mrange\u001b[39m(\u001b[38;5;28mlen\u001b[39m(arr)):\n\u001b[0;32m      3\u001b[0m     \u001b[38;5;28;01mif\u001b[39;00m arr[i] \u001b[38;5;241m%\u001b[39m \u001b[38;5;241m2\u001b[39m \u001b[38;5;241m==\u001b[39m \u001b[38;5;241m0\u001b[39m:\n",
      "\u001b[1;31mNameError\u001b[0m: name 'np' is not defined"
     ]
    }
   ],
   "source": [
    "arr = np.arange(1,101,dtype = int)\n",
    "for i in range(len(arr)):\n",
    "    if arr[i] % 2 == 0:\n",
    "        arr[i] = -1\n",
    "print(arr)\n"
   ]
  },
  {
   "cell_type": "code",
   "execution_count": null,
   "id": "3439180b-9b89-460c-b28d-53e82aca09b8",
   "metadata": {},
   "outputs": [],
   "source": []
  }
 ],
 "metadata": {
  "kernelspec": {
   "display_name": "Python 3 (ipykernel)",
   "language": "python",
   "name": "python3"
  },
  "language_info": {
   "codemirror_mode": {
    "name": "ipython",
    "version": 3
   },
   "file_extension": ".py",
   "mimetype": "text/x-python",
   "name": "python",
   "nbconvert_exporter": "python",
   "pygments_lexer": "ipython3",
   "version": "3.12.7"
  }
 },
 "nbformat": 4,
 "nbformat_minor": 5
}
