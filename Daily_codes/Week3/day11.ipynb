{
 "cells": [
  {
   "cell_type": "markdown",
   "id": "41fd4509-bc93-4f91-b144-f9cfc977dd66",
   "metadata": {},
   "source": [
    "## Exception"
   ]
  },
  {
   "cell_type": "markdown",
   "id": "5b67a809-7931-4e7a-81cb-af16f331ae0e",
   "metadata": {},
   "source": [
    "###\n",
    "Exception can be said to be any abnormal condition in program resulting to\n",
    " the distrubtion in the flow of the program"
   ]
  },
  {
   "cell_type": "code",
   "execution_count": 2,
   "id": "ce4d27f4-9987-4745-b124-1ce8c22e9ffe",
   "metadata": {},
   "outputs": [
    {
     "ename": "SyntaxError",
     "evalue": "expected ':' (3069138961.py, line 1)",
     "output_type": "error",
     "traceback": [
      "\u001b[1;36m  Cell \u001b[1;32mIn[2], line 1\u001b[1;36m\u001b[0m\n\u001b[1;33m    if True\u001b[0m\n\u001b[1;37m           ^\u001b[0m\n\u001b[1;31mSyntaxError\u001b[0m\u001b[1;31m:\u001b[0m expected ':'\n"
     ]
    }
   ],
   "source": [
    "if True\n",
    "print('ok')\n",
    "    "
   ]
  },
  {
   "cell_type": "code",
   "execution_count": 3,
   "id": "21630085-f110-456b-8f78-e925e3001cc8",
   "metadata": {},
   "outputs": [
    {
     "ename": "IndentationError",
     "evalue": "expected an indented block after function definition on line 1 (1001841891.py, line 2)",
     "output_type": "error",
     "traceback": [
      "\u001b[1;36m  Cell \u001b[1;32mIn[3], line 2\u001b[1;36m\u001b[0m\n\u001b[1;33m    print('hello')\u001b[0m\n\u001b[1;37m    ^\u001b[0m\n\u001b[1;31mIndentationError\u001b[0m\u001b[1;31m:\u001b[0m expected an indented block after function definition on line 1\n"
     ]
    }
   ],
   "source": [
    "def hello():\n",
    "print('hello')    "
   ]
  },
  {
   "cell_type": "code",
   "execution_count": 4,
   "id": "9bde891d-a0ff-43e5-9a7f-22e76c110edb",
   "metadata": {},
   "outputs": [
    {
     "ename": "TypeError",
     "evalue": "can only concatenate str (not \"int\") to str",
     "output_type": "error",
     "traceback": [
      "\u001b[1;31m---------------------------------------------------------------------------\u001b[0m",
      "\u001b[1;31mTypeError\u001b[0m                                 Traceback (most recent call last)",
      "Cell \u001b[1;32mIn[4], line 3\u001b[0m\n\u001b[0;32m      1\u001b[0m x \u001b[38;5;241m=\u001b[39m\u001b[38;5;124m'\u001b[39m\u001b[38;5;124mhello\u001b[39m\u001b[38;5;124m'\u001b[39m\n\u001b[0;32m      2\u001b[0m y \u001b[38;5;241m=\u001b[39m \u001b[38;5;241m234\u001b[39m\n\u001b[1;32m----> 3\u001b[0m z \u001b[38;5;241m=\u001b[39m x\u001b[38;5;241m+\u001b[39my\n",
      "\u001b[1;31mTypeError\u001b[0m: can only concatenate str (not \"int\") to str"
     ]
    }
   ],
   "source": [
    "x ='hello'\n",
    "y = 234\n",
    "z = x+y"
   ]
  },
  {
   "cell_type": "code",
   "execution_count": 6,
   "id": "7265e2e9-0329-4c97-a2c2-d4a91dbb81d1",
   "metadata": {},
   "outputs": [
    {
     "ename": "NameError",
     "evalue": "name 'coount' is not defined",
     "output_type": "error",
     "traceback": [
      "\u001b[1;31m---------------------------------------------------------------------------\u001b[0m",
      "\u001b[1;31mNameError\u001b[0m                                 Traceback (most recent call last)",
      "Cell \u001b[1;32mIn[6], line 1\u001b[0m\n\u001b[1;32m----> 1\u001b[0m \u001b[38;5;28mprint\u001b[39m(coount)\n",
      "\u001b[1;31mNameError\u001b[0m: name 'coount' is not defined"
     ]
    }
   ],
   "source": [
    "print(coount)"
   ]
  },
  {
   "cell_type": "code",
   "execution_count": 7,
   "id": "76403897-d857-423e-bd1f-a92adaf9dd9d",
   "metadata": {},
   "outputs": [
    {
     "ename": "IndexError",
     "evalue": "list index out of range",
     "output_type": "error",
     "traceback": [
      "\u001b[1;31m---------------------------------------------------------------------------\u001b[0m",
      "\u001b[1;31mIndexError\u001b[0m                                Traceback (most recent call last)",
      "Cell \u001b[1;32mIn[7], line 2\u001b[0m\n\u001b[0;32m      1\u001b[0m l \u001b[38;5;241m=\u001b[39m [\u001b[38;5;241m3\u001b[39m,\u001b[38;5;241m4\u001b[39m,\u001b[38;5;241m5\u001b[39m,\u001b[38;5;241m5\u001b[39m,\u001b[38;5;241m6\u001b[39m,\u001b[38;5;241m8\u001b[39m]\n\u001b[1;32m----> 2\u001b[0m l[\u001b[38;5;241m9\u001b[39m]\n",
      "\u001b[1;31mIndexError\u001b[0m: list index out of range"
     ]
    }
   ],
   "source": [
    "l = [3,4,5,5,6,8]\n",
    "l[9]"
   ]
  },
  {
   "cell_type": "code",
   "execution_count": 8,
   "id": "6e36a5a6-f728-4634-a819-e4fb5c50989b",
   "metadata": {},
   "outputs": [],
   "source": [
    "d = {4:34, 3:56,6:45}"
   ]
  },
  {
   "cell_type": "code",
   "execution_count": 10,
   "id": "3b878977-94cb-481f-b4bc-eefebaf2e189",
   "metadata": {},
   "outputs": [
    {
     "ename": "KeyError",
     "evalue": "7",
     "output_type": "error",
     "traceback": [
      "\u001b[1;31m---------------------------------------------------------------------------\u001b[0m",
      "\u001b[1;31mKeyError\u001b[0m                                  Traceback (most recent call last)",
      "Cell \u001b[1;32mIn[10], line 1\u001b[0m\n\u001b[1;32m----> 1\u001b[0m d[\u001b[38;5;241m7\u001b[39m]\n",
      "\u001b[1;31mKeyError\u001b[0m: 7"
     ]
    }
   ],
   "source": [
    "d[7]"
   ]
  },
  {
   "cell_type": "code",
   "execution_count": 11,
   "id": "75b1b2f4-eea1-4ade-9a96-81387b09426a",
   "metadata": {},
   "outputs": [],
   "source": [
    "t = (56,22,34,67)"
   ]
  },
  {
   "cell_type": "code",
   "execution_count": 12,
   "id": "fd1f8e63-d966-46bd-9145-29c7e42daeb8",
   "metadata": {},
   "outputs": [
    {
     "ename": "AttributeError",
     "evalue": "'tuple' object has no attribute 'append'",
     "output_type": "error",
     "traceback": [
      "\u001b[1;31m---------------------------------------------------------------------------\u001b[0m",
      "\u001b[1;31mAttributeError\u001b[0m                            Traceback (most recent call last)",
      "Cell \u001b[1;32mIn[12], line 1\u001b[0m\n\u001b[1;32m----> 1\u001b[0m t\u001b[38;5;241m.\u001b[39mappend(\u001b[38;5;241m23\u001b[39m)\n",
      "\u001b[1;31mAttributeError\u001b[0m: 'tuple' object has no attribute 'append'"
     ]
    }
   ],
   "source": [
    "t.append(23)"
   ]
  },
  {
   "cell_type": "code",
   "execution_count": 13,
   "id": "ca9e0c67-fb48-4508-8749-db19804fe2ec",
   "metadata": {},
   "outputs": [
    {
     "ename": "ValueError",
     "evalue": "invalid literal for int() with base 10: 'hello'",
     "output_type": "error",
     "traceback": [
      "\u001b[1;31m---------------------------------------------------------------------------\u001b[0m",
      "\u001b[1;31mValueError\u001b[0m                                Traceback (most recent call last)",
      "Cell \u001b[1;32mIn[13], line 1\u001b[0m\n\u001b[1;32m----> 1\u001b[0m x\u001b[38;5;241m=\u001b[39m\u001b[38;5;28mint\u001b[39m(\u001b[38;5;124m'\u001b[39m\u001b[38;5;124mhello\u001b[39m\u001b[38;5;124m'\u001b[39m)\n",
      "\u001b[1;31mValueError\u001b[0m: invalid literal for int() with base 10: 'hello'"
     ]
    }
   ],
   "source": [
    "x=int('hello')"
   ]
  },
  {
   "cell_type": "code",
   "execution_count": 14,
   "id": "afe02385-54a1-466f-b828-58374ffead93",
   "metadata": {},
   "outputs": [
    {
     "ename": "ValueError",
     "evalue": "too many values to unpack (expected 2)",
     "output_type": "error",
     "traceback": [
      "\u001b[1;31m---------------------------------------------------------------------------\u001b[0m",
      "\u001b[1;31mValueError\u001b[0m                                Traceback (most recent call last)",
      "Cell \u001b[1;32mIn[14], line 1\u001b[0m\n\u001b[1;32m----> 1\u001b[0m x,y \u001b[38;5;241m=\u001b[39m\u001b[38;5;241m23\u001b[39m,\u001b[38;5;241m45\u001b[39m,\u001b[38;5;241m67\u001b[39m\n",
      "\u001b[1;31mValueError\u001b[0m: too many values to unpack (expected 2)"
     ]
    }
   ],
   "source": [
    "x,y =23,45,67"
   ]
  },
  {
   "cell_type": "code",
   "execution_count": 15,
   "id": "d9ed2bb1-0308-4d89-b09e-ffa003bc6ef6",
   "metadata": {},
   "outputs": [
    {
     "ename": "FileNotFoundError",
     "evalue": "[Errno 2] No such file or directory: 'index.txt'",
     "output_type": "error",
     "traceback": [
      "\u001b[1;31m---------------------------------------------------------------------------\u001b[0m",
      "\u001b[1;31mFileNotFoundError\u001b[0m                         Traceback (most recent call last)",
      "Cell \u001b[1;32mIn[15], line 1\u001b[0m\n\u001b[1;32m----> 1\u001b[0m f \u001b[38;5;241m=\u001b[39m \u001b[38;5;28mopen\u001b[39m(\u001b[38;5;124m'\u001b[39m\u001b[38;5;124mindex.txt\u001b[39m\u001b[38;5;124m'\u001b[39m)\n",
      "File \u001b[1;32m~\\OneDrive\\Attachments\\Lib\\site-packages\\IPython\\core\\interactiveshell.py:324\u001b[0m, in \u001b[0;36m_modified_open\u001b[1;34m(file, *args, **kwargs)\u001b[0m\n\u001b[0;32m    317\u001b[0m \u001b[38;5;28;01mif\u001b[39;00m file \u001b[38;5;129;01min\u001b[39;00m {\u001b[38;5;241m0\u001b[39m, \u001b[38;5;241m1\u001b[39m, \u001b[38;5;241m2\u001b[39m}:\n\u001b[0;32m    318\u001b[0m     \u001b[38;5;28;01mraise\u001b[39;00m \u001b[38;5;167;01mValueError\u001b[39;00m(\n\u001b[0;32m    319\u001b[0m         \u001b[38;5;124mf\u001b[39m\u001b[38;5;124m\"\u001b[39m\u001b[38;5;124mIPython won\u001b[39m\u001b[38;5;124m'\u001b[39m\u001b[38;5;124mt let you open fd=\u001b[39m\u001b[38;5;132;01m{\u001b[39;00mfile\u001b[38;5;132;01m}\u001b[39;00m\u001b[38;5;124m by default \u001b[39m\u001b[38;5;124m\"\u001b[39m\n\u001b[0;32m    320\u001b[0m         \u001b[38;5;124m\"\u001b[39m\u001b[38;5;124mas it is likely to crash IPython. If you know what you are doing, \u001b[39m\u001b[38;5;124m\"\u001b[39m\n\u001b[0;32m    321\u001b[0m         \u001b[38;5;124m\"\u001b[39m\u001b[38;5;124myou can use builtins\u001b[39m\u001b[38;5;124m'\u001b[39m\u001b[38;5;124m open.\u001b[39m\u001b[38;5;124m\"\u001b[39m\n\u001b[0;32m    322\u001b[0m     )\n\u001b[1;32m--> 324\u001b[0m \u001b[38;5;28;01mreturn\u001b[39;00m io_open(file, \u001b[38;5;241m*\u001b[39margs, \u001b[38;5;241m*\u001b[39m\u001b[38;5;241m*\u001b[39mkwargs)\n",
      "\u001b[1;31mFileNotFoundError\u001b[0m: [Errno 2] No such file or directory: 'index.txt'"
     ]
    }
   ],
   "source": [
    "f = open('index.txt')"
   ]
  },
  {
   "cell_type": "code",
   "execution_count": 17,
   "id": "b9d84e31-e1ae-406a-85cc-84c87c0437fb",
   "metadata": {},
   "outputs": [
    {
     "ename": "ZeroDivisionError",
     "evalue": "division by zero",
     "output_type": "error",
     "traceback": [
      "\u001b[1;31m---------------------------------------------------------------------------\u001b[0m",
      "\u001b[1;31mZeroDivisionError\u001b[0m                         Traceback (most recent call last)",
      "Cell \u001b[1;32mIn[17], line 1\u001b[0m\n\u001b[1;32m----> 1\u001b[0m \u001b[38;5;241m34\u001b[39m\u001b[38;5;241m/\u001b[39m\u001b[38;5;241m0\u001b[39m\n",
      "\u001b[1;31mZeroDivisionError\u001b[0m: division by zero"
     ]
    }
   ],
   "source": [
    "34/0"
   ]
  },
  {
   "cell_type": "code",
   "execution_count": 18,
   "id": "367abc51-6636-4b20-93ee-1667cd74edd6",
   "metadata": {},
   "outputs": [
    {
     "ename": "ModuleNotFoundError",
     "evalue": "No module named 'values'",
     "output_type": "error",
     "traceback": [
      "\u001b[1;31m---------------------------------------------------------------------------\u001b[0m",
      "\u001b[1;31mModuleNotFoundError\u001b[0m                       Traceback (most recent call last)",
      "Cell \u001b[1;32mIn[18], line 1\u001b[0m\n\u001b[1;32m----> 1\u001b[0m \u001b[38;5;28;01mimport\u001b[39;00m \u001b[38;5;21;01mvalues\u001b[39;00m\n",
      "\u001b[1;31mModuleNotFoundError\u001b[0m: No module named 'values'"
     ]
    }
   ],
   "source": [
    "import values"
   ]
  },
  {
   "cell_type": "code",
   "execution_count": 21,
   "id": "9b0556f8-e965-4f19-a95a-81bc994011ca",
   "metadata": {},
   "outputs": [],
   "source": [
    "def show():\n",
    "    show()"
   ]
  },
  {
   "cell_type": "code",
   "execution_count": 22,
   "id": "a5736206-2f94-4b77-8491-2301380575eb",
   "metadata": {},
   "outputs": [
    {
     "ename": "RecursionError",
     "evalue": "maximum recursion depth exceeded",
     "output_type": "error",
     "traceback": [
      "\u001b[1;31m---------------------------------------------------------------------------\u001b[0m",
      "\u001b[1;31mRecursionError\u001b[0m                            Traceback (most recent call last)",
      "Cell \u001b[1;32mIn[22], line 1\u001b[0m\n\u001b[1;32m----> 1\u001b[0m show()\n",
      "Cell \u001b[1;32mIn[21], line 2\u001b[0m, in \u001b[0;36mshow\u001b[1;34m()\u001b[0m\n\u001b[0;32m      1\u001b[0m \u001b[38;5;28;01mdef\u001b[39;00m \u001b[38;5;21mshow\u001b[39m():\n\u001b[1;32m----> 2\u001b[0m     show()\n",
      "Cell \u001b[1;32mIn[21], line 2\u001b[0m, in \u001b[0;36mshow\u001b[1;34m()\u001b[0m\n\u001b[0;32m      1\u001b[0m \u001b[38;5;28;01mdef\u001b[39;00m \u001b[38;5;21mshow\u001b[39m():\n\u001b[1;32m----> 2\u001b[0m     show()\n",
      "    \u001b[1;31m[... skipping similar frames: show at line 2 (2974 times)]\u001b[0m\n",
      "Cell \u001b[1;32mIn[21], line 2\u001b[0m, in \u001b[0;36mshow\u001b[1;34m()\u001b[0m\n\u001b[0;32m      1\u001b[0m \u001b[38;5;28;01mdef\u001b[39;00m \u001b[38;5;21mshow\u001b[39m():\n\u001b[1;32m----> 2\u001b[0m     show()\n",
      "\u001b[1;31mRecursionError\u001b[0m: maximum recursion depth exceeded"
     ]
    }
   ],
   "source": [
    "show()"
   ]
  },
  {
   "cell_type": "markdown",
   "id": "4000dbea-c204-424e-b387-c235337a8746",
   "metadata": {},
   "source": [
    "##### Uncaught Exception"
   ]
  },
  {
   "cell_type": "code",
   "execution_count": 23,
   "id": "8c1d8334-659a-4104-9f2a-93279fd7e4a3",
   "metadata": {},
   "outputs": [
    {
     "name": "stdin",
     "output_type": "stream",
     "text": [
      "Enter first num: 23\n",
      "Enter second num: 45\n"
     ]
    },
    {
     "name": "stdout",
     "output_type": "stream",
     "text": [
      "Division 0.5111111111111111\n"
     ]
    }
   ],
   "source": [
    "num1 = int(input('Enter first num:'))\n",
    "num2 = int(input('Enter second num:'))\n",
    "div = num1/num2\n",
    "print('Division' , div)"
   ]
  },
  {
   "cell_type": "code",
   "execution_count": 24,
   "id": "04fb66eb-700e-4308-978c-b20f7f4d1547",
   "metadata": {
    "scrolled": true
   },
   "outputs": [
    {
     "name": "stdin",
     "output_type": "stream",
     "text": [
      "Enter first num: 45\n",
      "Enter second num: 0\n"
     ]
    },
    {
     "ename": "ZeroDivisionError",
     "evalue": "division by zero",
     "output_type": "error",
     "traceback": [
      "\u001b[1;31m---------------------------------------------------------------------------\u001b[0m",
      "\u001b[1;31mZeroDivisionError\u001b[0m                         Traceback (most recent call last)",
      "Cell \u001b[1;32mIn[24], line 3\u001b[0m\n\u001b[0;32m      1\u001b[0m num1 \u001b[38;5;241m=\u001b[39m \u001b[38;5;28mint\u001b[39m(\u001b[38;5;28minput\u001b[39m(\u001b[38;5;124m'\u001b[39m\u001b[38;5;124mEnter first num:\u001b[39m\u001b[38;5;124m'\u001b[39m))\n\u001b[0;32m      2\u001b[0m num2 \u001b[38;5;241m=\u001b[39m \u001b[38;5;28mint\u001b[39m(\u001b[38;5;28minput\u001b[39m(\u001b[38;5;124m'\u001b[39m\u001b[38;5;124mEnter second num:\u001b[39m\u001b[38;5;124m'\u001b[39m))\n\u001b[1;32m----> 3\u001b[0m div \u001b[38;5;241m=\u001b[39m num1\u001b[38;5;241m/\u001b[39mnum2\n\u001b[0;32m      4\u001b[0m \u001b[38;5;28mprint\u001b[39m(\u001b[38;5;124m'\u001b[39m\u001b[38;5;124mDivision\u001b[39m\u001b[38;5;124m'\u001b[39m , div)\n",
      "\u001b[1;31mZeroDivisionError\u001b[0m: division by zero"
     ]
    }
   ],
   "source": [
    "num1 = int(input('Enter first num:'))\n",
    "num2 = int(input('Enter second num:'))\n",
    "div = num1/num2\n",
    "print('Division' , div)"
   ]
  },
  {
   "cell_type": "markdown",
   "id": "4b127414-610b-4ebf-8cd3-80b1a5b4c970",
   "metadata": {},
   "source": [
    "#### Using try exception"
   ]
  },
  {
   "cell_type": "markdown",
   "id": "4e45e618-345d-4199-9a02-3665f4df386b",
   "metadata": {},
   "source": [
    "###\n",
    "try :\n",
    "\n",
    "   code to major for except\n",
    "   \n",
    "except exception-name:\n",
    "\n",
    "                message to print"
   ]
  },
  {
   "cell_type": "code",
   "execution_count": null,
   "id": "27008bfc-355a-4bf7-b65f-489374c274ca",
   "metadata": {},
   "outputs": [
    {
     "name": "stdin",
     "output_type": "stream",
     "text": [
      "Enter the first number 45\n",
      "enter the second number 0\n"
     ]
    }
   ],
   "source": [
    "import os\n",
    "try:\n",
    "    num1 = int(input(\"Enter the first number\"))\n",
    "    num2 = int(input(\"enter the second number\"))\n",
    "    div = num1/num2\n",
    "except ZeroDivisionError:\n",
    "    print('Denomenator must be non-zero')\n",
    "    os._exit(0)\n",
    "except ValueError:\n",
    "    print('wrong input')\n",
    "    os._exit(0)\n",
    "print('Division',div)    \n",
    "    "
   ]
  },
  {
   "cell_type": "code",
   "execution_count": 1,
   "id": "99733b7a-2b41-482f-94a4-021c857330d3",
   "metadata": {},
   "outputs": [
    {
     "name": "stdin",
     "output_type": "stream",
     "text": [
      "Enter the first number 45\n",
      "enter the second number 6\n"
     ]
    },
    {
     "name": "stdout",
     "output_type": "stream",
     "text": [
      "Division 7.5\n"
     ]
    }
   ],
   "source": [
    "import os\n",
    "try:\n",
    "    num1 = int(input(\"Enter the first number\"))\n",
    "    num2 = int(input(\"enter the second number\"))\n",
    "    div = num1/num2\n",
    "except:\n",
    "    print('Error')\n",
    "    os._exit(0)\n",
    "print('Division',div)    "
   ]
  },
  {
   "cell_type": "code",
   "execution_count": 5,
   "id": "7fe5e69a-99c3-4c0f-b4ea-48300f72334e",
   "metadata": {},
   "outputs": [
    {
     "name": "stdin",
     "output_type": "stream",
     "text": [
      "Enter the first number three\n"
     ]
    },
    {
     "name": "stdout",
     "output_type": "stream",
     "text": [
      "Error invalid literal for int() with base 10: 'three'\n"
     ]
    }
   ],
   "source": [
    "import os\n",
    "try:\n",
    "    num1 = int(input(\"Enter the first number\"))\n",
    "    num2 = int(input(\"enter the second number\"))\n",
    "    div = num1/num2\n",
    "except Exception as e:\n",
    "    print('Error',e)\n",
    "        "
   ]
  },
  {
   "cell_type": "markdown",
   "id": "2d67619a-3187-43e2-a5de-212e862ea8f6",
   "metadata": {},
   "source": [
    "### Try -Except -else"
   ]
  },
  {
   "cell_type": "code",
   "execution_count": 10,
   "id": "723758dd-22fd-457d-bab4-7cfbc1336d20",
   "metadata": {},
   "outputs": [
    {
     "name": "stdin",
     "output_type": "stream",
     "text": [
      "Enter the first number 56\n",
      "enter the second number 0\n"
     ]
    },
    {
     "name": "stdout",
     "output_type": "stream",
     "text": [
      "Error division by zero\n"
     ]
    }
   ],
   "source": [
    "try:\n",
    "    num1 = int(input(\"Enter the first number\"))\n",
    "    num2 = int(input(\"enter the second number\"))\n",
    "    div = num1/num2\n",
    "except Exception as e:\n",
    "    print('Error',e)\n",
    "else:\n",
    "    print('Division:',div)\n",
    "    \n",
    "        "
   ]
  },
  {
   "cell_type": "markdown",
   "id": "6b77b3c4-b130-43df-9a38-159f20886844",
   "metadata": {},
   "source": [
    "#### Finally block"
   ]
  },
  {
   "cell_type": "markdown",
   "id": "ef22cbec-4a74-421e-9903-d6be66de0628",
   "metadata": {},
   "source": [
    "##\n",
    "In the case if there is any code which the user want to be executed, wether exception occurs\n",
    "or not then that code can be placed inside the finally block\n",
    "\n",
    "Finally block will always be executed irrespective of the exception .\n",
    "\n",
    "Generally  used for shutdown activities like cloasing the file,terminating database connection ,etc   "
   ]
  },
  {
   "cell_type": "code",
   "execution_count": 11,
   "id": "c4c4d337-c0b6-455a-a7b7-5dc568f27684",
   "metadata": {},
   "outputs": [
    {
     "name": "stdin",
     "output_type": "stream",
     "text": [
      "Enter the first number 45\n",
      "enter the second number 0\n"
     ]
    },
    {
     "name": "stdout",
     "output_type": "stream",
     "text": [
      "Error division by zero\n",
      "program ends\n"
     ]
    }
   ],
   "source": [
    "try:\n",
    "    num1 = int(input(\"Enter the first number\"))\n",
    "    num2 = int(input(\"enter the second number\"))\n",
    "    div = num1/num2\n",
    "except Exception as e:\n",
    "    print('Error',e)\n",
    "else:\n",
    "    print('Division:',div)\n",
    "finally:\n",
    "    print('program ends')\n",
    "        "
   ]
  },
  {
   "cell_type": "code",
   "execution_count": 15,
   "id": "8b06ec2c-b3be-41a5-8e1a-790af1239be4",
   "metadata": {},
   "outputs": [
    {
     "name": "stdin",
     "output_type": "stream",
     "text": [
      "Enter the first number ty\n"
     ]
    },
    {
     "name": "stdout",
     "output_type": "stream",
     "text": [
      "Error invalid literal for int() with base 10: 'ty'\n",
      "program ends\n"
     ]
    }
   ],
   "source": [
    "try:\n",
    "    num1 = int(input(\"Enter the first number\"))\n",
    "    num2 = int(input(\"enter the second number\"))\n",
    "    div = num1/num2\n",
    "except Exception as e:\n",
    "    print('Error',e)\n",
    "else:\n",
    "    print('Division:',div)\n",
    "finally:\n",
    "    print('program ends')       "
   ]
  },
  {
   "cell_type": "markdown",
   "id": "126585b5-7d3a-49a0-86f4-4efe92930288",
   "metadata": {},
   "source": [
    "###\n",
    "python exception handling mechanism\n",
    "\n",
    "try     => Run this code\n",
    "\n",
    "except  => Execute this code when there is an exception\n",
    "\n",
    "else    => no exception ? Run this code\n",
    "\n",
    "finally => Always run this code"
   ]
  },
  {
   "cell_type": "markdown",
   "id": "331b3560-0f9a-4140-ac00-37c565257b85",
   "metadata": {},
   "source": [
    "### Raising an exception"
   ]
  },
  {
   "cell_type": "code",
   "execution_count": 16,
   "id": "2c2fc262-eaba-44f3-8159-7bc48c0a558e",
   "metadata": {},
   "outputs": [
    {
     "name": "stdin",
     "output_type": "stream",
     "text": [
      "Enter the number: 7890\n"
     ]
    },
    {
     "ename": "Exception",
     "evalue": "Large number",
     "output_type": "error",
     "traceback": [
      "\u001b[1;31m---------------------------------------------------------------------------\u001b[0m",
      "\u001b[1;31mException\u001b[0m                                 Traceback (most recent call last)",
      "Cell \u001b[1;32mIn[16], line 4\u001b[0m\n\u001b[0;32m      1\u001b[0m num \u001b[38;5;241m=\u001b[39m \u001b[38;5;28mint\u001b[39m(\u001b[38;5;28minput\u001b[39m(\u001b[38;5;124m'\u001b[39m\u001b[38;5;124mEnter the number:\u001b[39m\u001b[38;5;124m'\u001b[39m))\n\u001b[0;32m      3\u001b[0m \u001b[38;5;28;01mif\u001b[39;00m num\u001b[38;5;241m>\u001b[39m\u001b[38;5;241m1000\u001b[39m:\n\u001b[1;32m----> 4\u001b[0m     \u001b[38;5;28;01mraise\u001b[39;00m \u001b[38;5;167;01mException\u001b[39;00m(\u001b[38;5;124m'\u001b[39m\u001b[38;5;124mLarge number\u001b[39m\u001b[38;5;124m'\u001b[39m)\n\u001b[0;32m      6\u001b[0m \u001b[38;5;28mprint\u001b[39m(\u001b[38;5;124m'\u001b[39m\u001b[38;5;124mYour number is\u001b[39m\u001b[38;5;124m'\u001b[39m,num)\n",
      "\u001b[1;31mException\u001b[0m: Large number"
     ]
    }
   ],
   "source": [
    "num = int(input('Enter the number:'))\n",
    "\n",
    "if num>1000:\n",
    "    raise Exception('Large number')\n",
    "\n",
    "print('Your number is',num)"
   ]
  },
  {
   "cell_type": "markdown",
   "id": "010f133a-0025-4299-8824-684f279250c7",
   "metadata": {},
   "source": [
    "#### Create your own exception"
   ]
  },
  {
   "cell_type": "code",
   "execution_count": 1,
   "id": "a3b18031-9d48-4d4b-b1c4-3f9f9dff2050",
   "metadata": {},
   "outputs": [],
   "source": [
    "class NegativeNumberException(Exception):\n",
    "    def __init__(self,data):\n",
    "        self.data = data\n",
    "    def __str__(self):\n",
    "        return repr('Number is negative')"
   ]
  },
  {
   "cell_type": "code",
   "execution_count": 22,
   "id": "d3c9f6e8-b8c3-4348-a094-951dbbc92a9e",
   "metadata": {},
   "outputs": [
    {
     "name": "stdin",
     "output_type": "stream",
     "text": [
      "Enter the number: 29\n"
     ]
    },
    {
     "name": "stdout",
     "output_type": "stream",
     "text": [
      "Square of number is: 841\n"
     ]
    }
   ],
   "source": [
    "num = int(input('Enter the number:'))\n",
    "try:\n",
    "    if num<0:\n",
    "        raise NegativeNumberException(num)siranla zop kas\n",
    "    print('Square of number is:',num**2)\n",
    "except NegativeNumberException as ne:\n",
    "      print('Error:',ne)\n"
   ]
  },
  {
   "cell_type": "code",
   "execution_count": null,
   "id": "daa937a4-1439-4380-8940-fa2d87f2d7bd",
   "metadata": {},
   "outputs": [],
   "source": []
  }
 ],
 "metadata": {
  "kernelspec": {
   "display_name": "Python 3 (ipykernel)",
   "language": "python",
   "name": "python3"
  },
  "language_info": {
   "codemirror_mode": {
    "name": "ipython",
    "version": 3
   },
   "file_extension": ".py",
   "mimetype": "text/x-python",
   "name": "python",
   "nbconvert_exporter": "python",
   "pygments_lexer": "ipython3",
   "version": "3.12.7"
  }
 },
 "nbformat": 4,
 "nbformat_minor": 5
}
