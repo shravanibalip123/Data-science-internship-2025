{
 "cells": [
  {
   "cell_type": "code",
   "execution_count": 10,
   "id": "821b11c3-0e4c-4e29-9644-3204cdf4c681",
   "metadata": {},
   "outputs": [],
   "source": [
    "from tkinter import *"
   ]
  },
  {
   "cell_type": "code",
   "execution_count": 11,
   "id": "da3fcf16-28dd-4244-b4a6-d9faa2093160",
   "metadata": {},
   "outputs": [],
   "source": [
    "top = Tk()\n",
    "top.mainloop()"
   ]
  },
  {
   "cell_type": "code",
   "execution_count": 12,
   "id": "8c154ebd-2a98-4b3f-b8f9-3a93d30d0088",
   "metadata": {},
   "outputs": [],
   "source": [
    "### Decorate the window"
   ]
  },
  {
   "cell_type": "code",
   "execution_count": 13,
   "id": "31ed2131-025e-4e71-9e60-1c60e382ea62",
   "metadata": {},
   "outputs": [],
   "source": [
    "top = Tk()\n",
    "top.geometry('600x400')\n",
    "top.title('My first application')\n",
    "top.mainloop()"
   ]
  },
  {
   "cell_type": "code",
   "execution_count": 14,
   "id": "e05c2929-92d7-4f31-b0f4-4e2176847b2f",
   "metadata": {},
   "outputs": [],
   "source": [
    "#### Label on window"
   ]
  },
  {
   "cell_type": "code",
   "execution_count": 15,
   "id": "84d1eeb1-f1fd-4206-8538-a1c4eeea6244",
   "metadata": {},
   "outputs": [],
   "source": [
    "top = Tk()\n",
    "top .geometry('600x400')\n",
    "top.title('Demo of Label')\n",
    "\n",
    "l = Label(top,text ='Welcome to Tkinter Programming !')  # create the object\n",
    "l.pack()  # attach to the main window\n",
    "\n",
    "top.mainloop()\n"
   ]
  },
  {
   "cell_type": "code",
   "execution_count": 8,
   "id": "b85a2f0e-b385-4a50-8725-cd88ff823247",
   "metadata": {},
   "outputs": [],
   "source": [
    "top = Tk()\n",
    "top.geometry('600x400')\n",
    "top.title('Demo of Label')\n",
    "\n",
    "l = Label(top, text ='Welcome to Tkinter programming!', fg = 'red' , bg ='lightblue',\n",
    "          font = ('Times New Roman', 20))\n",
    "l.pack(side =BOTTOM)\n",
    "top.mainloop()"
   ]
  },
  {
   "cell_type": "code",
   "execution_count": 16,
   "id": "0efc3e5a-7259-433d-a388-a59a01ed32a4",
   "metadata": {},
   "outputs": [],
   "source": [
    "top = Tk()\n",
    "top.geometry('600x400')\n",
    "top.title('Demo of Label')\n",
    "\n",
    "l1 = Label(top, text ='First', fg = 'red' , bg ='lightblue',\n",
    "          font = ('Times New Roman', 20))\n",
    "l2 = Label(top, text =' Second', fg = 'red' , bg ='lightblue',\n",
    "          font = ('Times New Roman', 20,'italic'))\n",
    "l3 = Label(top, text ='Third', fg = 'red' , bg ='lightblue',\n",
    "          font = ('Times New Roman', 20,'bold'))\n",
    "l4 = Label(top, text =' Fourth', fg = 'red' , bg ='lightblue',\n",
    "          font = ('Times New Roman', 20,'underline'))\n",
    "l1.pack(side =TOP)\n",
    "l2.pack(side =RIGHT)\n",
    "l3.pack(side = LEFT)\n",
    "l4.pack(side =BOTTOM)\n",
    "\n",
    "top.mainloop()"
   ]
  },
  {
   "cell_type": "markdown",
   "id": "de4468cb-f2f6-43b5-8e6f-20216e5bf21c",
   "metadata": {},
   "source": [
    "#### Button Widget"
   ]
  },
  {
   "cell_type": "code",
   "execution_count": 12,
   "id": "c5f4dab1-c3da-49e3-8e36-f9e903c6d152",
   "metadata": {},
   "outputs": [],
   "source": [
    "top = Tk()\n",
    "top.geometry('600x400')\n",
    "top.title('Application of Button')\n",
    "\n",
    "b = Button(top,text = 'Click Here', fg = 'magenta',bg = 'yellow',\n",
    "           font =('Times New Roman',20))\n",
    "b.pack()\n",
    "top.mainloop()"
   ]
  },
  {
   "cell_type": "code",
   "execution_count": 18,
   "id": "36915077-1a6a-4a34-91f8-89583d4caee7",
   "metadata": {},
   "outputs": [],
   "source": [
    "top = Tk()\n",
    "top.geometry('600x400')\n",
    "top.title('Application of Button')\n",
    "\n",
    "b = Button(top,text = 'Click Here', fg = 'magenta',bg = 'yellow',\n",
    "           font =('Times New Roman',20))\n",
    "b.pack(side = LEFT , padx = 200)\n",
    "top.mainloop()"
   ]
  },
  {
   "cell_type": "markdown",
   "id": "fc76af20-ab17-46a4-9bcd-ddfef1b723d0",
   "metadata": {},
   "source": [
    "#### Action generation using button"
   ]
  },
  {
   "cell_type": "code",
   "execution_count": 21,
   "id": "8981ddc2-469e-4aca-8592-47fe7a72bb7a",
   "metadata": {},
   "outputs": [
    {
     "name": "stdout",
     "output_type": "stream",
     "text": [
      "You click the button!\n",
      "You click the button!\n",
      "You click the button!\n",
      "You click the button!\n"
     ]
    }
   ],
   "source": [
    "top = Tk()\n",
    "top.geometry('600x400')\n",
    "top.title('Action Generator')\n",
    "def calc():\n",
    "    print('You click the button!')\n",
    "    \n",
    "b = Button(top,text = 'Click Here', fg = 'magenta',bg = 'yellow',\n",
    "           font =('Times New Roman',20),command = calc)\n",
    "b.pack(side = LEFT ,padx =200)\n",
    "top.mainloop()"
   ]
  },
  {
   "cell_type": "code",
   "execution_count": 28,
   "id": "0993902e-9a71-45b1-a392-76fae118827b",
   "metadata": {},
   "outputs": [],
   "source": [
    "top = Tk()\n",
    "top.geometry('600x400')\n",
    "top.title('Action Generator')\n",
    "def calc():\n",
    "     l = Label(top,text = 'Hello World!',  font =('Times New Roman',20))\n",
    "     l.pack()\n",
    "b = Button(top,text = 'Click Here',  font =('Times New Roman',20),command = calc)\n",
    "b.pack()\n",
    "top.mainloop()"
   ]
  },
  {
   "cell_type": "code",
   "execution_count": 23,
   "id": "9eb04e51-f968-4a91-9ec9-c49958b2bb68",
   "metadata": {},
   "outputs": [],
   "source": [
    "top = Tk()\n",
    "top.geometry('600x400')\n",
    "top.title('Action Generator')\n",
    "def calc():\n",
    "    l.config(text = 'Good Bye',  font =('Times New Roman',20),fg ='red')\n",
    "      \n",
    "b = Button(top,text = 'Click Here',  font =('Times New Roman',20),command = calc)\n",
    "l = Label(top,text = 'Hello World!',  font =('Times New Roman',20))\n",
    "b.pack()\n",
    "l.pack()\n",
    "top.mainloop()"
   ]
  },
  {
   "cell_type": "markdown",
   "id": "148d2b8e-c149-4b2b-99a5-a82f982db176",
   "metadata": {},
   "source": [
    "#### Entry textbox"
   ]
  },
  {
   "cell_type": "code",
   "execution_count": 24,
   "id": "aa031c3f-4269-40f1-bb95-1389d6d931d4",
   "metadata": {},
   "outputs": [],
   "source": [
    "top =Tk()\n",
    "top.geometry('600x400')\n",
    "top.title('Application of Entry')\n",
    "\n",
    "e = Entry(top, font =('Times new Roman',20))\n",
    "\n",
    "e.pack()\n",
    "top.mainloop()\n"
   ]
  },
  {
   "cell_type": "code",
   "execution_count": 25,
   "id": "b7bc79f3-bb3b-4344-ae77-3261df44d167",
   "metadata": {},
   "outputs": [
    {
     "name": "stdout",
     "output_type": "stream",
     "text": [
      "square is: 4\n",
      "square is: 9\n"
     ]
    }
   ],
   "source": [
    "top = Tk()\n",
    "top.geometry('600x400')\n",
    "top.title('Find square of the number')\n",
    "\n",
    "def calc():\n",
    "    num = int(e.get())\n",
    "    print(\"square is:\", num**2)\n",
    "    \n",
    "l = Label(top,text='Enter the number',font =('Times new Roman',20))\n",
    "e = Entry(top, font=('Times New Roman',20))\n",
    "b =Button(top,text ='Find Square', font=('Times new Roman',20),command = calc)\n",
    "l.pack()\n",
    "e.pack()\n",
    "b.pack()\n",
    "top.mainloop()"
   ]
  },
  {
   "cell_type": "code",
   "execution_count": 28,
   "id": "d7c5bfcb-5339-4c1a-b148-2c499c9f5766",
   "metadata": {},
   "outputs": [],
   "source": [
    "top = Tk()\n",
    "top.geometry('600x400')\n",
    "top.title('Find square of the number')\n",
    "\n",
    "def calc():\n",
    "    num = int(e.get())**2\n",
    "    out.config(text = 'Result:' + str(num))\n",
    "l = Label(top,text='Enter the number',font =('Times new Roman',20))\n",
    "e = Entry(top, font=('Times New Roman',20))\n",
    "b =Button(top,text ='Find Square', font=('Times new Roman',20),command = calc)\n",
    "out = Label(top,text ='Result:',font =('Times new Roman',20))\n",
    "l.pack()\n",
    "e.pack()\n",
    "b.pack()\n",
    "out.pack()\n",
    "top.mainloop()"
   ]
  },
  {
   "cell_type": "code",
   "execution_count": 29,
   "id": "81973c1e-8dc3-4d97-9102-2d13da6c35d6",
   "metadata": {},
   "outputs": [],
   "source": [
    "top =Tk()\n",
    "top.geometry('600x400')\n",
    "top.title('Application of Entry')\n",
    "\n",
    "e = Entry(top, font =('Times new Roman',20),show = '*')\n",
    "\n",
    "e.pack()\n",
    "top.mainloop()\n"
   ]
  },
  {
   "cell_type": "code",
   "execution_count": 30,
   "id": "6f0236a0-81c8-4329-af45-138d61064574",
   "metadata": {},
   "outputs": [],
   "source": [
    "top =Tk()\n",
    "top.geometry('600x500')\n",
    "top.title('Application of the Text widget')\n",
    "t = Text(top, font =('Times new Roman',20),height=15,width=40)\n",
    "\n",
    "t.pack()\n",
    "top.mainloop()\n"
   ]
  },
  {
   "cell_type": "code",
   "execution_count": null,
   "id": "bf32a126-31b4-40a9-82eb-3b1367a46ece",
   "metadata": {},
   "outputs": [],
   "source": [
    "top =Tk()\n",
    "top.geometry('600x400')\n",
    "top.title('notepad')\n",
    "\n",
    "def save():\n",
    "    f = open('demo.txt','w')\n",
    "    f.write(t.get(\"1.0\",END))\n",
    "    f.close()\n",
    "\n",
    "def clear():\n",
    "    t.delete(\"1.0\",END)\n",
    "    \n",
    "t =  Text(top,font=('Times new Roman',20),height=15,width=40)\n",
    " \n",
    "frame = Frame(top)\n",
    "frame.pack()\n",
    "\n",
    "b1 = Button(frame, text ='save', font =('Times new Roman',20),command = save)\n",
    "b2 = Button(frame, text ='clear', font =('Times new Roman',20),command = clear)\n",
    "t.pack(pady=10)\n",
    "b1.pack(side=LEFT, padx=10)\n",
    "b2.pack(side=LEFT, padx=10)\n",
    "top.mainloop()\n"
   ]
  },
  {
   "cell_type": "markdown",
   "id": "eac7e240-3689-4daf-bc2c-2912234da851",
   "metadata": {},
   "source": [
    "#### Binding the events"
   ]
  },
  {
   "cell_type": "code",
   "execution_count": 49,
   "id": "7cecedbf-2335-4a99-83f0-9c0dac2a9b31",
   "metadata": {},
   "outputs": [
    {
     "name": "stdout",
     "output_type": "stream",
     "text": [
      "Left click\n",
      "Left click\n",
      "Left click\n",
      "Double click\n"
     ]
    }
   ],
   "source": [
    "top =Tk()\n",
    "top.geometry('800x600')\n",
    "top.title('simple Binding of event')\n",
    "\n",
    "def hello(event):\n",
    "    print('Left click')\n",
    "\n",
    "def quit(event):\n",
    "    print('Double click')\n",
    "\n",
    "def right(event):\n",
    "    print('Right Click')\n",
    "\n",
    "b = Button(top, text ='Button Click', font =('Times new Roman',20))\n",
    "b.bind('<Button-1>',hello)\n",
    "b.bind('<Double-1>',quit)\n",
    "b.bind('<Button-3>',right)\n",
    "b.pack()\n",
    "top.mainloop()"
   ]
  },
  {
   "cell_type": "code",
   "execution_count": 57,
   "id": "e77424f0-2152-4337-b1b9-f805f0a8f4b1",
   "metadata": {},
   "outputs": [],
   "source": [
    "top = Tk()\n",
    "top.geometry('600x400')\n",
    "top.title('Demo of Label')\n",
    "\n",
    "l1 = Label(top, text ='First', fg = 'yellow' , bg ='lightpink',\n",
    "          font = ('Times New Roman', 20))\n",
    "l2 = Label(top, text =' Second', fg = 'red' , bg ='lightyellow',\n",
    "          font = ('Times New Roman', 20,'italic'))\n",
    "l3 = Label(top, text ='Third', fg = 'pink' , bg ='lightblue',\n",
    "          font = ('Times New Roman', 20,'bold'))\n",
    " \n",
    "l1.pack(fill = X, padx=20, pady=20)\n",
    "l2.pack(fill = X, padx=20, pady=20)\n",
    "l3.pack(fill = X, padx=20, pady=20)\n",
    "\n",
    "top.mainloop()"
   ]
  },
  {
   "cell_type": "markdown",
   "id": "e5dd092a-2d31-44c1-be6a-cdf64ce1942c",
   "metadata": {},
   "source": [
    "### place Manager"
   ]
  },
  {
   "cell_type": "code",
   "execution_count": 71,
   "id": "70325aa1-e80b-4607-a6b4-c6e842ca5354",
   "metadata": {},
   "outputs": [],
   "source": [
    "top = Tk()\n",
    "top.geometry('600x400')\n",
    "top.title('Find square of the number')\n",
    "\n",
    "def calc():\n",
    "    num = int(e.get())**2\n",
    "    out.config(text = 'Result:' + str(num))\n",
    "l = Label(top,text='Enter the number:',font =('Times new Roman',20))\n",
    "e = Entry(top, font=('Times New Roman',20))\n",
    "b =Button(top,text ='Find Square', font=('Times new Roman',20),command = calc)\n",
    "out = Label(top,text ='Result:',font =('Times new Roman',20))\n",
    "l.place(x=20,y=20, width = 200,height=30)\n",
    "e.place(x=250,y=20)\n",
    "b.place(x=250,y=80)\n",
    "out.place(x=250,y=150)\n",
    "top.mainloop()"
   ]
  },
  {
   "cell_type": "markdown",
   "id": "bd64a734-2f8e-4709-92c7-c88758e83214",
   "metadata": {},
   "source": [
    "#### Grid manager"
   ]
  },
  {
   "cell_type": "code",
   "execution_count": 74,
   "id": "5654e827-5665-464b-b296-83ce49694c3b",
   "metadata": {},
   "outputs": [],
   "source": [
    "top = Tk()\n",
    "top.geometry('600x400')\n",
    "top.title('Find square of the number')\n",
    "\n",
    "def calc():\n",
    "    num = int(e.get())**2\n",
    "    out.config(text = 'Result:' + str(num))\n",
    "l = Label(top,text='Enter the number:',font =('Times new Roman',20))\n",
    "e = Entry(top, font=('Times New Roman',20))\n",
    "b =Button(top,text ='Find Square', font=('Times new Roman',20),command = calc)\n",
    "out = Label(top,text ='Result:',font =('Times new Roman',20))\n",
    "l.grid(row = 0,column = 0)\n",
    "e.grid(row = 0,column = 1)\n",
    "b.grid(row = 1,column = 0)\n",
    "out.grid(row = 1,column = 1)\n",
    "top.mainloop()"
   ]
  },
  {
   "cell_type": "markdown",
   "id": "a9526fa6-3515-4dd8-b034-a122fe5d4357",
   "metadata": {},
   "source": [
    "#### Simple Calculator"
   ]
  },
  {
   "cell_type": "code",
   "execution_count": 80,
   "id": "de251173-7a25-4dfe-a19d-12cddd04e5cf",
   "metadata": {},
   "outputs": [],
   "source": [
    "top = Tk()\n",
    "top.geometry('600x400')\n",
    "top.title('Simple calculator') \n",
    "\n",
    "def add():\n",
    "    a = int(num1.get()) + int(num2.get())\n",
    "    result.config(text='Addition:' + str(a))\n",
    "\n",
    "def sub():\n",
    "    a = int(num1.get()) - int(num2.get())\n",
    "    result.config(text='Subtraction:' + str(a))\n",
    "def mul():\n",
    "    a = int(num1.get()) * int(num2.get())\n",
    "    result.config(text='Multiplication:' + str(a))\n",
    "\n",
    "def div():\n",
    "    a = int(num1.get()) / int(num2.get())\n",
    "    result.config(text='Division:' + str(a))\n",
    "\n",
    "\n",
    "num1 = Entry(top, font=('Times new roman',20))\n",
    "num2 = Entry(top, font=('Times new roman',20))\n",
    "add = Button(top, text=\"Add\", font=('Times new roman',20), command=add)\n",
    "sub = Button(top, text=\"Sub\", font=('Times new roman',20),command=sub)\n",
    "mul = Button(top, text=\"Mul\", font=('Times new roman',20),command=mul)\n",
    "div = Button(top, text=\"Div\", font=('Times new roman',20),command=div)\n",
    "result = Label(top, text=\"result: \")\n",
    "num1.place(x=50,y=20);    \n",
    "num2.place(x=300 , y=20);\n",
    "add.place(x=50,y=100);  \n",
    "sub.place(x=150,y=100);   \n",
    "mul.place(x=250,y=100);   \n",
    "div.place(x=350,y=100); \n",
    "result.place(x=50, y=200)\n",
    "top.mainloop()\n"
   ]
  },
  {
   "cell_type": "code",
   "execution_count": null,
   "id": "d6a9a146-a294-4cde-8fed-45bc602ad09b",
   "metadata": {},
   "outputs": [],
   "source": []
  },
  {
   "cell_type": "code",
   "execution_count": null,
   "id": "e00231a3-7963-49ac-93e7-1f95fce5e889",
   "metadata": {},
   "outputs": [],
   "source": []
  }
 ],
 "metadata": {
  "kernelspec": {
   "display_name": "Python 3 (ipykernel)",
   "language": "python",
   "name": "python3"
  },
  "language_info": {
   "codemirror_mode": {
    "name": "ipython",
    "version": 3
   },
   "file_extension": ".py",
   "mimetype": "text/x-python",
   "name": "python",
   "nbconvert_exporter": "python",
   "pygments_lexer": "ipython3",
   "version": "3.12.7"
  }
 },
 "nbformat": 4,
 "nbformat_minor": 5
}
