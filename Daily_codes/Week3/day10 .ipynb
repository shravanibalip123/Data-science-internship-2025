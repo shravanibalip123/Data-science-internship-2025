{
 "cells": [
  {
   "cell_type": "markdown",
   "id": "bbb656ea-9b5e-421f-887a-cb114c7a7cc2",
   "metadata": {},
   "source": [
    "##### Operator Overloading"
   ]
  },
  {
   "cell_type": "code",
   "execution_count": 7,
   "id": "2750974e-225a-4fa0-98e4-dc17437102d7",
   "metadata": {},
   "outputs": [],
   "source": [
    "# It allows you to redefine how standard operators like +,-,*,==,and > work with your custom objects.\n",
    "# Essentially, you're giving special mwaning to these operators for a class you've created."
   ]
  },
  {
   "cell_type": "code",
   "execution_count": 11,
   "id": "08a4b1e4-b037-43e6-a1ef-98cbcb3b9ebe",
   "metadata": {},
   "outputs": [],
   "source": [
    "class A:\n",
    "    def __init__(self,a):\n",
    "        self.a=a\n",
    "    def __add__(self,o):\n",
    "        return self.a+o.a"
   ]
  },
  {
   "cell_type": "code",
   "execution_count": 12,
   "id": "2b18526d-6519-463a-b024-23b804115ca3",
   "metadata": {},
   "outputs": [],
   "source": [
    "ob1=A(23)\n",
    "ob2=A(77)"
   ]
  },
  {
   "cell_type": "code",
   "execution_count": 13,
   "id": "481758c6-9663-480d-88ed-1961fb5e44ac",
   "metadata": {},
   "outputs": [
    {
     "data": {
      "text/plain": [
       "100"
      ]
     },
     "execution_count": 13,
     "metadata": {},
     "output_type": "execute_result"
    }
   ],
   "source": [
    "ob1+ob2"
   ]
  },
  {
   "cell_type": "code",
   "execution_count": 14,
   "id": "bccf6fe5-c81b-47c6-956e-64636b13a691",
   "metadata": {},
   "outputs": [],
   "source": [
    "ob3=A('Pune')\n",
    "ob4=A('Maharashtra')"
   ]
  },
  {
   "cell_type": "code",
   "execution_count": 15,
   "id": "bc2849cc-cbb8-46d0-9daa-60d0258f42cf",
   "metadata": {},
   "outputs": [
    {
     "data": {
      "text/plain": [
       "'PuneMaharashtra'"
      ]
     },
     "execution_count": 15,
     "metadata": {},
     "output_type": "execute_result"
    }
   ],
   "source": [
    "ob3+ob4"
   ]
  },
  {
   "cell_type": "markdown",
   "id": "02ecda61-4e6d-4524-8591-856600e05f1e",
   "metadata": {},
   "source": [
    "#### DESTRUCTOR"
   ]
  },
  {
   "cell_type": "code",
   "execution_count": null,
   "id": "75952766-3830-43d5-883f-80b2cd7e2198",
   "metadata": {},
   "outputs": [],
   "source": [
    "# A destructor is a special method of a class that is automatically called when an object of that class is destroyed.\n",
    "# Its primary purpose is to deallocate any resources that the object might have acquired during its lifetime, such as dynamically allocated memory\n",
    "# ,file handles, or network connections."
   ]
  },
  {
   "cell_type": "code",
   "execution_count": 20,
   "id": "143fd130-f9c2-4877-98bb-24cea41ec014",
   "metadata": {},
   "outputs": [],
   "source": [
    "class Employee:\n",
    "    def __init__(self):\n",
    "        print('Object created')\n",
    "    def __del__(self):\n",
    "        print('Object deleted')"
   ]
  },
  {
   "cell_type": "code",
   "execution_count": 21,
   "id": "470ebfbe-c9dd-4148-95f2-2880d759469d",
   "metadata": {},
   "outputs": [
    {
     "name": "stdout",
     "output_type": "stream",
     "text": [
      "Object created\n"
     ]
    }
   ],
   "source": [
    "emp=Employee()"
   ]
  },
  {
   "cell_type": "code",
   "execution_count": 22,
   "id": "475eb442-f77e-49d1-a1f8-836d61c02bf2",
   "metadata": {},
   "outputs": [
    {
     "name": "stdout",
     "output_type": "stream",
     "text": [
      "Object deleted\n"
     ]
    }
   ],
   "source": [
    "del emp"
   ]
  },
  {
   "cell_type": "markdown",
   "id": "04ba71ee-568c-4108-8925-beda9690be38",
   "metadata": {},
   "source": [
    "### FILE HANDLING"
   ]
  },
  {
   "cell_type": "markdown",
   "id": "6c1c227a-49f9-4be5-8397-c08ea9523b79",
   "metadata": {},
   "source": [
    "### Reading a file"
   ]
  },
  {
   "cell_type": "code",
   "execution_count": 1,
   "id": "59b73780-d1d9-470f-a75b-d2032a4e0478",
   "metadata": {},
   "outputs": [],
   "source": [
    "#Filename: file1.txt"
   ]
  },
  {
   "cell_type": "code",
   "execution_count": 2,
   "id": "94c9c1f6-b966-4022-955d-64b9f462a559",
   "metadata": {},
   "outputs": [],
   "source": [
    "f=open('file1.txt')"
   ]
  },
  {
   "cell_type": "code",
   "execution_count": 24,
   "id": "4f76e37c-abbc-4ffe-851a-c7423d927dcf",
   "metadata": {},
   "outputs": [
    {
     "data": {
      "text/plain": [
       "<_io.TextIOWrapper name='file1.txt' mode='r' encoding='cp1252'>"
      ]
     },
     "execution_count": 24,
     "metadata": {},
     "output_type": "execute_result"
    }
   ],
   "source": [
    "f"
   ]
  },
  {
   "cell_type": "markdown",
   "id": "34fffa50-353b-4e5f-99e9-5f50b9e70e0f",
   "metadata": {},
   "source": [
    "### In mode we specify whether we want to read 'r', write 'w' or append 'a' to the file."
   ]
  },
  {
   "cell_type": "markdown",
   "id": "f93b3d3c-2669-4687-b098-2bbc95a015bf",
   "metadata": {},
   "source": [
    "#### readable() function"
   ]
  },
  {
   "cell_type": "code",
   "execution_count": 27,
   "id": "fcd8ac67-27ff-46c7-8f97-2da35481f450",
   "metadata": {},
   "outputs": [
    {
     "data": {
      "text/plain": [
       "True"
      ]
     },
     "execution_count": 27,
     "metadata": {},
     "output_type": "execute_result"
    }
   ],
   "source": [
    "f.readable()"
   ]
  },
  {
   "cell_type": "markdown",
   "id": "8fef22e5-3288-49be-9f5f-b446306556fa",
   "metadata": {},
   "source": [
    "### readline() function"
   ]
  },
  {
   "cell_type": "code",
   "execution_count": 28,
   "id": "8ea50d43-00bb-44e9-b462-21d681fe1d1e",
   "metadata": {},
   "outputs": [
    {
     "data": {
      "text/plain": [
       "'Hello Friends !\\n'"
      ]
     },
     "execution_count": 28,
     "metadata": {},
     "output_type": "execute_result"
    }
   ],
   "source": [
    "f.readline()"
   ]
  },
  {
   "cell_type": "code",
   "execution_count": 29,
   "id": "49d54d77-497c-455f-80a2-bf4652daa52a",
   "metadata": {},
   "outputs": [
    {
     "data": {
      "text/plain": [
       "'How are you ?\\n'"
      ]
     },
     "execution_count": 29,
     "metadata": {},
     "output_type": "execute_result"
    }
   ],
   "source": [
    "f.readline()"
   ]
  },
  {
   "cell_type": "code",
   "execution_count": 30,
   "id": "fdf4481a-1ee9-4ef1-924f-d3bbca1d58ff",
   "metadata": {},
   "outputs": [
    {
     "data": {
      "text/plain": [
       "'Welcome to the world of Python Programming !'"
      ]
     },
     "execution_count": 30,
     "metadata": {},
     "output_type": "execute_result"
    }
   ],
   "source": [
    "f.readline()"
   ]
  },
  {
   "cell_type": "code",
   "execution_count": 31,
   "id": "586833c5-9e6f-4ade-a51c-b6bc5c2af4db",
   "metadata": {},
   "outputs": [
    {
     "data": {
      "text/plain": [
       "''"
      ]
     },
     "execution_count": 31,
     "metadata": {},
     "output_type": "execute_result"
    }
   ],
   "source": [
    "f.readline()"
   ]
  },
  {
   "cell_type": "code",
   "execution_count": 32,
   "id": "e43c854f-2de6-4247-bbc5-d8b27c19e525",
   "metadata": {},
   "outputs": [],
   "source": [
    "f=open('file1.txt')"
   ]
  },
  {
   "cell_type": "code",
   "execution_count": 33,
   "id": "235e0c82-e3be-47a4-b664-28df1b176ac9",
   "metadata": {},
   "outputs": [
    {
     "data": {
      "text/plain": [
       "'Hello Frie'"
      ]
     },
     "execution_count": 33,
     "metadata": {},
     "output_type": "execute_result"
    }
   ],
   "source": [
    "f.readline(10)"
   ]
  },
  {
   "cell_type": "code",
   "execution_count": 34,
   "id": "2165f126-cad4-4587-8e29-240a422448de",
   "metadata": {},
   "outputs": [
    {
     "data": {
      "text/plain": [
       "'nds !'"
      ]
     },
     "execution_count": 34,
     "metadata": {},
     "output_type": "execute_result"
    }
   ],
   "source": [
    "f.readline(5)"
   ]
  },
  {
   "cell_type": "code",
   "execution_count": 35,
   "id": "3efb4fb9-7a90-4725-aa63-116c7875af9c",
   "metadata": {},
   "outputs": [
    {
     "data": {
      "text/plain": [
       "'\\n'"
      ]
     },
     "execution_count": 35,
     "metadata": {},
     "output_type": "execute_result"
    }
   ],
   "source": [
    "f.readline(10)"
   ]
  },
  {
   "cell_type": "markdown",
   "id": "a75f1b36-385b-43fd-91d3-e43b945420bc",
   "metadata": {},
   "source": [
    "### readlines() function"
   ]
  },
  {
   "cell_type": "code",
   "execution_count": 36,
   "id": "b1a4629d-033f-4c63-9d96-452824409618",
   "metadata": {},
   "outputs": [],
   "source": [
    "f=open('file1.txt')"
   ]
  },
  {
   "cell_type": "code",
   "execution_count": 38,
   "id": "73cc71f2-cbb6-47a0-9163-c45bd98977b5",
   "metadata": {},
   "outputs": [],
   "source": [
    "data=f.readlines()"
   ]
  },
  {
   "cell_type": "code",
   "execution_count": 39,
   "id": "eb17c86c-61d6-4e44-923c-f3b8ec41541c",
   "metadata": {},
   "outputs": [
    {
     "data": {
      "text/plain": [
       "['Hello Friends !\\n',\n",
       " 'How are you ?\\n',\n",
       " 'Welcome to the world of Python Programming !']"
      ]
     },
     "execution_count": 39,
     "metadata": {},
     "output_type": "execute_result"
    }
   ],
   "source": [
    "data"
   ]
  },
  {
   "cell_type": "code",
   "execution_count": 40,
   "id": "48654f7b-e2f1-4813-8c74-7f04b8cdd2ec",
   "metadata": {},
   "outputs": [
    {
     "name": "stdout",
     "output_type": "stream",
     "text": [
      "Hello Friends !\n",
      "\n",
      "How are you ?\n",
      "\n",
      "Welcome to the world of Python Programming !\n"
     ]
    }
   ],
   "source": [
    "for line in data:\n",
    "    print(line)"
   ]
  },
  {
   "cell_type": "code",
   "execution_count": 41,
   "id": "ae99569b-9006-426d-81e3-e4b8d67bfae7",
   "metadata": {},
   "outputs": [
    {
     "name": "stdout",
     "output_type": "stream",
     "text": [
      "Hello Friends !\n",
      "\n",
      "How Are You ?\n",
      "\n",
      "Welcome To The World Of Python Programming !\n"
     ]
    }
   ],
   "source": [
    "for line in data:\n",
    "    print(line.title())"
   ]
  },
  {
   "cell_type": "code",
   "execution_count": 42,
   "id": "c2c4f319-4670-4736-9fd1-80d764fe17c7",
   "metadata": {},
   "outputs": [],
   "source": [
    "f=open('file1.txt')"
   ]
  },
  {
   "cell_type": "code",
   "execution_count": 43,
   "id": "99561be6-e114-4564-8786-b0d3feab72eb",
   "metadata": {},
   "outputs": [],
   "source": [
    "text=f.read()"
   ]
  },
  {
   "cell_type": "code",
   "execution_count": 44,
   "id": "d582b85d-d190-419f-9a05-c5586f3b7213",
   "metadata": {},
   "outputs": [
    {
     "name": "stdout",
     "output_type": "stream",
     "text": [
      "Hello Friends !\n",
      "How are you ?\n",
      "Welcome to the world of Python Programming !\n"
     ]
    }
   ],
   "source": [
    "print(text)"
   ]
  },
  {
   "cell_type": "code",
   "execution_count": 45,
   "id": "193f80db-9c3d-4594-b675-e76eb5787818",
   "metadata": {},
   "outputs": [
    {
     "data": {
      "text/plain": [
       "['Hello',\n",
       " 'Friends',\n",
       " '!',\n",
       " 'How',\n",
       " 'are',\n",
       " 'you',\n",
       " '?',\n",
       " 'Welcome',\n",
       " 'to',\n",
       " 'the',\n",
       " 'world',\n",
       " 'of',\n",
       " 'Python',\n",
       " 'Programming',\n",
       " '!']"
      ]
     },
     "execution_count": 45,
     "metadata": {},
     "output_type": "execute_result"
    }
   ],
   "source": [
    "text.split()"
   ]
  },
  {
   "cell_type": "code",
   "execution_count": 49,
   "id": "b2c3a8e1-727a-487f-9278-bf05d30e4602",
   "metadata": {},
   "outputs": [],
   "source": [
    "f1=open('file2.txt')"
   ]
  },
  {
   "cell_type": "code",
   "execution_count": 50,
   "id": "1fc82276-7fe6-4f98-9a2e-1af87c4cd676",
   "metadata": {},
   "outputs": [
    {
     "name": "stdout",
     "output_type": "stream",
     "text": [
      "Jalgaon is a city located in the northwestern part of Maharashtra, India. Known as the \"Banana City of India,\" it is a major producer and exporter of bananas and has a strong agricultural economy. Jalgaon is also an important commercial center with a growing industrial base, especially in textiles, education, and manufacturing. The city has a well-developed infrastructure, including rail and road connectivity, and is home to notable institutions like North Maharashtra University. Culturally rich, Jalgaon reflects a blend of traditional Maharashtrian values and modern urban development.Jalgaon is also known for its proximity to the world-famous Ajanta Caves, a UNESCO World Heritage Site. The city experiences a hot and dry climate and celebrates various local festivals with great enthusiasm. Its strategic location and vibrant economy make it an important hub in the Khandesh region of Maharashtra.\n"
     ]
    }
   ],
   "source": [
    "print(f1.read())"
   ]
  },
  {
   "cell_type": "code",
   "execution_count": 51,
   "id": "794c03b3-bb20-458f-94ef-48de141c6a86",
   "metadata": {},
   "outputs": [
    {
     "name": "stdout",
     "output_type": "stream",
     "text": [
      "['Jalgaon', 'is', 'a', 'city', 'located', 'in', 'the', 'northwestern', 'part', 'of', 'Maharashtra,', 'India.', 'Known', 'as', 'the', '\"Banana', 'City', 'of', 'India,\"', 'it', 'is', 'a', 'major', 'producer', 'and', 'exporter', 'of', 'bananas', 'and', 'has', 'a', 'strong', 'agricultural', 'economy.', 'Jalgaon', 'is', 'also', 'an', 'important', 'commercial', 'center', 'with', 'a', 'growing', 'industrial', 'base,', 'especially', 'in', 'textiles,', 'education,', 'and', 'manufacturing.', 'The', 'city', 'has', 'a', 'well-developed', 'infrastructure,', 'including', 'rail', 'and', 'road', 'connectivity,', 'and', 'is', 'home', 'to', 'notable', 'institutions', 'like', 'North', 'Maharashtra', 'University.', 'Culturally', 'rich,', 'Jalgaon', 'reflects', 'a', 'blend', 'of', 'traditional', 'Maharashtrian', 'values', 'and', 'modern', 'urban', 'development.Jalgaon', 'is', 'also', 'known', 'for', 'its', 'proximity', 'to', 'the', 'world-famous', 'Ajanta', 'Caves,', 'a', 'UNESCO', 'World', 'Heritage', 'Site.', 'The', 'city', 'experiences', 'a', 'hot', 'and', 'dry', 'climate', 'and', 'celebrates', 'various', 'local', 'festivals', 'with', 'great', 'enthusiasm.', 'Its', 'strategic', 'location', 'and', 'vibrant', 'economy', 'make', 'it', 'an', 'important', 'hub', 'in', 'the', 'Khandesh', 'region', 'of', 'Maharashtra.']\n"
     ]
    }
   ],
   "source": [
    "f1=open('file2.txt')\n",
    "print(f1.read().split())"
   ]
  },
  {
   "cell_type": "code",
   "execution_count": 61,
   "id": "d81a3ccc-ff65-4230-ab21-f0a1c096af17",
   "metadata": {},
   "outputs": [],
   "source": [
    "f1=open('file2.txt')"
   ]
  },
  {
   "cell_type": "code",
   "execution_count": 62,
   "id": "16e5a05b-0de3-43fc-a989-3fe4000563fa",
   "metadata": {},
   "outputs": [
    {
     "data": {
      "text/plain": [
       "['Jalgaon is a prominent city in northern Maharashtra, India, serving as the administrative headquarters of the Jalgaon district. Situated on Asian Highways 53 and 76, approximately 59 km from the UNESCO World Heritage Site of Ajanta Caves, the city is strategically positioned for trade and tourism. With a population of around 460,000 as of the 2011 Census, Jalgaon is known as the \"Banana City\" due to its significant contribution to banana cultivation, producing approximately two-thirds of Maharashtra\\'s bananas. The region\\'s bananas, particularly the \\'Basrai\\' variety, are renowned for their taste and quality, earning the city the moniker \"Banana Capital of India.\\n',\n",
       " 'Economically, Jalgaon thrives on agriculture, with cotton, pulses, and groundnut oil being key products. The city hosts a variety of industries, including bio-fertilizer production, drip irrigation systems, and pulse milling, contributing to its status as a major agricultural trade center. Jalgaon\\'s gold market is also notable for its purity and craftsmanship, earning it the nickname \"Gold City.\" Culturally, the city boasts attractions such as Mehrun Lake, the Gandhi Research Foundation, and the historic Patnadevi Temple. The climate is characterized by a hot semi-arid environment, with temperatures ranging from 10Â°C to 48Â°C, and an average annual rainfall of around 690 mm.']"
      ]
     },
     "execution_count": 62,
     "metadata": {},
     "output_type": "execute_result"
    }
   ],
   "source": [
    "f1.readlines()"
   ]
  },
  {
   "cell_type": "code",
   "execution_count": null,
   "id": "162bf2ea-6588-417b-a743-67c463882154",
   "metadata": {},
   "outputs": [],
   "source": [
    "#PROBLEM 1: Count the total no of 'the' in this file.\n",
    "#PROBLEM 2: Count and print the names which starts with 'M'"
   ]
  },
  {
   "cell_type": "code",
   "execution_count": 68,
   "id": "c96bea1d-e4df-46f0-a6dc-72edb62fadde",
   "metadata": {},
   "outputs": [],
   "source": [
    "f1=open('file2.txt')"
   ]
  },
  {
   "cell_type": "code",
   "execution_count": 69,
   "id": "e1ecd72e-3bfb-424e-a18a-a5ea39580b9e",
   "metadata": {},
   "outputs": [],
   "source": [
    "text=f1.read()"
   ]
  },
  {
   "cell_type": "code",
   "execution_count": 70,
   "id": "94e5b7a1-baa4-4cf8-89be-664e408fbfb2",
   "metadata": {},
   "outputs": [
    {
     "data": {
      "text/plain": [
       "18"
      ]
     },
     "execution_count": 70,
     "metadata": {},
     "output_type": "execute_result"
    }
   ],
   "source": [
    "text.count('the')+text.count('The')"
   ]
  },
  {
   "cell_type": "code",
   "execution_count": null,
   "id": "ae258c18-e883-4d7b-8fd8-15801849b7f2",
   "metadata": {},
   "outputs": [],
   "source": [
    "text.count()"
   ]
  },
  {
   "cell_type": "code",
   "execution_count": 72,
   "id": "60d16b90-784f-4224-b9f2-72bef8e70cef",
   "metadata": {},
   "outputs": [],
   "source": [
    "words=text.split()"
   ]
  },
  {
   "cell_type": "code",
   "execution_count": 73,
   "id": "d836e210-2db6-4d59-b8f4-7c2693f62e23",
   "metadata": {},
   "outputs": [],
   "source": [
    "count=[1 for i in words if i.startswith('M')]"
   ]
  },
  {
   "cell_type": "code",
   "execution_count": 76,
   "id": "71f1c4ae-c01d-4535-8c51-a3250377ac7c",
   "metadata": {},
   "outputs": [
    {
     "data": {
      "text/plain": [
       "3"
      ]
     },
     "execution_count": 76,
     "metadata": {},
     "output_type": "execute_result"
    }
   ],
   "source": [
    "sum(count)"
   ]
  },
  {
   "cell_type": "markdown",
   "id": "6e8c4e67-10ec-4b78-a94f-9de2a4efc2fb",
   "metadata": {},
   "source": [
    "### with statement"
   ]
  },
  {
   "cell_type": "code",
   "execution_count": null,
   "id": "a85e2b28-3690-48d5-bd17-58995ed073fc",
   "metadata": {},
   "outputs": [],
   "source": [
    "# file automatically closes using 'with'"
   ]
  },
  {
   "cell_type": "code",
   "execution_count": 83,
   "id": "abbb4402-eeae-4abf-9772-d17ed9fe3eb1",
   "metadata": {},
   "outputs": [],
   "source": [
    "with open('file1.txt') as f:\n",
    "    data=f.read()"
   ]
  },
  {
   "cell_type": "code",
   "execution_count": 84,
   "id": "137dc952-b519-4011-93a5-a5628d80d3c9",
   "metadata": {},
   "outputs": [
    {
     "data": {
      "text/plain": [
       "'Hello Friends !\\nHow are you ?\\nWelcome to the world of Python Programming !'"
      ]
     },
     "execution_count": 84,
     "metadata": {},
     "output_type": "execute_result"
    }
   ],
   "source": [
    "data"
   ]
  },
  {
   "cell_type": "markdown",
   "id": "03a1a40f-e30f-457e-8ee5-c04024b18982",
   "metadata": {},
   "source": [
    "### WRITING IN A FILE"
   ]
  },
  {
   "cell_type": "code",
   "execution_count": null,
   "id": "efd0d296-809b-4cd5-87d6-c7c4ff4d70a7",
   "metadata": {},
   "outputs": [],
   "source": []
  },
  {
   "cell_type": "code",
   "execution_count": null,
   "id": "78971d6b-6138-4934-abcb-4d1ba41f8bdd",
   "metadata": {},
   "outputs": [],
   "source": [
    "# MODE - 'w' (existing file is overwritten otherwise created)"
   ]
  },
  {
   "cell_type": "code",
   "execution_count": 104,
   "id": "ef7b975e-3fdf-46b7-b798-468921bc14b1",
   "metadata": {},
   "outputs": [],
   "source": [
    "f=open('file4.txt','w')"
   ]
  },
  {
   "cell_type": "code",
   "execution_count": 105,
   "id": "84f573e1-ddfb-4ce2-994d-6751e09ad915",
   "metadata": {},
   "outputs": [
    {
     "data": {
      "text/plain": [
       "<_io.TextIOWrapper name='file4.txt' mode='w' encoding='cp1252'>"
      ]
     },
     "execution_count": 105,
     "metadata": {},
     "output_type": "execute_result"
    }
   ],
   "source": [
    "f"
   ]
  },
  {
   "cell_type": "markdown",
   "id": "5c95beae-52f6-4422-bc86-14ab4de62ef3",
   "metadata": {},
   "source": [
    "### writable() function"
   ]
  },
  {
   "cell_type": "code",
   "execution_count": 106,
   "id": "c68e58b9-eb8a-434c-b776-6492fb2e4cb6",
   "metadata": {},
   "outputs": [
    {
     "data": {
      "text/plain": [
       "False"
      ]
     },
     "execution_count": 106,
     "metadata": {},
     "output_type": "execute_result"
    }
   ],
   "source": [
    "f.readable()"
   ]
  },
  {
   "cell_type": "code",
   "execution_count": 107,
   "id": "b93f695a-5a34-4f6f-8eef-b582cb7d7988",
   "metadata": {},
   "outputs": [
    {
     "data": {
      "text/plain": [
       "True"
      ]
     },
     "execution_count": 107,
     "metadata": {},
     "output_type": "execute_result"
    }
   ],
   "source": [
    "f.writable()"
   ]
  },
  {
   "cell_type": "markdown",
   "id": "29c39c35-8c6b-40e4-a951-c400e833ab8e",
   "metadata": {},
   "source": [
    "### writelines() function"
   ]
  },
  {
   "cell_type": "code",
   "execution_count": 4,
   "id": "9c22879f-a9d7-4b8b-8d67-c6fb7cf87c1c",
   "metadata": {},
   "outputs": [],
   "source": [
    "line=['Todays weather is cloudy.','It might rain today']"
   ]
  },
  {
   "cell_type": "code",
   "execution_count": 5,
   "id": "70122b6d-d6cf-43ac-bc75-860999d158e6",
   "metadata": {},
   "outputs": [
    {
     "ename": "UnsupportedOperation",
     "evalue": "not writable",
     "output_type": "error",
     "traceback": [
      "\u001b[1;31m---------------------------------------------------------------------------\u001b[0m",
      "\u001b[1;31mUnsupportedOperation\u001b[0m                      Traceback (most recent call last)",
      "Cell \u001b[1;32mIn[5], line 1\u001b[0m\n\u001b[1;32m----> 1\u001b[0m f\u001b[38;5;241m.\u001b[39mwritelines(line)\n",
      "\u001b[1;31mUnsupportedOperation\u001b[0m: not writable"
     ]
    }
   ],
   "source": [
    "f.writelines(line)"
   ]
  },
  {
   "cell_type": "code",
   "execution_count": 110,
   "id": "e70f9c97-2531-4ee7-af1b-7e4baf8dde90",
   "metadata": {},
   "outputs": [],
   "source": [
    "f.close()"
   ]
  },
  {
   "cell_type": "markdown",
   "id": "33169770-ef0d-4392-affc-afbedc76875c",
   "metadata": {},
   "source": [
    "### write() function"
   ]
  },
  {
   "cell_type": "code",
   "execution_count": 111,
   "id": "56e383c4-6001-40cd-91a9-d08f1942440e",
   "metadata": {},
   "outputs": [],
   "source": [
    "sent='Python is interpreted language. We need an interpreter to code in it.'"
   ]
  },
  {
   "cell_type": "code",
   "execution_count": 116,
   "id": "e01f1ac3-85e4-4af1-8559-d37e3a2ba3f2",
   "metadata": {},
   "outputs": [],
   "source": [
    "f=open('file4.txt','w')\n",
    "f.write(sent)\n",
    "f.close()"
   ]
  },
  {
   "cell_type": "code",
   "execution_count": 117,
   "id": "d5c6b35f-f33c-4a6c-bf09-8dc01a4ab878",
   "metadata": {},
   "outputs": [],
   "source": [
    "with open('file4.txt','w') as f:\n",
    "    f.write('Hello\\n')\n",
    "    f.write('This is second line\\n')\n",
    "    f.write('and tha last line.')"
   ]
  },
  {
   "cell_type": "code",
   "execution_count": 118,
   "id": "9ae12df3-0624-493e-9fe6-7543462bdbb4",
   "metadata": {},
   "outputs": [],
   "source": [
    "# source file-> file1.txt\n",
    "# destination file-> file5.txt"
   ]
  },
  {
   "cell_type": "code",
   "execution_count": 120,
   "id": "e36875d4-80c1-4894-8713-a8a4eb9cfc19",
   "metadata": {},
   "outputs": [],
   "source": [
    "s=open('file1.txt','r')\n",
    "d=open('file5.txt','w')"
   ]
  },
  {
   "cell_type": "code",
   "execution_count": 121,
   "id": "6cca0db5-ecf3-4800-81a0-4127ad85662d",
   "metadata": {},
   "outputs": [],
   "source": [
    "contents=s.read()\n",
    "d.write(contents)\n",
    "d.close()"
   ]
  },
  {
   "cell_type": "markdown",
   "id": "0bd2a0c7-a4e0-479d-8669-b97a3ad7cbcf",
   "metadata": {},
   "source": [
    "#### Appending the data to a file"
   ]
  },
  {
   "cell_type": "code",
   "execution_count": 122,
   "id": "6799915d-7cb2-47bb-9247-a0d8e93b1677",
   "metadata": {},
   "outputs": [],
   "source": [
    "s=open('file1.txt','a')"
   ]
  },
  {
   "cell_type": "code",
   "execution_count": 123,
   "id": "937bea55-28b1-4532-8ea9-d1127536c1d5",
   "metadata": {},
   "outputs": [
    {
     "data": {
      "text/plain": [
       "11"
      ]
     },
     "execution_count": 123,
     "metadata": {},
     "output_type": "execute_result"
    }
   ],
   "source": [
    "s.write('\\nGood bye !')"
   ]
  },
  {
   "cell_type": "code",
   "execution_count": 124,
   "id": "4e60f796-ea66-4333-9630-092d0dfa787f",
   "metadata": {},
   "outputs": [],
   "source": [
    "s.close()"
   ]
  },
  {
   "cell_type": "code",
   "execution_count": 125,
   "id": "82b2acf0-3a0b-4710-bcc3-896a56b279fe",
   "metadata": {},
   "outputs": [],
   "source": [
    "s=open('file1.txt','r')"
   ]
  },
  {
   "cell_type": "code",
   "execution_count": 126,
   "id": "15a6bab3-0c8a-42a3-8d53-668a4f78dc1e",
   "metadata": {},
   "outputs": [
    {
     "name": "stdout",
     "output_type": "stream",
     "text": [
      "Hello Friends !\n",
      "How are you ?\n",
      "Welcome to the world of Python Programming !\n",
      "Good bye !\n"
     ]
    }
   ],
   "source": [
    "print(s.read())"
   ]
  },
  {
   "cell_type": "markdown",
   "id": "65aa1076-2701-4fb8-8f83-37425adf0fa5",
   "metadata": {},
   "source": [
    "### Exclusive creation"
   ]
  },
  {
   "cell_type": "code",
   "execution_count": 127,
   "id": "316f7777-7df2-4706-ad53-f4bcac97bb08",
   "metadata": {},
   "outputs": [
    {
     "ename": "FileExistsError",
     "evalue": "[Errno 17] File exists: 'file1.txt'",
     "output_type": "error",
     "traceback": [
      "\u001b[1;31m---------------------------------------------------------------------------\u001b[0m",
      "\u001b[1;31mFileExistsError\u001b[0m                           Traceback (most recent call last)",
      "Cell \u001b[1;32mIn[127], line 1\u001b[0m\n\u001b[1;32m----> 1\u001b[0m f\u001b[38;5;241m=\u001b[39m\u001b[38;5;28mopen\u001b[39m(\u001b[38;5;124m'\u001b[39m\u001b[38;5;124mfile1.txt\u001b[39m\u001b[38;5;124m'\u001b[39m,\u001b[38;5;124m'\u001b[39m\u001b[38;5;124mx\u001b[39m\u001b[38;5;124m'\u001b[39m)\n",
      "File \u001b[1;32m~\\anaconda3\\Lib\\site-packages\\IPython\\core\\interactiveshell.py:324\u001b[0m, in \u001b[0;36m_modified_open\u001b[1;34m(file, *args, **kwargs)\u001b[0m\n\u001b[0;32m    317\u001b[0m \u001b[38;5;28;01mif\u001b[39;00m file \u001b[38;5;129;01min\u001b[39;00m {\u001b[38;5;241m0\u001b[39m, \u001b[38;5;241m1\u001b[39m, \u001b[38;5;241m2\u001b[39m}:\n\u001b[0;32m    318\u001b[0m     \u001b[38;5;28;01mraise\u001b[39;00m \u001b[38;5;167;01mValueError\u001b[39;00m(\n\u001b[0;32m    319\u001b[0m         \u001b[38;5;124mf\u001b[39m\u001b[38;5;124m\"\u001b[39m\u001b[38;5;124mIPython won\u001b[39m\u001b[38;5;124m'\u001b[39m\u001b[38;5;124mt let you open fd=\u001b[39m\u001b[38;5;132;01m{\u001b[39;00mfile\u001b[38;5;132;01m}\u001b[39;00m\u001b[38;5;124m by default \u001b[39m\u001b[38;5;124m\"\u001b[39m\n\u001b[0;32m    320\u001b[0m         \u001b[38;5;124m\"\u001b[39m\u001b[38;5;124mas it is likely to crash IPython. If you know what you are doing, \u001b[39m\u001b[38;5;124m\"\u001b[39m\n\u001b[0;32m    321\u001b[0m         \u001b[38;5;124m\"\u001b[39m\u001b[38;5;124myou can use builtins\u001b[39m\u001b[38;5;124m'\u001b[39m\u001b[38;5;124m open.\u001b[39m\u001b[38;5;124m\"\u001b[39m\n\u001b[0;32m    322\u001b[0m     )\n\u001b[1;32m--> 324\u001b[0m \u001b[38;5;28;01mreturn\u001b[39;00m io_open(file, \u001b[38;5;241m*\u001b[39margs, \u001b[38;5;241m*\u001b[39m\u001b[38;5;241m*\u001b[39mkwargs)\n",
      "\u001b[1;31mFileExistsError\u001b[0m: [Errno 17] File exists: 'file1.txt'"
     ]
    }
   ],
   "source": [
    "f=open('file1.txt','x')"
   ]
  },
  {
   "cell_type": "code",
   "execution_count": 128,
   "id": "633c8853-a3dd-46fb-93a8-fa45314254d9",
   "metadata": {},
   "outputs": [],
   "source": [
    "f=open('file6.txt','x')"
   ]
  },
  {
   "cell_type": "markdown",
   "id": "b1c6e846-03b7-4e99-9c7c-02ae4636b177",
   "metadata": {},
   "source": [
    "#### Example"
   ]
  },
  {
   "cell_type": "code",
   "execution_count": null,
   "id": "07f431a9-32ba-4bc0-9a32-03ac6cd42afb",
   "metadata": {},
   "outputs": [],
   "source": [
    "#Give with three text files , count the total of all the numerical element from these files"
   ]
  },
  {
   "cell_type": "code",
   "execution_count": 2,
   "id": "6495f7e8-ff98-4164-9e1a-b94a040d2f20",
   "metadata": {},
   "outputs": [],
   "source": [
    "f = open('num1.txt')"
   ]
  },
  {
   "cell_type": "code",
   "execution_count": 3,
   "id": "0fbf4b0f-4286-4a39-a28e-5c15cdbf2a54",
   "metadata": {},
   "outputs": [],
   "source": [
    "data = f.read()"
   ]
  },
  {
   "cell_type": "code",
   "execution_count": 4,
   "id": "cccc0a0e-ec45-49fa-b65a-6d98eec9d8bd",
   "metadata": {},
   "outputs": [
    {
     "data": {
      "text/plain": [
       "'23\\n54\\n12\\n67\\n39\\n81\\n50\\n88\\n97\\n33'"
      ]
     },
     "execution_count": 4,
     "metadata": {},
     "output_type": "execute_result"
    }
   ],
   "source": [
    "data\n"
   ]
  },
  {
   "cell_type": "code",
   "execution_count": 5,
   "id": "4b433e17-e498-4797-9760-722897c80279",
   "metadata": {},
   "outputs": [
    {
     "data": {
      "text/plain": [
       "['23', '54', '12', '67', '39', '81', '50', '88', '97', '33']"
      ]
     },
     "execution_count": 5,
     "metadata": {},
     "output_type": "execute_result"
    }
   ],
   "source": [
    "nums = data.split()\n",
    "nums"
   ]
  },
  {
   "cell_type": "code",
   "execution_count": 6,
   "id": "97725e88-0e54-43b3-a073-52dc75ded05a",
   "metadata": {},
   "outputs": [
    {
     "data": {
      "text/plain": [
       "[23, 54, 12, 67, 39, 81, 50, 88, 97, 33]"
      ]
     },
     "execution_count": 6,
     "metadata": {},
     "output_type": "execute_result"
    }
   ],
   "source": [
    "nums = [int(n) for n in nums]\n",
    "nums"
   ]
  },
  {
   "cell_type": "code",
   "execution_count": 7,
   "id": "b6f20d09-a756-4cc6-a527-374fe4e12274",
   "metadata": {},
   "outputs": [
    {
     "data": {
      "text/plain": [
       "544"
      ]
     },
     "execution_count": 7,
     "metadata": {},
     "output_type": "execute_result"
    }
   ],
   "source": [
    "sum(nums)"
   ]
  },
  {
   "cell_type": "code",
   "execution_count": 25,
   "id": "a79a627b-3309-42a5-93ed-8ac72b49fa1a",
   "metadata": {},
   "outputs": [],
   "source": [
    "f=open('num2.txt')"
   ]
  },
  {
   "cell_type": "code",
   "execution_count": 26,
   "id": "e8532ae0-151e-4210-ba76-d54aeed0a3d7",
   "metadata": {},
   "outputs": [
    {
     "data": {
      "text/plain": [
       "'45 abc\\n67 78 12\\nsgjjk 38 11\\ngh edt hy\\n56\\n34 567f\\n12 49 eee\\n7\\n56 67 78 dr\\n12 f34 63'"
      ]
     },
     "execution_count": 26,
     "metadata": {},
     "output_type": "execute_result"
    }
   ],
   "source": [
    "data = f.read()\n",
    "data"
   ]
  },
  {
   "cell_type": "code",
   "execution_count": 27,
   "id": "0caa9e4a-19e8-46e4-9640-538be7d5a631",
   "metadata": {},
   "outputs": [],
   "source": [
    "nums = data.split()"
   ]
  },
  {
   "cell_type": "code",
   "execution_count": 28,
   "id": "a3eba22f-6c40-4614-a573-447959a864da",
   "metadata": {},
   "outputs": [],
   "source": [
    "nums;"
   ]
  },
  {
   "cell_type": "code",
   "execution_count": 29,
   "id": "3f2593f2-3b8a-4c55-86c2-56e8dfe0ff97",
   "metadata": {},
   "outputs": [
    {
     "data": {
      "text/plain": [
       "[45, 67, 78, 12, 38, 11, 56, 34, 12, 49, 7, 56, 67, 78, 12, 63]"
      ]
     },
     "execution_count": 29,
     "metadata": {},
     "output_type": "execute_result"
    }
   ],
   "source": [
    "nums = [int(n) for n in nums if n.isdigit()]\n",
    "nums"
   ]
  },
  {
   "cell_type": "code",
   "execution_count": 30,
   "id": "816894a8-43d4-449b-94e7-5ae7cd967908",
   "metadata": {},
   "outputs": [
    {
     "data": {
      "text/plain": [
       "685"
      ]
     },
     "execution_count": 30,
     "metadata": {},
     "output_type": "execute_result"
    }
   ],
   "source": [
    "sum(nums)"
   ]
  },
  {
   "cell_type": "markdown",
   "id": "f90570eb-49ff-4ac7-8865-22eaf6a2bea6",
   "metadata": {},
   "source": [
    "#### File position"
   ]
  },
  {
   "cell_type": "code",
   "execution_count": 31,
   "id": "c0db7295-fb73-4b8d-aed9-e0783a8c2304",
   "metadata": {},
   "outputs": [],
   "source": [
    "# The file position (also known as the file pointer or file cursor) refers to the current\n",
    "# location within an open file where the next read or write operation will occour"
   ]
  },
  {
   "cell_type": "code",
   "execution_count": 32,
   "id": "9e39d7ce-0ad4-443f-8590-10ca929c622f",
   "metadata": {},
   "outputs": [],
   "source": [
    "f = open('sample.txt')"
   ]
  },
  {
   "cell_type": "code",
   "execution_count": 33,
   "id": "a9b13567-6ed7-4c2a-b70c-92a60a9ded16",
   "metadata": {},
   "outputs": [
    {
     "data": {
      "text/plain": [
       "0"
      ]
     },
     "execution_count": 33,
     "metadata": {},
     "output_type": "execute_result"
    }
   ],
   "source": [
    "f.tell()"
   ]
  },
  {
   "cell_type": "code",
   "execution_count": 34,
   "id": "2a19f209-baa7-4d1f-bb4d-e5d7cabbb5a9",
   "metadata": {},
   "outputs": [
    {
     "data": {
      "text/plain": [
       "'hello friends!\\n'"
      ]
     },
     "execution_count": 34,
     "metadata": {},
     "output_type": "execute_result"
    }
   ],
   "source": [
    "f.readline()"
   ]
  },
  {
   "cell_type": "code",
   "execution_count": 35,
   "id": "dc478f7d-6496-47e1-8633-75e4674e4fe8",
   "metadata": {},
   "outputs": [
    {
     "data": {
      "text/plain": [
       "15"
      ]
     },
     "execution_count": 35,
     "metadata": {},
     "output_type": "execute_result"
    }
   ],
   "source": [
    "f.tell()"
   ]
  },
  {
   "cell_type": "code",
   "execution_count": 36,
   "id": "8d52fb06-0885-462e-b977-46fc158138f7",
   "metadata": {},
   "outputs": [
    {
     "data": {
      "text/plain": [
       "'how are you\\n'"
      ]
     },
     "execution_count": 36,
     "metadata": {},
     "output_type": "execute_result"
    }
   ],
   "source": [
    "f.readline()"
   ]
  },
  {
   "cell_type": "code",
   "execution_count": 37,
   "id": "b271724c-c63c-4174-954d-6c31bbb6f653",
   "metadata": {},
   "outputs": [
    {
     "data": {
      "text/plain": [
       "27"
      ]
     },
     "execution_count": 37,
     "metadata": {},
     "output_type": "execute_result"
    }
   ],
   "source": [
    "f.tell()"
   ]
  },
  {
   "cell_type": "code",
   "execution_count": 38,
   "id": "1081e18f-7501-449c-a4f0-983489a764f9",
   "metadata": {},
   "outputs": [
    {
     "data": {
      "text/plain": [
       "'what was your exam'"
      ]
     },
     "execution_count": 38,
     "metadata": {},
     "output_type": "execute_result"
    }
   ],
   "source": [
    "f.readline()"
   ]
  },
  {
   "cell_type": "code",
   "execution_count": 39,
   "id": "bab41d98-037b-4173-817c-8f3ca04fb77c",
   "metadata": {},
   "outputs": [
    {
     "data": {
      "text/plain": [
       "45"
      ]
     },
     "execution_count": 39,
     "metadata": {},
     "output_type": "execute_result"
    }
   ],
   "source": [
    "f.tell()"
   ]
  },
  {
   "cell_type": "code",
   "execution_count": 40,
   "id": "39f8abdd-0d02-473d-a16b-def58fa2212b",
   "metadata": {},
   "outputs": [
    {
     "data": {
      "text/plain": [
       "''"
      ]
     },
     "execution_count": 40,
     "metadata": {},
     "output_type": "execute_result"
    }
   ],
   "source": [
    "f.readline()"
   ]
  },
  {
   "cell_type": "code",
   "execution_count": 41,
   "id": "80615f6f-bed7-45e5-b5d0-515293597a02",
   "metadata": {},
   "outputs": [
    {
     "data": {
      "text/plain": [
       "45"
      ]
     },
     "execution_count": 41,
     "metadata": {},
     "output_type": "execute_result"
    }
   ],
   "source": [
    "f.tell()"
   ]
  },
  {
   "cell_type": "code",
   "execution_count": 45,
   "id": "1c4f9b96-3ef5-4fbd-ae28-5ef8cdbdd40d",
   "metadata": {},
   "outputs": [
    {
     "data": {
      "text/plain": [
       "10"
      ]
     },
     "execution_count": 45,
     "metadata": {},
     "output_type": "execute_result"
    }
   ],
   "source": [
    "f.seek(10)"
   ]
  },
  {
   "cell_type": "code",
   "execution_count": 46,
   "id": "1ec6f045-3abf-4c40-9134-97ef1d19a1a7",
   "metadata": {},
   "outputs": [
    {
     "data": {
      "text/plain": [
       "'nds!\\n'"
      ]
     },
     "execution_count": 46,
     "metadata": {},
     "output_type": "execute_result"
    }
   ],
   "source": [
    "f.readline()"
   ]
  },
  {
   "cell_type": "markdown",
   "id": "e72f6212-f22b-4e96-ad60-c9e76a285118",
   "metadata": {},
   "source": [
    "#### Binary mode"
   ]
  },
  {
   "cell_type": "code",
   "execution_count": null,
   "id": "dae22a70-924e-4d58-b21a-63f32f88f4e2",
   "metadata": {},
   "outputs": [],
   "source": [
    "# openinng a file in binary means you're telling the interpriter to treat the file's content\n",
    "# as a sequence of raw bytes,rather than trying to interpret it as text with a specific \n",
    "# character encoding(like UTF-8,ASCII ,etc)"
   ]
  },
  {
   "cell_type": "markdown",
   "id": "0995dcbe-718c-4b55-96b4-fe10c6359f2c",
   "metadata": {},
   "source": [
    "####\n",
    "how to open file in binary mode :\n",
    "'rb' => read binary\n",
    "'wb' =>write binary\n",
    "'ab' =>append binary"
   ]
  },
  {
   "cell_type": "code",
   "execution_count": 50,
   "id": "a5551bed-ae60-4ace-94b0-c89c4070b8b8",
   "metadata": {},
   "outputs": [],
   "source": [
    "with open('mydata.bin','wb') as f:\n",
    "    f.write(b'hello world!')"
   ]
  },
  {
   "cell_type": "code",
   "execution_count": 51,
   "id": "56b9bc9d-698a-4846-b147-c351a036286f",
   "metadata": {},
   "outputs": [
    {
     "name": "stdout",
     "output_type": "stream",
     "text": [
      " Data in file b'hello world!'\n"
     ]
    }
   ],
   "source": [
    "with open('mydata.bin','rb') as f:\n",
    "    content = f.read()\n",
    "    print(f' Data in file {content}')"
   ]
  },
  {
   "cell_type": "code",
   "execution_count": null,
   "id": "69b1610f-d042-4753-b398-cc7a645d366c",
   "metadata": {},
   "outputs": [],
   "source": []
  }
 ],
 "metadata": {
  "kernelspec": {
   "display_name": "Python 3 (ipykernel)",
   "language": "python",
   "name": "python3"
  },
  "language_info": {
   "codemirror_mode": {
    "name": "ipython",
    "version": 3
   },
   "file_extension": ".py",
   "mimetype": "text/x-python",
   "name": "python",
   "nbconvert_exporter": "python",
   "pygments_lexer": "ipython3",
   "version": "3.12.7"
  }
 },
 "nbformat": 4,
 "nbformat_minor": 5
}
