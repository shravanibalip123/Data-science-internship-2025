{
 "cells": [
  {
   "cell_type": "code",
   "execution_count": 11,
   "id": "6deef0f9-b02a-4c56-880f-7491df1fc58e",
   "metadata": {},
   "outputs": [],
   "source": [
    "# simple class defination\n",
    "class Test:\n",
    "    # simple method\n",
    "    def show(self):\n",
    "        print(\"Hello World!\")"
   ]
  },
  {
   "cell_type": "code",
   "execution_count": 12,
   "id": "ab4825ce-717f-4709-a300-0689590adbc2",
   "metadata": {},
   "outputs": [],
   "source": [
    "# create object\n",
    "obj = Test()"
   ]
  },
  {
   "cell_type": "code",
   "execution_count": 13,
   "id": "43f33564-0c1d-4536-9820-c5e9840db62a",
   "metadata": {},
   "outputs": [
    {
     "name": "stdout",
     "output_type": "stream",
     "text": [
      "Hello World!\n"
     ]
    }
   ],
   "source": [
    "obj.show()"
   ]
  },
  {
   "cell_type": "markdown",
   "id": "d1b056b3-e332-4ab7-8607-2154302515f0",
   "metadata": {},
   "source": [
    "####\n",
    "in object- oriented programing, a constructor is a special method within a class that is automatically\n",
    "invoked when a new object of that class is created. its primary purpose is to initialize the object's attributes\n",
    "or members , setting them to their initial states. constructurs ensure that new objects are in a valid and usable\n",
    "state when they are first created"
   ]
  },
  {
   "cell_type": "markdown",
   "id": "0f4aa974-0968-44aa-ad4d-d2863561ed48",
   "metadata": {},
   "source": [
    "#### define properties / attributes using constructor"
   ]
  },
  {
   "cell_type": "code",
   "execution_count": 24,
   "id": "9549b252-0468-4d9a-b9c7-f460f11dbbce",
   "metadata": {},
   "outputs": [],
   "source": [
    "class myclass:\n",
    "    def __init__(self):   # constructor\n",
    "        print(\"hello World\")\n",
    "    \n"
   ]
  },
  {
   "cell_type": "code",
   "execution_count": 25,
   "id": "f8ef14e8-d81a-410d-b1a0-3e1fe75ee81e",
   "metadata": {},
   "outputs": [
    {
     "name": "stdout",
     "output_type": "stream",
     "text": [
      "hello World\n"
     ]
    }
   ],
   "source": [
    "m =myclass()"
   ]
  },
  {
   "cell_type": "code",
   "execution_count": 29,
   "id": "728b4071-e8ce-4aa5-a7ec-a39552790b9a",
   "metadata": {},
   "outputs": [],
   "source": [
    "class myclass:\n",
    "    def __init__(self,x):   # constructor\n",
    "        self.name= x     \n",
    "        print(\"hello\",self.name)\n",
    "    \n"
   ]
  },
  {
   "cell_type": "code",
   "execution_count": 30,
   "id": "c2eec088-392c-406d-a02c-3c55c5c37ad9",
   "metadata": {},
   "outputs": [
    {
     "name": "stdout",
     "output_type": "stream",
     "text": [
      "hello shravani\n"
     ]
    }
   ],
   "source": [
    "m = myclass('shravani')"
   ]
  },
  {
   "cell_type": "code",
   "execution_count": 31,
   "id": "8fd18fab-f1c9-4884-b44b-3f82dabf5f1b",
   "metadata": {},
   "outputs": [
    {
     "data": {
      "text/plain": [
       "'shravani'"
      ]
     },
     "execution_count": 31,
     "metadata": {},
     "output_type": "execute_result"
    }
   ],
   "source": [
    "m.name"
   ]
  },
  {
   "cell_type": "code",
   "execution_count": 48,
   "id": "172f272e-e7c2-4dec-91a1-c951650fe40f",
   "metadata": {},
   "outputs": [],
   "source": [
    "class cal:\n",
    "    def __init__(self,num):  # constructor\n",
    "        self.num = num\n",
    "    def square(self):        # method 1\n",
    "        print(\"square is:\",self.num,\" \",self.num*self.num)\n",
    "    def cube(self):        # method 2\n",
    "        print(\"square is:\",self.num,\" \",self.num ** 3)   "
   ]
  },
  {
   "cell_type": "code",
   "execution_count": 49,
   "id": "6e52b67e-a8d1-48aa-9dc7-5902fc2cc969",
   "metadata": {},
   "outputs": [],
   "source": [
    "c1 = cal(5)\n",
    "c2 = cal(7)"
   ]
  },
  {
   "cell_type": "code",
   "execution_count": 50,
   "id": "84f91d63-8b31-4c3c-a59e-1c32348842fc",
   "metadata": {},
   "outputs": [
    {
     "name": "stdout",
     "output_type": "stream",
     "text": [
      "square is: 5   25\n"
     ]
    }
   ],
   "source": [
    "c1.square()"
   ]
  },
  {
   "cell_type": "code",
   "execution_count": 51,
   "id": "0606a26c-780e-4438-9fd0-89a93cae3a32",
   "metadata": {},
   "outputs": [
    {
     "name": "stdout",
     "output_type": "stream",
     "text": [
      "square is: 7   49\n"
     ]
    }
   ],
   "source": [
    "c2.square()"
   ]
  },
  {
   "cell_type": "code",
   "execution_count": 52,
   "id": "482a8b5e-b86c-40f9-990d-3fa363af79fa",
   "metadata": {},
   "outputs": [
    {
     "name": "stdout",
     "output_type": "stream",
     "text": [
      "square is: 5   125\n"
     ]
    }
   ],
   "source": [
    "c1.cube()"
   ]
  },
  {
   "cell_type": "code",
   "execution_count": 53,
   "id": "7dc83de8-2af4-40bd-a9ee-be8cf9f7c0c5",
   "metadata": {},
   "outputs": [
    {
     "name": "stdout",
     "output_type": "stream",
     "text": [
      "square is: 7   343\n"
     ]
    }
   ],
   "source": [
    "c2.cube()"
   ]
  },
  {
   "cell_type": "code",
   "execution_count": 54,
   "id": "32ba03c0-d6ff-4f52-87eb-37128ed241ea",
   "metadata": {},
   "outputs": [
    {
     "data": {
      "text/plain": [
       "(5, 7)"
      ]
     },
     "execution_count": 54,
     "metadata": {},
     "output_type": "execute_result"
    }
   ],
   "source": [
    "c1.num , c2.num"
   ]
  },
  {
   "cell_type": "code",
   "execution_count": 55,
   "id": "268f2ba8-62e5-4d98-922d-ec81f772e265",
   "metadata": {},
   "outputs": [],
   "source": [
    "class person:\n",
    "    def __init__(self,n,a):\n",
    "        self.name = n\n",
    "        self.age = a\n",
    "    def show(self):\n",
    "         print(\"your data\")\n",
    "         print(self.name,self.age)"
   ]
  },
  {
   "cell_type": "code",
   "execution_count": 57,
   "id": "cf82c1d7-19d5-4a14-9b82-5f25baf6ea75",
   "metadata": {},
   "outputs": [],
   "source": [
    "p1 = person('ram',34)\n",
    "p2 = person('jayant',45)"
   ]
  },
  {
   "cell_type": "code",
   "execution_count": 58,
   "id": "dcb6a481-8a6c-4c39-9a3d-a63415d75b31",
   "metadata": {},
   "outputs": [
    {
     "name": "stdout",
     "output_type": "stream",
     "text": [
      "your data\n",
      "ram 34\n"
     ]
    }
   ],
   "source": [
    "p1.show()"
   ]
  },
  {
   "cell_type": "code",
   "execution_count": 59,
   "id": "4ead8094-8b75-4e99-ae97-282565f285f9",
   "metadata": {},
   "outputs": [
    {
     "name": "stdout",
     "output_type": "stream",
     "text": [
      "your data\n",
      "jayant 45\n"
     ]
    }
   ],
   "source": [
    "p2.show()"
   ]
  },
  {
   "cell_type": "code",
   "execution_count": 60,
   "id": "476a65ae-959a-4a92-805e-cf6e2fee788a",
   "metadata": {},
   "outputs": [],
   "source": [
    "p2.name ='shravani'"
   ]
  },
  {
   "cell_type": "code",
   "execution_count": 61,
   "id": "7fa835bc-3c53-4c6b-848c-3cce25e4090b",
   "metadata": {},
   "outputs": [
    {
     "name": "stdout",
     "output_type": "stream",
     "text": [
      "your data\n",
      "shravani 45\n"
     ]
    }
   ],
   "source": [
    "p2.show()"
   ]
  },
  {
   "cell_type": "code",
   "execution_count": 66,
   "id": "85f7c7db-0809-4563-9caa-d4b7dc0c2bc9",
   "metadata": {},
   "outputs": [],
   "source": [
    "class person:\n",
    "    def __init__(self,n,a = 25):\n",
    "        self.name = n\n",
    "        self.age = a\n",
    "    def show(self):\n",
    "         print(\"your data\")\n",
    "         print(self.name,self.age)"
   ]
  },
  {
   "cell_type": "code",
   "execution_count": 67,
   "id": "b8bdbc0e-68b1-46ba-a7bc-b0b27d86c333",
   "metadata": {},
   "outputs": [],
   "source": [
    "p3 = person('ajay',30)"
   ]
  },
  {
   "cell_type": "code",
   "execution_count": 68,
   "id": "a416fff1-f973-4f18-8e3c-2a110af51bfa",
   "metadata": {},
   "outputs": [
    {
     "name": "stdout",
     "output_type": "stream",
     "text": [
      "your data\n",
      "ajay 30\n"
     ]
    }
   ],
   "source": [
    "p3.show()"
   ]
  },
  {
   "cell_type": "code",
   "execution_count": 69,
   "id": "40247b9a-aea3-4b96-9850-4c28316a44a4",
   "metadata": {},
   "outputs": [
    {
     "name": "stdout",
     "output_type": "stream",
     "text": [
      "your data\n",
      "vijay 25\n"
     ]
    }
   ],
   "source": [
    "p4 = person('vijay')\n",
    "p4.show()"
   ]
  },
  {
   "cell_type": "code",
   "execution_count": 72,
   "id": "f2060dc5-802c-4225-8f8b-1bcb50c96272",
   "metadata": {},
   "outputs": [],
   "source": [
    "p5 = person(a = 26, n ='riya')  # keyword arguments"
   ]
  },
  {
   "cell_type": "code",
   "execution_count": 73,
   "id": "ff7cd709-2b66-45ed-95ae-38a0bb4ac494",
   "metadata": {},
   "outputs": [
    {
     "name": "stdout",
     "output_type": "stream",
     "text": [
      "your data\n",
      "riya 26\n"
     ]
    }
   ],
   "source": [
    "p5.show()"
   ]
  },
  {
   "cell_type": "code",
   "execution_count": 74,
   "id": "64ca2b27-62c6-416a-b799-11fdfa55bf05",
   "metadata": {},
   "outputs": [],
   "source": [
    "# write method isEligible(), which will print true is the person is eligible for \n",
    "#driving llicense and false if not"
   ]
  },
  {
   "cell_type": "code",
   "execution_count": 78,
   "id": "60b21ab4-1731-41aa-8871-ce307e64b531",
   "metadata": {},
   "outputs": [],
   "source": [
    "class drive:\n",
    "    def __init__(self,a):\n",
    "        self.age = a\n",
    "    def isEligible(self):\n",
    "        if self.age>18:\n",
    "            print(True)\n",
    "        else:\n",
    "            print(False)"
   ]
  },
  {
   "cell_type": "code",
   "execution_count": 79,
   "id": "6625205f-c8fe-4d46-b48e-621e50332fac",
   "metadata": {},
   "outputs": [],
   "source": [
    "d = drive(12)"
   ]
  },
  {
   "cell_type": "code",
   "execution_count": 80,
   "id": "44d225b3-af89-428b-b6c8-8acd1efad402",
   "metadata": {},
   "outputs": [
    {
     "name": "stdout",
     "output_type": "stream",
     "text": [
      "False\n"
     ]
    }
   ],
   "source": [
    "d.isEligible()"
   ]
  },
  {
   "cell_type": "markdown",
   "id": "b6838a16-2dc6-4ac5-81e9-78e6ad3fda2a",
   "metadata": {},
   "source": [
    "### Data hiding"
   ]
  },
  {
   "cell_type": "code",
   "execution_count": 81,
   "id": "8134d28f-92c7-4d14-aa01-dd1a1911ece9",
   "metadata": {},
   "outputs": [],
   "source": [
    "class player:\n",
    "    def __init__(self,n,m):\n",
    "        self.name = n\n",
    "        self.matches = m\n",
    "    def display(self):\n",
    "        print(self.name,'has played',self.matches,'matches.')"
   ]
  },
  {
   "cell_type": "code",
   "execution_count": 82,
   "id": "bdb582ea-76ed-43de-aaa2-8ff9f7fa0c9a",
   "metadata": {},
   "outputs": [],
   "source": [
    "p1 = player('vijay',222)"
   ]
  },
  {
   "cell_type": "code",
   "execution_count": 83,
   "id": "0a26f36a-4d2f-499b-bbaa-1e50aa17b338",
   "metadata": {},
   "outputs": [
    {
     "name": "stdout",
     "output_type": "stream",
     "text": [
      "vijay has played 222 matches.\n"
     ]
    }
   ],
   "source": [
    "p1.display()"
   ]
  },
  {
   "cell_type": "code",
   "execution_count": 84,
   "id": "e78d5971-1f02-42dd-a9c3-5132820457c5",
   "metadata": {},
   "outputs": [
    {
     "data": {
      "text/plain": [
       "('vijay', 222)"
      ]
     },
     "execution_count": 84,
     "metadata": {},
     "output_type": "execute_result"
    }
   ],
   "source": [
    "p1.name,p1.matches"
   ]
  },
  {
   "cell_type": "code",
   "execution_count": 89,
   "id": "4b9cce4e-b09d-4a01-a4db-d0253f444607",
   "metadata": {},
   "outputs": [],
   "source": [
    "class player:\n",
    "    def __init__(self,n,m):\n",
    "        self.__name = n\n",
    "        self.matches = m\n",
    "    def display(self):\n",
    "        print(self.__name,'has played',self.matches,'matches.')"
   ]
  },
  {
   "cell_type": "code",
   "execution_count": 90,
   "id": "26996d48-4eae-4350-b7d9-41afc1af94d7",
   "metadata": {},
   "outputs": [
    {
     "name": "stdout",
     "output_type": "stream",
     "text": [
      "vijay has played 122 matches.\n"
     ]
    }
   ],
   "source": [
    "p1 = player('vijay',122)\n",
    "p1.display()"
   ]
  },
  {
   "cell_type": "code",
   "execution_count": 94,
   "id": "d9461c1d-3c49-49e7-89bf-6d75de861515",
   "metadata": {},
   "outputs": [
    {
     "ename": "AttributeError",
     "evalue": "'player' object has no attribute '__name'",
     "output_type": "error",
     "traceback": [
      "\u001b[1;31m---------------------------------------------------------------------------\u001b[0m",
      "\u001b[1;31mAttributeError\u001b[0m                            Traceback (most recent call last)",
      "Cell \u001b[1;32mIn[94], line 1\u001b[0m\n\u001b[1;32m----> 1\u001b[0m p1\u001b[38;5;241m.\u001b[39m__name,p1\u001b[38;5;241m.\u001b[39mmatches\n",
      "\u001b[1;31mAttributeError\u001b[0m: 'player' object has no attribute '__name'"
     ]
    }
   ],
   "source": [
    "p1.__name,p1.matches"
   ]
  },
  {
   "cell_type": "code",
   "execution_count": 95,
   "id": "83cf05c4-9b34-49d3-8ccf-75a24858276c",
   "metadata": {},
   "outputs": [],
   "source": [
    "# one of the major advantages of object oriented programming is re-use\n",
    "# inheritance is one of the mechanisms to achieve the same\n",
    "# in the inheritance, a class (usually called superclass ) is inherited by another class(sub class)\n",
    "# the subclass adds some attributes to supperclass."
   ]
  },
  {
   "cell_type": "markdown",
   "id": "16f3b960-d9e9-4c63-a7c4-410df3e73522",
   "metadata": {},
   "source": [
    "#### Inheritance"
   ]
  },
  {
   "cell_type": "code",
   "execution_count": 98,
   "id": "feffa960-e8c9-4e99-b660-d96b5daa7da4",
   "metadata": {},
   "outputs": [],
   "source": [
    "class person:   # super class\n",
    "    city = 'pune'    # class variable\n",
    "    def __init__(self,n,a =25) :\n",
    "        self.name = n\n",
    "        self.age =a\n",
    "    def show(self):\n",
    "        print(\"your data\")\n",
    "        print(self.name,self.age)\n",
    "\n",
    "class Employee(person):   # sub-class\n",
    "    def isEligible(self):\n",
    "        if self.age>= 18:\n",
    "            return True\n",
    "        else:\n",
    "            return False\n"
   ]
  },
  {
   "cell_type": "code",
   "execution_count": 99,
   "id": "58c18a65-5c16-4cf8-ab08-9be16c29cb95",
   "metadata": {},
   "outputs": [
    {
     "name": "stdout",
     "output_type": "stream",
     "text": [
      "your data\n",
      "Ani 16\n"
     ]
    }
   ],
   "source": [
    "emp = person('Ani',16)\n",
    "emp.show()"
   ]
  },
  {
   "cell_type": "code",
   "execution_count": 100,
   "id": "78517fa2-8dad-43f3-91be-4ce99b5765ef",
   "metadata": {},
   "outputs": [
    {
     "data": {
      "text/plain": [
       "False"
      ]
     },
     "execution_count": 100,
     "metadata": {},
     "output_type": "execute_result"
    }
   ],
   "source": [
    "emp1 = Employee('raj',16)\n",
    "emp1.isEligible()"
   ]
  },
  {
   "cell_type": "code",
   "execution_count": 106,
   "id": "80b08f71-a59b-4d81-8882-29477522b0cf",
   "metadata": {},
   "outputs": [
    {
     "data": {
      "text/plain": [
       "True"
      ]
     },
     "execution_count": 106,
     "metadata": {},
     "output_type": "execute_result"
    }
   ],
   "source": [
    "emp1 = Employee('raj',26)\n",
    "emp1.isEligible()"
   ]
  },
  {
   "cell_type": "markdown",
   "id": "4eb1e8e5-7ab2-4395-a644-0c9898aadd41",
   "metadata": {},
   "source": [
    "##### check subclass"
   ]
  },
  {
   "cell_type": "code",
   "execution_count": 107,
   "id": "afd62348-bd2e-45c2-a237-0677ff22a778",
   "metadata": {},
   "outputs": [],
   "source": [
    "class Base(object):\n",
    "    pass\n",
    "class Derived(Base):\n",
    "    pass"
   ]
  },
  {
   "cell_type": "code",
   "execution_count": 108,
   "id": "62e72e1a-ad2c-45d6-81d5-baa582841e70",
   "metadata": {},
   "outputs": [
    {
     "data": {
      "text/plain": [
       "False"
      ]
     },
     "execution_count": 108,
     "metadata": {},
     "output_type": "execute_result"
    }
   ],
   "source": [
    "issubclass(Base,Derived)"
   ]
  },
  {
   "cell_type": "code",
   "execution_count": 109,
   "id": "a48b4eea-31cf-4f28-aff5-049697efee55",
   "metadata": {},
   "outputs": [
    {
     "data": {
      "text/plain": [
       "True"
      ]
     },
     "execution_count": 109,
     "metadata": {},
     "output_type": "execute_result"
    }
   ],
   "source": [
    "issubclass(Derived,Base)"
   ]
  },
  {
   "cell_type": "code",
   "execution_count": 111,
   "id": "3901759e-b836-4648-834f-2b293720335a",
   "metadata": {},
   "outputs": [],
   "source": [
    "b = Base()\n",
    "d = Derived()"
   ]
  },
  {
   "cell_type": "code",
   "execution_count": 112,
   "id": "8a094fae-38a7-4ff1-8dfc-ed595252741a",
   "metadata": {},
   "outputs": [
    {
     "data": {
      "text/plain": [
       "True"
      ]
     },
     "execution_count": 112,
     "metadata": {},
     "output_type": "execute_result"
    }
   ],
   "source": [
    "isinstance(d,Derived)"
   ]
  },
  {
   "cell_type": "code",
   "execution_count": 113,
   "id": "a0363097-b27a-4727-8ff8-b4bfd844348d",
   "metadata": {},
   "outputs": [
    {
     "data": {
      "text/plain": [
       "True"
      ]
     },
     "execution_count": 113,
     "metadata": {},
     "output_type": "execute_result"
    }
   ],
   "source": [
    "isinstance(b,Base)"
   ]
  },
  {
   "cell_type": "code",
   "execution_count": 115,
   "id": "e6cca8e6-a0cf-468d-bc31-c6f4c789406d",
   "metadata": {},
   "outputs": [
    {
     "data": {
      "text/plain": [
       "False"
      ]
     },
     "execution_count": 115,
     "metadata": {},
     "output_type": "execute_result"
    }
   ],
   "source": [
    "isinstance(b,Derived)"
   ]
  },
  {
   "cell_type": "code",
   "execution_count": 116,
   "id": "72a19f8f-eeb4-4304-9bbb-b2ccac5469d9",
   "metadata": {},
   "outputs": [
    {
     "data": {
      "text/plain": [
       "True"
      ]
     },
     "execution_count": 116,
     "metadata": {},
     "output_type": "execute_result"
    }
   ],
   "source": [
    "isinstance(d,Base)"
   ]
  },
  {
   "cell_type": "markdown",
   "id": "64bfcdd8-1fcf-433c-a56c-5fba3250b8bb",
   "metadata": {},
   "source": [
    "### Multiple inheritance"
   ]
  },
  {
   "cell_type": "code",
   "execution_count": 122,
   "id": "6cf4d6cc-e7dd-42cb-9277-0d9298cc8f7c",
   "metadata": {},
   "outputs": [],
   "source": [
    "class Base1(object):   # Base 1\n",
    "    def __init__(self):\n",
    "        self.str1 =\"rajan\"\n",
    "        print(\"base1\")\n",
    "class Base2(object):   # Base 2 \n",
    "    def __init__(self):\n",
    "        self.str2 =\"rajesh\"\n",
    "        print(\"base2\")     \n",
    "        \n",
    "class Derived(Base1,Base2):  # Derived\n",
    "    def __init__(self):\n",
    "        Base1.__init__(self)\n",
    "        Base2.__init__(self)\n",
    "        print(\"Derived\")\n",
    "    def printValues(self):\n",
    "        print(self.str1,self.str2)\n",
    "    "
   ]
  },
  {
   "cell_type": "code",
   "execution_count": 123,
   "id": "ae7b992d-0e5e-4de3-919d-3f367d121618",
   "metadata": {},
   "outputs": [
    {
     "name": "stdout",
     "output_type": "stream",
     "text": [
      "base1\n",
      "base2\n",
      "Derived\n"
     ]
    }
   ],
   "source": [
    "d = Derived()"
   ]
  },
  {
   "cell_type": "code",
   "execution_count": 124,
   "id": "1b0e93f7-c014-47de-a2a4-f60299cb81bf",
   "metadata": {},
   "outputs": [
    {
     "name": "stdout",
     "output_type": "stream",
     "text": [
      "rajan rajesh\n"
     ]
    }
   ],
   "source": [
    "d.printValues()"
   ]
  },
  {
   "cell_type": "markdown",
   "id": "8d4c32f2-a715-4127-b111-a64eae55e7e8",
   "metadata": {},
   "source": [
    "#### polymorphism"
   ]
  },
  {
   "cell_type": "markdown",
   "id": "55c10781-c0a9-495f-8404-d060ab3d8e93",
   "metadata": {},
   "source": [
    "###\n",
    "The simple idea : The ability for different objects to respond to the same method call in \n",
    "their own, unique way . the name means \"many forms\"."
   ]
  },
  {
   "cell_type": "code",
   "execution_count": 1,
   "id": "2d5abc8d-a758-44dc-8ea8-249feb04cf5e",
   "metadata": {},
   "outputs": [],
   "source": [
    "class Dog:\n",
    "    def speak(self):\n",
    "        print(\"Bark\")\n",
    "\n",
    "class Cat:\n",
    "    def speak(self):\n",
    "        print(\"Meow\")"
   ]
  },
  {
   "cell_type": "code",
   "execution_count": 5,
   "id": "7e8c59ed-4b43-4512-bc0d-67497d416055",
   "metadata": {},
   "outputs": [],
   "source": [
    "def animal_speak(animal):\n",
    "    animal.speak()"
   ]
  },
  {
   "cell_type": "code",
   "execution_count": 6,
   "id": "4067ed9f-72a6-427b-82b5-b195b226d1be",
   "metadata": {},
   "outputs": [],
   "source": [
    "dog = Dog()\n",
    "cat = Cat()"
   ]
  },
  {
   "cell_type": "code",
   "execution_count": 7,
   "id": "d01eae12-0a5c-42a8-80eb-e66c5844b7a5",
   "metadata": {},
   "outputs": [
    {
     "name": "stdout",
     "output_type": "stream",
     "text": [
      "Bark\n"
     ]
    }
   ],
   "source": [
    "animal_speak(dog)"
   ]
  },
  {
   "cell_type": "code",
   "execution_count": 8,
   "id": "6594f156-9b6d-4811-98c6-7a7bea2b8e7e",
   "metadata": {},
   "outputs": [
    {
     "name": "stdout",
     "output_type": "stream",
     "text": [
      "Meow\n"
     ]
    }
   ],
   "source": [
    "animal_speak(cat)"
   ]
  },
  {
   "cell_type": "markdown",
   "id": "f68a3cfb-7a12-401d-bb2d-a0b65b4dee74",
   "metadata": {},
   "source": [
    "#### Operator Overloading"
   ]
  },
  {
   "cell_type": "markdown",
   "id": "b9afcfdc-18bc-46f7-9b60-6b846e364e62",
   "metadata": {},
   "source": [
    "###\n",
    "operator overloading allows you to redefine how standard operator like +,-,*,==, and > work \n",
    "with your custom objects. Essentially , you're giving special meaning to these operator for a \n",
    "class you've created"
   ]
  },
  {
   "cell_type": "code",
   "execution_count": 11,
   "id": "42e52087-3b08-4512-9628-4ebfa9ec7a36",
   "metadata": {},
   "outputs": [],
   "source": [
    "class A:\n",
    "    def __init__(self,a):\n",
    "        self.a = a\n",
    "\n",
    "    def __add__(self,o):\n",
    "        return self.a + o.a\n",
    "    "
   ]
  },
  {
   "cell_type": "code",
   "execution_count": 12,
   "id": "3aa53c6e-e5bb-4157-9962-50a6a84890ec",
   "metadata": {},
   "outputs": [],
   "source": [
    "obj1 = A(23)\n",
    "obj2 = A(77)"
   ]
  },
  {
   "cell_type": "code",
   "execution_count": 13,
   "id": "a6563b75-f81f-403f-87d0-7aab28ccb853",
   "metadata": {},
   "outputs": [
    {
     "data": {
      "text/plain": [
       "100"
      ]
     },
     "execution_count": 13,
     "metadata": {},
     "output_type": "execute_result"
    }
   ],
   "source": [
    "obj1 + obj2"
   ]
  },
  {
   "cell_type": "code",
   "execution_count": 14,
   "id": "3275bb0e-0e4f-4652-a331-bb90f84f9914",
   "metadata": {},
   "outputs": [
    {
     "data": {
      "text/plain": [
       "'puneMaharastra'"
      ]
     },
     "execution_count": 14,
     "metadata": {},
     "output_type": "execute_result"
    }
   ],
   "source": [
    "obj3 = A('pune')\n",
    "obj4 = A('Maharastra')\n",
    "obj3 + obj4"
   ]
  },
  {
   "cell_type": "markdown",
   "id": "78a5113b-fa6a-451d-a62a-b8a17f86d5a3",
   "metadata": {},
   "source": [
    "#### Destructor"
   ]
  },
  {
   "cell_type": "markdown",
   "id": "475360ff-ff46-473d-a5d7-bb9ec5c88ad2",
   "metadata": {},
   "source": [
    "###\n",
    "destructor is a special member function of a class that is automatically called when an \n",
    "object of the class is destroyed. Its primary purpose is to deallocate any resourse that\n",
    "the object might have acquried during its lifetime ,such as dynamically allocated memory ,\n",
    "file handles , or network connectiom"
   ]
  },
  {
   "cell_type": "code",
   "execution_count": 21,
   "id": "9ba32524-9b98-4d32-b01d-f964cf850be6",
   "metadata": {},
   "outputs": [],
   "source": [
    "class Employee:\n",
    "    def __init__(self):   # constructor\n",
    "        print('Object created')\n",
    "    def __del__(self):    # Destructor\n",
    "        print('object Deleted')"
   ]
  },
  {
   "cell_type": "code",
   "execution_count": 22,
   "id": "eac7b94e-9b3c-4dd0-80d4-b881ad9cc5ed",
   "metadata": {},
   "outputs": [
    {
     "name": "stdout",
     "output_type": "stream",
     "text": [
      "Object created\n"
     ]
    }
   ],
   "source": [
    "emp = Employee()"
   ]
  },
  {
   "cell_type": "code",
   "execution_count": 23,
   "id": "28f2014b-bcf5-430c-83e9-92d0c2a19967",
   "metadata": {},
   "outputs": [
    {
     "name": "stdout",
     "output_type": "stream",
     "text": [
      "object Deleted\n"
     ]
    }
   ],
   "source": [
    "del emp"
   ]
  },
  {
   "cell_type": "code",
   "execution_count": null,
   "id": "1abe82ac-b38b-422b-b6df-8b15f6024dbd",
   "metadata": {},
   "outputs": [],
   "source": []
  }
 ],
 "metadata": {
  "kernelspec": {
   "display_name": "Python 3 (ipykernel)",
   "language": "python",
   "name": "python3"
  },
  "language_info": {
   "codemirror_mode": {
    "name": "ipython",
    "version": 3
   },
   "file_extension": ".py",
   "mimetype": "text/x-python",
   "name": "python",
   "nbconvert_exporter": "python",
   "pygments_lexer": "ipython3",
   "version": "3.12.7"
  }
 },
 "nbformat": 4,
 "nbformat_minor": 5
}
