{
 "cells": [
  {
   "cell_type": "markdown",
   "id": "e872ca30-84aa-4211-8330-160fd87dab40",
   "metadata": {},
   "source": [
    "### NumPy Section:"
   ]
  },
  {
   "cell_type": "markdown",
   "id": "3d72cf27-fa29-4cdb-b3d2-059880754b58",
   "metadata": {},
   "source": [
    " 1. Install and import the NumPy library. Check its version"
   ]
  },
  {
   "cell_type": "code",
   "execution_count": 36,
   "id": "f4a56a41-82cb-49c8-9c49-4434716543d7",
   "metadata": {},
   "outputs": [],
   "source": [
    "import numpy as np"
   ]
  },
  {
   "cell_type": "code",
   "execution_count": 39,
   "id": "c6b1009a-1523-418b-a492-fe2550d9d69d",
   "metadata": {},
   "outputs": [
    {
     "name": "stdout",
     "output_type": "stream",
     "text": [
      "1.26.4\n"
     ]
    }
   ],
   "source": [
    "print(np.__version__)"
   ]
  },
  {
   "cell_type": "markdown",
   "id": "2faf214e-5433-4b49-9175-73c7c87bc620",
   "metadata": {},
   "source": [
    " 2. Create a 1D NumPy array with elements from 0 to 9 using array()"
   ]
  },
  {
   "cell_type": "code",
   "execution_count": 41,
   "id": "5d1b5178-e3bd-4220-9ae5-0a434871293a",
   "metadata": {},
   "outputs": [],
   "source": [
    "arr =np.array([range(0,10)])"
   ]
  },
  {
   "cell_type": "code",
   "execution_count": 42,
   "id": "217dcdbb-8b01-46e8-b3d6-520a395c6fe2",
   "metadata": {},
   "outputs": [
    {
     "data": {
      "text/plain": [
       "array([[0, 1, 2, 3, 4, 5, 6, 7, 8, 9]])"
      ]
     },
     "execution_count": 42,
     "metadata": {},
     "output_type": "execute_result"
    }
   ],
   "source": [
    "arr"
   ]
  },
  {
   "cell_type": "markdown",
   "id": "eec59b7d-cb13-4176-9c0e-19bdf37c6101",
   "metadata": {},
   "source": [
    " 3. Generate a 2D array with shape (3, 4) using arange()."
   ]
  },
  {
   "cell_type": "code",
   "execution_count": 48,
   "id": "097cbe9f-e5a5-42a2-ae3c-19390e4731b8",
   "metadata": {},
   "outputs": [
    {
     "data": {
      "text/plain": [
       "array([[10, 11, 12, 13],\n",
       "       [14, 15, 16, 17],\n",
       "       [18, 19, 20, 21]])"
      ]
     },
     "execution_count": 48,
     "metadata": {},
     "output_type": "execute_result"
    }
   ],
   "source": [
    "arr1 = np.arange(10,22)\n",
    "arr1.reshape(3,4)"
   ]
  },
  {
   "cell_type": "markdown",
   "id": "3827d68e-bf2e-4502-84ca-a812a88eb886",
   "metadata": {},
   "source": [
    " 4. Create an array of 5 equally spaced numbers between 0 and 1 using linspace()"
   ]
  },
  {
   "cell_type": "code",
   "execution_count": 50,
   "id": "3877be07-a712-4312-8336-a4b627dddd3d",
   "metadata": {},
   "outputs": [
    {
     "data": {
      "text/plain": [
       "array([0.  , 0.25, 0.5 , 0.75, 1.  ])"
      ]
     },
     "execution_count": 50,
     "metadata": {},
     "output_type": "execute_result"
    }
   ],
   "source": [
    "arr = np.linspace(0,1,5)\n",
    "arr"
   ]
  },
  {
   "cell_type": "markdown",
   "id": "90b75d33-1002-462b-aaa6-48f1e4ebadeb",
   "metadata": {},
   "source": [
    "5. Slice and extract a subarray from a 2D array of shape (4, 5)."
   ]
  },
  {
   "cell_type": "code",
   "execution_count": 60,
   "id": "bc2c1ab5-0f7e-4f19-bb67-1d13f51181ee",
   "metadata": {},
   "outputs": [
    {
     "data": {
      "text/plain": [
       "array([[10, 11, 12, 13, 14],\n",
       "       [15, 16, 17, 18, 19],\n",
       "       [20, 21, 22, 23, 24],\n",
       "       [25, 26, 27, 28, 29]])"
      ]
     },
     "execution_count": 60,
     "metadata": {},
     "output_type": "execute_result"
    }
   ],
   "source": [
    "a = np.arange(10,30).reshape(4,5)\n",
    "a"
   ]
  },
  {
   "cell_type": "code",
   "execution_count": 64,
   "id": "e765b273-afef-4b04-addb-3f0c63e4bfb4",
   "metadata": {},
   "outputs": [
    {
     "data": {
      "text/plain": [
       "array([[16, 17, 18],\n",
       "       [21, 22, 23]])"
      ]
     },
     "execution_count": 64,
     "metadata": {},
     "output_type": "execute_result"
    }
   ],
   "source": [
    "a[1:3,1:4]"
   ]
  },
  {
   "cell_type": "markdown",
   "id": "5a8165df-cf15-4fbc-823c-d1517d8954e2",
   "metadata": {},
   "source": [
    " 6. Reshape a 1D array of size 12 into a 3x4 matrix"
   ]
  },
  {
   "cell_type": "code",
   "execution_count": 74,
   "id": "b425203d-33da-49a7-8b56-ec11149b5092",
   "metadata": {},
   "outputs": [
    {
     "data": {
      "text/plain": [
       "array([[ 1,  2,  3,  4],\n",
       "       [ 5,  6,  7,  8],\n",
       "       [ 9, 10, 11, 12]])"
      ]
     },
     "execution_count": 74,
     "metadata": {},
     "output_type": "execute_result"
    }
   ],
   "source": [
    "arr = np.arange(1,13)\n",
    "ar =arr.reshape(3,4)\n",
    "ar"
   ]
  },
  {
   "cell_type": "markdown",
   "id": "bab1a561-3edb-4d15-853c-89e07595565c",
   "metadata": {},
   "source": [
    " 7. Print the shape, data type, and number of dimensions of an array"
   ]
  },
  {
   "cell_type": "code",
   "execution_count": 75,
   "id": "49539aab-5c47-443d-9902-45f620b3e6d2",
   "metadata": {},
   "outputs": [
    {
     "data": {
      "text/plain": [
       "(3, 4)"
      ]
     },
     "execution_count": 75,
     "metadata": {},
     "output_type": "execute_result"
    }
   ],
   "source": [
    "ar.shape"
   ]
  },
  {
   "cell_type": "code",
   "execution_count": 76,
   "id": "fd626946-4252-47c1-a270-6c5661a56ec0",
   "metadata": {},
   "outputs": [
    {
     "data": {
      "text/plain": [
       "dtype('int32')"
      ]
     },
     "execution_count": 76,
     "metadata": {},
     "output_type": "execute_result"
    }
   ],
   "source": [
    "ar.dtype"
   ]
  },
  {
   "cell_type": "code",
   "execution_count": 77,
   "id": "b4298b05-8658-4779-bd37-83866f6b2bce",
   "metadata": {},
   "outputs": [
    {
     "data": {
      "text/plain": [
       "2"
      ]
     },
     "execution_count": 77,
     "metadata": {},
     "output_type": "execute_result"
    }
   ],
   "source": [
    "ar.ndim"
   ]
  },
  {
   "cell_type": "markdown",
   "id": "6a09383f-9a6f-4e79-8bd5-6954fd25793f",
   "metadata": {},
   "source": [
    " 8. Perform element-wise addition and multiplication on two same-sized arrays"
   ]
  },
  {
   "cell_type": "code",
   "execution_count": 80,
   "id": "52e4137e-8ed8-4563-8baa-9e5d2edb5ba7",
   "metadata": {},
   "outputs": [
    {
     "name": "stdout",
     "output_type": "stream",
     "text": [
      "Addition: [11 22 33 44]\n",
      "Multiplication: [ 10  40  90 160]\n"
     ]
    }
   ],
   "source": [
    "a1 = np.array([1,2,3,4])\n",
    "a2 = np.array([10,20,30,40])\n",
    "print(\"Addition:\",a1+a2)\n",
    "print(\"Multiplication:\",a1*a2)"
   ]
  },
  {
   "cell_type": "markdown",
   "id": "25d6362e-6b78-4c4b-b09c-b22ce040036f",
   "metadata": {},
   "source": [
    " 9. Demonstrate broadcasting with a 1D array and 2D array"
   ]
  },
  {
   "cell_type": "code",
   "execution_count": 86,
   "id": "a9b0b9aa-3a07-456a-b0e9-e6d6e1b483da",
   "metadata": {},
   "outputs": [
    {
     "name": "stdout",
     "output_type": "stream",
     "text": [
      "Broadcasted array:\n",
      " [[11 22 33]\n",
      " [14 25 36]]\n"
     ]
    }
   ],
   "source": [
    "d1 = np.array([10,20,30])\n",
    "d2 = np.array([[1,2,3],\n",
    "               [4,5,6]])\n",
    "b = d1 + d2\n",
    "print(\"Broadcasted array:\\n\",b)"
   ]
  },
  {
   "cell_type": "markdown",
   "id": "2e347dfc-c970-4e21-a4b1-cea0d6dc3e3e",
   "metadata": {},
   "source": [
    " 10. Find the mean, standard deviation, and sum of a 2D array"
   ]
  },
  {
   "cell_type": "code",
   "execution_count": 87,
   "id": "490261a5-5fac-4e8f-9dcd-2806db7d16af",
   "metadata": {},
   "outputs": [
    {
     "data": {
      "text/plain": [
       "23.5"
      ]
     },
     "execution_count": 87,
     "metadata": {},
     "output_type": "execute_result"
    }
   ],
   "source": [
    "b.mean()"
   ]
  },
  {
   "cell_type": "code",
   "execution_count": 88,
   "id": "45b56eeb-c733-4a03-987b-9d5711ace9fb",
   "metadata": {},
   "outputs": [
    {
     "data": {
      "text/plain": [
       "9.105858919765158"
      ]
     },
     "execution_count": 88,
     "metadata": {},
     "output_type": "execute_result"
    }
   ],
   "source": [
    "b.std()\n"
   ]
  },
  {
   "cell_type": "code",
   "execution_count": 89,
   "id": "cf35c0d9-570b-4156-b8fd-a0df264e224f",
   "metadata": {},
   "outputs": [
    {
     "data": {
      "text/plain": [
       "141"
      ]
     },
     "execution_count": 89,
     "metadata": {},
     "output_type": "execute_result"
    }
   ],
   "source": [
    "b.sum()"
   ]
  },
  {
   "cell_type": "markdown",
   "id": "36596cf5-0232-4453-ba73-b3cba167213f",
   "metadata": {},
   "source": [
    "### Pandas section:"
   ]
  },
  {
   "cell_type": "code",
   "execution_count": 6,
   "id": "4bc6a47f-26a9-485f-8366-dfa18af3d505",
   "metadata": {},
   "outputs": [],
   "source": [
    "import pandas as pd\n",
    "import numpy as np"
   ]
  },
  {
   "cell_type": "markdown",
   "id": "a47b2659-9ce0-4f44-bbb3-9c8cda1ba82f",
   "metadata": {},
   "source": [
    " 11. Create a Series of 5 numbers and assign custom labels"
   ]
  },
  {
   "cell_type": "code",
   "execution_count": 7,
   "id": "f2774e40-919f-438c-85fd-0c1ef09cda43",
   "metadata": {},
   "outputs": [
    {
     "name": "stdout",
     "output_type": "stream",
     "text": [
      "a    10\n",
      "b    20\n",
      "c    30\n",
      "d    40\n",
      "e    50\n",
      "dtype: int64\n"
     ]
    }
   ],
   "source": [
    "data = [10, 20, 30, 40, 50]\n",
    "labels = ['a', 'b', 'c', 'd', 'e']\n",
    "series = pd.Series(data, index=labels)\n",
    "print(series)"
   ]
  },
  {
   "cell_type": "markdown",
   "id": "954df579-a4cf-450c-b877-eac88187c83e",
   "metadata": {},
   "source": [
    "12. Construct a DataFrame from a dictionary with student names, marks, and cities"
   ]
  },
  {
   "cell_type": "code",
   "execution_count": 8,
   "id": "0eda8b87-c0f1-4149-a5e4-2db7a1bb3ac6",
   "metadata": {},
   "outputs": [],
   "source": [
    "stu_name = pd.Series(['shravani','payal','shreya','saee','apurva'])\n",
    "marks = pd.Series([78,98,77,80,56])\n",
    "cities = pd.Series(['pune','mumbai','satara','pune','nashik'])"
   ]
  },
  {
   "cell_type": "code",
   "execution_count": 9,
   "id": "dd3caba0-5aa0-4d0a-8654-799053239f2c",
   "metadata": {},
   "outputs": [
    {
     "data": {
      "text/html": [
       "<div>\n",
       "<style scoped>\n",
       "    .dataframe tbody tr th:only-of-type {\n",
       "        vertical-align: middle;\n",
       "    }\n",
       "\n",
       "    .dataframe tbody tr th {\n",
       "        vertical-align: top;\n",
       "    }\n",
       "\n",
       "    .dataframe thead th {\n",
       "        text-align: right;\n",
       "    }\n",
       "</style>\n",
       "<table border=\"1\" class=\"dataframe\">\n",
       "  <thead>\n",
       "    <tr style=\"text-align: right;\">\n",
       "      <th></th>\n",
       "      <th>stu_name</th>\n",
       "      <th>marks</th>\n",
       "      <th>cities</th>\n",
       "    </tr>\n",
       "  </thead>\n",
       "  <tbody>\n",
       "    <tr>\n",
       "      <th>0</th>\n",
       "      <td>shravani</td>\n",
       "      <td>78</td>\n",
       "      <td>pune</td>\n",
       "    </tr>\n",
       "    <tr>\n",
       "      <th>1</th>\n",
       "      <td>payal</td>\n",
       "      <td>98</td>\n",
       "      <td>mumbai</td>\n",
       "    </tr>\n",
       "    <tr>\n",
       "      <th>2</th>\n",
       "      <td>shreya</td>\n",
       "      <td>77</td>\n",
       "      <td>satara</td>\n",
       "    </tr>\n",
       "    <tr>\n",
       "      <th>3</th>\n",
       "      <td>saee</td>\n",
       "      <td>80</td>\n",
       "      <td>pune</td>\n",
       "    </tr>\n",
       "    <tr>\n",
       "      <th>4</th>\n",
       "      <td>apurva</td>\n",
       "      <td>56</td>\n",
       "      <td>nashik</td>\n",
       "    </tr>\n",
       "  </tbody>\n",
       "</table>\n",
       "</div>"
      ],
      "text/plain": [
       "   stu_name  marks  cities\n",
       "0  shravani     78    pune\n",
       "1     payal     98  mumbai\n",
       "2    shreya     77  satara\n",
       "3      saee     80    pune\n",
       "4    apurva     56  nashik"
      ]
     },
     "execution_count": 9,
     "metadata": {},
     "output_type": "execute_result"
    }
   ],
   "source": [
    "df = pd.DataFrame({\n",
    "    'stu_name':stu_name,\n",
    "    'marks':marks,\n",
    "    'cities':cities\n",
    "})\n",
    "df"
   ]
  },
  {
   "cell_type": "markdown",
   "id": "ff52e1f3-f6f5-4d2b-9537-ed66d188990f",
   "metadata": {},
   "source": [
    "13. Create a DataFrame from a NumPy array and assign column names"
   ]
  },
  {
   "cell_type": "code",
   "execution_count": 10,
   "id": "b54293c3-8c44-4006-9d9e-16a0b1b515d7",
   "metadata": {},
   "outputs": [
    {
     "name": "stdout",
     "output_type": "stream",
     "text": [
      "   Col_A  Col_B  Col_C\n",
      "0      1      2      3\n",
      "1      4      5      6\n",
      "2      7      8      9\n"
     ]
    }
   ],
   "source": [
    "array = np.array([[1, 2, 3],\n",
    "                  [4, 5, 6],\n",
    "                  [7, 8, 9]])\n",
    "\n",
    "columns = ['Col_A', 'Col_B', 'Col_C']\n",
    "df1 = pd.DataFrame(array, columns=columns)\n",
    "print(df1)\n"
   ]
  },
  {
   "cell_type": "markdown",
   "id": "525b38e8-e1e1-4654-a121-3ad9c285853d",
   "metadata": {},
   "source": [
    "14. Use loc and iloc to select specific rows and columns from a DataFrame"
   ]
  },
  {
   "cell_type": "code",
   "execution_count": 11,
   "id": "ef773d97-5a48-4f31-a304-203ffa9f2482",
   "metadata": {},
   "outputs": [
    {
     "data": {
      "text/html": [
       "<div>\n",
       "<style scoped>\n",
       "    .dataframe tbody tr th:only-of-type {\n",
       "        vertical-align: middle;\n",
       "    }\n",
       "\n",
       "    .dataframe tbody tr th {\n",
       "        vertical-align: top;\n",
       "    }\n",
       "\n",
       "    .dataframe thead th {\n",
       "        text-align: right;\n",
       "    }\n",
       "</style>\n",
       "<table border=\"1\" class=\"dataframe\">\n",
       "  <thead>\n",
       "    <tr style=\"text-align: right;\">\n",
       "      <th></th>\n",
       "      <th>Col_A</th>\n",
       "      <th>Col_B</th>\n",
       "      <th>Col_C</th>\n",
       "    </tr>\n",
       "  </thead>\n",
       "  <tbody>\n",
       "    <tr>\n",
       "      <th>1</th>\n",
       "      <td>4</td>\n",
       "      <td>5</td>\n",
       "      <td>6</td>\n",
       "    </tr>\n",
       "    <tr>\n",
       "      <th>2</th>\n",
       "      <td>7</td>\n",
       "      <td>8</td>\n",
       "      <td>9</td>\n",
       "    </tr>\n",
       "  </tbody>\n",
       "</table>\n",
       "</div>"
      ],
      "text/plain": [
       "   Col_A  Col_B  Col_C\n",
       "1      4      5      6\n",
       "2      7      8      9"
      ]
     },
     "execution_count": 11,
     "metadata": {},
     "output_type": "execute_result"
    }
   ],
   "source": [
    "df1.iloc[1:3,0:3]"
   ]
  },
  {
   "cell_type": "code",
   "execution_count": 12,
   "id": "7fb728ff-9647-4382-8976-989c5faab12c",
   "metadata": {},
   "outputs": [
    {
     "data": {
      "text/html": [
       "<div>\n",
       "<style scoped>\n",
       "    .dataframe tbody tr th:only-of-type {\n",
       "        vertical-align: middle;\n",
       "    }\n",
       "\n",
       "    .dataframe tbody tr th {\n",
       "        vertical-align: top;\n",
       "    }\n",
       "\n",
       "    .dataframe thead th {\n",
       "        text-align: right;\n",
       "    }\n",
       "</style>\n",
       "<table border=\"1\" class=\"dataframe\">\n",
       "  <thead>\n",
       "    <tr style=\"text-align: right;\">\n",
       "      <th></th>\n",
       "      <th>stu_name</th>\n",
       "      <th>marks</th>\n",
       "    </tr>\n",
       "  </thead>\n",
       "  <tbody>\n",
       "    <tr>\n",
       "      <th>0</th>\n",
       "      <td>shravani</td>\n",
       "      <td>78</td>\n",
       "    </tr>\n",
       "    <tr>\n",
       "      <th>1</th>\n",
       "      <td>payal</td>\n",
       "      <td>98</td>\n",
       "    </tr>\n",
       "    <tr>\n",
       "      <th>2</th>\n",
       "      <td>shreya</td>\n",
       "      <td>77</td>\n",
       "    </tr>\n",
       "    <tr>\n",
       "      <th>3</th>\n",
       "      <td>saee</td>\n",
       "      <td>80</td>\n",
       "    </tr>\n",
       "    <tr>\n",
       "      <th>4</th>\n",
       "      <td>apurva</td>\n",
       "      <td>56</td>\n",
       "    </tr>\n",
       "  </tbody>\n",
       "</table>\n",
       "</div>"
      ],
      "text/plain": [
       "   stu_name  marks\n",
       "0  shravani     78\n",
       "1     payal     98\n",
       "2    shreya     77\n",
       "3      saee     80\n",
       "4    apurva     56"
      ]
     },
     "execution_count": 12,
     "metadata": {},
     "output_type": "execute_result"
    }
   ],
   "source": [
    "df.loc[:,['stu_name','marks']]"
   ]
  },
  {
   "cell_type": "markdown",
   "id": "02078eed-7d59-45bb-8c52-56909e67a6c9",
   "metadata": {},
   "source": [
    " 15. Apply head(), tail(), shape, info(), and describe() to explore a DataFrame"
   ]
  },
  {
   "cell_type": "code",
   "execution_count": 13,
   "id": "cc007e69-f06e-40ef-8dd0-e2566860b89f",
   "metadata": {},
   "outputs": [
    {
     "data": {
      "text/html": [
       "<div>\n",
       "<style scoped>\n",
       "    .dataframe tbody tr th:only-of-type {\n",
       "        vertical-align: middle;\n",
       "    }\n",
       "\n",
       "    .dataframe tbody tr th {\n",
       "        vertical-align: top;\n",
       "    }\n",
       "\n",
       "    .dataframe thead th {\n",
       "        text-align: right;\n",
       "    }\n",
       "</style>\n",
       "<table border=\"1\" class=\"dataframe\">\n",
       "  <thead>\n",
       "    <tr style=\"text-align: right;\">\n",
       "      <th></th>\n",
       "      <th>stu_name</th>\n",
       "      <th>marks</th>\n",
       "      <th>cities</th>\n",
       "    </tr>\n",
       "  </thead>\n",
       "  <tbody>\n",
       "    <tr>\n",
       "      <th>0</th>\n",
       "      <td>shravani</td>\n",
       "      <td>78</td>\n",
       "      <td>pune</td>\n",
       "    </tr>\n",
       "    <tr>\n",
       "      <th>1</th>\n",
       "      <td>payal</td>\n",
       "      <td>98</td>\n",
       "      <td>mumbai</td>\n",
       "    </tr>\n",
       "    <tr>\n",
       "      <th>2</th>\n",
       "      <td>shreya</td>\n",
       "      <td>77</td>\n",
       "      <td>satara</td>\n",
       "    </tr>\n",
       "  </tbody>\n",
       "</table>\n",
       "</div>"
      ],
      "text/plain": [
       "   stu_name  marks  cities\n",
       "0  shravani     78    pune\n",
       "1     payal     98  mumbai\n",
       "2    shreya     77  satara"
      ]
     },
     "execution_count": 13,
     "metadata": {},
     "output_type": "execute_result"
    }
   ],
   "source": [
    "df.head(3)"
   ]
  },
  {
   "cell_type": "code",
   "execution_count": 14,
   "id": "270e2fda-b0b5-4c07-92be-43cfebd6ed56",
   "metadata": {},
   "outputs": [
    {
     "data": {
      "text/html": [
       "<div>\n",
       "<style scoped>\n",
       "    .dataframe tbody tr th:only-of-type {\n",
       "        vertical-align: middle;\n",
       "    }\n",
       "\n",
       "    .dataframe tbody tr th {\n",
       "        vertical-align: top;\n",
       "    }\n",
       "\n",
       "    .dataframe thead th {\n",
       "        text-align: right;\n",
       "    }\n",
       "</style>\n",
       "<table border=\"1\" class=\"dataframe\">\n",
       "  <thead>\n",
       "    <tr style=\"text-align: right;\">\n",
       "      <th></th>\n",
       "      <th>stu_name</th>\n",
       "      <th>marks</th>\n",
       "      <th>cities</th>\n",
       "    </tr>\n",
       "  </thead>\n",
       "  <tbody>\n",
       "    <tr>\n",
       "      <th>2</th>\n",
       "      <td>shreya</td>\n",
       "      <td>77</td>\n",
       "      <td>satara</td>\n",
       "    </tr>\n",
       "    <tr>\n",
       "      <th>3</th>\n",
       "      <td>saee</td>\n",
       "      <td>80</td>\n",
       "      <td>pune</td>\n",
       "    </tr>\n",
       "    <tr>\n",
       "      <th>4</th>\n",
       "      <td>apurva</td>\n",
       "      <td>56</td>\n",
       "      <td>nashik</td>\n",
       "    </tr>\n",
       "  </tbody>\n",
       "</table>\n",
       "</div>"
      ],
      "text/plain": [
       "  stu_name  marks  cities\n",
       "2   shreya     77  satara\n",
       "3     saee     80    pune\n",
       "4   apurva     56  nashik"
      ]
     },
     "execution_count": 14,
     "metadata": {},
     "output_type": "execute_result"
    }
   ],
   "source": [
    "df.tail(3)"
   ]
  },
  {
   "cell_type": "code",
   "execution_count": 15,
   "id": "13523bd3-471c-489a-8b2f-4bcd8354716e",
   "metadata": {},
   "outputs": [
    {
     "data": {
      "text/plain": [
       "(5, 3)"
      ]
     },
     "execution_count": 15,
     "metadata": {},
     "output_type": "execute_result"
    }
   ],
   "source": [
    "df.shape"
   ]
  },
  {
   "cell_type": "code",
   "execution_count": 16,
   "id": "253743db-3b02-4e90-af87-8482e0ba6436",
   "metadata": {},
   "outputs": [
    {
     "name": "stdout",
     "output_type": "stream",
     "text": [
      "<class 'pandas.core.frame.DataFrame'>\n",
      "RangeIndex: 5 entries, 0 to 4\n",
      "Data columns (total 3 columns):\n",
      " #   Column    Non-Null Count  Dtype \n",
      "---  ------    --------------  ----- \n",
      " 0   stu_name  5 non-null      object\n",
      " 1   marks     5 non-null      int64 \n",
      " 2   cities    5 non-null      object\n",
      "dtypes: int64(1), object(2)\n",
      "memory usage: 252.0+ bytes\n"
     ]
    }
   ],
   "source": [
    "df.info()"
   ]
  },
  {
   "cell_type": "code",
   "execution_count": 17,
   "id": "6416009f-4de8-461d-84f1-b21c6bfb44d3",
   "metadata": {},
   "outputs": [
    {
     "data": {
      "text/html": [
       "<div>\n",
       "<style scoped>\n",
       "    .dataframe tbody tr th:only-of-type {\n",
       "        vertical-align: middle;\n",
       "    }\n",
       "\n",
       "    .dataframe tbody tr th {\n",
       "        vertical-align: top;\n",
       "    }\n",
       "\n",
       "    .dataframe thead th {\n",
       "        text-align: right;\n",
       "    }\n",
       "</style>\n",
       "<table border=\"1\" class=\"dataframe\">\n",
       "  <thead>\n",
       "    <tr style=\"text-align: right;\">\n",
       "      <th></th>\n",
       "      <th>marks</th>\n",
       "    </tr>\n",
       "  </thead>\n",
       "  <tbody>\n",
       "    <tr>\n",
       "      <th>count</th>\n",
       "      <td>5.000000</td>\n",
       "    </tr>\n",
       "    <tr>\n",
       "      <th>mean</th>\n",
       "      <td>77.800000</td>\n",
       "    </tr>\n",
       "    <tr>\n",
       "      <th>std</th>\n",
       "      <td>14.906374</td>\n",
       "    </tr>\n",
       "    <tr>\n",
       "      <th>min</th>\n",
       "      <td>56.000000</td>\n",
       "    </tr>\n",
       "    <tr>\n",
       "      <th>25%</th>\n",
       "      <td>77.000000</td>\n",
       "    </tr>\n",
       "    <tr>\n",
       "      <th>50%</th>\n",
       "      <td>78.000000</td>\n",
       "    </tr>\n",
       "    <tr>\n",
       "      <th>75%</th>\n",
       "      <td>80.000000</td>\n",
       "    </tr>\n",
       "    <tr>\n",
       "      <th>max</th>\n",
       "      <td>98.000000</td>\n",
       "    </tr>\n",
       "  </tbody>\n",
       "</table>\n",
       "</div>"
      ],
      "text/plain": [
       "           marks\n",
       "count   5.000000\n",
       "mean   77.800000\n",
       "std    14.906374\n",
       "min    56.000000\n",
       "25%    77.000000\n",
       "50%    78.000000\n",
       "75%    80.000000\n",
       "max    98.000000"
      ]
     },
     "execution_count": 17,
     "metadata": {},
     "output_type": "execute_result"
    }
   ],
   "source": [
    "df.describe()"
   ]
  },
  {
   "cell_type": "markdown",
   "id": "3ad451c1-86bc-4007-86a8-45760db2bd5e",
   "metadata": {},
   "source": [
    " 16. Sort a DataFrame by values in a column using sort_values()"
   ]
  },
  {
   "cell_type": "code",
   "execution_count": 18,
   "id": "13331425-b562-431f-a3dd-9400fa382653",
   "metadata": {},
   "outputs": [
    {
     "data": {
      "text/html": [
       "<div>\n",
       "<style scoped>\n",
       "    .dataframe tbody tr th:only-of-type {\n",
       "        vertical-align: middle;\n",
       "    }\n",
       "\n",
       "    .dataframe tbody tr th {\n",
       "        vertical-align: top;\n",
       "    }\n",
       "\n",
       "    .dataframe thead th {\n",
       "        text-align: right;\n",
       "    }\n",
       "</style>\n",
       "<table border=\"1\" class=\"dataframe\">\n",
       "  <thead>\n",
       "    <tr style=\"text-align: right;\">\n",
       "      <th></th>\n",
       "      <th>stu_name</th>\n",
       "      <th>marks</th>\n",
       "      <th>cities</th>\n",
       "    </tr>\n",
       "  </thead>\n",
       "  <tbody>\n",
       "    <tr>\n",
       "      <th>4</th>\n",
       "      <td>apurva</td>\n",
       "      <td>56</td>\n",
       "      <td>nashik</td>\n",
       "    </tr>\n",
       "    <tr>\n",
       "      <th>2</th>\n",
       "      <td>shreya</td>\n",
       "      <td>77</td>\n",
       "      <td>satara</td>\n",
       "    </tr>\n",
       "    <tr>\n",
       "      <th>0</th>\n",
       "      <td>shravani</td>\n",
       "      <td>78</td>\n",
       "      <td>pune</td>\n",
       "    </tr>\n",
       "    <tr>\n",
       "      <th>3</th>\n",
       "      <td>saee</td>\n",
       "      <td>80</td>\n",
       "      <td>pune</td>\n",
       "    </tr>\n",
       "    <tr>\n",
       "      <th>1</th>\n",
       "      <td>payal</td>\n",
       "      <td>98</td>\n",
       "      <td>mumbai</td>\n",
       "    </tr>\n",
       "  </tbody>\n",
       "</table>\n",
       "</div>"
      ],
      "text/plain": [
       "   stu_name  marks  cities\n",
       "4    apurva     56  nashik\n",
       "2    shreya     77  satara\n",
       "0  shravani     78    pune\n",
       "3      saee     80    pune\n",
       "1     payal     98  mumbai"
      ]
     },
     "execution_count": 18,
     "metadata": {},
     "output_type": "execute_result"
    }
   ],
   "source": [
    "df.sort_values(by = 'marks')"
   ]
  },
  {
   "cell_type": "markdown",
   "id": "9855ef04-1f7d-4bed-99f9-2e0e6d24eb6f",
   "metadata": {},
   "source": [
    "17. Sort a DataFrame based on the index using sort_index()"
   ]
  },
  {
   "cell_type": "code",
   "execution_count": 19,
   "id": "e0c4f4e5-726f-4a50-bae4-dc0c8ec96460",
   "metadata": {},
   "outputs": [
    {
     "data": {
      "text/html": [
       "<div>\n",
       "<style scoped>\n",
       "    .dataframe tbody tr th:only-of-type {\n",
       "        vertical-align: middle;\n",
       "    }\n",
       "\n",
       "    .dataframe tbody tr th {\n",
       "        vertical-align: top;\n",
       "    }\n",
       "\n",
       "    .dataframe thead th {\n",
       "        text-align: right;\n",
       "    }\n",
       "</style>\n",
       "<table border=\"1\" class=\"dataframe\">\n",
       "  <thead>\n",
       "    <tr style=\"text-align: right;\">\n",
       "      <th></th>\n",
       "      <th>stu_name</th>\n",
       "      <th>marks</th>\n",
       "      <th>cities</th>\n",
       "    </tr>\n",
       "  </thead>\n",
       "  <tbody>\n",
       "    <tr>\n",
       "      <th>0</th>\n",
       "      <td>shravani</td>\n",
       "      <td>78</td>\n",
       "      <td>pune</td>\n",
       "    </tr>\n",
       "    <tr>\n",
       "      <th>1</th>\n",
       "      <td>payal</td>\n",
       "      <td>98</td>\n",
       "      <td>mumbai</td>\n",
       "    </tr>\n",
       "    <tr>\n",
       "      <th>2</th>\n",
       "      <td>shreya</td>\n",
       "      <td>77</td>\n",
       "      <td>satara</td>\n",
       "    </tr>\n",
       "    <tr>\n",
       "      <th>3</th>\n",
       "      <td>saee</td>\n",
       "      <td>80</td>\n",
       "      <td>pune</td>\n",
       "    </tr>\n",
       "    <tr>\n",
       "      <th>4</th>\n",
       "      <td>apurva</td>\n",
       "      <td>56</td>\n",
       "      <td>nashik</td>\n",
       "    </tr>\n",
       "  </tbody>\n",
       "</table>\n",
       "</div>"
      ],
      "text/plain": [
       "   stu_name  marks  cities\n",
       "0  shravani     78    pune\n",
       "1     payal     98  mumbai\n",
       "2    shreya     77  satara\n",
       "3      saee     80    pune\n",
       "4    apurva     56  nashik"
      ]
     },
     "execution_count": 19,
     "metadata": {},
     "output_type": "execute_result"
    }
   ],
   "source": [
    "df.sort_index()"
   ]
  },
  {
   "cell_type": "markdown",
   "id": "4c364f46-d59a-4ad1-9b82-212ebc753e9d",
   "metadata": {},
   "source": [
    "18. Filter rows in a DataFrame where a column (e.g., marks) is greater than a threshold"
   ]
  },
  {
   "cell_type": "code",
   "execution_count": 20,
   "id": "bc87d717-ca2d-48ab-98fd-956f724186d2",
   "metadata": {},
   "outputs": [
    {
     "data": {
      "text/html": [
       "<div>\n",
       "<style scoped>\n",
       "    .dataframe tbody tr th:only-of-type {\n",
       "        vertical-align: middle;\n",
       "    }\n",
       "\n",
       "    .dataframe tbody tr th {\n",
       "        vertical-align: top;\n",
       "    }\n",
       "\n",
       "    .dataframe thead th {\n",
       "        text-align: right;\n",
       "    }\n",
       "</style>\n",
       "<table border=\"1\" class=\"dataframe\">\n",
       "  <thead>\n",
       "    <tr style=\"text-align: right;\">\n",
       "      <th></th>\n",
       "      <th>stu_name</th>\n",
       "      <th>marks</th>\n",
       "      <th>cities</th>\n",
       "    </tr>\n",
       "  </thead>\n",
       "  <tbody>\n",
       "    <tr>\n",
       "      <th>1</th>\n",
       "      <td>payal</td>\n",
       "      <td>98</td>\n",
       "      <td>mumbai</td>\n",
       "    </tr>\n",
       "  </tbody>\n",
       "</table>\n",
       "</div>"
      ],
      "text/plain": [
       "  stu_name  marks  cities\n",
       "1    payal     98  mumbai"
      ]
     },
     "execution_count": 20,
     "metadata": {},
     "output_type": "execute_result"
    }
   ],
   "source": [
    "df[df['marks']>80]"
   ]
  },
  {
   "cell_type": "markdown",
   "id": "fba8c0bb-83e9-4277-a90b-d90599b5313a",
   "metadata": {},
   "source": [
    "19. Group a DataFrame by a column (e.g., city) and calculate the average marks"
   ]
  },
  {
   "cell_type": "code",
   "execution_count": 21,
   "id": "25a5536b-1bc1-4c7f-8f04-6904773b7e2c",
   "metadata": {},
   "outputs": [],
   "source": [
    "gr = df.groupby('cities')"
   ]
  },
  {
   "cell_type": "code",
   "execution_count": 22,
   "id": "2aa102e6-21a3-4f90-9dcc-7025776f32c7",
   "metadata": {},
   "outputs": [
    {
     "data": {
      "text/plain": [
       "cities\n",
       "mumbai    98.0\n",
       "nashik    56.0\n",
       "pune      79.0\n",
       "satara    77.0\n",
       "Name: marks, dtype: float64"
      ]
     },
     "execution_count": 22,
     "metadata": {},
     "output_type": "execute_result"
    }
   ],
   "source": [
    "gr['marks'].mean()"
   ]
  },
  {
   "cell_type": "markdown",
   "id": "c0fe3caa-9c23-4568-a4a7-61de5ceeae38",
   "metadata": {},
   "source": [
    " 20. Use agg() to apply multiple aggregation functions (mean, min, max) on a grouped DataFrame."
   ]
  },
  {
   "cell_type": "code",
   "execution_count": 23,
   "id": "cd74d965-efd8-4682-8263-d07ab0f96ecc",
   "metadata": {},
   "outputs": [
    {
     "name": "stdout",
     "output_type": "stream",
     "text": [
      "       marks        \n",
      "        mean min max\n",
      "cities              \n",
      "mumbai  98.0  98  98\n",
      "nashik  56.0  56  56\n",
      "pune    79.0  78  80\n",
      "satara  77.0  77  77\n"
     ]
    }
   ],
   "source": [
    "res = df.groupby('cities').agg({\n",
    "    'marks':['mean','min','max']\n",
    "    })\n",
    "print(res)"
   ]
  },
  {
   "cell_type": "markdown",
   "id": "c46a7bf1-8285-40c0-9b42-fe928340bb62",
   "metadata": {},
   "source": [
    " 21. Merge two DataFrames on a common column (e.g., student ID)"
   ]
  },
  {
   "cell_type": "code",
   "execution_count": 29,
   "id": "334c9973-af0a-4869-92cb-d9647fff3473",
   "metadata": {},
   "outputs": [
    {
     "data": {
      "text/html": [
       "<div>\n",
       "<style scoped>\n",
       "    .dataframe tbody tr th:only-of-type {\n",
       "        vertical-align: middle;\n",
       "    }\n",
       "\n",
       "    .dataframe tbody tr th {\n",
       "        vertical-align: top;\n",
       "    }\n",
       "\n",
       "    .dataframe thead th {\n",
       "        text-align: right;\n",
       "    }\n",
       "</style>\n",
       "<table border=\"1\" class=\"dataframe\">\n",
       "  <thead>\n",
       "    <tr style=\"text-align: right;\">\n",
       "      <th></th>\n",
       "      <th>stu_id</th>\n",
       "      <th>stu_name</th>\n",
       "      <th>age</th>\n",
       "    </tr>\n",
       "  </thead>\n",
       "  <tbody>\n",
       "    <tr>\n",
       "      <th>0</th>\n",
       "      <td>101</td>\n",
       "      <td>shravani</td>\n",
       "      <td>18</td>\n",
       "    </tr>\n",
       "    <tr>\n",
       "      <th>1</th>\n",
       "      <td>102</td>\n",
       "      <td>payal</td>\n",
       "      <td>16</td>\n",
       "    </tr>\n",
       "    <tr>\n",
       "      <th>2</th>\n",
       "      <td>103</td>\n",
       "      <td>shreya</td>\n",
       "      <td>12</td>\n",
       "    </tr>\n",
       "    <tr>\n",
       "      <th>3</th>\n",
       "      <td>104</td>\n",
       "      <td>saee</td>\n",
       "      <td>17</td>\n",
       "    </tr>\n",
       "    <tr>\n",
       "      <th>4</th>\n",
       "      <td>105</td>\n",
       "      <td>apurva</td>\n",
       "      <td>15</td>\n",
       "    </tr>\n",
       "  </tbody>\n",
       "</table>\n",
       "</div>"
      ],
      "text/plain": [
       "   stu_id  stu_name  age\n",
       "0     101  shravani   18\n",
       "1     102     payal   16\n",
       "2     103    shreya   12\n",
       "3     104      saee   17\n",
       "4     105    apurva   15"
      ]
     },
     "execution_count": 29,
     "metadata": {},
     "output_type": "execute_result"
    }
   ],
   "source": [
    "df1 = pd.DataFrame({\n",
    "    'stu_id':pd.Series([101,102,103,104,105]),\n",
    "    'stu_name':pd.Series(['shravani','payal','shreya','saee','apurva']),\n",
    "    'age':pd.Series([18,16,12,17,15])\n",
    "})\n",
    "df1"
   ]
  },
  {
   "cell_type": "code",
   "execution_count": 30,
   "id": "23b9cee0-1eb0-4688-aaa1-7aeb838c34c8",
   "metadata": {},
   "outputs": [
    {
     "data": {
      "text/html": [
       "<div>\n",
       "<style scoped>\n",
       "    .dataframe tbody tr th:only-of-type {\n",
       "        vertical-align: middle;\n",
       "    }\n",
       "\n",
       "    .dataframe tbody tr th {\n",
       "        vertical-align: top;\n",
       "    }\n",
       "\n",
       "    .dataframe thead th {\n",
       "        text-align: right;\n",
       "    }\n",
       "</style>\n",
       "<table border=\"1\" class=\"dataframe\">\n",
       "  <thead>\n",
       "    <tr style=\"text-align: right;\">\n",
       "      <th></th>\n",
       "      <th>stu_id</th>\n",
       "      <th>marks</th>\n",
       "    </tr>\n",
       "  </thead>\n",
       "  <tbody>\n",
       "    <tr>\n",
       "      <th>0</th>\n",
       "      <td>101</td>\n",
       "      <td>68</td>\n",
       "    </tr>\n",
       "    <tr>\n",
       "      <th>1</th>\n",
       "      <td>102</td>\n",
       "      <td>90</td>\n",
       "    </tr>\n",
       "    <tr>\n",
       "      <th>2</th>\n",
       "      <td>103</td>\n",
       "      <td>88</td>\n",
       "    </tr>\n",
       "    <tr>\n",
       "      <th>3</th>\n",
       "      <td>104</td>\n",
       "      <td>76</td>\n",
       "    </tr>\n",
       "    <tr>\n",
       "      <th>4</th>\n",
       "      <td>105</td>\n",
       "      <td>56</td>\n",
       "    </tr>\n",
       "  </tbody>\n",
       "</table>\n",
       "</div>"
      ],
      "text/plain": [
       "   stu_id  marks\n",
       "0     101     68\n",
       "1     102     90\n",
       "2     103     88\n",
       "3     104     76\n",
       "4     105     56"
      ]
     },
     "execution_count": 30,
     "metadata": {},
     "output_type": "execute_result"
    }
   ],
   "source": [
    "df2 = pd.DataFrame({\n",
    "    'stu_id':pd.Series([101,102,103,104,105]),\n",
    "    'marks':pd.Series([68,90,88,76,56]),\n",
    "     \n",
    "})\n",
    "df2"
   ]
  },
  {
   "cell_type": "code",
   "execution_count": 31,
   "id": "50ecfe48-4834-43df-a010-b7d62fae15a2",
   "metadata": {},
   "outputs": [
    {
     "data": {
      "text/html": [
       "<div>\n",
       "<style scoped>\n",
       "    .dataframe tbody tr th:only-of-type {\n",
       "        vertical-align: middle;\n",
       "    }\n",
       "\n",
       "    .dataframe tbody tr th {\n",
       "        vertical-align: top;\n",
       "    }\n",
       "\n",
       "    .dataframe thead th {\n",
       "        text-align: right;\n",
       "    }\n",
       "</style>\n",
       "<table border=\"1\" class=\"dataframe\">\n",
       "  <thead>\n",
       "    <tr style=\"text-align: right;\">\n",
       "      <th></th>\n",
       "      <th>stu_id</th>\n",
       "      <th>stu_name</th>\n",
       "      <th>age</th>\n",
       "      <th>marks</th>\n",
       "    </tr>\n",
       "  </thead>\n",
       "  <tbody>\n",
       "    <tr>\n",
       "      <th>0</th>\n",
       "      <td>101</td>\n",
       "      <td>shravani</td>\n",
       "      <td>18</td>\n",
       "      <td>68</td>\n",
       "    </tr>\n",
       "    <tr>\n",
       "      <th>1</th>\n",
       "      <td>102</td>\n",
       "      <td>payal</td>\n",
       "      <td>16</td>\n",
       "      <td>90</td>\n",
       "    </tr>\n",
       "    <tr>\n",
       "      <th>2</th>\n",
       "      <td>103</td>\n",
       "      <td>shreya</td>\n",
       "      <td>12</td>\n",
       "      <td>88</td>\n",
       "    </tr>\n",
       "    <tr>\n",
       "      <th>3</th>\n",
       "      <td>104</td>\n",
       "      <td>saee</td>\n",
       "      <td>17</td>\n",
       "      <td>76</td>\n",
       "    </tr>\n",
       "    <tr>\n",
       "      <th>4</th>\n",
       "      <td>105</td>\n",
       "      <td>apurva</td>\n",
       "      <td>15</td>\n",
       "      <td>56</td>\n",
       "    </tr>\n",
       "  </tbody>\n",
       "</table>\n",
       "</div>"
      ],
      "text/plain": [
       "   stu_id  stu_name  age  marks\n",
       "0     101  shravani   18     68\n",
       "1     102     payal   16     90\n",
       "2     103    shreya   12     88\n",
       "3     104      saee   17     76\n",
       "4     105    apurva   15     56"
      ]
     },
     "execution_count": 31,
     "metadata": {},
     "output_type": "execute_result"
    }
   ],
   "source": [
    "df1.merge(df2)"
   ]
  },
  {
   "cell_type": "markdown",
   "id": "5bf98b45-5156-43e3-a319-ca53076fed1f",
   "metadata": {},
   "source": [
    " 22. Concatenate two DataFrames vertically and reset the index"
   ]
  },
  {
   "cell_type": "code",
   "execution_count": 35,
   "id": "8365a583-36b5-4810-ad05-3c9d16a0cc85",
   "metadata": {},
   "outputs": [
    {
     "data": {
      "text/html": [
       "<div>\n",
       "<style scoped>\n",
       "    .dataframe tbody tr th:only-of-type {\n",
       "        vertical-align: middle;\n",
       "    }\n",
       "\n",
       "    .dataframe tbody tr th {\n",
       "        vertical-align: top;\n",
       "    }\n",
       "\n",
       "    .dataframe thead th {\n",
       "        text-align: right;\n",
       "    }\n",
       "</style>\n",
       "<table border=\"1\" class=\"dataframe\">\n",
       "  <thead>\n",
       "    <tr style=\"text-align: right;\">\n",
       "      <th></th>\n",
       "      <th>stu_id</th>\n",
       "      <th>stu_name</th>\n",
       "      <th>age</th>\n",
       "      <th>marks</th>\n",
       "    </tr>\n",
       "  </thead>\n",
       "  <tbody>\n",
       "    <tr>\n",
       "      <th>0</th>\n",
       "      <td>101</td>\n",
       "      <td>shravani</td>\n",
       "      <td>18.0</td>\n",
       "      <td>NaN</td>\n",
       "    </tr>\n",
       "    <tr>\n",
       "      <th>1</th>\n",
       "      <td>102</td>\n",
       "      <td>payal</td>\n",
       "      <td>16.0</td>\n",
       "      <td>NaN</td>\n",
       "    </tr>\n",
       "    <tr>\n",
       "      <th>2</th>\n",
       "      <td>103</td>\n",
       "      <td>shreya</td>\n",
       "      <td>12.0</td>\n",
       "      <td>NaN</td>\n",
       "    </tr>\n",
       "    <tr>\n",
       "      <th>3</th>\n",
       "      <td>104</td>\n",
       "      <td>saee</td>\n",
       "      <td>17.0</td>\n",
       "      <td>NaN</td>\n",
       "    </tr>\n",
       "    <tr>\n",
       "      <th>4</th>\n",
       "      <td>105</td>\n",
       "      <td>apurva</td>\n",
       "      <td>15.0</td>\n",
       "      <td>NaN</td>\n",
       "    </tr>\n",
       "    <tr>\n",
       "      <th>5</th>\n",
       "      <td>101</td>\n",
       "      <td>NaN</td>\n",
       "      <td>NaN</td>\n",
       "      <td>68.0</td>\n",
       "    </tr>\n",
       "    <tr>\n",
       "      <th>6</th>\n",
       "      <td>102</td>\n",
       "      <td>NaN</td>\n",
       "      <td>NaN</td>\n",
       "      <td>90.0</td>\n",
       "    </tr>\n",
       "    <tr>\n",
       "      <th>7</th>\n",
       "      <td>103</td>\n",
       "      <td>NaN</td>\n",
       "      <td>NaN</td>\n",
       "      <td>88.0</td>\n",
       "    </tr>\n",
       "    <tr>\n",
       "      <th>8</th>\n",
       "      <td>104</td>\n",
       "      <td>NaN</td>\n",
       "      <td>NaN</td>\n",
       "      <td>76.0</td>\n",
       "    </tr>\n",
       "    <tr>\n",
       "      <th>9</th>\n",
       "      <td>105</td>\n",
       "      <td>NaN</td>\n",
       "      <td>NaN</td>\n",
       "      <td>56.0</td>\n",
       "    </tr>\n",
       "  </tbody>\n",
       "</table>\n",
       "</div>"
      ],
      "text/plain": [
       "   stu_id  stu_name   age  marks\n",
       "0     101  shravani  18.0    NaN\n",
       "1     102     payal  16.0    NaN\n",
       "2     103    shreya  12.0    NaN\n",
       "3     104      saee  17.0    NaN\n",
       "4     105    apurva  15.0    NaN\n",
       "5     101       NaN   NaN   68.0\n",
       "6     102       NaN   NaN   90.0\n",
       "7     103       NaN   NaN   88.0\n",
       "8     104       NaN   NaN   76.0\n",
       "9     105       NaN   NaN   56.0"
      ]
     },
     "execution_count": 35,
     "metadata": {},
     "output_type": "execute_result"
    }
   ],
   "source": [
    "pd.concat([df1,df2],axis = 0).reset_index(drop = True)"
   ]
  },
  {
   "cell_type": "code",
   "execution_count": null,
   "id": "50610c0e-05e0-4257-a331-54539b81136b",
   "metadata": {},
   "outputs": [],
   "source": []
  }
 ],
 "metadata": {
  "kernelspec": {
   "display_name": "Python 3 (ipykernel)",
   "language": "python",
   "name": "python3"
  },
  "language_info": {
   "codemirror_mode": {
    "name": "ipython",
    "version": 3
   },
   "file_extension": ".py",
   "mimetype": "text/x-python",
   "name": "python",
   "nbconvert_exporter": "python",
   "pygments_lexer": "ipython3",
   "version": "3.12.7"
  }
 },
 "nbformat": 4,
 "nbformat_minor": 5
}
