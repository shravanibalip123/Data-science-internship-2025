{
 "cells": [
  {
   "cell_type": "markdown",
   "id": "4067c90e-72b1-44ec-924d-766b495492d1",
   "metadata": {},
   "source": [
    "### Pandas Part1 : Practical Questions"
   ]
  },
  {
   "cell_type": "markdown",
   "id": "bbe1260a-0aea-4f69-b5fe-e5055d6696ee",
   "metadata": {},
   "source": [
    "##### Question 1\n",
    " Create a Series using a list of 5 fruit names. Assign custom index labels to each element."
   ]
  },
  {
   "cell_type": "code",
   "execution_count": 21,
   "id": "8241d275-e5f6-4d96-a25e-a64aa0502b98",
   "metadata": {},
   "outputs": [
    {
     "name": "stdout",
     "output_type": "stream",
     "text": [
      "A          mango\n",
      "B          apple\n",
      "C         banana\n",
      "D      pineapple\n",
      "E    pomogranate\n",
      "dtype: object\n"
     ]
    }
   ],
   "source": [
    "import pandas as pd\n",
    "import numpy as np\n",
    "fruits=['mango','apple','banana','pineapple','pomogranate']\n",
    "l = ['A','B','C','D','E']\n",
    "s = pd.Series(fruits,index = l)\n",
    "print(s)"
   ]
  },
  {
   "cell_type": "markdown",
   "id": "319181fb-35b6-4277-9098-3e045d6b2621",
   "metadata": {},
   "source": [
    "##### Question 2\n",
    "\n",
    " Create a DataFrame from the following dictionary: \n",
    "\n",
    " \n",
    "{\n",
    " 'Name': ['Alice', 'Bob', 'Charlie'],\n",
    " 'Age': [25, 30, 35],\n",
    " 'City': ['Pune', 'Mumbai', 'Nagpur'\n",
    "}"
   ]
  },
  {
   "cell_type": "code",
   "execution_count": 22,
   "id": "fe6d96d1-b093-40a3-a0b5-2bf8da651f3e",
   "metadata": {},
   "outputs": [
    {
     "data": {
      "text/html": [
       "<div>\n",
       "<style scoped>\n",
       "    .dataframe tbody tr th:only-of-type {\n",
       "        vertical-align: middle;\n",
       "    }\n",
       "\n",
       "    .dataframe tbody tr th {\n",
       "        vertical-align: top;\n",
       "    }\n",
       "\n",
       "    .dataframe thead th {\n",
       "        text-align: right;\n",
       "    }\n",
       "</style>\n",
       "<table border=\"1\" class=\"dataframe\">\n",
       "  <thead>\n",
       "    <tr style=\"text-align: right;\">\n",
       "      <th></th>\n",
       "      <th>Name</th>\n",
       "      <th>Age</th>\n",
       "      <th>City</th>\n",
       "    </tr>\n",
       "  </thead>\n",
       "  <tbody>\n",
       "    <tr>\n",
       "      <th>0</th>\n",
       "      <td>Alice</td>\n",
       "      <td>25</td>\n",
       "      <td>Pune</td>\n",
       "    </tr>\n",
       "    <tr>\n",
       "      <th>1</th>\n",
       "      <td>Bob</td>\n",
       "      <td>30</td>\n",
       "      <td>Mumbai</td>\n",
       "    </tr>\n",
       "    <tr>\n",
       "      <th>2</th>\n",
       "      <td>Charlie</td>\n",
       "      <td>35</td>\n",
       "      <td>Nagpur</td>\n",
       "    </tr>\n",
       "  </tbody>\n",
       "</table>\n",
       "</div>"
      ],
      "text/plain": [
       "      Name  Age    City\n",
       "0    Alice   25    Pune\n",
       "1      Bob   30  Mumbai\n",
       "2  Charlie   35  Nagpur"
      ]
     },
     "execution_count": 22,
     "metadata": {},
     "output_type": "execute_result"
    }
   ],
   "source": [
    "df = pd.DataFrame({\n",
    " 'Name': ['Alice', 'Bob', 'Charlie'],\n",
    " 'Age': [25, 30, 35],\n",
    " 'City': ['Pune', 'Mumbai', 'Nagpur']\n",
    "})\n",
    "df"
   ]
  },
  {
   "cell_type": "markdown",
   "id": "7d02fba0-de2b-4b56-8ced-09e0993a779b",
   "metadata": {},
   "source": [
    "##### Question 3\n",
    " Create a DataFrame using NumPy to generate a 3x3 matrix of random integers between 1 and 100. Assign\n",
    " column names as 'A', 'B', 'C'"
   ]
  },
  {
   "cell_type": "code",
   "execution_count": 23,
   "id": "31c8d45e-adc3-42f8-9bdf-1b03dcfb56fd",
   "metadata": {},
   "outputs": [
    {
     "name": "stdout",
     "output_type": "stream",
     "text": [
      "    A   B   C\n",
      "0  50  27  84\n",
      "1  20  77  56\n",
      "2  42  82  32\n"
     ]
    }
   ],
   "source": [
    "data = np.random.randint(1,100,size = (3,3))\n",
    "df1= pd.DataFrame(data,columns=['A','B','C'])\n",
    "print(df1)"
   ]
  },
  {
   "cell_type": "markdown",
   "id": "25e8b9a7-5881-4072-87ab-8f64b2d291bc",
   "metadata": {},
   "source": [
    " ##### Question 4\n",
    " Using the DataFrame from Question 2, display: - First 2 rows - Last row - Shape of the DataFram"
   ]
  },
  {
   "cell_type": "code",
   "execution_count": 24,
   "id": "3a992cd3-2194-4736-9d47-efc740d6910d",
   "metadata": {},
   "outputs": [
    {
     "data": {
      "text/html": [
       "<div>\n",
       "<style scoped>\n",
       "    .dataframe tbody tr th:only-of-type {\n",
       "        vertical-align: middle;\n",
       "    }\n",
       "\n",
       "    .dataframe tbody tr th {\n",
       "        vertical-align: top;\n",
       "    }\n",
       "\n",
       "    .dataframe thead th {\n",
       "        text-align: right;\n",
       "    }\n",
       "</style>\n",
       "<table border=\"1\" class=\"dataframe\">\n",
       "  <thead>\n",
       "    <tr style=\"text-align: right;\">\n",
       "      <th></th>\n",
       "      <th>Name</th>\n",
       "      <th>Age</th>\n",
       "      <th>City</th>\n",
       "    </tr>\n",
       "  </thead>\n",
       "  <tbody>\n",
       "    <tr>\n",
       "      <th>0</th>\n",
       "      <td>Alice</td>\n",
       "      <td>25</td>\n",
       "      <td>Pune</td>\n",
       "    </tr>\n",
       "    <tr>\n",
       "      <th>1</th>\n",
       "      <td>Bob</td>\n",
       "      <td>30</td>\n",
       "      <td>Mumbai</td>\n",
       "    </tr>\n",
       "    <tr>\n",
       "      <th>2</th>\n",
       "      <td>Charlie</td>\n",
       "      <td>35</td>\n",
       "      <td>Nagpur</td>\n",
       "    </tr>\n",
       "  </tbody>\n",
       "</table>\n",
       "</div>"
      ],
      "text/plain": [
       "      Name  Age    City\n",
       "0    Alice   25    Pune\n",
       "1      Bob   30  Mumbai\n",
       "2  Charlie   35  Nagpur"
      ]
     },
     "execution_count": 24,
     "metadata": {},
     "output_type": "execute_result"
    }
   ],
   "source": [
    "df"
   ]
  },
  {
   "cell_type": "code",
   "execution_count": 26,
   "id": "fc67dcc9-369f-4e3b-8345-14f560379efb",
   "metadata": {},
   "outputs": [
    {
     "data": {
      "text/html": [
       "<div>\n",
       "<style scoped>\n",
       "    .dataframe tbody tr th:only-of-type {\n",
       "        vertical-align: middle;\n",
       "    }\n",
       "\n",
       "    .dataframe tbody tr th {\n",
       "        vertical-align: top;\n",
       "    }\n",
       "\n",
       "    .dataframe thead th {\n",
       "        text-align: right;\n",
       "    }\n",
       "</style>\n",
       "<table border=\"1\" class=\"dataframe\">\n",
       "  <thead>\n",
       "    <tr style=\"text-align: right;\">\n",
       "      <th></th>\n",
       "      <th>Name</th>\n",
       "      <th>Age</th>\n",
       "      <th>City</th>\n",
       "    </tr>\n",
       "  </thead>\n",
       "  <tbody>\n",
       "    <tr>\n",
       "      <th>0</th>\n",
       "      <td>Alice</td>\n",
       "      <td>25</td>\n",
       "      <td>Pune</td>\n",
       "    </tr>\n",
       "    <tr>\n",
       "      <th>1</th>\n",
       "      <td>Bob</td>\n",
       "      <td>30</td>\n",
       "      <td>Mumbai</td>\n",
       "    </tr>\n",
       "  </tbody>\n",
       "</table>\n",
       "</div>"
      ],
      "text/plain": [
       "    Name  Age    City\n",
       "0  Alice   25    Pune\n",
       "1    Bob   30  Mumbai"
      ]
     },
     "execution_count": 26,
     "metadata": {},
     "output_type": "execute_result"
    }
   ],
   "source": [
    "df.iloc[0:2,0:3]"
   ]
  },
  {
   "cell_type": "code",
   "execution_count": 28,
   "id": "6c8567ef-7262-47fd-88bc-7554fb8dd8b6",
   "metadata": {},
   "outputs": [
    {
     "data": {
      "text/html": [
       "<div>\n",
       "<style scoped>\n",
       "    .dataframe tbody tr th:only-of-type {\n",
       "        vertical-align: middle;\n",
       "    }\n",
       "\n",
       "    .dataframe tbody tr th {\n",
       "        vertical-align: top;\n",
       "    }\n",
       "\n",
       "    .dataframe thead th {\n",
       "        text-align: right;\n",
       "    }\n",
       "</style>\n",
       "<table border=\"1\" class=\"dataframe\">\n",
       "  <thead>\n",
       "    <tr style=\"text-align: right;\">\n",
       "      <th></th>\n",
       "      <th>Name</th>\n",
       "      <th>Age</th>\n",
       "      <th>City</th>\n",
       "    </tr>\n",
       "  </thead>\n",
       "  <tbody>\n",
       "    <tr>\n",
       "      <th>2</th>\n",
       "      <td>Charlie</td>\n",
       "      <td>35</td>\n",
       "      <td>Nagpur</td>\n",
       "    </tr>\n",
       "  </tbody>\n",
       "</table>\n",
       "</div>"
      ],
      "text/plain": [
       "      Name  Age    City\n",
       "2  Charlie   35  Nagpur"
      ]
     },
     "execution_count": 28,
     "metadata": {},
     "output_type": "execute_result"
    }
   ],
   "source": [
    "df.iloc[2:3,0:3]"
   ]
  },
  {
   "cell_type": "code",
   "execution_count": 29,
   "id": "fbb8065d-792c-4974-9110-6284651a64b9",
   "metadata": {},
   "outputs": [
    {
     "data": {
      "text/plain": [
       "(3, 3)"
      ]
     },
     "execution_count": 29,
     "metadata": {},
     "output_type": "execute_result"
    }
   ],
   "source": [
    "df.shape"
   ]
  },
  {
   "cell_type": "markdown",
   "id": "47548721-f610-404c-822d-57bdefe40307",
   "metadata": {},
   "source": [
    "##### Question 5\n",
    " Use .info() and .describe() on the DataFrame created in Question 2"
   ]
  },
  {
   "cell_type": "code",
   "execution_count": 30,
   "id": "057ccce7-43c4-4fb0-a8c9-6b54815adb56",
   "metadata": {},
   "outputs": [
    {
     "name": "stdout",
     "output_type": "stream",
     "text": [
      "<class 'pandas.core.frame.DataFrame'>\n",
      "RangeIndex: 3 entries, 0 to 2\n",
      "Data columns (total 3 columns):\n",
      " #   Column  Non-Null Count  Dtype \n",
      "---  ------  --------------  ----- \n",
      " 0   Name    3 non-null      object\n",
      " 1   Age     3 non-null      int64 \n",
      " 2   City    3 non-null      object\n",
      "dtypes: int64(1), object(2)\n",
      "memory usage: 204.0+ bytes\n"
     ]
    }
   ],
   "source": [
    "df.info()"
   ]
  },
  {
   "cell_type": "code",
   "execution_count": 31,
   "id": "673d756b-e129-4c2b-b163-8a3495f55867",
   "metadata": {},
   "outputs": [
    {
     "data": {
      "text/html": [
       "<div>\n",
       "<style scoped>\n",
       "    .dataframe tbody tr th:only-of-type {\n",
       "        vertical-align: middle;\n",
       "    }\n",
       "\n",
       "    .dataframe tbody tr th {\n",
       "        vertical-align: top;\n",
       "    }\n",
       "\n",
       "    .dataframe thead th {\n",
       "        text-align: right;\n",
       "    }\n",
       "</style>\n",
       "<table border=\"1\" class=\"dataframe\">\n",
       "  <thead>\n",
       "    <tr style=\"text-align: right;\">\n",
       "      <th></th>\n",
       "      <th>Age</th>\n",
       "    </tr>\n",
       "  </thead>\n",
       "  <tbody>\n",
       "    <tr>\n",
       "      <th>count</th>\n",
       "      <td>3.0</td>\n",
       "    </tr>\n",
       "    <tr>\n",
       "      <th>mean</th>\n",
       "      <td>30.0</td>\n",
       "    </tr>\n",
       "    <tr>\n",
       "      <th>std</th>\n",
       "      <td>5.0</td>\n",
       "    </tr>\n",
       "    <tr>\n",
       "      <th>min</th>\n",
       "      <td>25.0</td>\n",
       "    </tr>\n",
       "    <tr>\n",
       "      <th>25%</th>\n",
       "      <td>27.5</td>\n",
       "    </tr>\n",
       "    <tr>\n",
       "      <th>50%</th>\n",
       "      <td>30.0</td>\n",
       "    </tr>\n",
       "    <tr>\n",
       "      <th>75%</th>\n",
       "      <td>32.5</td>\n",
       "    </tr>\n",
       "    <tr>\n",
       "      <th>max</th>\n",
       "      <td>35.0</td>\n",
       "    </tr>\n",
       "  </tbody>\n",
       "</table>\n",
       "</div>"
      ],
      "text/plain": [
       "        Age\n",
       "count   3.0\n",
       "mean   30.0\n",
       "std     5.0\n",
       "min    25.0\n",
       "25%    27.5\n",
       "50%    30.0\n",
       "75%    32.5\n",
       "max    35.0"
      ]
     },
     "execution_count": 31,
     "metadata": {},
     "output_type": "execute_result"
    }
   ],
   "source": [
    "df.describe()\n"
   ]
  },
  {
   "cell_type": "markdown",
   "id": "635fa385-e711-4c48-bd00-31018b9b4c45",
   "metadata": {},
   "source": [
    "##### Question 6\n",
    " From the DataFrame in Question 2, select only the 'Name' and 'City' columns using loc"
   ]
  },
  {
   "cell_type": "code",
   "execution_count": 34,
   "id": "365f72b1-dec5-4ef6-9a73-a4bb14d543ac",
   "metadata": {},
   "outputs": [
    {
     "data": {
      "text/html": [
       "<div>\n",
       "<style scoped>\n",
       "    .dataframe tbody tr th:only-of-type {\n",
       "        vertical-align: middle;\n",
       "    }\n",
       "\n",
       "    .dataframe tbody tr th {\n",
       "        vertical-align: top;\n",
       "    }\n",
       "\n",
       "    .dataframe thead th {\n",
       "        text-align: right;\n",
       "    }\n",
       "</style>\n",
       "<table border=\"1\" class=\"dataframe\">\n",
       "  <thead>\n",
       "    <tr style=\"text-align: right;\">\n",
       "      <th></th>\n",
       "      <th>Name</th>\n",
       "      <th>City</th>\n",
       "    </tr>\n",
       "  </thead>\n",
       "  <tbody>\n",
       "    <tr>\n",
       "      <th>0</th>\n",
       "      <td>Alice</td>\n",
       "      <td>Pune</td>\n",
       "    </tr>\n",
       "    <tr>\n",
       "      <th>1</th>\n",
       "      <td>Bob</td>\n",
       "      <td>Mumbai</td>\n",
       "    </tr>\n",
       "    <tr>\n",
       "      <th>2</th>\n",
       "      <td>Charlie</td>\n",
       "      <td>Nagpur</td>\n",
       "    </tr>\n",
       "  </tbody>\n",
       "</table>\n",
       "</div>"
      ],
      "text/plain": [
       "      Name    City\n",
       "0    Alice    Pune\n",
       "1      Bob  Mumbai\n",
       "2  Charlie  Nagpur"
      ]
     },
     "execution_count": 34,
     "metadata": {},
     "output_type": "execute_result"
    }
   ],
   "source": [
    "df.loc[:,['Name','City']]"
   ]
  },
  {
   "cell_type": "markdown",
   "id": "a987a4b5-0c58-45a7-9751-a7d512be2921",
   "metadata": {},
   "source": [
    "##### Question 7\n",
    " From the DataFrame in Question 2, use iloc to display the second row."
   ]
  },
  {
   "cell_type": "code",
   "execution_count": 36,
   "id": "f0a4b11a-2f4e-4be1-87b2-f6e79ec26fd7",
   "metadata": {},
   "outputs": [
    {
     "data": {
      "text/plain": [
       "Name       Bob\n",
       "Age         30\n",
       "City    Mumbai\n",
       "Name: 1, dtype: object"
      ]
     },
     "execution_count": 36,
     "metadata": {},
     "output_type": "execute_result"
    }
   ],
   "source": [
    "df.iloc[1]"
   ]
  },
  {
   "cell_type": "markdown",
   "id": "dd9ed47e-7a3a-4f46-b97d-a139a73fbebe",
   "metadata": {},
   "source": [
    "##### Question 8\n",
    " Rename the 'Age' column to 'Years' in the DataFrame from Question 2"
   ]
  },
  {
   "cell_type": "code",
   "execution_count": 37,
   "id": "ba12104a-ee42-4932-98ea-295291511f33",
   "metadata": {},
   "outputs": [
    {
     "name": "stdout",
     "output_type": "stream",
     "text": [
      "      Name  Years    City\n",
      "0    Alice     25    Pune\n",
      "1      Bob     30  Mumbai\n",
      "2  Charlie     35  Nagpur\n"
     ]
    }
   ],
   "source": [
    "df.rename(columns={'Age': 'Years'}, inplace=True)\n",
    "print(df)"
   ]
  },
  {
   "cell_type": "markdown",
   "id": "f7756534-dba7-4271-9aac-5fb748b1e37c",
   "metadata": {},
   "source": [
    "##### Question 9\n",
    " Drop the 'City' column from the DataFrame in Question 2"
   ]
  },
  {
   "cell_type": "code",
   "execution_count": 39,
   "id": "9c917068-5744-4407-896e-07e15d7c2489",
   "metadata": {},
   "outputs": [
    {
     "name": "stdout",
     "output_type": "stream",
     "text": [
      "      Name  Years\n",
      "0    Alice     25\n",
      "1      Bob     30\n",
      "2  Charlie     35\n"
     ]
    }
   ],
   "source": [
    "df.drop(columns='City', inplace=True)\n",
    "print(df)"
   ]
  },
  {
   "cell_type": "markdown",
   "id": "fd5885b2-e81a-48f1-b2bd-4970d49477f1",
   "metadata": {},
   "source": [
    "##### Question 10\n",
    " Modify the 'Years' column (previously 'Age') by adding 5 to each value"
   ]
  },
  {
   "cell_type": "code",
   "execution_count": 40,
   "id": "5e2030f5-1bbe-46fe-9249-af48d97614b5",
   "metadata": {},
   "outputs": [
    {
     "name": "stdout",
     "output_type": "stream",
     "text": [
      "      Name  Years\n",
      "0    Alice     30\n",
      "1      Bob     35\n",
      "2  Charlie     40\n"
     ]
    }
   ],
   "source": [
    "df['Years'] = df['Years'] + 5\n",
    "print(df)"
   ]
  },
  {
   "cell_type": "code",
   "execution_count": null,
   "id": "3095c958-fc57-4ef3-9070-5f10b84711ba",
   "metadata": {},
   "outputs": [],
   "source": []
  }
 ],
 "metadata": {
  "kernelspec": {
   "display_name": "Python 3 (ipykernel)",
   "language": "python",
   "name": "python3"
  },
  "language_info": {
   "codemirror_mode": {
    "name": "ipython",
    "version": 3
   },
   "file_extension": ".py",
   "mimetype": "text/x-python",
   "name": "python",
   "nbconvert_exporter": "python",
   "pygments_lexer": "ipython3",
   "version": "3.12.7"
  }
 },
 "nbformat": 4,
 "nbformat_minor": 5
}
