{
 "cells": [
  {
   "cell_type": "markdown",
   "id": "4528a335-95f8-44bf-ad8e-796a32704c7c",
   "metadata": {},
   "source": [
    "##### 1.Crreate a numPy array of shape(3,3) with values ranging from 1 to 9"
   ]
  },
  {
   "cell_type": "code",
   "execution_count": 4,
   "id": "c8639157-1356-4d1b-af30-84b5d10a97dc",
   "metadata": {},
   "outputs": [
    {
     "data": {
      "text/plain": [
       "array([[0, 1, 2],\n",
       "       [3, 4, 5],\n",
       "       [6, 7, 8]])"
      ]
     },
     "execution_count": 4,
     "metadata": {},
     "output_type": "execute_result"
    }
   ],
   "source": [
    "import numpy as np\n",
    "arr = np.arange(0,9)\n",
    "arr.reshape(3,3)"
   ]
  },
  {
   "cell_type": "markdown",
   "id": "50bdc9b8-cc8e-4c19-9169-341dbaf930da",
   "metadata": {},
   "source": [
    "##### 2. Given a 1D NumPy array [10,20,30,40,50],write code to reverse the array"
   ]
  },
  {
   "cell_type": "code",
   "execution_count": 6,
   "id": "ef252d73-1710-46f1-a44d-c51cd7e3cad2",
   "metadata": {},
   "outputs": [
    {
     "name": "stdout",
     "output_type": "stream",
     "text": [
      "Reversed array: [50 40 30 20 10]\n"
     ]
    }
   ],
   "source": [
    "a =np.array([10,20,30,40,50])\n",
    "print(\"Reversed array:\",a[: :-1])"
   ]
  },
  {
   "cell_type": "markdown",
   "id": "c91d7dfa-ccec-402d-8f7b-05ba8b9324d5",
   "metadata": {},
   "source": [
    "##### 3. Create a 5x5 NumPy array filled with zeros and set the value of the middle element to 1"
   ]
  },
  {
   "cell_type": "code",
   "execution_count": 9,
   "id": "f48ba0da-dcb5-4c41-a324-17c638e1e052",
   "metadata": {},
   "outputs": [
    {
     "name": "stdout",
     "output_type": "stream",
     "text": [
      "[[0. 0. 0. 0. 0.]\n",
      " [0. 0. 0. 0. 0.]\n",
      " [0. 0. 1. 0. 0.]\n",
      " [0. 0. 0. 0. 0.]\n",
      " [0. 0. 0. 0. 0.]]\n"
     ]
    }
   ],
   "source": [
    "arr = np.zeros((5, 5))\n",
    "arr[2, 2] = 1\n",
    "print(arr)\n"
   ]
  },
  {
   "cell_type": "markdown",
   "id": "ee9d15f1-2472-44f9-92c2-cc4ab790d326",
   "metadata": {},
   "source": [
    "##### 4.generate a numpy array with 20 random integers between 1 to 100(replace all even number with -1)"
   ]
  },
  {
   "cell_type": "code",
   "execution_count": 10,
   "id": "fb0e97b4-fe81-4b59-b40d-624dc35a1509",
   "metadata": {},
   "outputs": [
    {
     "name": "stdout",
     "output_type": "stream",
     "text": [
      "[-1 27 49 -1 -1 29 -1 -1 -1  1 95 53  9 -1 43 83 -1 89 25 95]\n"
     ]
    }
   ],
   "source": [
    "arr = np.random.randint(1, 101, size=20)  \n",
    "for i in range(len(arr)):\n",
    "    if arr[i] % 2 == 0:\n",
    "        arr[i] = -1\n",
    "\n",
    "print(arr)\n"
   ]
  },
  {
   "cell_type": "markdown",
   "id": "1cb69653-c2ab-4aeb-877a-5198a3cd3bff",
   "metadata": {},
   "source": [
    "##### 5.Given a NumPy array a = np.array([[1, 2], [3, 4], [5, 6]]) , extract the second column.\n",
    "\n"
   ]
  },
  {
   "cell_type": "code",
   "execution_count": 11,
   "id": "48381965-b8ae-46c3-bca6-2696b8ba1bb5",
   "metadata": {},
   "outputs": [
    {
     "data": {
      "text/plain": [
       "array([[2],\n",
       "       [4],\n",
       "       [6]])"
      ]
     },
     "execution_count": 11,
     "metadata": {},
     "output_type": "execute_result"
    }
   ],
   "source": [
    "a = np.array([[1,2],[3,4],[5,6]])\n",
    "a[0:3,[1]]"
   ]
  },
  {
   "cell_type": "markdown",
   "id": "0804c6b9-dc6d-4154-a923-ecd64e94b129",
   "metadata": {},
   "source": [
    "##### 6.Create a NumPy array with values [1, 2, 3, 4] and convert it into a 2x2 matrix."
   ]
  },
  {
   "cell_type": "code",
   "execution_count": 14,
   "id": "adab5f95-881a-413a-bb69-20657bf88b13",
   "metadata": {},
   "outputs": [
    {
     "data": {
      "text/plain": [
       "array([[1, 2],\n",
       "       [3, 4]])"
      ]
     },
     "execution_count": 14,
     "metadata": {},
     "output_type": "execute_result"
    }
   ],
   "source": [
    "a =np.array([1,2,3,4])\n",
    "a.reshape(2,2)"
   ]
  },
  {
   "cell_type": "markdown",
   "id": "0645dc12-d21a-402d-9cdb-0a906b58ac6a",
   "metadata": {},
   "source": [
    "##### 7.Create two NumPy arrays of shape (2, 2) and perform element-wise addition, subtraction, multiplication, and division"
   ]
  },
  {
   "cell_type": "code",
   "execution_count": 20,
   "id": "2b8e0026-fcdc-4889-bd9f-a4d8689005cc",
   "metadata": {},
   "outputs": [
    {
     "name": "stdout",
     "output_type": "stream",
     "text": [
      "Array A:\n",
      " [[10 20]\n",
      " [30 40]]\n",
      "Array B:\n",
      " [[11 22]\n",
      " [33 44]]\n",
      "\n",
      "Custom Operation Result:\n",
      " [[ 2.10000000e+01  9.09090909e-01]\n",
      " [-3.00000000e+00  1.76000000e+03]]\n"
     ]
    }
   ],
   "source": [
    "a = np.array([[10,20],[30,40]])\n",
    "b = np.array([[11,22],[33,44]])\n",
    "res = np.empty((2, 2), dtype=float)\n",
    "res[0, 0] = a[0, 0] + b[0, 0]        \n",
    "res[0, 1] = a[0, 1] / b[0, 1]        \n",
    "res[1, 0] = a[1, 0] - b[1, 0]        \n",
    "res[1, 1] = a[1, 1] * b[1, 1]  \n",
    "print(\"Array A:\\n\", a)\n",
    "print(\"Array B:\\n\", b)\n",
    "print(\"\\nCustom Operation Result:\\n\", res)\n"
   ]
  },
  {
   "cell_type": "markdown",
   "id": "5d64e953-dc9a-45f8-8d8e-dd7acaf0e3bd",
   "metadata": {},
   "source": [
    "##### 8.Use NumPy to create an array of 10 linearly spaced values between 0 and 1."
   ]
  },
  {
   "cell_type": "code",
   "execution_count": 21,
   "id": "6d0c2824-43dd-455c-981b-fd7580597cba",
   "metadata": {},
   "outputs": [
    {
     "name": "stdout",
     "output_type": "stream",
     "text": [
      "[0.         0.11111111 0.22222222 0.33333333 0.44444444 0.55555556\n",
      " 0.66666667 0.77777778 0.88888889 1.        ]\n"
     ]
    }
   ],
   "source": [
    "arr = np.linspace(0, 1, 10)\n",
    "print(arr)"
   ]
  },
  {
   "cell_type": "markdown",
   "id": "70f0b67a-b82f-4e24-90bd-f2453d59d390",
   "metadata": {},
   "source": [
    "##### 9.Create a NumPy array and demonstrate how to compute its mean, median, and standard deviation."
   ]
  },
  {
   "cell_type": "code",
   "execution_count": 26,
   "id": "c9f28221-69e7-477b-91c9-b0668fd423ca",
   "metadata": {},
   "outputs": [
    {
     "name": "stdout",
     "output_type": "stream",
     "text": [
      "Array : [23 45 67 55 34]\n",
      "mean: 44.8\n",
      "median: 45.0\n",
      "standard: 15.419468213917106\n"
     ]
    }
   ],
   "source": [
    "arr = np.array([23,45,67,55,34])\n",
    "print(\"Array :\",arr)\n",
    "print(\"mean:\",np.mean(arr))\n",
    "print(\"median:\",np.median(arr))\n",
    "print(\"standard:\",np.std(arr))"
   ]
  },
  {
   "cell_type": "markdown",
   "id": "8d246e9a-f72d-4789-8f3e-b039e48b4bdb",
   "metadata": {},
   "source": [
    "##### 10.Given a 2D NumPy array, write a function to normalize each column (subtract mean and divide by std deviation)"
   ]
  },
  {
   "cell_type": "code",
   "execution_count": 27,
   "id": "3bac7f04-ab8c-4f36-933b-292a3464ea25",
   "metadata": {},
   "outputs": [
    {
     "name": "stdout",
     "output_type": "stream",
     "text": [
      "[[-1. -1.]\n",
      " [ 1.  1.]]\n"
     ]
    }
   ],
   "source": [
    "def normalize_cols(arr):\n",
    "    mean = np.mean(arr, axis=0)      \n",
    "    std = np.std(arr, axis=0)   \n",
    "    std[std == 0] = 1\n",
    "    normalize = (arr - mean) / std\n",
    "    return normalize\n",
    "a = np.array([[12,13],[34,56]])\n",
    "res = normalize_cols(a)\n",
    "print(res)\n",
    "    "
   ]
  }
 ],
 "metadata": {
  "kernelspec": {
   "display_name": "Python 3 (ipykernel)",
   "language": "python",
   "name": "python3"
  },
  "language_info": {
   "codemirror_mode": {
    "name": "ipython",
    "version": 3
   },
   "file_extension": ".py",
   "mimetype": "text/x-python",
   "name": "python",
   "nbconvert_exporter": "python",
   "pygments_lexer": "ipython3",
   "version": "3.12.7"
  }
 },
 "nbformat": 4,
 "nbformat_minor": 5
}
