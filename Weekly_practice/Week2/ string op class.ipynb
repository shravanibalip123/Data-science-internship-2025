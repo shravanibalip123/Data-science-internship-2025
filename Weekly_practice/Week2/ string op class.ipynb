{
 "cells": [
  {
   "cell_type": "markdown",
   "id": "46d33dba-e246-42ca-abbf-a1c266a892af",
   "metadata": {},
   "source": [
    "## 1 Vowel Counter"
   ]
  },
  {
   "cell_type": "markdown",
   "id": "e226e8be-7c2e-41c9-aafd-390431d459f9",
   "metadata": {},
   "source": [
    "Write a Python function that takes a string as input. Using a for loop, iterate \n",
    "through each character. If the character is a vowel (a, e, i, o, u, case-insensitive), \n",
    "increment a counter. Store the count of each vowel in a dictionary. Finally, print \n",
    "the total number of vowels found and the dictionary of vowel counts."
   ]
  },
  {
   "cell_type": "code",
   "execution_count": 1,
   "id": "f8ef7560-c21c-43ef-b630-da1747410543",
   "metadata": {},
   "outputs": [
    {
     "name": "stdin",
     "output_type": "stream",
     "text": [
      "Enter any text:  Shravani\n"
     ]
    },
    {
     "name": "stdout",
     "output_type": "stream",
     "text": [
      "Total vowels: 3\n",
      "Vowel counts: {'a': 2, 'e': 0, 'i': 1, 'o': 0, 'u': 0}\n"
     ]
    }
   ],
   "source": [
    "text = input(\"Enter any text: \")\n",
    "\n",
    "counts = {'a': 0, 'e': 0, 'i': 0, 'o': 0, 'u': 0}\n",
    "total = 0\n",
    "\n",
    "for ch in text.lower():\n",
    "    if ch == 'a':\n",
    "        counts['a'] += 1\n",
    "        total += 1\n",
    "    elif ch == 'e':\n",
    "        counts['e'] += 1\n",
    "        total += 1\n",
    "    elif ch == 'i':\n",
    "        counts['i'] += 1\n",
    "        total += 1\n",
    "    elif ch == 'o':\n",
    "        counts['o'] += 1\n",
    "        total += 1\n",
    "    elif ch == 'u':\n",
    "        counts['u'] += 1\n",
    "        total += 1\n",
    "\n",
    "print(\"Total vowels:\", total)\n",
    "print(\"Vowel counts:\", counts)"
   ]
  },
  {
   "cell_type": "markdown",
   "id": "7b317887-f874-4fc3-bb43-486978a791d9",
   "metadata": {},
   "source": [
    "## 2 Palindrome Checker With LIst:\n"
   ]
  },
  {
   "cell_type": "markdown",
   "id": "09475e93-247d-44da-b532-f53785a51524",
   "metadata": {},
   "source": [
    "Write a Python function that accepts a string. Inside the function, use a for loop \n",
    "to build a new list containing the characters of the string in reverse order. Then, \n",
    "use an if-else statement to check if the original string is a palindrome (reads the \n",
    "same forwards and backward) by comparing it to the string formed from the \n",
    "reversed list. Print whether the string is a palindrome or not. "
   ]
  },
  {
   "cell_type": "code",
   "execution_count": 2,
   "id": "37c52b02-2335-47f0-b301-2b50be215eff",
   "metadata": {},
   "outputs": [
    {
     "name": "stdin",
     "output_type": "stream",
     "text": [
      "Enter a string:  madam\n"
     ]
    },
    {
     "name": "stdout",
     "output_type": "stream",
     "text": [
      "It's a palindrome!\n"
     ]
    }
   ],
   "source": [
    "def check_palindrome(text):\n",
    "    reversed_list = []\n",
    "\n",
    "    for ch in text:\n",
    "        reversed_list.insert(0, ch)\n",
    "\n",
    "    reversed_text = ''.join(reversed_list)\n",
    "\n",
    "    # Compare original and reversed strings\n",
    "    if text == reversed_text:\n",
    "        print(\"It's a palindrome!\")\n",
    "    else:\n",
    "        print(\"It's not a palindrome.\")\n",
    "\n",
    "user_input = input(\"Enter a string: \")\n",
    "check_palindrome(user_input)\n"
   ]
  },
  {
   "cell_type": "markdown",
   "id": "19c354e6-7373-4dbe-b872-68eed636d713",
   "metadata": {},
   "source": [
    "## 3.Character Frequency counter¶"
   ]
  },
  {
   "cell_type": "markdown",
   "id": "bf756cde-b831-4353-b585-03e64c4c7ec2",
   "metadata": {},
   "source": [
    "Create a Python function that takes a string. Use a for loop to iterate through the \n",
    "string and populate a dictionary where keys are characters and values are their \n",
    "frequencies. Use an if-else statement to handle whether a character is already in \n",
    "the dictionary or not. Print the resulting character frequency dictionary."
   ]
  },
  {
   "cell_type": "code",
   "execution_count": 3,
   "id": "a4984834-d095-4493-a29e-b4ca09edf862",
   "metadata": {},
   "outputs": [
    {
     "name": "stdin",
     "output_type": "stream",
     "text": [
      "Enter a string:  Shravani\n"
     ]
    },
    {
     "name": "stdout",
     "output_type": "stream",
     "text": [
      "Character Frequencies: {'S': 1, 'h': 1, 'r': 1, 'a': 2, 'v': 1, 'n': 1, 'i': 1}\n"
     ]
    }
   ],
   "source": [
    "def char_frequency(text):\n",
    "    freq = {}  \n",
    "\n",
    "    for ch in text:\n",
    "        if ch in freq:\n",
    "            freq[ch] += 1   \n",
    "        else:\n",
    "            freq[ch] = 1    \n",
    "\n",
    "    print(\"Character Frequencies:\", freq)\n",
    "\n",
    "user_input = input(\"Enter a string: \")\n",
    "char_frequency(user_input)"
   ]
  },
  {
   "cell_type": "markdown",
   "id": "a17f5175-5203-4476-8fd4-cb17b93fff5b",
   "metadata": {},
   "source": [
    "## 4. Word Length Classification\n"
   ]
  },
  {
   "cell_type": "markdown",
   "id": "ba7b739d-99e4-4ee2-8365-054f32ebad22",
   "metadata": {},
   "source": [
    "Write a Python function that takes a sentence (string) as input. Split the sentence \n",
    "into words. Using a for loop, iterate through each word. Use if-elif-else \n",
    "statements to classify words as \"short\" (length < 5), \"medium\" (5 <= length <= 8), \n",
    "or \"long\" (length > 8). Store these classified words in separate lists (e.g., \n",
    "short_words, medium_words, long_words). Print all three lists. "
   ]
  },
  {
   "cell_type": "code",
   "execution_count": 4,
   "id": "ac848074-d12d-45b2-9106-88382b4a57e8",
   "metadata": {},
   "outputs": [
    {
     "name": "stdin",
     "output_type": "stream",
     "text": [
      " Enter the sentence khwoihq oiur0e9ifo4jrlnf hduos uwey kkuq;uoiwoooqihdg\n"
     ]
    },
    {
     "name": "stdout",
     "output_type": "stream",
     "text": [
      "short => ['uwey']\n",
      " medium =>['khwoihq']\n",
      " long => ['oiur0e9ifo4jrlnf', 'kkuq;uoiwoooqihdg']\n"
     ]
    }
   ],
   "source": [
    "s = input(\" Enter the sentence\")\n",
    "ch = s.split()\n",
    "short=[]\n",
    "medium=[]\n",
    "long=[]\n",
    "for i in ch:\n",
    "    \n",
    "    if  len(i)<5:\n",
    "        short.append(i)\n",
    "         \n",
    "    elif 5<len(i) and len(i)<=8:\n",
    "        medium.append(i)\n",
    "        \n",
    "    elif len(i)>8:\n",
    "        long.append(i)\n",
    "         \n",
    "print(f\"short => {short}\\n medium =>{medium}\\n long => {long}\")\n"
   ]
  },
  {
   "cell_type": "markdown",
   "id": "d390dc91-7311-498d-96dc-478c13909eeb",
   "metadata": {},
   "source": [
    "## 5. Substring with spesific start/end"
   ]
  },
  {
   "cell_type": "markdown",
   "id": "6ec66216-9c17-493b-bb97-ba089ff5896c",
   "metadata": {},
   "source": [
    "Given a list of strings, write a function that iterates through each string. If a string \n",
    "starts with a specific prefix (e.g., \"py\") and ends with a specific suffix (e.g., \n",
    "\"thon\"), add it to a new list called matching_strings. Use an if statement to check \n",
    "the conditions. Print the matching_strings list."
   ]
  },
  {
   "cell_type": "code",
   "execution_count": 5,
   "id": "0908e460-a9d2-4d1d-8dbb-1654f808a8d4",
   "metadata": {},
   "outputs": [
    {
     "name": "stdout",
     "output_type": "stream",
     "text": [
      "Matching strings: ['python', 'pythonthon', 'pythonthon', 'pyendthon']\n"
     ]
    }
   ],
   "source": [
    "def find_matching_strings(strings_list, prefix, suffix):\n",
    "    matching_strings = []\n",
    "\n",
    "    for s in strings_list:\n",
    "        if s.startswith(prefix) and s.endswith(suffix):\n",
    "            matching_strings.append(s)\n",
    "\n",
    "    print(\"Matching strings:\", matching_strings)\n",
    "\n",
    " \n",
    "words = [\"python\", \"pythonic\", \"pythonthon\", \"pyrock\", \"pythonthon\", \"pyon\", \"pyendthon\"]\n",
    "find_matching_strings(words, \"py\", \"thon\")\n"
   ]
  },
  {
   "cell_type": "markdown",
   "id": "84b67b63-0084-4387-a042-30b9c3ec6e25",
   "metadata": {},
   "source": [
    "## 6. Unique word Extracter:¶"
   ]
  },
  {
   "cell_type": "markdown",
   "id": "32c7cba4-4576-497f-b547-1c513f64e54f",
   "metadata": {},
   "source": [
    "Write a function that takes a paragraph (string) as input. Convert the paragraph \n",
    "to lowercase and remove punctuation. Use a for loop to split the paragraph into \n",
    "words and add each unique word to a set data structure. Finally, convert the set \n",
    "back to a sorted list and print it."
   ]
  },
  {
   "cell_type": "code",
   "execution_count": 7,
   "id": "2865d0bc-bd50-4900-8a4f-68d27bf19f40",
   "metadata": {},
   "outputs": [
    {
     "name": "stdin",
     "output_type": "stream",
     "text": [
      "Enter a paragraph:  khawgd\\' oeey;\\ ewlf. keik;j;oe\n"
     ]
    },
    {
     "name": "stdout",
     "output_type": "stream",
     "text": [
      "Unique words: ['ewlf', 'keikjoe', 'khawgd\\\\', 'oeey\\\\']\n"
     ]
    }
   ],
   "source": [
    "def extract_unique_words(paragraph):\n",
    "    paragraph = paragraph.lower()   \n",
    "    for ch in \".!,?;:'\\\"()-\":\n",
    "        paragraph = paragraph.replace(ch, \"\")\n",
    "\n",
    "    words = paragraph.split()   \n",
    "    unique_set = []    \n",
    "    for word in words:\n",
    "        unique_set.append(word)\n",
    "\n",
    "    sorted_list = sorted(list(unique_set))   \n",
    "    print(\"Unique words:\", sorted_list)\n",
    "\n",
    "text = input(\"Enter a paragraph: \")\n",
    "extract_unique_words(text)\n"
   ]
  },
  {
   "cell_type": "markdown",
   "id": "982019c0-b5e9-4efa-bdb8-9293dbca2b46",
   "metadata": {},
   "source": [
    "## 7. Even/odd indexed character separator"
   ]
  },
  {
   "cell_type": "markdown",
   "id": "de238536-4756-41d5-86a4-3e4e28fcf53e",
   "metadata": {},
   "source": [
    "Create a Python function that takes a string. Using a for loop with enumerate, \n",
    "iterate through the string. Use an if-else statement to check if the index of a \n",
    "character is even or odd. Store characters at even indices in one list and \n",
    "characters at odd indices in another list. Print both lists."
   ]
  },
  {
   "cell_type": "code",
   "execution_count": 8,
   "id": "cb63d83d-c67f-417a-abb2-731ac431815b",
   "metadata": {},
   "outputs": [
    {
     "name": "stdin",
     "output_type": "stream",
     "text": [
      "enter the string Shravani\n"
     ]
    },
    {
     "name": "stdout",
     "output_type": "stream",
     "text": [
      "Characters at even indices ['h', 'a', 'a', 'i']\n",
      "Characters at odd indices ['S', 'r', 'v', 'n']\n"
     ]
    }
   ],
   "source": [
    "def odd_even(s):\n",
    "    odd=[]\n",
    "    even=[]\n",
    "    for ind,val in enumerate(s):\n",
    "        if ind%2==0:\n",
    "            odd.append(val)\n",
    "        else:\n",
    "            even.append(val)\n",
    "    print(f\"Characters at even indices {even}\")       \n",
    "    print(f\"Characters at odd indices {odd}\")       \n",
    "            \n",
    "string = input(\"enter the string\")\n",
    "odd_even(string)"
   ]
  },
  {
   "cell_type": "markdown",
   "id": "52243e75-ec60-40e3-aa99-5dff626ff002",
   "metadata": {},
   "source": [
    "## 8. String Anagram Checker:"
   ]
  },
  {
   "cell_type": "markdown",
   "id": "5a12122c-ec11-4c37-bb0c-37a29c09a6b3",
   "metadata": {},
   "source": [
    "Write a function that takes two strings as input. Convert both strings into lists of \n",
    "characters. Sort both lists. Use an if-else statement to check if the sorted lists are \n",
    "identical. Print whether the two strings are anagrams of each other (contain the \n",
    "same characters with the same frequencies)."
   ]
  },
  {
   "cell_type": "code",
   "execution_count": 9,
   "id": "4ee89dd3-20f8-4232-a4b2-b4b2c6d24840",
   "metadata": {},
   "outputs": [
    {
     "name": "stdin",
     "output_type": "stream",
     "text": [
      "Enter the string 1 Balip\n",
      "Enter the string 2 pilaB\n"
     ]
    },
    {
     "name": "stdout",
     "output_type": "stream",
     "text": [
      "sorted str1['B', 'a', 'i', 'l', 'p']\n",
      "sorted str2['B', 'a', 'i', 'l', 'p']\n",
      "two strings are anagram of each other\n"
     ]
    }
   ],
   "source": [
    "def string_checker(s1,s2):\n",
    "    s1.split()\n",
    "    s2.split()\n",
    "    new1=sorted(s1)\n",
    "    new2=sorted(s2)\n",
    "    print(f\"sorted str1{new1}\")\n",
    "    print(f\"sorted str2{new2}\")\n",
    "    if new1 ==new2:\n",
    "        print(\"two strings are anagram of each other\")\n",
    "    else:\n",
    "        print(\"sorted lists are not identical\")\n",
    "str1 = input(\"Enter the string 1\")\n",
    "str2 = input(\"Enter the string 2\")\n",
    "string_checker(str1,str2)"
   ]
  },
  {
   "cell_type": "markdown",
   "id": "081d15d1-37a5-4fc1-b0c3-02f9df7af44c",
   "metadata": {},
   "source": [
    "## 9. Missing Character Finder (Alphabet Check)"
   ]
  },
  {
   "cell_type": "markdown",
   "id": "2177b957-3913-48b4-8306-7db0b5001cad",
   "metadata": {},
   "source": [
    "Given a string, write a function that determines which lowercase English alphabet \n",
    "letters are not present in the string. Use a set to store all lowercase letters. Iterate \n",
    "through the input string, removing each found letter from the set. Print the \n",
    "remaining letters in the set."
   ]
  },
  {
   "cell_type": "code",
   "execution_count": 10,
   "id": "c831774c-d41c-4edc-beea-908b3d187948",
   "metadata": {},
   "outputs": [
    {
     "name": "stdin",
     "output_type": "stream",
     "text": [
      "Enter the string Shravani\n"
     ]
    },
    {
     "name": "stdout",
     "output_type": "stream",
     "text": [
      "Missing letters: ['b', 'c', 'd', 'e', 'f', 'g', 'j', 'k', 'l', 'm', 'o', 'p', 'q', 't', 'u', 'w', 'x', 'y', 'z']\n"
     ]
    }
   ],
   "source": [
    "def mising_alpha(s):\n",
    "    set1=set(\"abcdefghijklmnopqrstuvwxyz\")\n",
    "    s = s.lower()\n",
    "    for i in s:\n",
    "        if i in set1:\n",
    "            set1.remove(i)\n",
    "        \n",
    "    print(\"Missing letters:\",sorted(list(set1)))\n",
    "\n",
    "string = input(\"Enter the string\")\n",
    "mising_alpha(string)"
   ]
  },
  {
   "cell_type": "markdown",
   "id": "61e81831-94b2-4ee2-a765-2e798ab690c4",
   "metadata": {},
   "source": [
    "## 10. custom string reversal¶"
   ]
  },
  {
   "cell_type": "markdown",
   "id": "d1503253-fba9-4dcd-80c8-40cda77e9150",
   "metadata": {},
   "source": [
    "Write a function that takes a sentence. Use a for loop to iterate through the words \n",
    "of the sentence. Store each word in a list. Then, using another loop (or list slicing), \n",
    "reverse the order of words in the list. Finally, join the reversed words back into a \n",
    "single string and print the result. (Example: \"Hello World\" -> \"World Hello\")"
   ]
  },
  {
   "cell_type": "code",
   "execution_count": 11,
   "id": "2e25587b-cdd2-4b6f-bd82-fa92afde6d36",
   "metadata": {},
   "outputs": [
    {
     "name": "stdin",
     "output_type": "stream",
     "text": [
      "Enter a sentence:  I am going to the market.\n"
     ]
    },
    {
     "name": "stdout",
     "output_type": "stream",
     "text": [
      "Reversed sentence: market. the to going am I\n"
     ]
    }
   ],
   "source": [
    "def reverse_sentence(sentence):\n",
    "    words = []  \n",
    "\n",
    "    for word in sentence.split():\n",
    "        words.append(word)\n",
    "\n",
    "    reversed_words = []   \n",
    "    for word in reversed(words):\n",
    "        reversed_words.append(word)\n",
    "\n",
    "    result = \" \".join(reversed_words)\n",
    "    print(\"Reversed sentence:\", result)\n",
    " \n",
    "user_input = input(\"Enter a sentence: \")\n",
    "reverse_sentence(user_input)"
   ]
  },
  {
   "cell_type": "code",
   "execution_count": null,
   "id": "289572d9-7f15-479e-a7cb-fa2522e5b746",
   "metadata": {},
   "outputs": [],
   "source": []
  }
 ],
 "metadata": {
  "kernelspec": {
   "display_name": "Python 3 (ipykernel)",
   "language": "python",
   "name": "python3"
  },
  "language_info": {
   "codemirror_mode": {
    "name": "ipython",
    "version": 3
   },
   "file_extension": ".py",
   "mimetype": "text/x-python",
   "name": "python",
   "nbconvert_exporter": "python",
   "pygments_lexer": "ipython3",
   "version": "3.12.7"
  }
 },
 "nbformat": 4,
 "nbformat_minor": 5
}
