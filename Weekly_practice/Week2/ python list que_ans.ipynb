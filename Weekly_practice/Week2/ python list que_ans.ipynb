{
 "cells": [
  {
   "cell_type": "markdown",
   "id": "1047a47f-3437-4b71-a60f-abce6099d63a",
   "metadata": {},
   "source": [
    "### Question 1: List Manipulation Basics "
   ]
  },
  {
   "cell_type": "markdown",
   "id": "cdf6d354-8294-48d0-940f-c9d2157b0270",
   "metadata": {},
   "source": [
    "Given a list my_list = [10, 20, 30, 40, 50, 60]: \n",
    "● Change the element at index 2 to 35. \n",
    "● Add 70 to the end of the list. \n",
    "● Insert 5 at the beginning of the list. \n",
    "● Remove the element 40 from the list. \n",
    "● Print the final list."
   ]
  },
  {
   "cell_type": "code",
   "execution_count": 1,
   "id": "8d5d75a6-8992-49b3-8a9e-3066952e1b1c",
   "metadata": {},
   "outputs": [],
   "source": [
    "my_list = [10,20,30,40,50,60]"
   ]
  },
  {
   "cell_type": "code",
   "execution_count": 2,
   "id": "4e440128-4120-4a88-861b-eb6a3bea3796",
   "metadata": {},
   "outputs": [],
   "source": [
    "my_list[2] = 35"
   ]
  },
  {
   "cell_type": "code",
   "execution_count": 4,
   "id": "85ef1787-da72-4269-a0c9-1ab37b844e58",
   "metadata": {},
   "outputs": [],
   "source": [
    "my_list.append(70)"
   ]
  },
  {
   "cell_type": "code",
   "execution_count": 9,
   "id": "15c0f6fa-94d4-4272-b058-994fe34feea9",
   "metadata": {},
   "outputs": [],
   "source": [
    "my_list.insert(0,5)"
   ]
  },
  {
   "cell_type": "code",
   "execution_count": 11,
   "id": "08dc128e-9a15-400a-8d1b-88173693de08",
   "metadata": {},
   "outputs": [
    {
     "name": "stdout",
     "output_type": "stream",
     "text": [
      "[5, 10, 20, 35, 40, 50, 60, 70]\n"
     ]
    }
   ],
   "source": [
    "print(my_list)"
   ]
  },
  {
   "cell_type": "markdown",
   "id": "eedf0215-369b-4919-9df9-cdbe558167cd",
   "metadata": {},
   "source": [
    "### Question 2: Sum of Even Numbers "
   ]
  },
  {
   "cell_type": "markdown",
   "id": "02bc013e-553f-434a-93a7-a65d99942a8a",
   "metadata": {},
   "source": [
    "Write Python code that iterates through the following list numbers = [12, 7, 23, 48, 15, 66, 9]. \n",
    "Calculate and print the sum of all even numbers in the list."
   ]
  },
  {
   "cell_type": "code",
   "execution_count": 13,
   "id": "528fc894-7ea1-48c2-81c2-8b7b1627c208",
   "metadata": {},
   "outputs": [
    {
     "name": "stdout",
     "output_type": "stream",
     "text": [
      "sum of even numbers: 126\n"
     ]
    }
   ],
   "source": [
    "numbers = [12, 7, 23, 48, 15, 66, 9]\n",
    "sum =0\n",
    "for i in numbers:\n",
    "    if i % 2 == 0:\n",
    "        sum += i\n",
    "print(\"sum of even numbers:\",sum)"
   ]
  },
  {
   "cell_type": "markdown",
   "id": "aa833501-6760-418d-9f95-ee15ae1e9efe",
   "metadata": {},
   "source": [
    "### Question 3: Manual List Reversal\n",
    " \n"
   ]
  },
  {
   "cell_type": "markdown",
   "id": "b81d3b5d-988f-4ae7-8eff-7ff6bf487879",
   "metadata": {},
   "source": [
    "Given a list data = ['apple', 'banana', 'cherry', 'date', 'elderberry'], create a new list that \n",
    "contains the elements of data in reverse order. You are not allowed to use data.reverse() or \n",
    "data[::-1]. You must achieve this using loops and basic list operations."
   ]
  },
  {
   "cell_type": "code",
   "execution_count": 15,
   "id": "364ad034-3dab-48bc-ae53-a2f2d2ca4cdc",
   "metadata": {},
   "outputs": [
    {
     "name": "stdout",
     "output_type": "stream",
     "text": [
      "Reversed list: ['elderberry', 'date', 'cherry', 'banana', 'apple']\n"
     ]
    }
   ],
   "source": [
    "data = ['apple', 'banana', 'cherry', 'date', 'elderberry']\n",
    "rev_data =[]\n",
    "for i in data:\n",
    "    rev_data.insert(0,i)\n",
    "\n",
    "print(\"Reversed list:\",rev_data)"
   ]
  },
  {
   "cell_type": "markdown",
   "id": "24e715cc-0371-4bab-ac9f-a8d5bc5797ba",
   "metadata": {},
   "source": [
    "### Question 4: Finding the Maximum Element"
   ]
  },
  {
   "cell_type": "markdown",
   "id": "b3daf508-6d8d-46c8-8628-6afb65b9a423",
   "metadata": {},
   "source": [
    "Without using the built-in max() function, write code to find and print the largest number in \n",
    "the list values = [8, 2, 10, 5, 17, 3, 14]."
   ]
  },
  {
   "cell_type": "code",
   "execution_count": 16,
   "id": "d25fc594-5dc3-4c3a-9b94-adadb75c8f94",
   "metadata": {},
   "outputs": [
    {
     "name": "stdout",
     "output_type": "stream",
     "text": [
      "Maximum value: 17\n"
     ]
    }
   ],
   "source": [
    "values = [8, 2, 10, 5, 17, 3, 14]\n",
    "max_val = values[0]\n",
    "for i in values:\n",
    "    if i> max_val:\n",
    "        max_val = i\n",
    "\n",
    "print(\"Maximum value:\", max_val)\n"
   ]
  },
  {
   "cell_type": "markdown",
   "id": "04f7189d-46af-4559-b764-25686a33d794",
   "metadata": {},
   "source": [
    "### Question 5: Count Occurrence"
   ]
  },
  {
   "cell_type": "markdown",
   "id": "5f92d558-d6eb-4a5f-bd3f-24007d7de33c",
   "metadata": {},
   "source": [
    "Given the list items = ['red', 'blue', 'green', 'red', 'yellow', 'blue', 'red'], write code to count how \n",
    "many times the string 'red' appears in the list and print the count. Do not use the list.count() \n",
    "method."
   ]
  },
  {
   "cell_type": "code",
   "execution_count": 17,
   "id": "56b1e328-849e-40c3-ad3b-c2ac0fdb586e",
   "metadata": {},
   "outputs": [
    {
     "name": "stdout",
     "output_type": "stream",
     "text": [
      "The total count of 'red' is : 3\n"
     ]
    }
   ],
   "source": [
    "items = ['red', 'blue', 'green', 'red', 'yellow', 'blue', 'red' ]\n",
    "count = 0\n",
    "for i in items:\n",
    "    if i == 'red':\n",
    "        count += 1\n",
    "\n",
    "print(\"The total count of 'red' is :\",count)"
   ]
  },
  {
   "cell_type": "markdown",
   "id": "a3bda7f6-bfd0-4e03-8be0-99e40f04c285",
   "metadata": {},
   "source": [
    "### Question 6: Remove All Occurrences of an Element"
   ]
  },
  {
   "cell_type": "markdown",
   "id": "5fccf4dd-a93a-4730-b71c-2a46fc3d3042",
   "metadata": {},
   "source": [
    "Given a list mixed_numbers = [1, 5, 2, 5, 3, 5, 4, 5], write code to remove all instances of the \n",
    "number 5 from the list. The final list should only contain [1, 2, 3, 4]. You must achieve this by \n",
    "iterating and creating a new list or modifying the existing one carefully."
   ]
  },
  {
   "cell_type": "code",
   "execution_count": 18,
   "id": "011cb2dd-e482-484f-baff-54c8be773936",
   "metadata": {},
   "outputs": [
    {
     "name": "stdout",
     "output_type": "stream",
     "text": [
      "modified list is : [1, 2, 3, 4]\n"
     ]
    }
   ],
   "source": [
    "mixed_numbers = [1, 5, 2, 5, 3, 5, 4, 5]\n",
    "new_list =[]\n",
    "for i in mixed_numbers:\n",
    "    if i != 5:\n",
    "        new_list.append(i)\n",
    "\n",
    "print(\"modified list is :\",new_list)\n",
    "        "
   ]
  },
  {
   "cell_type": "markdown",
   "id": "740d0716-c010-4b58-8d4d-13ade448807f",
   "metadata": {},
   "source": [
    "### Question 7: List Palindrome Check"
   ]
  },
  {
   "cell_type": "markdown",
   "id": "2395a086-0491-46a9-83ad-e2184b66465a",
   "metadata": {},
   "source": [
    "Write code to determine if a given list is a palindrome (reads the same forwards and \n",
    "backwards). Print \"Palindrome\" if it is, and \"Not a Palindrome\" otherwise.Test with: \n",
    "● list1 = [1, 2, 3, 2, 1] \n",
    "● list2 = ['a', 'b', 'c', 'b', 'd'] \n",
    "You are not allowed to use [::-1] for comparison."
   ]
  },
  {
   "cell_type": "code",
   "execution_count": 19,
   "id": "877966d9-1a27-42ca-b78b-3cf8f43b4330",
   "metadata": {},
   "outputs": [
    {
     "name": "stdout",
     "output_type": "stream",
     "text": [
      "Palindrome\n",
      "Not a Palindrome\n"
     ]
    }
   ],
   "source": [
    "list1 = [1, 2, 3, 2, 1]\n",
    "list2 = ['a', 'b', 'c', 'b', 'd']\n",
    "\n",
    "def check_palindrome(lst):\n",
    "    start = 0\n",
    "    end = len(lst) - 1\n",
    "\n",
    "    while start < end:\n",
    "        if lst[start] != lst[end]:\n",
    "            print(\"Not a Palindrome\")\n",
    "            return\n",
    "        start += 1\n",
    "        end -= 1\n",
    "\n",
    "    print(\"Palindrome\")\n",
    "\n",
    "check_palindrome(list1)   \n",
    "check_palindrome(list2)   "
   ]
  },
  {
   "cell_type": "markdown",
   "id": "e31192d3-ed65-45d1-bde2-d5b497eb32c6",
   "metadata": {},
   "source": [
    "### Question 8: Merge and Sort Two Lists (Manual Sort)"
   ]
  },
  {
   "cell_type": "markdown",
   "id": "644a8b9e-42db-4276-99ec-20096ef0de75",
   "metadata": {},
   "source": [
    "Given two lists: \n",
    "● list_a = [3, 1, 4] \n",
    "● list_b = [2, 5, 0] \n",
    "Combine these two lists into a single list and then sort the combined list in \n",
    "ascending order without using the list.sort() method or sorted() function. You'll \n",
    "need to implement a basic sorting algorithm (e.g., bubble sort logic) using loops."
   ]
  },
  {
   "cell_type": "code",
   "execution_count": 20,
   "id": "0cc42891-c1b7-4566-aa24-a52479574c13",
   "metadata": {},
   "outputs": [
    {
     "name": "stdout",
     "output_type": "stream",
     "text": [
      "[0, 1, 2, 3, 4, 5]\n"
     ]
    }
   ],
   "source": [
    "list_a = [3, 1, 4]\n",
    "list_b = [2, 5, 0]\n",
    "\n",
    "merged_list = list_a + list_b\n",
    "n = len(merged_list)\n",
    "\n",
    "for i in range(n):\n",
    "    for j in range(0, n-i-1):\n",
    "        if merged_list[j] > merged_list[j+1]:\n",
    "            merged_list[j], merged_list[j+1] = merged_list[j+1], merged_list[j]\n",
    "\n",
    "print(merged_list)\n"
   ]
  },
  {
   "cell_type": "markdown",
   "id": "e6357446-2ea8-439a-966e-0f6eaa25f725",
   "metadata": {},
   "source": [
    "### Question 9: Flatten a Nested List"
   ]
  },
  {
   "cell_type": "markdown",
   "id": "577a135f-543b-4f26-ad4b-ec7cab703c26",
   "metadata": {},
   "source": [
    "You are given a list that contains integers and other lists (only one level of nesting). For \n",
    "example: nested_list = [1, [2, 3], 4, [5, 6, 7], 8]. \n",
    "Write code to create a new flat list containing all the integers from nested_list. The result \n",
    "should be [1, 2, 3, 4, 5, 6, 7, 8]. "
   ]
  },
  {
   "cell_type": "code",
   "execution_count": 21,
   "id": "ae386ffe-a082-4222-a22c-a2cfe762800e",
   "metadata": {},
   "outputs": [
    {
     "name": "stdout",
     "output_type": "stream",
     "text": [
      "[1, 2, 3, 4, 5, 6, 7, 8]\n"
     ]
    }
   ],
   "source": [
    "nested_list = [1, [2, 3], 4, [5, 6, 7], 8]\n",
    "flat_list = []\n",
    "for item in nested_list:\n",
    "    if type(item) == list:\n",
    "        for x in item:\n",
    "            flat_list.append(x)\n",
    "    else:\n",
    "        flat_list.append(item)\n",
    "\n",
    "print(flat_list)\n"
   ]
  },
  {
   "cell_type": "markdown",
   "id": "5f0cf6e2-1e71-48ee-bb16-963e061b7478",
   "metadata": {},
   "source": [
    "### Question 10: Find Common Elements "
   ]
  },
  {
   "cell_type": "markdown",
   "id": "d1f0eb99-240d-43b4-86eb-9a07ea2bdfd4",
   "metadata": {},
   "source": [
    "Given two lists, list_p = [1, 2, 3, 4, 5] and list_q = [4, 5, 6, 7, 8], write code to find and print all \n",
    "elements that are common to both lists. The order of common elements does not matter. You \n",
    "are not allowed to use set operations."
   ]
  },
  {
   "cell_type": "code",
   "execution_count": 26,
   "id": "e565e072-7582-4373-aaa6-24d9c46c079e",
   "metadata": {},
   "outputs": [
    {
     "name": "stdout",
     "output_type": "stream",
     "text": [
      "Common elements: [4, 5]\n"
     ]
    }
   ],
   "source": [
    "list_p = [1, 2, 3, 4, 5]\n",
    "list_q = [4, 5, 6, 7, 8]\n",
    "common = []\n",
    "\n",
    "for item in list_p:\n",
    "    if item in list_q:\n",
    "        if item not in common:\n",
    "            common.append(item)\n",
    "\n",
    "print(\"Common elements:\", common)"
   ]
  }
 ],
 "metadata": {
  "kernelspec": {
   "display_name": "Python 3 (ipykernel)",
   "language": "python",
   "name": "python3"
  },
  "language_info": {
   "codemirror_mode": {
    "name": "ipython",
    "version": 3
   },
   "file_extension": ".py",
   "mimetype": "text/x-python",
   "name": "python",
   "nbconvert_exporter": "python",
   "pygments_lexer": "ipython3",
   "version": "3.12.7"
  }
 },
 "nbformat": 4,
 "nbformat_minor": 5
}
